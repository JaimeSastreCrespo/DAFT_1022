{
 "cells": [
  {
   "cell_type": "markdown",
   "metadata": {},
   "source": [
    "-- Write only the SQL statement that solves the problem and nothing else\n",
    "\n",
    "SELECT name\n",
    "FROM cities \n",
    "GROUP BY name\n",
    "ORDER BY name DESC\n",
    ";"
   ]
  },
  {
   "cell_type": "markdown",
   "metadata": {},
   "source": [
    "-- Write only the SQL statement that solves the problem and nothing else\n",
    "SELECT pi.userId as userId, pi.avg_durat\n",
    "FROM \n",
    "(SELECT userId, AVG(duration) as avg_durat, count(userId) as con_I\n",
    " FROM sessions\n",
    "GROUP BY userId\n",
    " ) as pi\n",
    " WHERE pi.con_I > 1\n",
    ";\n"
   ]
  },
  {
   "cell_type": "markdown",
   "metadata": {},
   "source": [
    "<!-- -- Write only the SQL statement that solves the problem and nothing else\n",
    "SELECT i.name, s.name\n",
    "FROM items i\n",
    "LEFT JOIN sellers s\n",
    "ON i.sellerid = s.id\n",
    "WHERE rating > 4; -->"
   ]
  },
  {
   "cell_type": "markdown",
   "metadata": {},
   "source": [
    "-- Write only the SQL statement that solves the problem and nothing else\n",
    "SELECT i.name, s.name\n",
    "FROM items i\n",
    "LEFT JOIN sellers s\n",
    "ON i.sellerid = s.id\n",
    "WHERE rating > 4;"
   ]
  },
  {
   "cell_type": "markdown",
   "metadata": {},
   "source": []
  }
 ],
 "metadata": {
  "language_info": {
   "name": "python"
  },
  "orig_nbformat": 4
 },
 "nbformat": 4,
 "nbformat_minor": 2
}
