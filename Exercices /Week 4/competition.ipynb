{
 "cells": [
  {
   "cell_type": "code",
   "execution_count": 56,
   "metadata": {},
   "outputs": [],
   "source": [
    "from pandas_datareader import data\n",
    "import matplotlib.pyplot as plt\n",
    "import pandas as pd\n",
    "import googlefinance as gf\n",
    "import yfinance as yf\n",
    "\n",
    "import seaborn as sns\n",
    "import matplotlib.pyplot as plt"
   ]
  },
  {
   "cell_type": "code",
   "execution_count": 57,
   "metadata": {},
   "outputs": [],
   "source": [
    "apl = yf.Ticker(\"AAPL\").history(period='5y')"
   ]
  },
  {
   "cell_type": "code",
   "execution_count": 58,
   "metadata": {},
   "outputs": [],
   "source": [
    "tsl = yf.Ticker(\"TSLA\").history(period='5y')"
   ]
  },
  {
   "cell_type": "code",
   "execution_count": 59,
   "metadata": {},
   "outputs": [],
   "source": [
    "gsp = yf.Ticker(\"^GSPC\").history(period='5y')"
   ]
  },
  {
   "cell_type": "code",
   "execution_count": 60,
   "metadata": {},
   "outputs": [],
   "source": [
    "twt = yf.Ticker(\"TWTR\").history(period='5y')"
   ]
  },
  {
   "cell_type": "code",
   "execution_count": null,
   "metadata": {},
   "outputs": [],
   "source": []
  },
  {
   "cell_type": "code",
   "execution_count": 61,
   "metadata": {},
   "outputs": [
    {
     "name": "stdout",
     "output_type": "stream",
     "text": [
      "[*********************100%***********************]  4 of 4 completed\n"
     ]
    }
   ],
   "source": [
    "tickers = ['AAPL', 'TSLA', '^GSPC', 'TWTR']\n",
    "# Get 6-month historic quotes for tickers\n",
    "df = yf.Tickers(tickers).download(ticker=tickers, period='5y')['Close']"
   ]
  },
  {
   "cell_type": "code",
   "execution_count": 62,
   "metadata": {},
   "outputs": [
    {
     "data": {
      "text/html": [
       "<div>\n",
       "<style scoped>\n",
       "    .dataframe tbody tr th:only-of-type {\n",
       "        vertical-align: middle;\n",
       "    }\n",
       "\n",
       "    .dataframe tbody tr th {\n",
       "        vertical-align: top;\n",
       "    }\n",
       "\n",
       "    .dataframe thead th {\n",
       "        text-align: right;\n",
       "    }\n",
       "</style>\n",
       "<table border=\"1\" class=\"dataframe\">\n",
       "  <thead>\n",
       "    <tr style=\"text-align: right;\">\n",
       "      <th></th>\n",
       "      <th>AAPL</th>\n",
       "      <th>TSLA</th>\n",
       "      <th>TWTR</th>\n",
       "      <th>^GSPC</th>\n",
       "    </tr>\n",
       "    <tr>\n",
       "      <th>Date</th>\n",
       "      <th></th>\n",
       "      <th></th>\n",
       "      <th></th>\n",
       "      <th></th>\n",
       "    </tr>\n",
       "  </thead>\n",
       "  <tbody>\n",
       "    <tr>\n",
       "      <th>2017-11-03</th>\n",
       "      <td>40.928448</td>\n",
       "      <td>20.406000</td>\n",
       "      <td>19.900000</td>\n",
       "      <td>2587.840088</td>\n",
       "    </tr>\n",
       "    <tr>\n",
       "      <th>2017-11-06</th>\n",
       "      <td>41.343658</td>\n",
       "      <td>20.185333</td>\n",
       "      <td>19.389999</td>\n",
       "      <td>2591.129883</td>\n",
       "    </tr>\n",
       "    <tr>\n",
       "      <th>2017-11-07</th>\n",
       "      <td>41.476532</td>\n",
       "      <td>20.403334</td>\n",
       "      <td>19.660000</td>\n",
       "      <td>2590.639893</td>\n",
       "    </tr>\n",
       "    <tr>\n",
       "      <th>2017-11-08</th>\n",
       "      <td>41.815826</td>\n",
       "      <td>20.292667</td>\n",
       "      <td>19.590000</td>\n",
       "      <td>2594.379883</td>\n",
       "    </tr>\n",
       "    <tr>\n",
       "      <th>2017-11-09</th>\n",
       "      <td>41.730396</td>\n",
       "      <td>20.199333</td>\n",
       "      <td>19.900000</td>\n",
       "      <td>2584.620117</td>\n",
       "    </tr>\n",
       "    <tr>\n",
       "      <th>...</th>\n",
       "      <td>...</td>\n",
       "      <td>...</td>\n",
       "      <td>...</td>\n",
       "      <td>...</td>\n",
       "    </tr>\n",
       "    <tr>\n",
       "      <th>2022-10-27</th>\n",
       "      <td>144.800003</td>\n",
       "      <td>225.089996</td>\n",
       "      <td>53.700001</td>\n",
       "      <td>3807.300049</td>\n",
       "    </tr>\n",
       "    <tr>\n",
       "      <th>2022-10-28</th>\n",
       "      <td>155.740005</td>\n",
       "      <td>228.520004</td>\n",
       "      <td>NaN</td>\n",
       "      <td>3901.060059</td>\n",
       "    </tr>\n",
       "    <tr>\n",
       "      <th>2022-10-31</th>\n",
       "      <td>153.339996</td>\n",
       "      <td>227.539993</td>\n",
       "      <td>NaN</td>\n",
       "      <td>3871.979980</td>\n",
       "    </tr>\n",
       "    <tr>\n",
       "      <th>2022-11-01</th>\n",
       "      <td>150.649994</td>\n",
       "      <td>227.820007</td>\n",
       "      <td>NaN</td>\n",
       "      <td>3856.100098</td>\n",
       "    </tr>\n",
       "    <tr>\n",
       "      <th>2022-11-02</th>\n",
       "      <td>145.029999</td>\n",
       "      <td>214.979996</td>\n",
       "      <td>NaN</td>\n",
       "      <td>3759.689941</td>\n",
       "    </tr>\n",
       "  </tbody>\n",
       "</table>\n",
       "<p>1258 rows × 4 columns</p>\n",
       "</div>"
      ],
      "text/plain": [
       "                  AAPL        TSLA       TWTR        ^GSPC\n",
       "Date                                                      \n",
       "2017-11-03   40.928448   20.406000  19.900000  2587.840088\n",
       "2017-11-06   41.343658   20.185333  19.389999  2591.129883\n",
       "2017-11-07   41.476532   20.403334  19.660000  2590.639893\n",
       "2017-11-08   41.815826   20.292667  19.590000  2594.379883\n",
       "2017-11-09   41.730396   20.199333  19.900000  2584.620117\n",
       "...                ...         ...        ...          ...\n",
       "2022-10-27  144.800003  225.089996  53.700001  3807.300049\n",
       "2022-10-28  155.740005  228.520004        NaN  3901.060059\n",
       "2022-10-31  153.339996  227.539993        NaN  3871.979980\n",
       "2022-11-01  150.649994  227.820007        NaN  3856.100098\n",
       "2022-11-02  145.029999  214.979996        NaN  3759.689941\n",
       "\n",
       "[1258 rows x 4 columns]"
      ]
     },
     "execution_count": 62,
     "metadata": {},
     "output_type": "execute_result"
    }
   ],
   "source": [
    "df"
   ]
  },
  {
   "cell_type": "code",
   "execution_count": 63,
   "metadata": {},
   "outputs": [
    {
     "data": {
      "text/html": [
       "<div>\n",
       "<style scoped>\n",
       "    .dataframe tbody tr th:only-of-type {\n",
       "        vertical-align: middle;\n",
       "    }\n",
       "\n",
       "    .dataframe tbody tr th {\n",
       "        vertical-align: top;\n",
       "    }\n",
       "\n",
       "    .dataframe thead th {\n",
       "        text-align: right;\n",
       "    }\n",
       "</style>\n",
       "<table border=\"1\" class=\"dataframe\">\n",
       "  <thead>\n",
       "    <tr style=\"text-align: right;\">\n",
       "      <th></th>\n",
       "      <th>AAPL</th>\n",
       "      <th>TSLA</th>\n",
       "      <th>TWTR</th>\n",
       "      <th>^GSPC</th>\n",
       "    </tr>\n",
       "  </thead>\n",
       "  <tbody>\n",
       "    <tr>\n",
       "      <th>AAPL</th>\n",
       "      <td>1.000000</td>\n",
       "      <td>0.968040</td>\n",
       "      <td>0.615245</td>\n",
       "      <td>0.954395</td>\n",
       "    </tr>\n",
       "    <tr>\n",
       "      <th>TSLA</th>\n",
       "      <td>0.968040</td>\n",
       "      <td>1.000000</td>\n",
       "      <td>0.625636</td>\n",
       "      <td>0.948947</td>\n",
       "    </tr>\n",
       "    <tr>\n",
       "      <th>TWTR</th>\n",
       "      <td>0.615245</td>\n",
       "      <td>0.625636</td>\n",
       "      <td>1.000000</td>\n",
       "      <td>0.701763</td>\n",
       "    </tr>\n",
       "    <tr>\n",
       "      <th>^GSPC</th>\n",
       "      <td>0.954395</td>\n",
       "      <td>0.948947</td>\n",
       "      <td>0.701763</td>\n",
       "      <td>1.000000</td>\n",
       "    </tr>\n",
       "  </tbody>\n",
       "</table>\n",
       "</div>"
      ],
      "text/plain": [
       "           AAPL      TSLA      TWTR     ^GSPC\n",
       "AAPL   1.000000  0.968040  0.615245  0.954395\n",
       "TSLA   0.968040  1.000000  0.625636  0.948947\n",
       "TWTR   0.615245  0.625636  1.000000  0.701763\n",
       "^GSPC  0.954395  0.948947  0.701763  1.000000"
      ]
     },
     "execution_count": 63,
     "metadata": {},
     "output_type": "execute_result"
    }
   ],
   "source": [
    "df.corr()"
   ]
  },
  {
   "cell_type": "code",
   "execution_count": 64,
   "metadata": {},
   "outputs": [
    {
     "data": {
      "text/html": [
       "<div>\n",
       "<style scoped>\n",
       "    .dataframe tbody tr th:only-of-type {\n",
       "        vertical-align: middle;\n",
       "    }\n",
       "\n",
       "    .dataframe tbody tr th {\n",
       "        vertical-align: top;\n",
       "    }\n",
       "\n",
       "    .dataframe thead th {\n",
       "        text-align: right;\n",
       "    }\n",
       "</style>\n",
       "<table border=\"1\" class=\"dataframe\">\n",
       "  <thead>\n",
       "    <tr style=\"text-align: right;\">\n",
       "      <th></th>\n",
       "      <th>AAPL</th>\n",
       "      <th>TSLA</th>\n",
       "      <th>TWTR</th>\n",
       "      <th>^GSPC</th>\n",
       "    </tr>\n",
       "  </thead>\n",
       "  <tbody>\n",
       "    <tr>\n",
       "      <th>AAPL</th>\n",
       "      <td>1.000000</td>\n",
       "      <td>0.890469</td>\n",
       "      <td>0.640524</td>\n",
       "      <td>0.943728</td>\n",
       "    </tr>\n",
       "    <tr>\n",
       "      <th>TSLA</th>\n",
       "      <td>0.890469</td>\n",
       "      <td>1.000000</td>\n",
       "      <td>0.557106</td>\n",
       "      <td>0.833969</td>\n",
       "    </tr>\n",
       "    <tr>\n",
       "      <th>TWTR</th>\n",
       "      <td>0.640524</td>\n",
       "      <td>0.557106</td>\n",
       "      <td>1.000000</td>\n",
       "      <td>0.734360</td>\n",
       "    </tr>\n",
       "    <tr>\n",
       "      <th>^GSPC</th>\n",
       "      <td>0.943728</td>\n",
       "      <td>0.833969</td>\n",
       "      <td>0.734360</td>\n",
       "      <td>1.000000</td>\n",
       "    </tr>\n",
       "  </tbody>\n",
       "</table>\n",
       "</div>"
      ],
      "text/plain": [
       "           AAPL      TSLA      TWTR     ^GSPC\n",
       "AAPL   1.000000  0.890469  0.640524  0.943728\n",
       "TSLA   0.890469  1.000000  0.557106  0.833969\n",
       "TWTR   0.640524  0.557106  1.000000  0.734360\n",
       "^GSPC  0.943728  0.833969  0.734360  1.000000"
      ]
     },
     "execution_count": 64,
     "metadata": {},
     "output_type": "execute_result"
    }
   ],
   "source": [
    "df.corr(method='spearman')"
   ]
  },
  {
   "cell_type": "code",
   "execution_count": 65,
   "metadata": {},
   "outputs": [],
   "source": [
    "cmap = sns.diverging_palette(230, 20, as_cmap=True)"
   ]
  },
  {
   "cell_type": "code",
   "execution_count": 66,
   "metadata": {},
   "outputs": [
    {
     "data": {
      "image/png": "[encoded data removed]",
      "text/plain": [
       "<Figure size 432x288 with 2 Axes>"
      ]
     },
     "metadata": {
      "needs_background": "light"
     },
     "output_type": "display_data"
    }
   ],
   "source": [
    "sns.heatmap(\n",
    "        data=df.corr(),  # our correlation matrix\n",
    "        linewidths=0.3,  # the width of lines separating the matrix squares\n",
    "        square=True,   # enforce 1:1 ratios among correlation cells\n",
    "        cmap=cmap,  # use the color map we defined above\n",
    "        vmax=1,  # define the max of our correlation scale\n",
    "        vmin=-1, # define the min of our correlation scale\n",
    "        center=0,  # The value at which the color map is centered about (white)\n",
    "        cbar_kws={\"shrink\": .75}  # shrink the scale a bit\n",
    "    )\n",
    "\n",
    "    # adjust y-axis ticks for legibility\n",
    "plt.yticks(rotation=0)  \n",
    "# show the heatmap\n",
    "plt.show()\n",
    "\n"
   ]
  },
  {
   "cell_type": "code",
   "execution_count": null,
   "metadata": {},
   "outputs": [],
   "source": []
  }
 ],
 "metadata": {
  "kernelspec": {
   "display_name": "Python 3.9.12 ('base')",
   "language": "python",
   "name": "python3"
  },
  "language_info": {
   "codemirror_mode": {
    "name": "ipython",
    "version": 3
   },
   "file_extension": ".py",
   "mimetype": "text/x-python",
   "name": "python",
   "nbconvert_exporter": "python",
   "pygments_lexer": "ipython3",
   "version": "3.9.12"
  },
  "orig_nbformat": 4,
  "vscode": {
   "interpreter": {
    "hash": "a3f3c9539b2b0d529c07b7548750098ae30aba30b940b3b3dd0f70005c5624b6"
   }
  }
 },
 "nbformat": 4,
 "nbformat_minor": 2
}
