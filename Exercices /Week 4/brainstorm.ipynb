{
 "cells": [
  {
   "cell_type": "code",
   "execution_count": 18,
   "metadata": {},
   "outputs": [],
   "source": [
    "import pandas as pd\n",
    "import random\n",
    "import statistics as stat"
   ]
  },
  {
   "cell_type": "code",
   "execution_count": 19,
   "metadata": {},
   "outputs": [
    {
     "data": {
      "text/html": [
       "<div>\n",
       "<style scoped>\n",
       "    .dataframe tbody tr th:only-of-type {\n",
       "        vertical-align: middle;\n",
       "    }\n",
       "\n",
       "    .dataframe tbody tr th {\n",
       "        vertical-align: top;\n",
       "    }\n",
       "\n",
       "    .dataframe thead th {\n",
       "        text-align: right;\n",
       "    }\n",
       "</style>\n",
       "<table border=\"1\" class=\"dataframe\">\n",
       "  <thead>\n",
       "    <tr style=\"text-align: right;\">\n",
       "      <th></th>\n",
       "      <th></th>\n",
       "      <th>Salary</th>\n",
       "      <th>Gender_cat</th>\n",
       "      <th>random</th>\n",
       "      <th>Unnamed: 4</th>\n",
       "      <th>% Proportion</th>\n",
       "    </tr>\n",
       "  </thead>\n",
       "  <tbody>\n",
       "    <tr>\n",
       "      <th>0</th>\n",
       "      <td>1.0</td>\n",
       "      <td>3326.0</td>\n",
       "      <td>Male</td>\n",
       "      <td>Female</td>\n",
       "      <td>341.0</td>\n",
       "      <td>0.494203</td>\n",
       "    </tr>\n",
       "    <tr>\n",
       "      <th>1</th>\n",
       "      <td>4.0</td>\n",
       "      <td>7328.0</td>\n",
       "      <td>Male</td>\n",
       "      <td>Male</td>\n",
       "      <td>349.0</td>\n",
       "      <td>0.505797</td>\n",
       "    </tr>\n",
       "    <tr>\n",
       "      <th>2</th>\n",
       "      <td>9.0</td>\n",
       "      <td>5751.0</td>\n",
       "      <td>Male</td>\n",
       "      <td>NaN</td>\n",
       "      <td>NaN</td>\n",
       "      <td>NaN</td>\n",
       "    </tr>\n",
       "    <tr>\n",
       "      <th>3</th>\n",
       "      <td>11.0</td>\n",
       "      <td>6702.0</td>\n",
       "      <td>Male</td>\n",
       "      <td>Sample Male</td>\n",
       "      <td>NaN</td>\n",
       "      <td>NaN</td>\n",
       "    </tr>\n",
       "    <tr>\n",
       "      <th>4</th>\n",
       "      <td>15.0</td>\n",
       "      <td>7631.0</td>\n",
       "      <td>Male</td>\n",
       "      <td>Sample Female</td>\n",
       "      <td>NaN</td>\n",
       "      <td>NaN</td>\n",
       "    </tr>\n",
       "  </tbody>\n",
       "</table>\n",
       "</div>"
      ],
      "text/plain": [
       "         Salary Gender_cat         random  Unnamed: 4  % Proportion\n",
       "0   1.0  3326.0       Male         Female       341.0      0.494203\n",
       "1   4.0  7328.0       Male           Male       349.0      0.505797\n",
       "2   9.0  5751.0       Male            NaN         NaN           NaN\n",
       "3  11.0  6702.0       Male    Sample Male         NaN           NaN\n",
       "4  15.0  7631.0       Male  Sample Female         NaN           NaN"
      ]
     },
     "execution_count": 19,
     "metadata": {},
     "output_type": "execute_result"
    }
   ],
   "source": [
    "data = pd.read_excel(r'./copia de Module2_Use_Case_2.xlsx')\n",
    "data.head()"
   ]
  },
  {
   "cell_type": "code",
   "execution_count": 20,
   "metadata": {},
   "outputs": [
    {
     "data": {
      "text/plain": [
       "Gender_cat\n",
       "Male          349\n",
       "Female        341\n",
       "dtype: int64"
      ]
     },
     "execution_count": 20,
     "metadata": {},
     "output_type": "execute_result"
    }
   ],
   "source": [
    "\n",
    "data[['Gender_cat']].value_counts()"
   ]
  },
  {
   "cell_type": "code",
   "execution_count": 21,
   "metadata": {},
   "outputs": [
    {
     "name": "stdout",
     "output_type": "stream",
     "text": [
      "male:\n",
      "34.9\n",
      "female:\n",
      "34.1\n"
     ]
    }
   ],
   "source": [
    "print(\"male:\")\n",
    "print(69*349/690)\n",
    "print(\"female:\")\n",
    "print(69*341/690)"
   ]
  },
  {
   "cell_type": "code",
   "execution_count": 22,
   "metadata": {},
   "outputs": [],
   "source": [
    "male_samp = data['Salary'].loc[data['Gender_cat'] == 'Male'].sample(35)\n",
    "female_samp = data['Salary'].loc[data['Gender_cat'] == 'Female'].sample(34)\n"
   ]
  },
  {
   "cell_type": "code",
   "execution_count": 23,
   "metadata": {},
   "outputs": [
    {
     "name": "stdout",
     "output_type": "stream",
     "text": [
      "this is the mean of male:  6216.714285714285\n",
      "this is the mean of female:  5947.35294117647\n"
     ]
    }
   ],
   "source": [
    "print(\"this is the mean of male: \", stat.mean(male_samp))\n",
    "print(\"this is the mean of female: \", stat.mean(female_samp))"
   ]
  },
  {
   "cell_type": "code",
   "execution_count": 24,
   "metadata": {},
   "outputs": [
    {
     "name": "stdout",
     "output_type": "stream",
     "text": [
      "this is the median of male:  6352.0\n",
      "this is the median of female:  5719.0\n"
     ]
    }
   ],
   "source": [
    "print(\"this is the median of male: \", stat.median(male_samp))\n",
    "print(\"this is the median of female: \", stat.median(female_samp))"
   ]
  },
  {
   "cell_type": "code",
   "execution_count": 25,
   "metadata": {},
   "outputs": [
    {
     "name": "stdout",
     "output_type": "stream",
     "text": [
      "this is the mode of male:  6955.0\n",
      "this is the mode of female:  5755.0\n"
     ]
    }
   ],
   "source": [
    "print(\"this is the mode of male: \", stat.mode(male_samp))\n",
    "print(\"this is the mode of female: \", stat.mode(female_samp))"
   ]
  },
  {
   "cell_type": "code",
   "execution_count": 26,
   "metadata": {},
   "outputs": [
    {
     "name": "stderr",
     "output_type": "stream",
     "text": [
      "/var/folders/gw/y4dl2m9n7sjgz9jqdm3ht3t80000gn/T/ipykernel_2059/3740717179.py:1: FutureWarning: The series.append method is deprecated and will be removed from pandas in a future version. Use pandas.concat instead.\n",
      "  total_sample = male_samp.append(female_samp, ignore_index = True)\n"
     ]
    }
   ],
   "source": [
    "total_sample = male_samp.append(female_samp, ignore_index = True)"
   ]
  },
  {
   "cell_type": "code",
   "execution_count": 27,
   "metadata": {},
   "outputs": [
    {
     "data": {
      "text/plain": [
       "<AxesSubplot:>"
      ]
     },
     "execution_count": 27,
     "metadata": {},
     "output_type": "execute_result"
    },
    {
     "data": {
      "image/png": "[encoded data removed]",
      "text/plain": [
       "<Figure size 432x288 with 1 Axes>"
      ]
     },
     "metadata": {
      "needs_background": "light"
     },
     "output_type": "display_data"
    }
   ],
   "source": [
    "total_sample.hist(bins = [2000,4000,6000,8000,10000])"
   ]
  },
  {
   "cell_type": "code",
   "execution_count": 29,
   "metadata": {},
   "outputs": [
    {
     "data": {
      "text/plain": [
       "(4000, 6000]     21\n",
       "(6000, 8000]     19\n",
       "(8000, 10000]    16\n",
       "(2000, 4000]     13\n",
       "Name: Salary, dtype: int64"
      ]
     },
     "execution_count": 29,
     "metadata": {},
     "output_type": "execute_result"
    }
   ],
   "source": [
    "total_sample2 = pd.cut(total_sample, bins=[2000,4000,6000,8000,10000])\n",
    "total_sample2.value_counts()"
   ]
  },
  {
   "cell_type": "code",
   "execution_count": null,
   "metadata": {},
   "outputs": [],
   "source": []
  }
 ],
 "metadata": {
  "kernelspec": {
   "display_name": "Python 3.9.12 ('base')",
   "language": "python",
   "name": "python3"
  },
  "language_info": {
   "codemirror_mode": {
    "name": "ipython",
    "version": 3
   },
   "file_extension": ".py",
   "mimetype": "text/x-python",
   "name": "python",
   "nbconvert_exporter": "python",
   "pygments_lexer": "ipython3",
   "version": "3.9.12"
  },
  "orig_nbformat": 4,
  "vscode": {
   "interpreter": {
    "hash": "a3f3c9539b2b0d529c07b7548750098ae30aba30b940b3b3dd0f70005c5624b6"
   }
  }
 },
 "nbformat": 4,
 "nbformat_minor": 2
}
