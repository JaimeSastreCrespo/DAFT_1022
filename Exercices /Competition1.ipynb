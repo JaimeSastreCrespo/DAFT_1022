{
 "cells": [
  {
   "cell_type": "markdown",
   "id": "91f3ff60",
   "metadata": {},
   "source": [
    "### Write a program to accept the price of a bike and display the road tax to be paid according to the following criteria :    \n",
    "Price    ------   Tax ​\n",
    "\n",
    ": > 100000 ------    15 % ​\n",
    "\n",
    ": > 50000 and <= 100000 ---- 10% ​\n",
    "\n",
    ": <= 50000 ---- 5%\n"
   ]
  },
  {
   "cell_type": "code",
   "execution_count": 5,
   "id": "f99bc57c",
   "metadata": {},
   "outputs": [
    {
     "name": "stdout",
     "output_type": "stream",
     "text": [
      "Please, enter a cost price for the bike: 100000\n",
      "10000.0 is what you have to pay\n"
     ]
    }
   ],
   "source": [
    "price=float(input(\"Please, enter a cost price for the bike: \"))\n",
    "\n",
    "if price > 100000:\n",
    "    t = 0.15\n",
    "elif price > 50000 and price <= 100000:\n",
    "    t = 0.10\n",
    "elif price <= 50000:\n",
    "    t = 0.05\n",
    "    \n",
    "roadtax = price*t\n",
    "\n",
    "print(roadtax, \"is what you have to pay\")"
   ]
  },
  {
   "cell_type": "markdown",
   "id": "05b0d52b",
   "metadata": {},
   "source": [
    "### Given the array of numbers , write a program to move all zeros to the end keeping  the relative order of the non-zero elements."
   ]
  },
  {
   "cell_type": "code",
   "execution_count": 13,
   "id": "9565e2a8",
   "metadata": {},
   "outputs": [
    {
     "name": "stdout",
     "output_type": "stream",
     "text": [
      "Array after pushing all zeros to end of array:\n",
      "[1, 4, 2, 6, 12, 100, 0, 0, 0, 0]\n"
     ]
    }
   ],
   "source": [
    "arr = [1, 4, 0, 0, 2, 6, 0, 12, 0, 100]\n",
    "n = len(arr)\n",
    " \n",
    "# Function which pushes all zeros to end of an array.\n",
    "def pushallzeros(arr, n):\n",
    "    count = 0 # Count of non-zero elements\n",
    "     \n",
    "    # Traverse the array. If element encountered is non-zero, then replace the element at index \n",
    "    #'count' with this element\n",
    "    for i in range(n):\n",
    "        if arr[i] != 0:\n",
    "             \n",
    "            # here count is incremented\n",
    "            arr[count] = arr[i]\n",
    "            count+=1\n",
    "     \n",
    "    # Now all non-zero elements have been shifted to front and 'count' is set as index of first 0. Make all elements 0 from count to end.\n",
    "    while count < n:\n",
    "        arr[count] = 0\n",
    "        count += 1\n",
    "         \n",
    "# Driver code\n",
    "pushZerosToEnd(arr, n)\n",
    "print(\"Array after pushing all zeros to end of array:\")\n",
    "print(arr)\n",
    "    "
   ]
  },
  {
   "cell_type": "markdown",
   "id": "8c9ddd87",
   "metadata": {},
   "source": [
    "### Given two sentences, return an array that has the words that appear in one sentence and not the other and an array with the words in common.\n"
   ]
  },
  {
   "cell_type": "code",
   "execution_count": 41,
   "id": "e2936e5c",
   "metadata": {},
   "outputs": [
    {
     "name": "stdout",
     "output_type": "stream",
     "text": [
      "{'at', 'Paris', 'Ironhack'}\n",
      "{'Data', 'Analytics'}\n",
      "{'at', 'Paris', 'Ironhack'}\n"
     ]
    }
   ],
   "source": [
    "# Python3 program to find a list of uncommon words between two sentences and an array with the words in common\n",
    "\n",
    "A = \"Data Analytics\"\n",
    "B = \"Data Analytics at Ironhack Paris\"\n",
    "\n",
    "A=A.replace(\"\\n\",\"\").replace(\",\",\"\").replace(\".\",\"\")\n",
    "B=B.replace(\"\\n\",\"\").replace(\",\",\"\").replace(\".\",\"\")\n",
    "\n",
    "A1 = A.split(\" \",-1)\n",
    "B1 = B.split(\" \",-1)\n",
    "\n",
    "s1 = set(A1)\n",
    "s2 = set(B1)\n",
    "\n",
    "x= s2.difference(s1)\n",
    "y= s1.intersection(s2)\n",
    "z = s2-s1\n",
    "#this will return the same as difference\n",
    "\n",
    "print(x)\n",
    "print(y)\n",
    "print(z)"
   ]
  },
  {
   "cell_type": "code",
   "execution_count": null,
   "id": "93be9f98",
   "metadata": {},
   "outputs": [],
   "source": []
  }
 ],
 "metadata": {
  "kernelspec": {
   "display_name": "Python 3 (ipykernel)",
   "language": "python",
   "name": "python3"
  },
  "language_info": {
   "codemirror_mode": {
    "name": "ipython",
    "version": 3
   },
   "file_extension": ".py",
   "mimetype": "text/x-python",
   "name": "python",
   "nbconvert_exporter": "python",
   "pygments_lexer": "ipython3",
   "version": "3.9.12"
  }
 },
 "nbformat": 4,
 "nbformat_minor": 5
}
