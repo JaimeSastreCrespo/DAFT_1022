{
 "cells": [
  {
   "cell_type": "code",
   "execution_count": 3,
   "metadata": {},
   "outputs": [],
   "source": [
    "import pandas as pd\n",
    "import numpy as np\n",
    "from sklearn.cluster import AffinityPropagation\n",
    "from sklearn.cluster import KMeans\n",
    "from sklearn.cluster import DBSCAN\n",
    "from sklearn.cluster import AgglomerativeClustering\n",
    "from sklearn import metrics\n",
    "from sklearn.datasets import load_iris\n",
    "from sklearn import datasets\n",
    "import matplotlib.pyplot as plt"
   ]
  },
  {
   "cell_type": "markdown",
   "metadata": {},
   "source": [
    "### Create one function that allows to estimate the following list of metrics for the unsupervised learning.\n",
    "* [Homogeneity, Completeness, V-measure, Silhouette Coefficient, Variance Ratio Criterion]:\n",
    "* Calculate each metrics\n",
    "* Return the information about clustering\n"
   ]
  },
  {
   "cell_type": "code",
   "execution_count": 4,
   "metadata": {},
   "outputs": [],
   "source": [
    "from sklearn import datasets\n",
    "iris = datasets.load_iris()\n"
   ]
  },
  {
   "cell_type": "code",
   "execution_count": 5,
   "metadata": {},
   "outputs": [],
   "source": [
    "def evaluation (X,y_true, y_label, n_clusters_):\n",
    "    print(\"Estimated number of clusters: %d\" % n_clusters_)\n",
    "    print(\"Homogeneity: %0.3f\" % metrics.homogeneity_score(y_true, y_label))\n",
    "    print(\"Completeness: %0.3f\" % metrics.completeness_score(y_true, y_label))\n",
    "    print(\"V-measure: %0.3f\" % metrics.v_measure_score(y_true, y_label))\n",
    "    print(\"Adjusted Rand Index: %0.3f\" % metrics.adjusted_rand_score(y_true, y_label))\n",
    "    print(\n",
    "        \"Adjusted Mutual Information: %0.3f\"\n",
    "        % metrics.adjusted_mutual_info_score(y_true, y_label))\n",
    "    print(    \"Silhouette Coefficient: %0.3f\"\n",
    "        % metrics.silhouette_score(X, y_label, metric=\"sqeuclidean\"))\n",
    "\n",
    "    "
   ]
  },
  {
   "cell_type": "code",
   "execution_count": 6,
   "metadata": {},
   "outputs": [],
   "source": [
    "x = iris.data\n",
    "y = iris.target"
   ]
  },
  {
   "cell_type": "code",
   "execution_count": 88,
   "metadata": {},
   "outputs": [
    {
     "name": "stdout",
     "output_type": "stream",
     "text": [
      "KMeans: \n",
      "\n",
      "Estimated number of clusters: 2\n",
      "Homogeneity: 0.522\n",
      "Completeness: 0.884\n",
      "V-measure: 0.657\n",
      "Adjusted Rand Index: 0.540\n",
      "Adjusted Mutual Information: 0.654\n",
      "Silhouette Coefficient: 0.850\n"
     ]
    }
   ],
   "source": [
    "print(\"KMeans: \\n\")\n",
    "\n",
    "kmeans2 = KMeans(n_clusters=2).fit(x)\n",
    "y_labels = kmeans2.labels_\n",
    "evaluation(x,  y, y_labels, 2)"
   ]
  },
  {
   "cell_type": "code",
   "execution_count": 78,
   "metadata": {},
   "outputs": [
    {
     "name": "stdout",
     "output_type": "stream",
     "text": [
      "Estimated number of clusters: 3\n",
      "Homogeneity: 0.751\n",
      "Completeness: 0.765\n",
      "V-measure: 0.758\n",
      "Adjusted Rand Index: 0.730\n",
      "Adjusted Mutual Information: 0.755\n",
      "Silhouette Coefficient: 0.736\n",
      "\n",
      "\n",
      "Estimated number of clusters: 4\n",
      "Homogeneity: 0.808\n",
      "Completeness: 0.652\n",
      "V-measure: 0.722\n",
      "Adjusted Rand Index: 0.650\n",
      "Adjusted Mutual Information: 0.717\n",
      "Silhouette Coefficient: 0.671\n",
      "\n",
      "\n",
      "Estimated number of clusters: 5\n",
      "Homogeneity: 0.824\n",
      "Completeness: 0.599\n",
      "V-measure: 0.694\n",
      "Adjusted Rand Index: 0.608\n",
      "Adjusted Mutual Information: 0.687\n",
      "Silhouette Coefficient: 0.670\n"
     ]
    }
   ],
   "source": [
    "kmeans3 = KMeans(n_clusters=3).fit(x)\n",
    "y_labels = kmeans3.labels_\n",
    "evaluation(x, y, y_labels, 3)\n",
    "\n",
    "print('\\n')\n",
    "\n",
    "kmeans4 = KMeans(n_clusters=4).fit(x)\n",
    "y_labels = kmeans4.labels_\n",
    "evaluation(x, y, y_labels, 4)\n",
    "\n",
    "print('\\n')\n",
    "\n",
    "kmeans5 = KMeans(n_clusters=5).fit(x)\n",
    "y_labels = kmeans5.labels_\n",
    "evaluation(x, y, y_labels, 5)"
   ]
  },
  {
   "cell_type": "code",
   "execution_count": 87,
   "metadata": {},
   "outputs": [
    {
     "name": "stdout",
     "output_type": "stream",
     "text": [
      "Hierarchical: \n",
      "\n",
      "Estimated number of clusters: 2\n",
      "Homogeneity: 0.579\n",
      "Completeness: 1.000\n",
      "V-measure: 0.734\n",
      "Adjusted Rand Index: 0.568\n",
      "Adjusted Mutual Information: 0.732\n",
      "Silhouette Coefficient: 0.847\n",
      "\n",
      "\n",
      "Estimated number of clusters: 3\n",
      "Homogeneity: 0.761\n",
      "Completeness: 0.780\n",
      "V-measure: 0.770\n",
      "Adjusted Rand Index: 0.731\n",
      "Adjusted Mutual Information: 0.767\n",
      "Silhouette Coefficient: 0.735\n",
      "\n",
      "\n",
      "Estimated number of clusters: 4\n",
      "Homogeneity: 0.795\n",
      "Completeness: 0.642\n",
      "V-measure: 0.710\n",
      "Adjusted Rand Index: 0.660\n",
      "Adjusted Mutual Information: 0.705\n",
      "Silhouette Coefficient: 0.653\n"
     ]
    }
   ],
   "source": [
    "print(\"Hierarchical: \\n\")\n",
    "\n",
    "agg2 = AgglomerativeClustering(n_clusters=2).fit(x)\n",
    "y_labels = agg2.labels_\n",
    "evaluation(x, y, y_labels, 2)\n",
    "\n",
    "print('\\n')\n",
    "\n",
    "agg3 = AgglomerativeClustering(n_clusters=3).fit(x)\n",
    "y_labels = agg3.labels_\n",
    "evaluation(x, y, y_labels, 3)\n",
    "\n",
    "print('\\n')\n",
    "\n",
    "agg4 = AgglomerativeClustering(n_clusters=4).fit(x)\n",
    "y_labels = agg4.labels_\n",
    "evaluation(x, y, y_labels, 4)\n"
   ]
  },
  {
   "cell_type": "code",
   "execution_count": 84,
   "metadata": {},
   "outputs": [
    {
     "name": "stdout",
     "output_type": "stream",
     "text": [
      "Estimated number of clusters: 5\n",
      "Homogeneity: 0.797\n",
      "Completeness: 0.579\n",
      "V-measure: 0.671\n",
      "Adjusted Rand Index: 0.595\n",
      "Adjusted Mutual Information: 0.664\n",
      "Silhouette Coefficient: 0.657\n"
     ]
    }
   ],
   "source": [
    "agg5 = AgglomerativeClustering(n_clusters=5).fit(x)\n",
    "y_labels = agg5.labels_\n",
    "evaluation(x, y, y_labels, 5)"
   ]
  },
  {
   "cell_type": "code",
   "execution_count": 86,
   "metadata": {},
   "outputs": [
    {
     "name": "stdout",
     "output_type": "stream",
     "text": [
      "DBSCAN: \n",
      "\n",
      "Estimated number of clusters: 3\n",
      "Homogeneity: 0.560\n",
      "Completeness: 0.657\n",
      "V-measure: 0.604\n",
      "Adjusted Rand Index: 0.521\n",
      "Adjusted Mutual Information: 0.599\n",
      "Silhouette Coefficient: 0.637\n"
     ]
    }
   ],
   "source": [
    "print(\"DBSCAN: \\n\")\n",
    "\n",
    "dbscan = DBSCAN().fit(X)\n",
    "y_labels = dbscan.labels_\n",
    "centers = np.unique(y_labels)\n",
    "evaluation(x, y, y_labels, len(centers))"
   ]
  },
  {
   "cell_type": "code",
   "execution_count": null,
   "metadata": {},
   "outputs": [],
   "source": []
  }
 ],
 "metadata": {
  "kernelspec": {
   "display_name": "Python 3.9.12 ('base')",
   "language": "python",
   "name": "python3"
  },
  "language_info": {
   "codemirror_mode": {
    "name": "ipython",
    "version": 3
   },
   "file_extension": ".py",
   "mimetype": "text/x-python",
   "name": "python",
   "nbconvert_exporter": "python",
   "pygments_lexer": "ipython3",
   "version": "3.9.12"
  },
  "orig_nbformat": 4,
  "vscode": {
   "interpreter": {
    "hash": "a3f3c9539b2b0d529c07b7548750098ae30aba30b940b3b3dd0f70005c5624b6"
   }
  }
 },
 "nbformat": 4,
 "nbformat_minor": 2
}
