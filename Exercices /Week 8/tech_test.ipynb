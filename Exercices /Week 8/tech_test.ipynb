{
 "cells": [
  {
   "cell_type": "markdown",
   "metadata": {},
   "source": [
    "### Tech Interview\n",
    "\n",
    "<Task 1.> \n",
    "\n",
    "\n",
    "Let's imagine a situation: you went to the market and filled your baskets (basket1 and basket2) with fruits. \n",
    "You wanted to have one of each kind but realized that some fruits were put in both baskets.\n",
    "\n",
    "\n",
    "1. Your first task is to remove everything from basket2 that is already present in basket1. \n",
    "\n",
    "2. After the removal it is reasonable to anticipate that one of the baskets might weigh more compared to the\n",
    " another (all fruit kinds weight the same). Therefore, the second task is to transfer some fruits from a heavier \n",
    " basket to the lighter one to get approximately the same weight/amount of fruits."
   ]
  },
  {
   "cell_type": "code",
   "execution_count": 1,
   "metadata": {},
   "outputs": [],
   "source": [
    "basket1= ['pear', 'apple', 'apple', 'apple', 'apple']\n",
    "basket2= ['banana', 'apple', 'pear', 'banana', 'coco']"
   ]
  },
  {
   "cell_type": "code",
   "execution_count": 3,
   "metadata": {},
   "outputs": [],
   "source": [
    "basket2 = [x for x in basket2 if x not in basket1]"
   ]
  },
  {
   "cell_type": "code",
   "execution_count": 4,
   "metadata": {},
   "outputs": [
    {
     "data": {
      "text/plain": [
       "['banana', 'banana', 'coco']"
      ]
     },
     "execution_count": 4,
     "metadata": {},
     "output_type": "execute_result"
    }
   ],
   "source": [
    "basket2"
   ]
  },
  {
   "cell_type": "markdown",
   "metadata": {},
   "source": [
    "### ---------------------------------------------------------------------------------------------------------"
   ]
  },
  {
   "cell_type": "markdown",
   "metadata": {},
   "source": [
    "<Task 2.>\n",
    "\n",
    "\n",
    "Your task is to create a regular expression matching a valid temperature represented either in Celsius or Fahrenheit scale (e.g. '+23.5 C', '-4 F', '0.0 C', '73.45 F') and to extract all the appearances from the given string text. Positive temperatures can be with or without the + prefix (e.g. '5 F', '+5 F'). Negative temperatures must be prefixed with -. Zero temperature can be used with a prefix or without.\n",
    "\n",
    "Tips:\n",
    "The + symbol within the square brackets [] matches the +symbol itself (e.g. the regular expression [1a+] matches to '1', 'a', or '+'). \n",
    "\n",
    "You can also apply ? to the characters within the square brackets [] to make the set optional (e.g. [ab]? matches to 'a', 'b', or '')."
   ]
  },
  {
   "cell_type": "code",
   "execution_count": 5,
   "metadata": {},
   "outputs": [],
   "source": [
    "import re"
   ]
  },
  {
   "cell_type": "code",
   "execution_count": 54,
   "metadata": {},
   "outputs": [
    {
     "name": "stdout",
     "output_type": "stream",
     "text": [
      "['+20.4 C', '+2 F', '30 C', '-40 C']\n"
     ]
    }
   ],
   "source": [
    "string_text = 'In Canary Islands we have aroung +20.4 C and not measured in F. Paris was colder before, +2 F in fact. In summer 30 C and in winter -40 C '\n",
    "\n",
    "x = re.findall(r'[+-]?\\d+\\.?\\d* [CF]', string_text)\n",
    "print(x)\n",
    "\n",
    "\n"
   ]
  },
  {
   "cell_type": "markdown",
   "metadata": {},
   "source": [
    "1. Perform a simple query to list the number of calls per day.\n",
    "2. In our business, timing is key. A growth hacker needs to understand when clients are ﬁrst contacting us, even if ﬁrst contact does not lead to a client record inscription in our CRM. For that purpose, he asks you to provide a table with the following structure :\n",
    "a.    client ID if available\n",
    "b.    client First Name if available\n",
    "c.   client Last Name if available\n",
    "d.    ﬁrst call date\n",
    "e.    average calls duration for that client if available\n",
    "f.    client phone number\n",
    " Warning : You can see that not all clients are referenced in the calls table, and vice versa !\n",
    " Indeed :\n",
    "●  Some clients are present in the client_crm database but we have not tracked properly their calls, so they are not present in the calls database\n",
    "(Tips : If a client's ﬁrst call date is unavailable, we can use the client record creation date.)\n",
    "●   Some prospects (potential clients) contacted us by phone but the agent who took the call did not register them properly in the client_crm database (you will not be able to ﬁnd the ID, First Name and LastName for all the contacts)\n",
    " 3. In a phone-based model, one of the main difﬁculties is to properly track clients. As mentioned before, you can see that not all clients are referenced in the calls table, and vice versa: To deal with this difﬁculty, management suggests to track the transformation rate at a daily bucket. In other words, for each day, we want to know the ratio of the number of clients with a record in our CRM out of the number of calls received that same day.Can you provide the report with ALL clients and ALL calls taken into account ? With the following structure:\n",
    "a.    day\n",
    "b.    number of calls\n",
    "c.   number of clients\n",
    "d.    transformation rate (clients / calls)\n",
    " 4. Looking more deeply at the client_crm table, it seems that we have clients with identical phone numbers! Can you suggest a query to get rid of those « duplicates »? (we want to keep only one unique client record per phone number)\n",
    " Tips: Note that incoming_number in the calls table, and PhoneNumber in the clients_crm table may not have the same data types and format.\n"
   ]
  },
  {
   "cell_type": "markdown",
   "metadata": {},
   "source": [
    "CREATE DATABASE tech_task;\n",
    "\n",
    "USE tech_task;\n",
    "\n",
    "CREATE TABLE calls (\n",
    "\t\tid INT,\n",
    "        called_number VARCHAR(25),\n",
    "        date_call DATE,\n",
    "        duration_in_sec INT,\n",
    "        incoming_number INT\n",
    ");        \n",
    "\n",
    "CREATE TABLE clients_crm (\n",
    "\t\tid INT,\n",
    "        FirstName VARCHAR(25),\n",
    "        LastName VARCHAR(25),\n",
    "        PhoneNumber VARCHAR(25),\n",
    "        CreationDate DATE\n",
    "); \n",
    "\n",
    "INSERT INTO calls ( id, called_number, date_call , duration_in_sec ,incoming_number ) VALUES\n",
    "\t\t\t\t\t(1021, '669757676', '2021-12-23' , 69, 876567567),\n",
    "                    (1023, '669757677', '2021-12-24' , 15, 976567577),\n",
    "                    (1021, '669757678', '2021-11-23' , 1, 876567567),\n",
    "                    (1021, '669757676', '2021-11-23' , 22, 876567567),\n",
    "                    (1054, '669757675', '2021-12-23' , 34, 996567514),\n",
    "\t\t\t\t\t(1023, '669757672', '2022-01-23' , 150, 976567577),\n",
    "                    (1027, '669757676', '2022-03-23' , 153, 976557577)\n",
    ";\n",
    "\n",
    "\n",
    "INSERT INTO clients_crm ( id, FirstName, LastName , PhoneNumber ,CreationDate ) VALUES\n",
    "\t\t\t\t\t(1021, 'Mini', 'Palotes' , '876567567', '2020-12-23'),\n",
    "                    (1023, 'Maxi', 'Zoquiliski' , '976567577', '2021-01-23'),\n",
    "                    (1054, 'Piti', 'Pitillos' , '996567514' , '2021-11-10')\n",
    ";\n",
    "\n",
    "\n",
    "\n",
    "-- 1. Perform a simple query to list the number of calls per day.\n",
    "\n",
    "SELECT *\n",
    "FROM calls\n",
    "ORDER BY date_call\n",
    ";\n",
    "\n",
    "\n",
    "-- 2. In our business, timing is key. A growth hacker needs to understand when clients are ﬁrst contacting us,\n",
    "-- even if ﬁrst contact does not lead to a client record inscription in our CRM. For that purpose, \n",
    "-- he asks you to provide a table with the following structure :\n",
    "-- a.    client ID if available\n",
    "-- b.    client First Name if available\n",
    "-- c.   client Last Name if available\n",
    "-- d.    ﬁrst call date\n",
    "-- e.    average calls duration for that client if available\n",
    "-- f.    client phone number\n",
    "\n",
    "\n",
    "-- CREATE TABLE growth_hacker AS\n",
    "-- SELECT p.id, p.FirstName, p.LastName, s.date_call,s.duration_in_sec, s.incoming_number\n",
    "-- FROM clients_crm p\n",
    "-- LEFT JOIN calls s \n",
    "-- ON p.id = s.id\n",
    "-- ORDER BY id;\n",
    "\n",
    "\n",
    "-- SET GLOBAL sql_mode=(SELECT REPLACE(@@sql_mode,'ONLY_FULL_GROUP_BY',''));\n",
    "\n",
    "CREATE TABLE growth_hacker2 AS\n",
    "SELECT p.id, p.FirstName, p.LastName, IF(min(s.date_call) IS NULL, p.CreationDate,min(s.date_call)) AS first_Call_Date, s.duration_in_sec, IF(s.incoming_number IS NULL,  s.incoming_number, p.PhoneNumber) as phone_number\n",
    "FROM clients_crm p\n",
    "LEFT JOIN calls s \n",
    "ON s.incoming_number = p.PhoneNumber\n",
    "GROUP BY p.id\n",
    "ORDER BY p.id;\n",
    "\n",
    "\n",
    "-- 3. In a phone-based model, one of the main difﬁculties is to properly track clients. \n",
    "-- As mentioned before, you can see that not all clients are referenced in the calls table, \n",
    "-- and vice versa: To deal with this difﬁculty, management suggests to track the transformation \n",
    "-- rate at a daily bucket. In other words, for each day, we want to know the ratio of the number \n",
    "-- of clients with a record in our CRM out of the number of calls received that same day.\n",
    "-- Can you provide the report with ALL clients and ALL calls taken into account ? With the following structure:\n",
    "-- a.    day\n",
    "-- b.    number of calls\n",
    "-- c.   number of clients\n",
    "-- d.    transformation rate (clients / calls)\n",
    "-- calls ( id, called_number, date_call , duration_in_sec ,incoming_number )\n",
    "-- clients_crm ( id, FirstName, LastName , PhoneNumber ,CreationDate )\n",
    "\n",
    "\n",
    "SELECT DAY(c.date_call) AS day, IF (cr.PhoneNumber IS Null, 'NO CLIENT', cr.PhoneNumber) , c.id, count(c.id)/count(c.incoming_number) as transformation_rate\n",
    "FROM calls c\n",
    "LEFT JOIN clients_crm cr\n",
    "ON c.id = cr.id\n",
    "ORDER BY day ;\n",
    "\n",
    "\n",
    "-- 4.  Looking more deeply at the client_crm table, it seems that we have clients with identical phone numbers!\n",
    "--  Can you suggest a query to get rid of those « duplicates »? (we want to keep only one unique client record per phone number)\n",
    "\n",
    "CREATE TABLE dupl_client_crm LIKE clients_crm;\n",
    "\n",
    "INSERT INTO dupl_client_crm SELECT * FROM clients_crm;\n",
    "\n",
    "DELETE n1 FROM clients_crm n1, dupl_client_crm  n2 \n",
    "WHERE n1.id = n2.id;\n",
    "\n",
    "\n",
    "\n"
   ]
  },
  {
   "cell_type": "code",
   "execution_count": null,
   "metadata": {},
   "outputs": [],
   "source": []
  }
 ],
 "metadata": {
  "kernelspec": {
   "display_name": "Python 3.9.12 ('base')",
   "language": "python",
   "name": "python3"
  },
  "language_info": {
   "codemirror_mode": {
    "name": "ipython",
    "version": 3
   },
   "file_extension": ".py",
   "mimetype": "text/x-python",
   "name": "python",
   "nbconvert_exporter": "python",
   "pygments_lexer": "ipython3",
   "version": "3.9.12"
  },
  "orig_nbformat": 4,
  "vscode": {
   "interpreter": {
    "hash": "a3f3c9539b2b0d529c07b7548750098ae30aba30b940b3b3dd0f70005c5624b6"
   }
  }
 },
 "nbformat": 4,
 "nbformat_minor": 2
}
