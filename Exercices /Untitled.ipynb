{
 "cells": [
  {
   "cell_type": "code",
   "execution_count": 1,
   "id": "0acaa88f",
   "metadata": {},
   "outputs": [
    {
     "name": "stdout",
     "output_type": "stream",
     "text": [
      "Enter the cost price of the bike: 250000\n",
      "37500.0 is the road tax to be paid\n"
     ]
    }
   ],
   "source": [
    "cp = float(input(\"Enter the cost price of the bike: \"))\n",
    "if cp > 100000:\n",
    "    t = 0.15\n",
    "elif cp > 50000 and cp <= 100000:\n",
    "    t = 0.10\n",
    "elif cp <= 50000:\n",
    "    t = 0.05\n",
    "rt = cp*t\n",
    "\n",
    "print(rt, \"is the road tax to be paid\")"
   ]
  },
  {
   "cell_type": "code",
   "execution_count": 2,
   "id": "a75aee63",
   "metadata": {},
   "outputs": [
    {
     "name": "stdout",
     "output_type": "stream",
     "text": [
      "Array after pushing all zeros to end of array:\n",
      "[1, 9, 8, 4, 2, 7, 6, 9, 0, 0, 0, 0]\n"
     ]
    }
   ],
   "source": [
    "# Python3 code to move all zeroes\n",
    "# at the end of array\n",
    " \n",
    "# Function which pushes all\n",
    "# zeros to end of an array.\n",
    "def pushZerosToEnd(arr, n):\n",
    "    count = 0 # Count of non-zero elements\n",
    "     \n",
    "    # Traverse the array. If element\n",
    "    # encountered is non-zero, then\n",
    "    # replace the element at index\n",
    "    # 'count' with this element\n",
    "    for i in range(n):\n",
    "        if arr[i] != 0:\n",
    "             \n",
    "            # here count is incremented\n",
    "            arr[count] = arr[i]\n",
    "            count+=1\n",
    "     \n",
    "    # Now all non-zero elements have been\n",
    "    # shifted to front and 'count' is set\n",
    "    # as index of first 0. Make all\n",
    "    # elements 0 from count to end.\n",
    "    while count < n:\n",
    "        arr[count] = 0\n",
    "        count += 1\n",
    "         \n",
    "# Driver code\n",
    "arr = [1, 9, 8, 4, 0, 0, 2, 7, 0, 6, 0, 9]\n",
    "n = len(arr)\n",
    "pushZerosToEnd(arr, n)\n",
    "print(\"Array after pushing all zeros to end of array:\")\n",
    "print(arr)"
   ]
  },
  {
   "cell_type": "code",
   "execution_count": null,
   "id": "0ad249fc",
   "metadata": {},
   "outputs": [],
   "source": []
  }
 ],
 "metadata": {
  "kernelspec": {
   "display_name": "Python 3 (ipykernel)",
   "language": "python",
   "name": "python3"
  },
  "language_info": {
   "codemirror_mode": {
    "name": "ipython",
    "version": 3
   },
   "file_extension": ".py",
   "mimetype": "text/x-python",
   "name": "python",
   "nbconvert_exporter": "python",
   "pygments_lexer": "ipython3",
   "version": "3.9.12"
  }
 },
 "nbformat": 4,
 "nbformat_minor": 5
}
