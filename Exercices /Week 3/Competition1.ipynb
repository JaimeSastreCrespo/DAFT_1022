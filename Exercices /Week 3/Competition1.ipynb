{
 "cells": [
  {
   "cell_type": "markdown",
   "id": "567a128e",
   "metadata": {},
   "source": [
    "### Write a program to accept the price of a bike and display the road tax to be paid according to the following criteria :    \n",
    "Price    ------   Tax ​\n",
    "\n",
    ": > 100000 ------    15 % ​\n",
    "\n",
    ": > 50000 and <= 100000 ---- 10% ​\n",
    "\n",
    ": <= 50000 ---- 5%\n"
   ]
  },
  {
   "cell_type": "code",
   "execution_count": 5,
   "id": "d4f05dbe",
   "metadata": {},
   "outputs": [
    {
     "name": "stdout",
     "output_type": "stream",
     "text": [
      "Please, enter a cost price for the bike: 100000\n",
      "10000.0 is what you have to pay\n"
     ]
    }
   ],
   "source": [
    "price=float(input(\"Please, enter a cost price for the bike: \"))\n",
    "\n",
    "if price > 100000:\n",
    "    t = 0.15\n",
    "elif price > 50000 and price <= 100000:\n",
    "    t = 0.10\n",
    "elif price <= 50000:\n",
    "    t = 0.05\n",
    "    \n",
    "roadtax = price*t\n",
    "\n",
    "print(roadtax, \"is what you have to pay\")"
   ]
  },
  {
   "cell_type": "markdown",
   "id": "16a13058",
   "metadata": {},
   "source": [
    "### Given the array of numbers , write a program to move all zeros to the end keeping  the relative order of the non-zero elements."
   ]
  },
  {
   "cell_type": "code",
   "execution_count": 42,
   "id": "c2397344",
   "metadata": {},
   "outputs": [
    {
     "name": "stdout",
     "output_type": "stream",
     "text": [
      "[2, 1, 2, 2, 2, 3, 4, 2, 0, 0]\n"
     ]
    }
   ],
   "source": [
    "array = [2,1,0,0,2,2,2,3,4,2]\n",
    "array2 = []\n",
    "i=0\n",
    "for i in range(len(array)):\n",
    "    if array[i] != 0:\n",
    "        array2.append(array[i])\n",
    "        i += 1\n",
    "for i in range(len(array)):\n",
    "    if array[i] == 0:\n",
    "        array2.append(array[i])\n",
    "        i += 1\n",
    "print(array2)\n",
    "    "
   ]
  },
  {
   "cell_type": "markdown",
   "id": "b86c4b48",
   "metadata": {},
   "source": [
    "### Given two sentences, return an array that has the words that appear in one sentence and not the other and an array with the words in common.\n"
   ]
  },
  {
   "cell_type": "code",
   "execution_count": 41,
   "id": "48582fb0",
   "metadata": {},
   "outputs": [
    {
     "name": "stdout",
     "output_type": "stream",
     "text": [
      "{'at', 'Paris', 'Ironhack'}\n",
      "{'Data', 'Analytics'}\n",
      "{'at', 'Paris', 'Ironhack'}\n"
     ]
    }
   ],
   "source": [
    "# Python3 program to find a list of uncommon words between two sentences and an array with the words in common\n",
    "\n",
    "A = \"Data Analytics\"\n",
    "B = \"Data Analytics at Ironhack Paris\"\n",
    "\n",
    "A=A.replace(\"\\n\",\"\").replace(\",\",\"\").replace(\".\",\"\")\n",
    "B=B.replace(\"\\n\",\"\").replace(\",\",\"\").replace(\".\",\"\")\n",
    "\n",
    "A1 = A.split(\" \",-1)\n",
    "B1 = B.split(\" \",-1)\n",
    "\n",
    "s1 = set(A1)\n",
    "s2 = set(B1)\n",
    "\n",
    "x= s2.difference(s1)\n",
    "y= s1.intersection(s2)\n",
    "z = s2-s1\n",
    "#this will return the same as difference\n",
    "\n",
    "print(x)\n",
    "print(y)\n",
    "print(z)"
   ]
  },
  {
   "cell_type": "code",
   "execution_count": null,
   "id": "21de872e",
   "metadata": {},
   "outputs": [],
   "source": []
  }
 ],
 "metadata": {
  "kernelspec": {
   "display_name": "Python 3 (ipykernel)",
   "language": "python",
   "name": "python3"
  },
  "language_info": {
   "codemirror_mode": {
    "name": "ipython",
    "version": 3
   },
   "file_extension": ".py",
   "mimetype": "text/x-python",
   "name": "python",
   "nbconvert_exporter": "python",
   "pygments_lexer": "ipython3",
   "version": "3.9.12"
  }
 },
 "nbformat": 4,
 "nbformat_minor": 5
}
