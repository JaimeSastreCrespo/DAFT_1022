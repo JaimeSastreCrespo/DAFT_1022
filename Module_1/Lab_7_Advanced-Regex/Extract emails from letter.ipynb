{
 "cells": [
  {
   "cell_type": "code",
   "execution_count": 53,
   "id": "4bdb0114",
   "metadata": {},
   "outputs": [],
   "source": [
    "letter = \"Dear sender, Thank you for your email. I am on maternity leave until January 3, 2022. For urgent matters, please contact finance@adyen.comThank you for your message. Lauren Hackett has left The EconomistGroup. In her absence please direct your message to one of  thefollowing:- The Economist Editorial: Holly Donahue in the UK and ROW <hollydonahue@economist.com> or Tom Amos in the US <tomamos@economist.com>- The Economist business, EIU, Events and Client Solutions: JessicaKeating <jessicakeating@economist.com>- Digital Communications: Paddy Crowley <paddycrowley@economist.com>- Internal Communications: Stephanie Sampiere <stephaniesampiere@economist.com>If you are looking to get in contact with Lauren she can be reached atLauren@LaurenHackett.com.\""
   ]
  },
  {
   "cell_type": "code",
   "execution_count": 54,
   "id": "56d45808",
   "metadata": {},
   "outputs": [
    {
     "data": {
      "text/plain": [
       "'Dear sender, Thank you for your email. I am on maternity leave until January 3, 2022. For urgent matters, please contact finance@adyen.comThank you for your message. Lauren Hackett has left The EconomistGroup. In her absence please direct your message to one of  thefollowing:- The Economist Editorial: Holly Donahue in the UK and ROW <hollydonahue@economist.com> or Tom Amos in the US <tomamos@economist.com>- The Economist business, EIU, Events and Client Solutions: JessicaKeating <jessicakeating@economist.com>- Digital Communications: Paddy Crowley <paddycrowley@economist.com>- Internal Communications: Stephanie Sampiere <stephaniesampiere@economist.com>If you are looking to get in contact with Lauren she can be reached atLauren@LaurenHackett.com.'"
      ]
     },
     "execution_count": 54,
     "metadata": {},
     "output_type": "execute_result"
    }
   ],
   "source": [
    "letter"
   ]
  },
  {
   "cell_type": "code",
   "execution_count": 55,
   "id": "80ed9b57",
   "metadata": {},
   "outputs": [],
   "source": [
    "import re"
   ]
  },
  {
   "cell_type": "code",
   "execution_count": 56,
   "id": "592322ad",
   "metadata": {},
   "outputs": [],
   "source": [
    "pattern = '\\w+@\\w+\\.com'"
   ]
  },
  {
   "cell_type": "code",
   "execution_count": 57,
   "id": "4ff1b04c",
   "metadata": {},
   "outputs": [
    {
     "name": "stdout",
     "output_type": "stream",
     "text": [
      "['finance@adyen.com', 'hollydonahue@economist.com', 'tomamos@economist.com', 'jessicakeating@economist.com', 'paddycrowley@economist.com', 'stephaniesampiere@economist.com', 'atLauren@LaurenHackett.com']\n"
     ]
    }
   ],
   "source": [
    "print(re.findall(pattern, letter))"
   ]
  },
  {
   "cell_type": "code",
   "execution_count": null,
   "id": "3b5aef7a",
   "metadata": {},
   "outputs": [],
   "source": []
  }
 ],
 "metadata": {
  "kernelspec": {
   "display_name": "Python 3 (ipykernel)",
   "language": "python",
   "name": "python3"
  },
  "language_info": {
   "codemirror_mode": {
    "name": "ipython",
    "version": 3
   },
   "file_extension": ".py",
   "mimetype": "text/x-python",
   "name": "python",
   "nbconvert_exporter": "python",
   "pygments_lexer": "ipython3",
   "version": "3.9.12"
  }
 },
 "nbformat": 4,
 "nbformat_minor": 5
}
