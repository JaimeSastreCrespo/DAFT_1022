{
 "cells": [
  {
   "cell_type": "code",
   "execution_count": 1,
   "id": "eab9c32a",
   "metadata": {},
   "outputs": [
    {
     "data": {
      "text/plain": [
       "'\"DESCRIPTION:\\n\\nConsider an array/list of sheep where some sheep may be missing from their place. We need a function that counts the number of sheep present in the array (true means present).\\n\\nFor example,\\n\\n[True,  True,  True,  False,\\n  True,  True,  True,  True ,\\n  True,  False, True,  False,\\n  True,  False, False, True ,\\n  True,  True,  True,  True ,\\n  False, False, True,  True]\\nThe correct answer would be 17.\\n\\nHint: Don\\'t forget to check for bad values like null/undefined'"
      ]
     },
     "execution_count": 1,
     "metadata": {},
     "output_type": "execute_result"
    }
   ],
   "source": [
    "\"\"\"\"DESCRIPTION:\n",
    "\n",
    "Consider an array/list of sheep where some sheep may be missing from their place. We need a function that counts the number of sheep present in the array (true means present).\n",
    "\n",
    "For example,\n",
    "\n",
    "[True,  True,  True,  False,\n",
    "  True,  True,  True,  True ,\n",
    "  True,  False, True,  False,\n",
    "  True,  False, False, True ,\n",
    "  True,  True,  True,  True ,\n",
    "  False, False, True,  True]\n",
    "The correct answer would be 17.\n",
    "\n",
    "Hint: Don't forget to check for bad values like null/undefined\"\"\"\n"
   ]
  },
  {
   "cell_type": "code",
   "execution_count": 4,
   "id": "a1753ab3",
   "metadata": {},
   "outputs": [],
   "source": [
    "array = [True,  True,  True,  False,\n",
    "  True,  True,  True,  True ,\n",
    "  True,  False, True,  False,\n",
    "  True,  False, False, True ,\n",
    "  True,  True,  True,  True ,\n",
    "  False, False, True,  True]"
   ]
  },
  {
   "cell_type": "code",
   "execution_count": 5,
   "id": "0ed25597",
   "metadata": {},
   "outputs": [],
   "source": [
    "def count_sheeps(array):\n",
    "    amount = 0\n",
    "    for sheep in array:\n",
    "        if (sheep == True):\n",
    "            amount += 1\n",
    "    return amount"
   ]
  },
  {
   "cell_type": "code",
   "execution_count": 6,
   "id": "8e65c7d5",
   "metadata": {},
   "outputs": [
    {
     "data": {
      "text/plain": [
       "'\"Take an array and remove every second element from the array. Always keep the first element and start removing with the next element.\\n\\nExample:\\n\\n[\"Keep\", \"Remove\", \"Keep\", \"Remove\", \"Keep\", ...] --> [\"Keep\", \"Keep\", \"Keep\", ...]\\n\\nNone of the arrays will be empty, so you don\\'t have to worry about that!'"
      ]
     },
     "execution_count": 6,
     "metadata": {},
     "output_type": "execute_result"
    }
   ],
   "source": [
    "\"\"\"\"Take an array and remove every second element from the array. Always keep the first element and start removing with the next element.\n",
    "\n",
    "Example:\n",
    "\n",
    "[\"Keep\", \"Remove\", \"Keep\", \"Remove\", \"Keep\", ...] --> [\"Keep\", \"Keep\", \"Keep\", ...]\n",
    "\n",
    "None of the arrays will be empty, so you don't have to worry about that!\"\"\""
   ]
  },
  {
   "cell_type": "code",
   "execution_count": 14,
   "id": "09b0cecd",
   "metadata": {},
   "outputs": [],
   "source": [
    "def remove_every_other(my_list):\n",
    "    return my_list[::2] # reads “default start index, default stop index, step size is two, so take every second element”."
   ]
  },
  {
   "cell_type": "code",
   "execution_count": 15,
   "id": "29d0384e",
   "metadata": {},
   "outputs": [
    {
     "data": {
      "text/plain": [
       "'\"Convert number to reversed array of digits\\n\\nGiven a random non-negative number, you have to return the digits of this number within an array in reverse order.\\n\\nExample(Input => Output):\\n\\n35231 => [1,3,2,5,3]\\n0 => [0]'"
      ]
     },
     "execution_count": 15,
     "metadata": {},
     "output_type": "execute_result"
    }
   ],
   "source": [
    "\"\"\"\"Convert number to reversed array of digits\n",
    "\n",
    "Given a random non-negative number, you have to return the digits of this number within an array in reverse order.\n",
    "\n",
    "Example(Input => Output):\n",
    "\n",
    "35231 => [1,3,2,5,3]\n",
    "0 => [0]\"\"\""
   ]
  },
  {
   "cell_type": "code",
   "execution_count": 46,
   "id": "53b14163",
   "metadata": {},
   "outputs": [
    {
     "name": "stdout",
     "output_type": "stream",
     "text": [
      "[1, 3, 2, 5, 3]\n"
     ]
    }
   ],
   "source": [
    "list = []\n",
    "def digitize(n):\n",
    "    for i in str(n)[::-1]:\n",
    "        list.append(int(i))\n",
    "      \n",
    "        \n",
    "    return list\n",
    "        \n",
    "print(digitize(35231))"
   ]
  },
  {
   "cell_type": "code",
   "execution_count": 40,
   "id": "57e58e1e",
   "metadata": {},
   "outputs": [
    {
     "data": {
      "text/plain": [
       "[9, 8, 7, 6, 5, 4, 3, 2, 1]"
      ]
     },
     "execution_count": 40,
     "metadata": {},
     "output_type": "execute_result"
    }
   ],
   "source": [
    "lst = [1, 2, 3, 4, 5, 6, 7, 8, 9] #just a test for myself\n",
    "lst[::-1]"
   ]
  },
  {
   "cell_type": "code",
   "execution_count": 47,
   "id": "e3ee8340",
   "metadata": {},
   "outputs": [
    {
     "data": {
      "text/plain": [
       "'\"Welcome. In this kata, you are asked to square every digit of a number and concatenate them.\\n\\nFor example, if we run 9119 through the function, 811181 will come out, because 92 is 81 and 12 is 1.\\n\\nNote: The function accepts an integer and returns an integer'"
      ]
     },
     "execution_count": 47,
     "metadata": {},
     "output_type": "execute_result"
    }
   ],
   "source": [
    "\"\"\"\"Welcome. In this kata, you are asked to square every digit of a number and concatenate them.\n",
    "\n",
    "For example, if we run 9119 through the function, 811181 will come out, because 92 is 81 and 12 is 1.\n",
    "\n",
    "Note: The function accepts an integer and returns an integer\"\"\""
   ]
  },
  {
   "cell_type": "code",
   "execution_count": 65,
   "id": "693c84c9",
   "metadata": {},
   "outputs": [],
   "source": [
    "def square_digits(num):\n",
    "    r = ''\n",
    "    for i in str(num):\n",
    "        r = r + str((int(i)**2))\n",
    "    return (int(r))"
   ]
  },
  {
   "cell_type": "code",
   "execution_count": 66,
   "id": "6b0bf6b0",
   "metadata": {},
   "outputs": [
    {
     "data": {
      "text/plain": [
       "811181"
      ]
     },
     "execution_count": 66,
     "metadata": {},
     "output_type": "execute_result"
    }
   ],
   "source": [
    "square_digits(9119)"
   ]
  },
  {
   "cell_type": "code",
   "execution_count": 55,
   "id": "48638046",
   "metadata": {},
   "outputs": [],
   "source": [
    "def square_digits(num):\n",
    "    num = str(num)\n",
    "    ans = ''\n",
    "    for i in num:\n",
    "        ans += str(int(i)**2)\n",
    "    return int(ans)\n"
   ]
  },
  {
   "cell_type": "code",
   "execution_count": 56,
   "id": "f30f8458",
   "metadata": {},
   "outputs": [
    {
     "data": {
      "text/plain": [
       "811181"
      ]
     },
     "execution_count": 56,
     "metadata": {},
     "output_type": "execute_result"
    }
   ],
   "source": [
    "square_digits(9119)"
   ]
  },
  {
   "cell_type": "code",
   "execution_count": 69,
   "id": "ff9d27fc",
   "metadata": {},
   "outputs": [
    {
     "data": {
      "text/plain": [
       "'\"We need a method in the List Class that may count specific digits from a given list of integers. This marked digits will be given in a second list. The method .count_spec_digits()/.countSpecDigits() will accept two arguments, a list of an uncertain amount of integers integers_lists/integersLists (and of an uncertain amount of digits, too) and a second list, digits_list/digitsList that has the specific digits to count which length cannot be be longer than 10 (It\\'s obvious, we\\'ve got ten digits). The method will output a list of tuples, each tuple having two elements, the first one will be a digit to count, and second one, its corresponding total frequency in all the integers of the first list. This list of tuples should be ordered with the same order that the digits have in digitsList\\n\\nLet\\'s see some cases:'"
      ]
     },
     "execution_count": 69,
     "metadata": {},
     "output_type": "execute_result"
    }
   ],
   "source": [
    "\"\"\"\"We need a method in the List Class that may count specific digits from a given list of integers. \n",
    "This marked digits will be given in a second list. The method .count_spec_digits()/.countSpecDigits() \n",
    "will accept two arguments, a list of an uncertain amount of integers integers_lists/integersLists \n",
    "(and of an uncertain amount of digits, too) and a second list, digits_list/digitsList that has the \n",
    "specific digits to count which length cannot be be longer than 10 (It's obvious, we've got ten digits). \n",
    "The method will output a list of tuples, each tuple having two elements, the first one will be a digit to count, \n",
    "and second one, its corresponding total frequency in all the integers of the first list.\n",
    "This list of tuples should be ordered with the same order that the digits have in digitsList\n",
    "\n",
    "Let's see some cases:\"\"\""
   ]
  },
  {
   "cell_type": "code",
   "execution_count": null,
   "id": "93098f69",
   "metadata": {},
   "outputs": [],
   "source": [
    "class List(object):\n",
    "    def count_spec_digits(self, integers_list, digits_list):\n",
    "        List1 = []\n",
    "        for x in integers_list:\n",
    "            List1.extend([i for i in str(x)])\n",
    "        listtupl = []\n",
    "        for i in digits_list:\n",
    "            sectupl = (i, List1.count(str(i)))\n",
    "            listtupl.append(sectupl)\n",
    "        return listtupl"
   ]
  },
  {
   "cell_type": "code",
   "execution_count": null,
   "id": "63d570d8",
   "metadata": {},
   "outputs": [],
   "source": []
  }
 ],
 "metadata": {
  "kernelspec": {
   "display_name": "Python 3 (ipykernel)",
   "language": "python",
   "name": "python3"
  },
  "language_info": {
   "codemirror_mode": {
    "name": "ipython",
    "version": 3
   },
   "file_extension": ".py",
   "mimetype": "text/x-python",
   "name": "python",
   "nbconvert_exporter": "python",
   "pygments_lexer": "ipython3",
   "version": "3.9.12"
  }
 },
 "nbformat": 4,
 "nbformat_minor": 5
}
