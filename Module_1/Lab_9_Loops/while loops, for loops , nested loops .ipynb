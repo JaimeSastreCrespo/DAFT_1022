{
 "cells": [
  {
   "cell_type": "code",
   "execution_count": 1,
   "id": "1cf40afa",
   "metadata": {},
   "outputs": [
    {
     "name": "stdout",
     "output_type": "stream",
     "text": [
      "plese enter number, if you do not want enter stop10\n",
      "please enter numberfsdafds\n",
      "please enter numberstop\n"
     ]
    }
   ],
   "source": [
    "u=input(\"plese enter number, if you do not want enter stop\")\n",
    "\n",
    "while u!= \"stop\":\n",
    "    u=input(\"please enter number\")"
   ]
  },
  {
   "cell_type": "code",
   "execution_count": 8,
   "id": "4b720a3b",
   "metadata": {},
   "outputs": [
    {
     "name": "stdout",
     "output_type": "stream",
     "text": [
      "plese enter number, if you do not want enter stopenter\n",
      "please enter numberpop\n",
      "please enter number8\n",
      "please enter number9\n",
      "please enter number1\n"
     ]
    }
   ],
   "source": [
    "u=input(\"plese enter number, if you do not want enter stop\")\n",
    "i=1\n",
    "while u!= \"stop\" and i<5:\n",
    "    u=input(\"please enter number\")\n",
    "    i=i+1"
   ]
  },
  {
   "cell_type": "markdown",
   "id": "e2272dcd",
   "metadata": {},
   "source": []
  }
 ],
 "metadata": {
  "kernelspec": {
   "display_name": "Python 3 (ipykernel)",
   "language": "python",
   "name": "python3"
  },
  "language_info": {
   "codemirror_mode": {
    "name": "ipython",
    "version": 3
   },
   "file_extension": ".py",
   "mimetype": "text/x-python",
   "name": "python",
   "nbconvert_exporter": "python",
   "pygments_lexer": "ipython3",
   "version": "3.9.12"
  }
 },
 "nbformat": 4,
 "nbformat_minor": 5
}
