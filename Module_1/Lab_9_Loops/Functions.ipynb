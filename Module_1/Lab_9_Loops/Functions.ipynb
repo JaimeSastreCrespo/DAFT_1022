{
 "cells": [
  {
   "cell_type": "code",
   "execution_count": 2,
   "id": "e2f93c20",
   "metadata": {},
   "outputs": [
    {
     "data": {
      "text/plain": [
       "5"
      ]
     },
     "execution_count": 2,
     "metadata": {},
     "output_type": "execute_result"
    }
   ],
   "source": [
    "def f1(x):\n",
    "    y = x**2 + 1\n",
    "    return y\n",
    "\n",
    "f1(2)\n",
    "    \n",
    "    "
   ]
  },
  {
   "cell_type": "code",
   "execution_count": 3,
   "id": "049a57e3",
   "metadata": {},
   "outputs": [
    {
     "data": {
      "text/plain": [
       "(5, 2)"
      ]
     },
     "execution_count": 3,
     "metadata": {},
     "output_type": "execute_result"
    }
   ],
   "source": [
    "def f1(x):\n",
    "    y = x**2 + 1 , x\n",
    "    return y\n",
    "\n",
    "f1(2)"
   ]
  },
  {
   "cell_type": "markdown",
   "id": "843f5b35",
   "metadata": {},
   "source": [
    "### Create the function that calculates the taxes: if the salary is greater than x then tax y1, if less or equal x then tax y2. Salary should be given as a number, taxes are kept in list but can be changed if the user wants."
   ]
  },
  {
   "cell_type": "code",
   "execution_count": 31,
   "id": "308c70e3",
   "metadata": {},
   "outputs": [],
   "source": [
    "L = [20,25]\n",
    "s_l= 50000\n",
    "\n",
    "def taxes(L, s_l):\n",
    "    s = int(input(\"Enter your salary: \"))\n",
    "    if s > s_l:\n",
    "        print(L[1])\n",
    "    else:\n",
    "        print(L[0])\n",
    "        \n",
    "         "
   ]
  },
  {
   "cell_type": "code",
   "execution_count": 32,
   "id": "d7e45363",
   "metadata": {},
   "outputs": [
    {
     "name": "stdout",
     "output_type": "stream",
     "text": [
      "Enter your salary: 20000\n",
      "20\n"
     ]
    }
   ],
   "source": [
    "taxes(L, s_l)"
   ]
  },
  {
   "cell_type": "code",
   "execution_count": null,
   "id": "48854bab",
   "metadata": {},
   "outputs": [],
   "source": []
  }
 ],
 "metadata": {
  "kernelspec": {
   "display_name": "Python 3 (ipykernel)",
   "language": "python",
   "name": "python3"
  },
  "language_info": {
   "codemirror_mode": {
    "name": "ipython",
    "version": 3
   },
   "file_extension": ".py",
   "mimetype": "text/x-python",
   "name": "python",
   "nbconvert_exporter": "python",
   "pygments_lexer": "ipython3",
   "version": "3.9.12"
  }
 },
 "nbformat": 4,
 "nbformat_minor": 5
}
