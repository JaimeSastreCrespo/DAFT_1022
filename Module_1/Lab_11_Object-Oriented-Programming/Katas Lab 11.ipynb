{
 "cells": [
  {
   "cell_type": "code",
   "execution_count": 3,
   "id": "b226cbf3",
   "metadata": {},
   "outputs": [],
   "source": [
    "# A = [i for i in A if i not in B] to reassign concrete elements of a list from another list \n",
    "class List:\n",
    "    def remove_(self, integer_list, values_list):\n",
    "        return [i for i in integer_list if i not in values_list]"
   ]
  },
  {
   "cell_type": "code",
   "execution_count": 4,
   "id": "2a16ea4d",
   "metadata": {},
   "outputs": [],
   "source": [
    "class List(object):\n",
    "    def count_spec_digits(self, integers_list, digits_list):\n",
    "        List1 = []\n",
    "        for x in integers_list:\n",
    "            List1.extend([i for i in str(x)])\n",
    "        listtupl = []\n",
    "        for i in digits_list:\n",
    "            sectupl = (i, List1.count(str(i)))\n",
    "            listtupl.append(sectupl)\n",
    "        return listtupl"
   ]
  },
  {
   "cell_type": "code",
   "execution_count": 15,
   "id": "6287d762",
   "metadata": {},
   "outputs": [],
   "source": [
    "from collections import Counter\n",
    "\n",
    "def ordered_count(input):\n",
    "    return list(Counter(input).items())\n"
   ]
  },
  {
   "cell_type": "code",
   "execution_count": 16,
   "id": "0102b66f",
   "metadata": {},
   "outputs": [
    {
     "data": {
      "text/plain": [
       "[('a', 5), ('b', 2), ('r', 2), ('c', 1), ('d', 1)]"
      ]
     },
     "execution_count": 16,
     "metadata": {},
     "output_type": "execute_result"
    }
   ],
   "source": [
    "ordered_count(\"abracadabra\")"
   ]
  },
  {
   "cell_type": "code",
   "execution_count": null,
   "id": "c7ce6a77",
   "metadata": {},
   "outputs": [],
   "source": []
  }
 ],
 "metadata": {
  "kernelspec": {
   "display_name": "Python 3 (ipykernel)",
   "language": "python",
   "name": "python3"
  },
  "language_info": {
   "codemirror_mode": {
    "name": "ipython",
    "version": 3
   },
   "file_extension": ".py",
   "mimetype": "text/x-python",
   "name": "python",
   "nbconvert_exporter": "python",
   "pygments_lexer": "ipython3",
   "version": "3.9.12"
  }
 },
 "nbformat": 4,
 "nbformat_minor": 5
}
