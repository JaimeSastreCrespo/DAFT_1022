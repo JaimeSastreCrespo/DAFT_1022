{
 "cells": [
  {
   "cell_type": "code",
   "execution_count": 3,
   "id": "9422e3ec",
   "metadata": {},
   "outputs": [],
   "source": [
    "import re\n",
    "t= \"2 sodgonwg 222 kandgknd 34 lkadfd\""
   ]
  },
  {
   "cell_type": "code",
   "execution_count": 10,
   "id": "a383f562",
   "metadata": {},
   "outputs": [],
   "source": [
    "pattern ='\\d*\\s'  #if we want to quantify and get at least one number or more, put \\d{1,}\\s"
   ]
  },
  {
   "cell_type": "code",
   "execution_count": 11,
   "id": "2a20d242",
   "metadata": {},
   "outputs": [
    {
     "name": "stdout",
     "output_type": "stream",
     "text": [
      "['2 ', ' ', '222 ', ' ', '34 ']\n"
     ]
    }
   ],
   "source": [
    "print(re.findall(pattern, t))"
   ]
  },
  {
   "cell_type": "code",
   "execution_count": null,
   "id": "71d1ed7c",
   "metadata": {},
   "outputs": [],
   "source": []
  },
  {
   "cell_type": "code",
   "execution_count": null,
   "id": "ff3c361d",
   "metadata": {},
   "outputs": [],
   "source": []
  }
 ],
 "metadata": {
  "kernelspec": {
   "display_name": "Python 3 (ipykernel)",
   "language": "python",
   "name": "python3"
  },
  "language_info": {
   "codemirror_mode": {
    "name": "ipython",
    "version": 3
   },
   "file_extension": ".py",
   "mimetype": "text/x-python",
   "name": "python",
   "nbconvert_exporter": "python",
   "pygments_lexer": "ipython3",
   "version": "3.9.12"
  }
 },
 "nbformat": 4,
 "nbformat_minor": 5
}
