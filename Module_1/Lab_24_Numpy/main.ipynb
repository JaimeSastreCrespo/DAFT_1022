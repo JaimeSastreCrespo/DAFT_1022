{
 "cells": [
  {
   "cell_type": "markdown",
   "metadata": {},
   "source": [
    "# Intrduction to NumPy\n",
    "\n",
    "\n",
    "#### 1. Import NumPy under the name np."
   ]
  },
  {
   "cell_type": "code",
   "execution_count": 1,
   "metadata": {},
   "outputs": [],
   "source": [
    "import numpy as np"
   ]
  },
  {
   "cell_type": "markdown",
   "metadata": {},
   "source": [
    "#### 2. Print your NumPy version."
   ]
  },
  {
   "cell_type": "code",
   "execution_count": 2,
   "metadata": {},
   "outputs": [
    {
     "name": "stdout",
     "output_type": "stream",
     "text": [
      "1.21.5\n"
     ]
    }
   ],
   "source": [
    "print(np.__version__)"
   ]
  },
  {
   "cell_type": "markdown",
   "metadata": {},
   "source": [
    "#### 3. Generate a 2x3x5 3-dimensional array with random values. Assign the array to variable *a*.\n",
    "**Challenge**: there are at least three easy ways that use numpy to generate random arrays. How many ways can you find?"
   ]
  },
  {
   "cell_type": "code",
   "execution_count": 7,
   "metadata": {},
   "outputs": [
    {
     "name": "stdout",
     "output_type": "stream",
     "text": [
      "[[[0.64974792 0.1510422  0.56939855 0.69705539 0.68942234]\n",
      "  [0.86059646 0.83882008 0.99250074 0.65707707 0.98763244]\n",
      "  [0.20868767 0.78416399 0.15136683 0.06117068 0.26654301]]\n",
      "\n",
      " [[0.25913579 0.38810313 0.59495834 0.20655643 0.88126353]\n",
      "  [0.42033836 0.90005624 0.23679955 0.67913105 0.31924496]\n",
      "  [0.23557998 0.79728785 0.55625979 0.23133996 0.71452751]]]\n"
     ]
    }
   ],
   "source": [
    "a = np.random.random((2,3,5))\n",
    "print(a)"
   ]
  },
  {
   "cell_type": "code",
   "execution_count": 12,
   "metadata": {},
   "outputs": [
    {
     "name": "stdout",
     "output_type": "stream",
     "text": [
      "[[[66  4 47 53 35]\n",
      "  [97 42  4 83 55]\n",
      "  [ 4  2 75 30 89]]\n",
      "\n",
      " [[22 52 98 37 54]\n",
      "  [88 95 65 10  0]\n",
      "  [50 63 58  0 72]]]\n"
     ]
    }
   ],
   "source": [
    "\n",
    "y = np.random.randint(100 , size=(2, 3,  5))\n",
    "\n",
    "print(y)"
   ]
  },
  {
   "cell_type": "code",
   "execution_count": null,
   "metadata": {},
   "outputs": [],
   "source": [
    "# Method 3"
   ]
  },
  {
   "cell_type": "markdown",
   "metadata": {},
   "source": [
    "#### 4. Print *a*.\n"
   ]
  },
  {
   "cell_type": "code",
   "execution_count": 8,
   "metadata": {},
   "outputs": [
    {
     "data": {
      "text/plain": [
       "array([[[0.64974792, 0.1510422 , 0.56939855, 0.69705539, 0.68942234],\n",
       "        [0.86059646, 0.83882008, 0.99250074, 0.65707707, 0.98763244],\n",
       "        [0.20868767, 0.78416399, 0.15136683, 0.06117068, 0.26654301]],\n",
       "\n",
       "       [[0.25913579, 0.38810313, 0.59495834, 0.20655643, 0.88126353],\n",
       "        [0.42033836, 0.90005624, 0.23679955, 0.67913105, 0.31924496],\n",
       "        [0.23557998, 0.79728785, 0.55625979, 0.23133996, 0.71452751]]])"
      ]
     },
     "execution_count": 8,
     "metadata": {},
     "output_type": "execute_result"
    }
   ],
   "source": [
    "a"
   ]
  },
  {
   "cell_type": "markdown",
   "metadata": {},
   "source": [
    "#### 5. Create a 5x2x3 3-dimensional array with all values equaling 1. Assign the array to variable *b*."
   ]
  },
  {
   "cell_type": "code",
   "execution_count": 53,
   "metadata": {},
   "outputs": [
    {
     "data": {
      "text/plain": [
       "array([[[1., 1., 1.],\n",
       "        [1., 1., 1.]],\n",
       "\n",
       "       [[1., 1., 1.],\n",
       "        [1., 1., 1.]],\n",
       "\n",
       "       [[1., 1., 1.],\n",
       "        [1., 1., 1.]],\n",
       "\n",
       "       [[1., 1., 1.],\n",
       "        [1., 1., 1.]],\n",
       "\n",
       "       [[1., 1., 1.],\n",
       "        [1., 1., 1.]]])"
      ]
     },
     "execution_count": 53,
     "metadata": {},
     "output_type": "execute_result"
    }
   ],
   "source": [
    "b = np.ones((5,2,3))\n",
    "b"
   ]
  },
  {
   "cell_type": "markdown",
   "metadata": {},
   "source": [
    "#### 6. Print *b*.\n"
   ]
  },
  {
   "cell_type": "code",
   "execution_count": 54,
   "metadata": {},
   "outputs": [
    {
     "data": {
      "text/plain": [
       "array([[[1., 1., 1.],\n",
       "        [1., 1., 1.]],\n",
       "\n",
       "       [[1., 1., 1.],\n",
       "        [1., 1., 1.]],\n",
       "\n",
       "       [[1., 1., 1.],\n",
       "        [1., 1., 1.]],\n",
       "\n",
       "       [[1., 1., 1.],\n",
       "        [1., 1., 1.]],\n",
       "\n",
       "       [[1., 1., 1.],\n",
       "        [1., 1., 1.]]])"
      ]
     },
     "execution_count": 54,
     "metadata": {},
     "output_type": "execute_result"
    }
   ],
   "source": [
    "b"
   ]
  },
  {
   "cell_type": "markdown",
   "metadata": {},
   "source": [
    "#### 7. Do *a* and *b* have the same size? How do you prove that in Python code?"
   ]
  },
  {
   "cell_type": "code",
   "execution_count": 43,
   "metadata": {},
   "outputs": [
    {
     "ename": "ValueError",
     "evalue": "operands could not be broadcast together with shapes (2,3,5) (5,3,2) ",
     "output_type": "error",
     "traceback": [
      "\u001b[0;31m---------------------------------------------------------------------------\u001b[0m",
      "\u001b[0;31mValueError\u001b[0m                                Traceback (most recent call last)",
      "\u001b[1;32m/Users/jaimesastrecrespo/DAFT_1022/Module_1/Lab_24_Numpy/main.ipynb Cell 16\u001b[0m in \u001b[0;36m<cell line: 1>\u001b[0;34m()\u001b[0m\n\u001b[0;32m----> <a href='vscode-notebook-cell:/Users/jaimesastrecrespo/DAFT_1022/Module_1/Lab_24_Numpy/main.ipynb#X21sZmlsZQ%3D%3D?line=0'>1</a>\u001b[0m y \u001b[39m=\u001b[39m a\u001b[39m+\u001b[39;49mb\n",
      "\u001b[0;31mValueError\u001b[0m: operands could not be broadcast together with shapes (2,3,5) (5,3,2) "
     ]
    }
   ],
   "source": [
    "y = a+b\n",
    "#you can see the error: not the same shapes"
   ]
  },
  {
   "cell_type": "markdown",
   "metadata": {},
   "source": [
    "#### 8. Are you able to add *a* and *b*? Why or why not?\n"
   ]
  },
  {
   "cell_type": "code",
   "execution_count": 45,
   "metadata": {},
   "outputs": [
    {
     "ename": "ValueError",
     "evalue": "all the input array dimensions for the concatenation axis must match exactly, but along dimension 2, the array at index 0 has size 5 and the array at index 1 has size 2",
     "output_type": "error",
     "traceback": [
      "\u001b[0;31m---------------------------------------------------------------------------\u001b[0m",
      "\u001b[0;31mValueError\u001b[0m                                Traceback (most recent call last)",
      "\u001b[1;32m/Users/jaimesastrecrespo/DAFT_1022/Module_1/Lab_24_Numpy/main.ipynb Cell 18\u001b[0m in \u001b[0;36m<cell line: 1>\u001b[0;34m()\u001b[0m\n\u001b[0;32m----> <a href='vscode-notebook-cell:/Users/jaimesastrecrespo/DAFT_1022/Module_1/Lab_24_Numpy/main.ipynb#X23sZmlsZQ%3D%3D?line=0'>1</a>\u001b[0m z \u001b[39m=\u001b[39m np\u001b[39m.\u001b[39;49mconcatenate((a, b))\n",
      "File \u001b[0;32m<__array_function__ internals>:5\u001b[0m, in \u001b[0;36mconcatenate\u001b[0;34m(*args, **kwargs)\u001b[0m\n",
      "\u001b[0;31mValueError\u001b[0m: all the input array dimensions for the concatenation axis must match exactly, but along dimension 2, the array at index 0 has size 5 and the array at index 1 has size 2"
     ]
    }
   ],
   "source": [
    "z = np.concatenate((a, b))\n",
    "# We are not able to add because it's not the same matrix size"
   ]
  },
  {
   "cell_type": "markdown",
   "metadata": {},
   "source": [
    "#### 9. Transpose *b* so that it has the same structure of *a* (i.e. become a 2x3x5 array). Assign the transposed array to variable *c*."
   ]
  },
  {
   "cell_type": "code",
   "execution_count": 60,
   "metadata": {},
   "outputs": [
    {
     "data": {
      "text/plain": [
       "array([[[1., 1., 1., 1., 1.],\n",
       "        [1., 1., 1., 1., 1.],\n",
       "        [1., 1., 1., 1., 1.]],\n",
       "\n",
       "       [[1., 1., 1., 1., 1.],\n",
       "        [1., 1., 1., 1., 1.],\n",
       "        [1., 1., 1., 1., 1.]]])"
      ]
     },
     "execution_count": 60,
     "metadata": {},
     "output_type": "execute_result"
    }
   ],
   "source": [
    "c = b.transpose(1,2,0 )   #specify the ax number (0,1,2) = where 5*2*3 -> 0=5 ; 1=2 and 2 = 3\n",
    "c"
   ]
  },
  {
   "cell_type": "markdown",
   "metadata": {},
   "source": [
    "#### 10. Try to add *a* and *c*. Now it should work. Assign the sum to variable *d*. But why does it work now?"
   ]
  },
  {
   "cell_type": "code",
   "execution_count": 59,
   "metadata": {},
   "outputs": [
    {
     "data": {
      "text/plain": [
       "array([[[1.64974792, 1.1510422 , 1.56939855, 1.69705539, 1.68942234],\n",
       "        [1.86059646, 1.83882008, 1.99250074, 1.65707707, 1.98763244],\n",
       "        [1.20868767, 1.78416399, 1.15136683, 1.06117068, 1.26654301]],\n",
       "\n",
       "       [[1.25913579, 1.38810313, 1.59495834, 1.20655643, 1.88126353],\n",
       "        [1.42033836, 1.90005624, 1.23679955, 1.67913105, 1.31924496],\n",
       "        [1.23557998, 1.79728785, 1.55625979, 1.23133996, 1.71452751]]])"
      ]
     },
     "execution_count": 59,
     "metadata": {},
     "output_type": "execute_result"
    }
   ],
   "source": [
    "d = a + c\n",
    "d\n",
    "#because they have the same matrix size"
   ]
  },
  {
   "cell_type": "markdown",
   "metadata": {},
   "source": [
    "#### 11. Print *a* and *d*. Notice the difference and relation of the two array in terms of the values? Explain."
   ]
  },
  {
   "cell_type": "code",
   "execution_count": 61,
   "metadata": {},
   "outputs": [
    {
     "data": {
      "text/plain": [
       "array([[[0.64974792, 0.1510422 , 0.56939855, 0.69705539, 0.68942234],\n",
       "        [0.86059646, 0.83882008, 0.99250074, 0.65707707, 0.98763244],\n",
       "        [0.20868767, 0.78416399, 0.15136683, 0.06117068, 0.26654301]],\n",
       "\n",
       "       [[0.25913579, 0.38810313, 0.59495834, 0.20655643, 0.88126353],\n",
       "        [0.42033836, 0.90005624, 0.23679955, 0.67913105, 0.31924496],\n",
       "        [0.23557998, 0.79728785, 0.55625979, 0.23133996, 0.71452751]]])"
      ]
     },
     "execution_count": 61,
     "metadata": {},
     "output_type": "execute_result"
    }
   ],
   "source": [
    "a"
   ]
  },
  {
   "cell_type": "markdown",
   "metadata": {},
   "source": [
    "The difference between a and d are the values and it's exactly a+1 = d because we were summing 1 to each value of the matrix a."
   ]
  },
  {
   "cell_type": "code",
   "execution_count": 62,
   "metadata": {},
   "outputs": [
    {
     "data": {
      "text/plain": [
       "array([[[1.64974792, 1.1510422 , 1.56939855, 1.69705539, 1.68942234],\n",
       "        [1.86059646, 1.83882008, 1.99250074, 1.65707707, 1.98763244],\n",
       "        [1.20868767, 1.78416399, 1.15136683, 1.06117068, 1.26654301]],\n",
       "\n",
       "       [[1.25913579, 1.38810313, 1.59495834, 1.20655643, 1.88126353],\n",
       "        [1.42033836, 1.90005624, 1.23679955, 1.67913105, 1.31924496],\n",
       "        [1.23557998, 1.79728785, 1.55625979, 1.23133996, 1.71452751]]])"
      ]
     },
     "execution_count": 62,
     "metadata": {},
     "output_type": "execute_result"
    }
   ],
   "source": [
    "d"
   ]
  },
  {
   "cell_type": "markdown",
   "metadata": {},
   "source": [
    "#### 12. Multiply *a* and *c*. Assign the result to *e*."
   ]
  },
  {
   "cell_type": "code",
   "execution_count": 63,
   "metadata": {},
   "outputs": [],
   "source": [
    "e = a*c"
   ]
  },
  {
   "cell_type": "code",
   "execution_count": 65,
   "metadata": {},
   "outputs": [
    {
     "data": {
      "text/plain": [
       "array([[[0.64974792, 0.1510422 , 0.56939855, 0.69705539, 0.68942234],\n",
       "        [0.86059646, 0.83882008, 0.99250074, 0.65707707, 0.98763244],\n",
       "        [0.20868767, 0.78416399, 0.15136683, 0.06117068, 0.26654301]],\n",
       "\n",
       "       [[0.25913579, 0.38810313, 0.59495834, 0.20655643, 0.88126353],\n",
       "        [0.42033836, 0.90005624, 0.23679955, 0.67913105, 0.31924496],\n",
       "        [0.23557998, 0.79728785, 0.55625979, 0.23133996, 0.71452751]]])"
      ]
     },
     "execution_count": 65,
     "metadata": {},
     "output_type": "execute_result"
    }
   ],
   "source": [
    "e"
   ]
  },
  {
   "cell_type": "markdown",
   "metadata": {},
   "source": [
    "#### 13. Does *e* equal to *a*? Why or why not?\n"
   ]
  },
  {
   "cell_type": "code",
   "execution_count": 68,
   "metadata": {},
   "outputs": [
    {
     "data": {
      "text/plain": [
       "True"
      ]
     },
     "execution_count": 68,
     "metadata": {},
     "output_type": "execute_result"
    }
   ],
   "source": [
    "np.array_equal(a, e, equal_nan=False)\n",
    "# They're equal because we multiply a * c and c is a matrix of value 1."
   ]
  },
  {
   "cell_type": "markdown",
   "metadata": {},
   "source": [
    "#### 14. Identify the max, min, and mean values in *d*. Assign those values to variables *d_max*, *d_min* and *d_mean*."
   ]
  },
  {
   "cell_type": "code",
   "execution_count": 79,
   "metadata": {},
   "outputs": [
    {
     "name": "stdout",
     "output_type": "stream",
     "text": [
      "1.992500739182864\n",
      "1.061170679843089\n",
      "1.5328602620279306\n"
     ]
    }
   ],
   "source": [
    "d_max = np.amax(d)\n",
    "print(d_max)\n",
    "d_min = np.amin(d)\n",
    "print(d_min)\n",
    "d_mean = np.mean(d)\n",
    "print(d_mean)\n"
   ]
  },
  {
   "cell_type": "markdown",
   "metadata": {},
   "source": [
    "#### 15. Now we want to label the values in *d*. First create an empty array *f* with the same shape (i.e. 2x3x5) as *d* using `np.empty`.\n"
   ]
  },
  {
   "cell_type": "code",
   "execution_count": 89,
   "metadata": {},
   "outputs": [
    {
     "data": {
      "text/plain": [
       "array([[[1.64974792, 1.1510422 , 1.56939855, 1.69705539, 1.68942234],\n",
       "        [1.86059646, 1.83882008, 1.99250074, 1.65707707, 1.98763244],\n",
       "        [1.20868767, 1.78416399, 1.15136683, 1.06117068, 1.26654301]],\n",
       "\n",
       "       [[1.25913579, 1.38810313, 1.59495834, 1.20655643, 1.88126353],\n",
       "        [1.42033836, 1.90005624, 1.23679955, 1.67913105, 1.31924496],\n",
       "        [1.23557998, 1.79728785, 1.55625979, 1.23133996, 1.71452751]]])"
      ]
     },
     "execution_count": 89,
     "metadata": {},
     "output_type": "execute_result"
    }
   ],
   "source": [
    "f = np.empty((2,3,5))\n",
    "f"
   ]
  },
  {
   "cell_type": "markdown",
   "metadata": {},
   "source": [
    "#### 16. Populate the values in *f*. \n",
    "\n",
    "For each value in *d*, if it's larger than *d_min* but smaller than *d_mean*, assign 25 to the corresponding value in *f*. If a value in *d* is larger than *d_mean* but smaller than *d_max*, assign 75 to the corresponding value in *f*. If a value equals to *d_mean*, assign 50 to the corresponding value in *f*. Assign 0 to the corresponding value(s) in *f* for *d_min* in *d*. Assign 100 to the corresponding value(s) in *f* for *d_max* in *d*. In the end, f should have only the following values: 0, 25, 50, 75, and 100.\n",
    "\n",
    "**Note**: you don't have to use Numpy in this question."
   ]
  },
  {
   "cell_type": "code",
   "execution_count": 94,
   "metadata": {},
   "outputs": [
    {
     "name": "stdout",
     "output_type": "stream",
     "text": [
      "[[[75. 25. 75. 75. 75.]\n",
      "  [75. 75. 75. 75. 75.]\n",
      "  [25. 75. 25. 25. 25.]]\n",
      "\n",
      " [[25. 25. 75. 25. 75.]\n",
      "  [25. 75. 25. 75. 25.]\n",
      "  [25. 75. 75. 25. 75.]]]\n"
     ]
    }
   ],
   "source": [
    "for i in range(len(d)):\n",
    "    for j in range(len(d[0])):\n",
    "        for k in range(len(d[0,0])):\n",
    "            if d[i,j,k] == d_min:\n",
    "                f[i,j,k] = 0\n",
    "            if d[i,j,k] == d_max:\n",
    "                f[i,j,k] = 100\n",
    "            if d[i,j,k] == d_mean:\n",
    "                f[i,j,k] = 50\n",
    "            if d[i,j,k] < d_mean:\n",
    "                f[i,j,k] = 25\n",
    "            if d[i,j,k] > d_mean:\n",
    "                f[i,j,k] = 75\n",
    "\n",
    "print(f)\n",
    "\n",
    "\n",
    "\n",
    "\n"
   ]
  },
  {
   "cell_type": "markdown",
   "metadata": {},
   "source": [
    "#### 17. Print *d* and *f*. Do you have your expected *f*?\n",
    "For instance, if your *d* is:\n",
    "```python\n",
    "[[[1.85836099, 1.67064465, 1.62576044, 1.40243961, 1.88454931],\n",
    "[1.75354326, 1.69403643, 1.36729252, 1.61415071, 1.12104981],\n",
    "[1.72201435, 1.1862918 , 1.87078449, 1.7726778 , 1.88180042]],\n",
    "[[1.44747908, 1.31673383, 1.02000951, 1.52218947, 1.97066381],\n",
    "[1.79129243, 1.74983003, 1.96028037, 1.85166831, 1.65450881],\n",
    "[1.18068344, 1.9587381 , 1.00656599, 1.93402165, 1.73514584]]]\n",
    "```\n",
    "Your *f* should be:\n",
    "```python\n",
    "[[[ 75.,  75.,  75.,  25.,  75.],\n",
    "[ 75.,  75.,  25.,  25.,  25.],\n",
    "[ 75.,  25.,  75.,  75.,  75.]],\n",
    "[[ 25.,  25.,  25.,  25., 100.],\n",
    "[ 75.,  75.,  75.,  75.,  75.],\n",
    "[ 25.,  75.,   0.,  75.,  75.]]]\n",
    "```"
   ]
  },
  {
   "cell_type": "code",
   "execution_count": 96,
   "metadata": {},
   "outputs": [
    {
     "name": "stdout",
     "output_type": "stream",
     "text": [
      "[[[1.64974792 1.1510422  1.56939855 1.69705539 1.68942234]\n",
      "  [1.86059646 1.83882008 1.99250074 1.65707707 1.98763244]\n",
      "  [1.20868767 1.78416399 1.15136683 1.06117068 1.26654301]]\n",
      "\n",
      " [[1.25913579 1.38810313 1.59495834 1.20655643 1.88126353]\n",
      "  [1.42033836 1.90005624 1.23679955 1.67913105 1.31924496]\n",
      "  [1.23557998 1.79728785 1.55625979 1.23133996 1.71452751]]]\n",
      "[[[75. 25. 75. 75. 75.]\n",
      "  [75. 75. 75. 75. 75.]\n",
      "  [25. 75. 25. 25. 25.]]\n",
      "\n",
      " [[25. 25. 75. 25. 75.]\n",
      "  [25. 75. 25. 75. 25.]\n",
      "  [25. 75. 75. 25. 75.]]]\n"
     ]
    }
   ],
   "source": [
    "print(d)\n",
    "print(f)"
   ]
  },
  {
   "cell_type": "markdown",
   "metadata": {},
   "source": [
    "#### 18. Bonus question: instead of using numbers (i.e. 0, 25, 50, 75, and 100), use string values  (\"A\", \"B\", \"C\", \"D\", and \"E\") to label the array elements. For the example above, the expected result is:\n",
    "\n",
    "```python\n",
    "[[[ 'D',  'D',  'D',  'B',  'D'],\n",
    "[ 'D',  'D',  'B',  'B',  'B'],\n",
    "[ 'D',  'B',  'D',  'D',  'D']],\n",
    "[[ 'B',  'B',  'B',  'B',  'E'],\n",
    "[ 'D',  'D',  'D',  'D',  'D'],\n",
    "[ 'B',  'D',   'A',  'D', 'D']]]\n",
    "```\n",
    "**Note**: you don't have to use Numpy in this question."
   ]
  },
  {
   "cell_type": "code",
   "execution_count": null,
   "metadata": {},
   "outputs": [],
   "source": [
    "# your code here"
   ]
  }
 ],
 "metadata": {
  "kernelspec": {
   "display_name": "Python 3.9.12 ('base')",
   "language": "python",
   "name": "python3"
  },
  "language_info": {
   "codemirror_mode": {
    "name": "ipython",
    "version": 3
   },
   "file_extension": ".py",
   "mimetype": "text/x-python",
   "name": "python",
   "nbconvert_exporter": "python",
   "pygments_lexer": "ipython3",
   "version": "3.9.12"
  },
  "vscode": {
   "interpreter": {
    "hash": "a3f3c9539b2b0d529c07b7548750098ae30aba30b940b3b3dd0f70005c5624b6"
   }
  }
 },
 "nbformat": 4,
 "nbformat_minor": 2
}
