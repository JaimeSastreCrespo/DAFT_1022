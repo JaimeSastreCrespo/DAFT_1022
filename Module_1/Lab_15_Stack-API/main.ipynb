{
 "cells": [
  {
   "cell_type": "markdown",
   "metadata": {},
   "source": [
    "# StackAPI\n",
    "\n",
    "#### Import the necessary libraries here:"
   ]
  },
  {
   "cell_type": "code",
   "execution_count": 24,
   "metadata": {},
   "outputs": [],
   "source": [
    "from stackapi import StackAPI\n",
    "from datetime import datetime\n",
    "\n",
    "\n"
   ]
  },
  {
   "cell_type": "markdown",
   "metadata": {},
   "source": [
    "#### Question 1: Find the questions and answers of last month."
   ]
  },
  {
   "cell_type": "code",
   "execution_count": 25,
   "metadata": {},
   "outputs": [],
   "source": [
    "SITE = StackAPI('stackoverflow')\n",
    "SITE.max_pages=10\n",
    "questions = SITE.fetch('questions', fromdate=datetime(2022,9,18), todate=datetime(2022,10,18))\n",
    "answers = SITE.fetch('answers', fromdate=datetime(2022,9,18), todate=datetime(2022,10,18))"
   ]
  },
  {
   "cell_type": "markdown",
   "metadata": {},
   "source": [
    "#### Question 2: Find the most voted question today with at least a score of 5 and tagged with 'python'. "
   ]
  },
  {
   "cell_type": "code",
   "execution_count": 26,
   "metadata": {},
   "outputs": [],
   "source": [
    "from datetime import datetime\n",
    "favorites = SITE.fetch('questions', min = 5, fromdate=datetime(2022,10,17), todate=datetime(2022,10,18), sort='votes', tagges= 'python')"
   ]
  },
  {
   "cell_type": "code",
   "execution_count": 31,
   "metadata": {},
   "outputs": [
    {
     "name": "stdout",
     "output_type": "stream",
     "text": [
      "{'tags': ['python'], 'owner': {'reputation': 2462, 'user_id': 11335032, 'user_type': 'registered', 'profile_image': 'https://www.gravatar.com/avatar/d8a2395b2fa45d4aa621f4e6f500ede7?s=256&d=identicon&r=PG&f=1', 'display_name': 'maxbachmann', 'link': 'https://stackoverflow.com/users/11335032/maxbachmann'}, 'is_answered': True, 'view_count': 361, 'accepted_answer_id': 74098046, 'answer_count': 1, 'score': 12, 'last_activity_date': 1666051248, 'creation_date': 1666012413, 'question_id': 74097901, 'content_license': 'CC BY-SA 4.0', 'link': 'https://stackoverflow.com/questions/74097901/meaning-of-all-inside-python-class', 'title': 'meaning of `__all__` inside Python class'}\n"
     ]
    }
   ],
   "source": [
    "print(favorites[\"items\"][0])"
   ]
  },
  {
   "cell_type": "markdown",
   "metadata": {},
   "source": [
    "#### Question 3: Find the answers with id 6784 and 6473."
   ]
  },
  {
   "cell_type": "code",
   "execution_count": 38,
   "metadata": {},
   "outputs": [],
   "source": [
    "\n",
    "answers84 = SITE.fetch('answers', ids=[6784])\n"
   ]
  },
  {
   "cell_type": "code",
   "execution_count": 39,
   "metadata": {},
   "outputs": [
    {
     "name": "stdout",
     "output_type": "stream",
     "text": [
      "{'backoff': 0, 'has_more': False, 'page': 1, 'quota_max': 300, 'quota_remaining': 126, 'total': 0, 'items': [{'owner': {'reputation': 30453, 'user_id': 758, 'user_type': 'registered', 'accept_rate': 77, 'profile_image': 'https://www.gravatar.com/avatar/0b4adc19284ed0751844d610555dc6b2?s=256&d=identicon&r=PG', 'display_name': 'Mark Renouf', 'link': 'https://stackoverflow.com/users/758/mark-renouf'}, 'is_accepted': False, 'score': 0, 'last_activity_date': 1218291583, 'creation_date': 1218291583, 'answer_id': 6784, 'question_id': 6778, 'content_license': 'CC BY-SA 2.5'}]}\n"
     ]
    }
   ],
   "source": [
    "print(answers84)"
   ]
  },
  {
   "cell_type": "code",
   "execution_count": 40,
   "metadata": {},
   "outputs": [],
   "source": [
    "answers73 = SITE.fetch('answers', ids=[6473])"
   ]
  },
  {
   "cell_type": "code",
   "execution_count": 41,
   "metadata": {},
   "outputs": [
    {
     "name": "stdout",
     "output_type": "stream",
     "text": [
      "{'backoff': 0, 'has_more': False, 'page': 1, 'quota_max': 300, 'quota_remaining': 125, 'total': 0, 'items': []}\n"
     ]
    }
   ],
   "source": [
    "print(answers73)"
   ]
  },
  {
   "cell_type": "code",
   "execution_count": null,
   "metadata": {},
   "outputs": [],
   "source": []
  }
 ],
 "metadata": {
  "kernelspec": {
   "display_name": "Python 3.9.12 ('base')",
   "language": "python",
   "name": "python3"
  },
  "language_info": {
   "codemirror_mode": {
    "name": "ipython",
    "version": 3
   },
   "file_extension": ".py",
   "mimetype": "text/x-python",
   "name": "python",
   "nbconvert_exporter": "python",
   "pygments_lexer": "ipython3",
   "version": "3.9.12"
  },
  "vscode": {
   "interpreter": {
    "hash": "a3f3c9539b2b0d529c07b7548750098ae30aba30b940b3b3dd0f70005c5624b6"
   }
  }
 },
 "nbformat": 4,
 "nbformat_minor": 2
}
