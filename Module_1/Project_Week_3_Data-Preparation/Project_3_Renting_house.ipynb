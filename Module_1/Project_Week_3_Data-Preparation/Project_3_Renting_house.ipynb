{
 "cells": [
  {
   "cell_type": "code",
   "execution_count": 1,
   "metadata": {},
   "outputs": [],
   "source": [
    "import pandas as pd\n",
    "import numpy as np\n",
    "from sklearn import preprocessing\n",
    "rent=pd.read_excel(r\"/Users/jaimesastrecrespo/DAFT_1022/Module_1/Project_Week_3_Data-Preparation/Project 10 -Spain renting.xlsx\")\n"
   ]
  },
  {
   "cell_type": "markdown",
   "metadata": {},
   "source": [
    "### Examine the data for potential issues (missing data, data inconsistency, outliers, duplicates etc) and cleaning.\n"
   ]
  },
  {
   "cell_type": "code",
   "execution_count": 2,
   "metadata": {},
   "outputs": [
    {
     "data": {
      "text/html": [
       "<div>\n",
       "<style scoped>\n",
       "    .dataframe tbody tr th:only-of-type {\n",
       "        vertical-align: middle;\n",
       "    }\n",
       "\n",
       "    .dataframe tbody tr th {\n",
       "        vertical-align: top;\n",
       "    }\n",
       "\n",
       "    .dataframe thead th {\n",
       "        text-align: right;\n",
       "    }\n",
       "</style>\n",
       "<table border=\"1\" class=\"dataframe\">\n",
       "  <thead>\n",
       "    <tr style=\"text-align: right;\">\n",
       "      <th></th>\n",
       "      <th>Column1</th>\n",
       "      <th>provincia</th>\n",
       "      <th>comunidad autonoma</th>\n",
       "      <th>titulo</th>\n",
       "      <th>precio</th>\n",
       "      <th>habitaciones</th>\n",
       "      <th>metros</th>\n",
       "      <th>total inmuebles/comunidad</th>\n",
       "    </tr>\n",
       "  </thead>\n",
       "  <tbody>\n",
       "    <tr>\n",
       "      <th>0</th>\n",
       "      <td>0</td>\n",
       "      <td>La Coruña</td>\n",
       "      <td>Galicia</td>\n",
       "      <td>NaN</td>\n",
       "      <td>NaN</td>\n",
       "      <td>NaN</td>\n",
       "      <td>NaN</td>\n",
       "      <td>1751</td>\n",
       "    </tr>\n",
       "    <tr>\n",
       "      <th>1</th>\n",
       "      <td>1</td>\n",
       "      <td>La Coruña</td>\n",
       "      <td>Galicia</td>\n",
       "      <td>Chalet pareado en A Zapateira, Culleredo</td>\n",
       "      <td>1100.0</td>\n",
       "      <td>4.0</td>\n",
       "      <td>243</td>\n",
       "      <td>1751</td>\n",
       "    </tr>\n",
       "    <tr>\n",
       "      <th>2</th>\n",
       "      <td>2</td>\n",
       "      <td>La Coruña</td>\n",
       "      <td>Galicia</td>\n",
       "      <td>Chalet pareado en Elviña - A Zapateira, A Coruña</td>\n",
       "      <td>1100.0</td>\n",
       "      <td>4.0</td>\n",
       "      <td>243</td>\n",
       "      <td>1751</td>\n",
       "    </tr>\n",
       "    <tr>\n",
       "      <th>3</th>\n",
       "      <td>3</td>\n",
       "      <td>La Coruña</td>\n",
       "      <td>Galicia</td>\n",
       "      <td>Ático en avenida Pasaxe, 35, Los Castros - Cas...</td>\n",
       "      <td>450.0</td>\n",
       "      <td>NaN</td>\n",
       "      <td>Planta 4ª exterior con ascen</td>\n",
       "      <td>1751</td>\n",
       "    </tr>\n",
       "    <tr>\n",
       "      <th>4</th>\n",
       "      <td>4</td>\n",
       "      <td>La Coruña</td>\n",
       "      <td>Galicia</td>\n",
       "      <td>Piso en calle de Fernando III o Santo, 9, Ensa...</td>\n",
       "      <td>1000.0</td>\n",
       "      <td>4.0</td>\n",
       "      <td>100</td>\n",
       "      <td>1751</td>\n",
       "    </tr>\n",
       "  </tbody>\n",
       "</table>\n",
       "</div>"
      ],
      "text/plain": [
       "   Column1  provincia comunidad autonoma  \\\n",
       "0        0  La Coruña            Galicia   \n",
       "1        1  La Coruña            Galicia   \n",
       "2        2  La Coruña            Galicia   \n",
       "3        3  La Coruña            Galicia   \n",
       "4        4  La Coruña            Galicia   \n",
       "\n",
       "                                              titulo  precio  habitaciones  \\\n",
       "0                                                NaN     NaN           NaN   \n",
       "1           Chalet pareado en A Zapateira, Culleredo  1100.0           4.0   \n",
       "2   Chalet pareado en Elviña - A Zapateira, A Coruña  1100.0           4.0   \n",
       "3  Ático en avenida Pasaxe, 35, Los Castros - Cas...   450.0           NaN   \n",
       "4  Piso en calle de Fernando III o Santo, 9, Ensa...  1000.0           4.0   \n",
       "\n",
       "                         metros  total inmuebles/comunidad  \n",
       "0                           NaN                       1751  \n",
       "1                           243                       1751  \n",
       "2                           243                       1751  \n",
       "3  Planta 4ª exterior con ascen                       1751  \n",
       "4                           100                       1751  "
      ]
     },
     "execution_count": 2,
     "metadata": {},
     "output_type": "execute_result"
    }
   ],
   "source": [
    "rent.head()"
   ]
  },
  {
   "cell_type": "code",
   "execution_count": 3,
   "metadata": {},
   "outputs": [
    {
     "data": {
      "text/plain": [
       "(79749, 8)"
      ]
     },
     "execution_count": 3,
     "metadata": {},
     "output_type": "execute_result"
    }
   ],
   "source": [
    "rent.shape"
   ]
  },
  {
   "cell_type": "code",
   "execution_count": 4,
   "metadata": {},
   "outputs": [
    {
     "name": "stdout",
     "output_type": "stream",
     "text": [
      "79749 Column1\n",
      "53 provincia\n",
      "20 comunidad autonoma\n",
      "36502 titulo\n",
      "834 precio\n",
      "24 habitaciones\n",
      "720 metros\n",
      "53 total inmuebles/comunidad\n"
     ]
    }
   ],
   "source": [
    "print(rent[\"Column1\"].nunique(),\"Column1\" )\n",
    "print(rent[\"provincia\"].nunique(), \"provincia\")\n",
    "print(rent[\"comunidad autonoma\"].nunique(),\"comunidad autonoma\")\n",
    "print(rent[\"titulo\"].nunique(),\"titulo\")\n",
    "print(rent[\"precio\"].nunique(),\"precio\")\n",
    "print(rent[\"habitaciones\"].nunique(),\"habitaciones\")\n",
    "print(rent[\"metros\"].nunique(),\"metros\")\n",
    "print(rent[\"total inmuebles/comunidad\"].nunique(),\"total inmuebles/comunidad\")"
   ]
  },
  {
   "cell_type": "code",
   "execution_count": 5,
   "metadata": {},
   "outputs": [
    {
     "data": {
      "text/plain": [
       "Column1                         0\n",
       "provincia                       2\n",
       "comunidad autonoma              7\n",
       "titulo                          8\n",
       "precio                          4\n",
       "habitaciones                 3707\n",
       "metros                         15\n",
       "total inmuebles/comunidad       0\n",
       "dtype: int64"
      ]
     },
     "execution_count": 5,
     "metadata": {},
     "output_type": "execute_result"
    }
   ],
   "source": [
    "# show null/NA values per column\n",
    "rent.isnull().sum()"
   ]
  },
  {
   "cell_type": "code",
   "execution_count": 6,
   "metadata": {},
   "outputs": [
    {
     "name": "stdout",
     "output_type": "stream",
     "text": [
      "Int64Index([    0,  6435, 26136, 30775, 31019, 31043, 34376, 34377, 34391,\n",
      "            34392, 70341, 79703, 79704, 79709],\n",
      "           dtype='int64')\n"
     ]
    },
    {
     "data": {
      "text/plain": [
       "14"
      ]
     },
     "execution_count": 6,
     "metadata": {},
     "output_type": "execute_result"
    }
   ],
   "source": [
    "#Finding the rows with more than one NaN value\n",
    "rent_nan2 = rent.loc[rent.isnull().sum(1)>1].index\n",
    "print(rent_nan2)\n",
    "rent_nan2.value_counts().sum()"
   ]
  },
  {
   "cell_type": "code",
   "execution_count": 7,
   "metadata": {},
   "outputs": [],
   "source": [
    "#dropping the rows with more than one missing values\n",
    "rent2= rent.drop(rent_nan2)"
   ]
  },
  {
   "cell_type": "code",
   "execution_count": 8,
   "metadata": {},
   "outputs": [
    {
     "data": {
      "text/html": [
       "<div>\n",
       "<style scoped>\n",
       "    .dataframe tbody tr th:only-of-type {\n",
       "        vertical-align: middle;\n",
       "    }\n",
       "\n",
       "    .dataframe tbody tr th {\n",
       "        vertical-align: top;\n",
       "    }\n",
       "\n",
       "    .dataframe thead th {\n",
       "        text-align: right;\n",
       "    }\n",
       "</style>\n",
       "<table border=\"1\" class=\"dataframe\">\n",
       "  <thead>\n",
       "    <tr style=\"text-align: right;\">\n",
       "      <th></th>\n",
       "      <th>Column1</th>\n",
       "      <th>provincia</th>\n",
       "      <th>comunidad autonoma</th>\n",
       "      <th>titulo</th>\n",
       "      <th>precio</th>\n",
       "      <th>habitaciones</th>\n",
       "      <th>metros</th>\n",
       "      <th>total inmuebles/comunidad</th>\n",
       "    </tr>\n",
       "  </thead>\n",
       "  <tbody>\n",
       "    <tr>\n",
       "      <th>1</th>\n",
       "      <td>1</td>\n",
       "      <td>La Coruña</td>\n",
       "      <td>Galicia</td>\n",
       "      <td>Chalet pareado en A Zapateira, Culleredo</td>\n",
       "      <td>1100.0</td>\n",
       "      <td>4.0</td>\n",
       "      <td>243</td>\n",
       "      <td>1751</td>\n",
       "    </tr>\n",
       "    <tr>\n",
       "      <th>2</th>\n",
       "      <td>2</td>\n",
       "      <td>La Coruña</td>\n",
       "      <td>Galicia</td>\n",
       "      <td>Chalet pareado en Elviña - A Zapateira, A Coruña</td>\n",
       "      <td>1100.0</td>\n",
       "      <td>4.0</td>\n",
       "      <td>243</td>\n",
       "      <td>1751</td>\n",
       "    </tr>\n",
       "    <tr>\n",
       "      <th>3</th>\n",
       "      <td>3</td>\n",
       "      <td>La Coruña</td>\n",
       "      <td>Galicia</td>\n",
       "      <td>Ático en avenida Pasaxe, 35, Los Castros - Cas...</td>\n",
       "      <td>450.0</td>\n",
       "      <td>NaN</td>\n",
       "      <td>Planta 4ª exterior con ascen</td>\n",
       "      <td>1751</td>\n",
       "    </tr>\n",
       "    <tr>\n",
       "      <th>4</th>\n",
       "      <td>4</td>\n",
       "      <td>La Coruña</td>\n",
       "      <td>Galicia</td>\n",
       "      <td>Piso en calle de Fernando III o Santo, 9, Ensa...</td>\n",
       "      <td>1000.0</td>\n",
       "      <td>4.0</td>\n",
       "      <td>100</td>\n",
       "      <td>1751</td>\n",
       "    </tr>\n",
       "    <tr>\n",
       "      <th>5</th>\n",
       "      <td>5</td>\n",
       "      <td>La Coruña</td>\n",
       "      <td>Galicia</td>\n",
       "      <td>Piso en calle Manuel Jesús Méndez Búa, s/n, Ca...</td>\n",
       "      <td>450.0</td>\n",
       "      <td>2.0</td>\n",
       "      <td>76</td>\n",
       "      <td>1751</td>\n",
       "    </tr>\n",
       "  </tbody>\n",
       "</table>\n",
       "</div>"
      ],
      "text/plain": [
       "   Column1  provincia comunidad autonoma  \\\n",
       "1        1  La Coruña            Galicia   \n",
       "2        2  La Coruña            Galicia   \n",
       "3        3  La Coruña            Galicia   \n",
       "4        4  La Coruña            Galicia   \n",
       "5        5  La Coruña            Galicia   \n",
       "\n",
       "                                              titulo  precio  habitaciones  \\\n",
       "1           Chalet pareado en A Zapateira, Culleredo  1100.0           4.0   \n",
       "2   Chalet pareado en Elviña - A Zapateira, A Coruña  1100.0           4.0   \n",
       "3  Ático en avenida Pasaxe, 35, Los Castros - Cas...   450.0           NaN   \n",
       "4  Piso en calle de Fernando III o Santo, 9, Ensa...  1000.0           4.0   \n",
       "5  Piso en calle Manuel Jesús Méndez Búa, s/n, Ca...   450.0           2.0   \n",
       "\n",
       "                         metros  total inmuebles/comunidad  \n",
       "1                           243                       1751  \n",
       "2                           243                       1751  \n",
       "3  Planta 4ª exterior con ascen                       1751  \n",
       "4                           100                       1751  \n",
       "5                            76                       1751  "
      ]
     },
     "execution_count": 8,
     "metadata": {},
     "output_type": "execute_result"
    }
   ],
   "source": [
    "rent2.head()"
   ]
  },
  {
   "cell_type": "code",
   "execution_count": 9,
   "metadata": {},
   "outputs": [
    {
     "name": "stdout",
     "output_type": "stream",
     "text": [
      "Int64Index([], dtype='int64')\n"
     ]
    },
    {
     "data": {
      "text/plain": [
       "0"
      ]
     },
     "execution_count": 9,
     "metadata": {},
     "output_type": "execute_result"
    }
   ],
   "source": [
    "#Finding the rows with more than one NaN value\n",
    "rent_nan3 = rent2.loc[rent.isnull().sum(1)>1].index\n",
    "print(rent_nan3)\n",
    "rent_nan3.value_counts().sum()"
   ]
  },
  {
   "cell_type": "code",
   "execution_count": 10,
   "metadata": {},
   "outputs": [
    {
     "name": "stdout",
     "output_type": "stream",
     "text": [
      "       Column1 provincia comunidad autonoma  \\\n",
      "79726    79726  Zaragoza                NaN   \n",
      "79740    79740  Zaragoza                NaN   \n",
      "\n",
      "                                                  titulo  precio  \\\n",
      "79726  Piso en calle vicente monforte, 10, San José, ...   655.0   \n",
      "79740  Piso en calle Madre Sacramento, 1, Doctor Cerr...   700.0   \n",
      "\n",
      "       habitaciones metros  total inmuebles/comunidad  \n",
      "79726           2.0     60                       1277  \n",
      "79740           2.0     70                       1277  \n"
     ]
    }
   ],
   "source": [
    "print(rent2[rent2['comunidad autonoma'].isnull()])"
   ]
  },
  {
   "cell_type": "code",
   "execution_count": 11,
   "metadata": {},
   "outputs": [],
   "source": [
    "#replacing NaN values from comunidad autonoma by provincia\n",
    "rent2.loc[rent2['comunidad autonoma'].isnull(),'comunidad autonoma'] = rent2[\"provincia\"]\n",
    "\n",
    "\n",
    "\n"
   ]
  },
  {
   "cell_type": "code",
   "execution_count": 12,
   "metadata": {},
   "outputs": [
    {
     "data": {
      "text/plain": [
       "0"
      ]
     },
     "execution_count": 12,
     "metadata": {},
     "output_type": "execute_result"
    }
   ],
   "source": [
    "#finding duplicates rows\n",
    "rent2.duplicated().sum()"
   ]
  },
  {
   "cell_type": "code",
   "execution_count": 13,
   "metadata": {},
   "outputs": [
    {
     "data": {
      "text/plain": [
       "Column1                         0\n",
       "provincia                       1\n",
       "comunidad autonoma              0\n",
       "titulo                          0\n",
       "precio                          0\n",
       "habitaciones                 3696\n",
       "metros                          5\n",
       "total inmuebles/comunidad       0\n",
       "dtype: int64"
      ]
     },
     "execution_count": 13,
     "metadata": {},
     "output_type": "execute_result"
    }
   ],
   "source": [
    "# show null/NA values per column\n",
    "rent2.isnull().sum()"
   ]
  },
  {
   "cell_type": "code",
   "execution_count": 14,
   "metadata": {},
   "outputs": [
    {
     "name": "stdout",
     "output_type": "stream",
     "text": [
      "       Column1 provincia comunidad autonoma  \\\n",
      "79743    79743       NaN             Aragon   \n",
      "\n",
      "                                                  titulo  precio  \\\n",
      "79743  Piso en calle santa teresa de jesus, 2, Univer...   750.0   \n",
      "\n",
      "       habitaciones metros  total inmuebles/comunidad  \n",
      "79743           3.0     90                       1277  \n"
     ]
    }
   ],
   "source": [
    "print(rent2[rent2['provincia'].isnull()])"
   ]
  },
  {
   "cell_type": "code",
   "execution_count": 15,
   "metadata": {},
   "outputs": [
    {
     "name": "stdout",
     "output_type": "stream",
     "text": [
      "Piso en calle santa teresa de jesus, 2, Universidad San Francisco, Zaragoza\n"
     ]
    }
   ],
   "source": [
    "print(rent2.loc[79743, ['titulo']]['titulo'])"
   ]
  },
  {
   "cell_type": "code",
   "execution_count": 16,
   "metadata": {},
   "outputs": [],
   "source": [
    "#from titulo, which is the whole address, take the last element after splitting by commas, to know the city \n",
    "rent2['ciudad'] = rent2['titulo'].str.split(',').str[-1]"
   ]
  },
  {
   "cell_type": "code",
   "execution_count": 17,
   "metadata": {},
   "outputs": [
    {
     "data": {
      "text/html": [
       "<div>\n",
       "<style scoped>\n",
       "    .dataframe tbody tr th:only-of-type {\n",
       "        vertical-align: middle;\n",
       "    }\n",
       "\n",
       "    .dataframe tbody tr th {\n",
       "        vertical-align: top;\n",
       "    }\n",
       "\n",
       "    .dataframe thead th {\n",
       "        text-align: right;\n",
       "    }\n",
       "</style>\n",
       "<table border=\"1\" class=\"dataframe\">\n",
       "  <thead>\n",
       "    <tr style=\"text-align: right;\">\n",
       "      <th></th>\n",
       "      <th>Column1</th>\n",
       "      <th>provincia</th>\n",
       "      <th>comunidad autonoma</th>\n",
       "      <th>titulo</th>\n",
       "      <th>precio</th>\n",
       "      <th>habitaciones</th>\n",
       "      <th>metros</th>\n",
       "      <th>total inmuebles/comunidad</th>\n",
       "      <th>ciudad</th>\n",
       "    </tr>\n",
       "  </thead>\n",
       "  <tbody>\n",
       "    <tr>\n",
       "      <th>1</th>\n",
       "      <td>1</td>\n",
       "      <td>La Coruña</td>\n",
       "      <td>Galicia</td>\n",
       "      <td>Chalet pareado en A Zapateira, Culleredo</td>\n",
       "      <td>1100.0</td>\n",
       "      <td>4.0</td>\n",
       "      <td>243</td>\n",
       "      <td>1751</td>\n",
       "      <td>Culleredo</td>\n",
       "    </tr>\n",
       "    <tr>\n",
       "      <th>2</th>\n",
       "      <td>2</td>\n",
       "      <td>La Coruña</td>\n",
       "      <td>Galicia</td>\n",
       "      <td>Chalet pareado en Elviña - A Zapateira, A Coruña</td>\n",
       "      <td>1100.0</td>\n",
       "      <td>4.0</td>\n",
       "      <td>243</td>\n",
       "      <td>1751</td>\n",
       "      <td>A Coruña</td>\n",
       "    </tr>\n",
       "    <tr>\n",
       "      <th>3</th>\n",
       "      <td>3</td>\n",
       "      <td>La Coruña</td>\n",
       "      <td>Galicia</td>\n",
       "      <td>Ático en avenida Pasaxe, 35, Los Castros - Cas...</td>\n",
       "      <td>450.0</td>\n",
       "      <td>NaN</td>\n",
       "      <td>Planta 4ª exterior con ascen</td>\n",
       "      <td>1751</td>\n",
       "      <td>A Coruña</td>\n",
       "    </tr>\n",
       "    <tr>\n",
       "      <th>4</th>\n",
       "      <td>4</td>\n",
       "      <td>La Coruña</td>\n",
       "      <td>Galicia</td>\n",
       "      <td>Piso en calle de Fernando III o Santo, 9, Ensa...</td>\n",
       "      <td>1000.0</td>\n",
       "      <td>4.0</td>\n",
       "      <td>100</td>\n",
       "      <td>1751</td>\n",
       "      <td>Santiago de Compostela</td>\n",
       "    </tr>\n",
       "    <tr>\n",
       "      <th>5</th>\n",
       "      <td>5</td>\n",
       "      <td>La Coruña</td>\n",
       "      <td>Galicia</td>\n",
       "      <td>Piso en calle Manuel Jesús Méndez Búa, s/n, Ca...</td>\n",
       "      <td>450.0</td>\n",
       "      <td>2.0</td>\n",
       "      <td>76</td>\n",
       "      <td>1751</td>\n",
       "      <td>Carral</td>\n",
       "    </tr>\n",
       "  </tbody>\n",
       "</table>\n",
       "</div>"
      ],
      "text/plain": [
       "   Column1  provincia comunidad autonoma  \\\n",
       "1        1  La Coruña            Galicia   \n",
       "2        2  La Coruña            Galicia   \n",
       "3        3  La Coruña            Galicia   \n",
       "4        4  La Coruña            Galicia   \n",
       "5        5  La Coruña            Galicia   \n",
       "\n",
       "                                              titulo  precio  habitaciones  \\\n",
       "1           Chalet pareado en A Zapateira, Culleredo  1100.0           4.0   \n",
       "2   Chalet pareado en Elviña - A Zapateira, A Coruña  1100.0           4.0   \n",
       "3  Ático en avenida Pasaxe, 35, Los Castros - Cas...   450.0           NaN   \n",
       "4  Piso en calle de Fernando III o Santo, 9, Ensa...  1000.0           4.0   \n",
       "5  Piso en calle Manuel Jesús Méndez Búa, s/n, Ca...   450.0           2.0   \n",
       "\n",
       "                         metros  total inmuebles/comunidad  \\\n",
       "1                           243                       1751   \n",
       "2                           243                       1751   \n",
       "3  Planta 4ª exterior con ascen                       1751   \n",
       "4                           100                       1751   \n",
       "5                            76                       1751   \n",
       "\n",
       "                    ciudad  \n",
       "1                Culleredo  \n",
       "2                 A Coruña  \n",
       "3                 A Coruña  \n",
       "4   Santiago de Compostela  \n",
       "5                   Carral  "
      ]
     },
     "execution_count": 17,
     "metadata": {},
     "output_type": "execute_result"
    }
   ],
   "source": [
    "rent2.head()"
   ]
  },
  {
   "cell_type": "code",
   "execution_count": 18,
   "metadata": {},
   "outputs": [],
   "source": [
    "#replacing NaN values from provincia by comunidad autonoma\n",
    "rent2.loc[rent2['provincia'].isnull(),'provincia'] = rent2[\"ciudad\"]"
   ]
  },
  {
   "cell_type": "code",
   "execution_count": 19,
   "metadata": {},
   "outputs": [
    {
     "name": "stdout",
     "output_type": "stream",
     "text": [
      "Column1                                                                  79743\n",
      "provincia                                                             Zaragoza\n",
      "comunidad autonoma                                                      Aragon\n",
      "titulo                       Piso en calle santa teresa de jesus, 2, Univer...\n",
      "precio                                                                   750.0\n",
      "habitaciones                                                               3.0\n",
      "metros                                                                      90\n",
      "total inmuebles/comunidad                                                 1277\n",
      "ciudad                                                                Zaragoza\n",
      "Name: 79743, dtype: object\n"
     ]
    }
   ],
   "source": [
    "print(rent2.loc[79743])"
   ]
  },
  {
   "cell_type": "code",
   "execution_count": 20,
   "metadata": {},
   "outputs": [
    {
     "data": {
      "text/html": [
       "<div>\n",
       "<style scoped>\n",
       "    .dataframe tbody tr th:only-of-type {\n",
       "        vertical-align: middle;\n",
       "    }\n",
       "\n",
       "    .dataframe tbody tr th {\n",
       "        vertical-align: top;\n",
       "    }\n",
       "\n",
       "    .dataframe thead th {\n",
       "        text-align: right;\n",
       "    }\n",
       "</style>\n",
       "<table border=\"1\" class=\"dataframe\">\n",
       "  <thead>\n",
       "    <tr style=\"text-align: right;\">\n",
       "      <th></th>\n",
       "      <th>Column1</th>\n",
       "      <th>provincia</th>\n",
       "      <th>comunidad autonoma</th>\n",
       "      <th>titulo</th>\n",
       "      <th>precio</th>\n",
       "      <th>habitaciones</th>\n",
       "      <th>metros</th>\n",
       "      <th>total inmuebles/comunidad</th>\n",
       "      <th>ciudad</th>\n",
       "    </tr>\n",
       "  </thead>\n",
       "  <tbody>\n",
       "    <tr>\n",
       "      <th>1</th>\n",
       "      <td>1</td>\n",
       "      <td>La Coruña</td>\n",
       "      <td>Galicia</td>\n",
       "      <td>Chalet pareado en A Zapateira, Culleredo</td>\n",
       "      <td>1100.0</td>\n",
       "      <td>4.0</td>\n",
       "      <td>243</td>\n",
       "      <td>1751</td>\n",
       "      <td>Culleredo</td>\n",
       "    </tr>\n",
       "    <tr>\n",
       "      <th>2</th>\n",
       "      <td>2</td>\n",
       "      <td>La Coruña</td>\n",
       "      <td>Galicia</td>\n",
       "      <td>Chalet pareado en Elviña - A Zapateira, A Coruña</td>\n",
       "      <td>1100.0</td>\n",
       "      <td>4.0</td>\n",
       "      <td>243</td>\n",
       "      <td>1751</td>\n",
       "      <td>A Coruña</td>\n",
       "    </tr>\n",
       "    <tr>\n",
       "      <th>3</th>\n",
       "      <td>3</td>\n",
       "      <td>La Coruña</td>\n",
       "      <td>Galicia</td>\n",
       "      <td>Ático en avenida Pasaxe, 35, Los Castros - Cas...</td>\n",
       "      <td>450.0</td>\n",
       "      <td>NaN</td>\n",
       "      <td>Planta 4ª exterior con ascen</td>\n",
       "      <td>1751</td>\n",
       "      <td>A Coruña</td>\n",
       "    </tr>\n",
       "    <tr>\n",
       "      <th>4</th>\n",
       "      <td>4</td>\n",
       "      <td>La Coruña</td>\n",
       "      <td>Galicia</td>\n",
       "      <td>Piso en calle de Fernando III o Santo, 9, Ensa...</td>\n",
       "      <td>1000.0</td>\n",
       "      <td>4.0</td>\n",
       "      <td>100</td>\n",
       "      <td>1751</td>\n",
       "      <td>Santiago de Compostela</td>\n",
       "    </tr>\n",
       "    <tr>\n",
       "      <th>5</th>\n",
       "      <td>5</td>\n",
       "      <td>La Coruña</td>\n",
       "      <td>Galicia</td>\n",
       "      <td>Piso en calle Manuel Jesús Méndez Búa, s/n, Ca...</td>\n",
       "      <td>450.0</td>\n",
       "      <td>2.0</td>\n",
       "      <td>76</td>\n",
       "      <td>1751</td>\n",
       "      <td>Carral</td>\n",
       "    </tr>\n",
       "  </tbody>\n",
       "</table>\n",
       "</div>"
      ],
      "text/plain": [
       "   Column1  provincia comunidad autonoma  \\\n",
       "1        1  La Coruña            Galicia   \n",
       "2        2  La Coruña            Galicia   \n",
       "3        3  La Coruña            Galicia   \n",
       "4        4  La Coruña            Galicia   \n",
       "5        5  La Coruña            Galicia   \n",
       "\n",
       "                                              titulo  precio  habitaciones  \\\n",
       "1           Chalet pareado en A Zapateira, Culleredo  1100.0           4.0   \n",
       "2   Chalet pareado en Elviña - A Zapateira, A Coruña  1100.0           4.0   \n",
       "3  Ático en avenida Pasaxe, 35, Los Castros - Cas...   450.0           NaN   \n",
       "4  Piso en calle de Fernando III o Santo, 9, Ensa...  1000.0           4.0   \n",
       "5  Piso en calle Manuel Jesús Méndez Búa, s/n, Ca...   450.0           2.0   \n",
       "\n",
       "                         metros  total inmuebles/comunidad  \\\n",
       "1                           243                       1751   \n",
       "2                           243                       1751   \n",
       "3  Planta 4ª exterior con ascen                       1751   \n",
       "4                           100                       1751   \n",
       "5                            76                       1751   \n",
       "\n",
       "                    ciudad  \n",
       "1                Culleredo  \n",
       "2                 A Coruña  \n",
       "3                 A Coruña  \n",
       "4   Santiago de Compostela  \n",
       "5                   Carral  "
      ]
     },
     "execution_count": 20,
     "metadata": {},
     "output_type": "execute_result"
    }
   ],
   "source": [
    "rent2.head()"
   ]
  },
  {
   "cell_type": "code",
   "execution_count": 21,
   "metadata": {},
   "outputs": [],
   "source": [
    "rent2.rename(columns={'titulo':'direccion'}, inplace=True)\n",
    "rent2.rename(columns={'comunidad autonoma':'comunidad_autonoma'}, inplace=True)\n",
    "rent2.rename(columns={'total inmuebles/comunidad':'total_inmuebles/comunidad'}, inplace=True)\n",
    "rent2.rename(columns={'Column1':'indice'}, inplace=True)"
   ]
  },
  {
   "cell_type": "code",
   "execution_count": 22,
   "metadata": {},
   "outputs": [
    {
     "data": {
      "text/html": [
       "<div>\n",
       "<style scoped>\n",
       "    .dataframe tbody tr th:only-of-type {\n",
       "        vertical-align: middle;\n",
       "    }\n",
       "\n",
       "    .dataframe tbody tr th {\n",
       "        vertical-align: top;\n",
       "    }\n",
       "\n",
       "    .dataframe thead th {\n",
       "        text-align: right;\n",
       "    }\n",
       "</style>\n",
       "<table border=\"1\" class=\"dataframe\">\n",
       "  <thead>\n",
       "    <tr style=\"text-align: right;\">\n",
       "      <th></th>\n",
       "      <th>indice</th>\n",
       "      <th>provincia</th>\n",
       "      <th>comunidad_autonoma</th>\n",
       "      <th>direccion</th>\n",
       "      <th>precio</th>\n",
       "      <th>habitaciones</th>\n",
       "      <th>metros</th>\n",
       "      <th>total_inmuebles/comunidad</th>\n",
       "      <th>ciudad</th>\n",
       "    </tr>\n",
       "  </thead>\n",
       "  <tbody>\n",
       "    <tr>\n",
       "      <th>1</th>\n",
       "      <td>1</td>\n",
       "      <td>La Coruña</td>\n",
       "      <td>Galicia</td>\n",
       "      <td>Chalet pareado en A Zapateira, Culleredo</td>\n",
       "      <td>1100.0</td>\n",
       "      <td>4.0</td>\n",
       "      <td>243</td>\n",
       "      <td>1751</td>\n",
       "      <td>Culleredo</td>\n",
       "    </tr>\n",
       "    <tr>\n",
       "      <th>2</th>\n",
       "      <td>2</td>\n",
       "      <td>La Coruña</td>\n",
       "      <td>Galicia</td>\n",
       "      <td>Chalet pareado en Elviña - A Zapateira, A Coruña</td>\n",
       "      <td>1100.0</td>\n",
       "      <td>4.0</td>\n",
       "      <td>243</td>\n",
       "      <td>1751</td>\n",
       "      <td>A Coruña</td>\n",
       "    </tr>\n",
       "    <tr>\n",
       "      <th>3</th>\n",
       "      <td>3</td>\n",
       "      <td>La Coruña</td>\n",
       "      <td>Galicia</td>\n",
       "      <td>Ático en avenida Pasaxe, 35, Los Castros - Cas...</td>\n",
       "      <td>450.0</td>\n",
       "      <td>NaN</td>\n",
       "      <td>Planta 4ª exterior con ascen</td>\n",
       "      <td>1751</td>\n",
       "      <td>A Coruña</td>\n",
       "    </tr>\n",
       "    <tr>\n",
       "      <th>4</th>\n",
       "      <td>4</td>\n",
       "      <td>La Coruña</td>\n",
       "      <td>Galicia</td>\n",
       "      <td>Piso en calle de Fernando III o Santo, 9, Ensa...</td>\n",
       "      <td>1000.0</td>\n",
       "      <td>4.0</td>\n",
       "      <td>100</td>\n",
       "      <td>1751</td>\n",
       "      <td>Santiago de Compostela</td>\n",
       "    </tr>\n",
       "    <tr>\n",
       "      <th>5</th>\n",
       "      <td>5</td>\n",
       "      <td>La Coruña</td>\n",
       "      <td>Galicia</td>\n",
       "      <td>Piso en calle Manuel Jesús Méndez Búa, s/n, Ca...</td>\n",
       "      <td>450.0</td>\n",
       "      <td>2.0</td>\n",
       "      <td>76</td>\n",
       "      <td>1751</td>\n",
       "      <td>Carral</td>\n",
       "    </tr>\n",
       "  </tbody>\n",
       "</table>\n",
       "</div>"
      ],
      "text/plain": [
       "   indice  provincia comunidad_autonoma  \\\n",
       "1       1  La Coruña            Galicia   \n",
       "2       2  La Coruña            Galicia   \n",
       "3       3  La Coruña            Galicia   \n",
       "4       4  La Coruña            Galicia   \n",
       "5       5  La Coruña            Galicia   \n",
       "\n",
       "                                           direccion  precio  habitaciones  \\\n",
       "1           Chalet pareado en A Zapateira, Culleredo  1100.0           4.0   \n",
       "2   Chalet pareado en Elviña - A Zapateira, A Coruña  1100.0           4.0   \n",
       "3  Ático en avenida Pasaxe, 35, Los Castros - Cas...   450.0           NaN   \n",
       "4  Piso en calle de Fernando III o Santo, 9, Ensa...  1000.0           4.0   \n",
       "5  Piso en calle Manuel Jesús Méndez Búa, s/n, Ca...   450.0           2.0   \n",
       "\n",
       "                         metros  total_inmuebles/comunidad  \\\n",
       "1                           243                       1751   \n",
       "2                           243                       1751   \n",
       "3  Planta 4ª exterior con ascen                       1751   \n",
       "4                           100                       1751   \n",
       "5                            76                       1751   \n",
       "\n",
       "                    ciudad  \n",
       "1                Culleredo  \n",
       "2                 A Coruña  \n",
       "3                 A Coruña  \n",
       "4   Santiago de Compostela  \n",
       "5                   Carral  "
      ]
     },
     "execution_count": 22,
     "metadata": {},
     "output_type": "execute_result"
    }
   ],
   "source": [
    "rent2.head()"
   ]
  },
  {
   "cell_type": "code",
   "execution_count": 23,
   "metadata": {},
   "outputs": [
    {
     "data": {
      "text/plain": [
       "indice                          0\n",
       "provincia                       0\n",
       "comunidad_autonoma              0\n",
       "direccion                       0\n",
       "precio                          0\n",
       "habitaciones                 3696\n",
       "metros                          5\n",
       "total_inmuebles/comunidad       0\n",
       "ciudad                          0\n",
       "dtype: int64"
      ]
     },
     "execution_count": 23,
     "metadata": {},
     "output_type": "execute_result"
    }
   ],
   "source": [
    "# show null/NA values per column\n",
    "rent2.isnull().sum()"
   ]
  },
  {
   "cell_type": "code",
   "execution_count": 24,
   "metadata": {},
   "outputs": [
    {
     "data": {
      "text/plain": [
       "indice                          0\n",
       "provincia                       0\n",
       "comunidad_autonoma              0\n",
       "direccion                       0\n",
       "precio                          0\n",
       "habitaciones                 3696\n",
       "metros                          5\n",
       "total_inmuebles/comunidad       0\n",
       "ciudad                          0\n",
       "dtype: int64"
      ]
     },
     "execution_count": 24,
     "metadata": {},
     "output_type": "execute_result"
    }
   ],
   "source": [
    "# show null/NA values per column\n",
    "rent2.isnull().sum()"
   ]
  },
  {
   "cell_type": "code",
   "execution_count": 25,
   "metadata": {},
   "outputs": [
    {
     "name": "stdout",
     "output_type": "stream",
     "text": [
      "       indice                   provincia  comunidad_autonoma  \\\n",
      "658       658                   La Coruña             Galicia   \n",
      "24965   24965                   Cantabria           Cantabria   \n",
      "27447   27447                 Ciudad Real  Castilla La Mancha   \n",
      "28757   28757                      Cuenca  Castilla La Mancha   \n",
      "37045   37045  Las Palmas de Gran Canaria            Canarias   \n",
      "\n",
      "                                               direccion  precio  \\\n",
      "658    Casa o chalet independiente en Lugar Seixas, 7...   650.0   \n",
      "24965  Casa o chalet independiente en lepanto, 10, El...  5000.0   \n",
      "27447  Casa de pueblo en plaza de San Juan, 6, Villan...   650.0   \n",
      "28757  Castillo en calle Palomar, 1, Valhermoso de la...   200.0   \n",
      "37045  Casa o chalet independiente en Montaña Roja, 1...  1200.0   \n",
      "\n",
      "       habitaciones metros  total_inmuebles/comunidad  \\\n",
      "658             3.0    NaN                       1751   \n",
      "24965           6.0    NaN                       1275   \n",
      "27447           4.0    NaN                        554   \n",
      "28757           3.0    NaN                        115   \n",
      "37045           1.0    NaN                       1743   \n",
      "\n",
      "                            ciudad  \n",
      "658                        Monfero  \n",
      "24965                 El Astillero  \n",
      "27447   Villanueva de los Infantes  \n",
      "28757      Valhermoso de la Fuente  \n",
      "37045                        Yaiza  \n"
     ]
    }
   ],
   "source": [
    "\n",
    "print(rent2[rent2['metros'].isnull()])"
   ]
  },
  {
   "cell_type": "code",
   "execution_count": 26,
   "metadata": {},
   "outputs": [],
   "source": [
    "#dropping the rows with missing values in metros column to be able to replace the strings with Nan values in that column and then, \n",
    "#if there aren't a lot (less than 7000 rows), drop that rows too and take an average between metros and rooms to replace de nan values\n",
    "# of the rooms column\n",
    "rent2.drop([658], inplace= True)\n",
    "rent2.drop([24965], inplace= True)\n",
    "rent2.drop([27447], inplace= True)\n",
    "rent2.drop([28757], inplace= True)\n",
    "rent2.drop([37045], inplace= True)\n",
    "\n"
   ]
  },
  {
   "cell_type": "code",
   "execution_count": 27,
   "metadata": {},
   "outputs": [
    {
     "name": "stdout",
     "output_type": "stream",
     "text": [
      "Empty DataFrame\n",
      "Columns: [indice, provincia, comunidad_autonoma, direccion, precio, habitaciones, metros, total_inmuebles/comunidad, ciudad]\n",
      "Index: []\n"
     ]
    }
   ],
   "source": [
    "print(rent2[rent2['metros'].isnull()])"
   ]
  },
  {
   "cell_type": "code",
   "execution_count": 28,
   "metadata": {},
   "outputs": [
    {
     "data": {
      "text/plain": [
       "indice                          0\n",
       "provincia                       0\n",
       "comunidad_autonoma              0\n",
       "direccion                       0\n",
       "precio                          0\n",
       "habitaciones                 3696\n",
       "metros                          0\n",
       "total_inmuebles/comunidad       0\n",
       "ciudad                          0\n",
       "dtype: int64"
      ]
     },
     "execution_count": 28,
     "metadata": {},
     "output_type": "execute_result"
    }
   ],
   "source": [
    "# show null/NA values per column\n",
    "rent2.isnull().sum()"
   ]
  },
  {
   "cell_type": "code",
   "execution_count": 29,
   "metadata": {},
   "outputs": [],
   "source": [
    "#find non numeric values in the column metros\n",
    "rent2['metros'] = pd.to_numeric(rent2['metros'], errors='coerce')"
   ]
  },
  {
   "cell_type": "code",
   "execution_count": 30,
   "metadata": {},
   "outputs": [
    {
     "data": {
      "text/plain": [
       "indice                          0\n",
       "provincia                       0\n",
       "comunidad_autonoma              0\n",
       "direccion                       0\n",
       "precio                          0\n",
       "habitaciones                 3696\n",
       "metros                       4002\n",
       "total_inmuebles/comunidad       0\n",
       "ciudad                          0\n",
       "dtype: int64"
      ]
     },
     "execution_count": 30,
     "metadata": {},
     "output_type": "execute_result"
    }
   ],
   "source": [
    "# show null/NA values per column\n",
    "rent2.isnull().sum()"
   ]
  },
  {
   "cell_type": "code",
   "execution_count": 31,
   "metadata": {},
   "outputs": [
    {
     "name": "stdout",
     "output_type": "stream",
     "text": [
      "Int64Index([    3,    66,   103,   111,   125,   341,   408,   696,   698,\n",
      "              743,\n",
      "            ...\n",
      "            78935, 78984, 78992, 79091, 79284, 79302, 79432, 79631, 79689,\n",
      "            79707],\n",
      "           dtype='int64', length=3696)\n"
     ]
    },
    {
     "data": {
      "text/plain": [
       "3696"
      ]
     },
     "execution_count": 31,
     "metadata": {},
     "output_type": "execute_result"
    }
   ],
   "source": [
    "rent_nan4 = rent2.loc[rent2.isnull().sum(1)>1].index\n",
    "print(rent_nan4)\n",
    "rent_nan4.value_counts().sum()"
   ]
  },
  {
   "cell_type": "code",
   "execution_count": 32,
   "metadata": {},
   "outputs": [],
   "source": [
    "rent2.drop(rent_nan4, inplace=True)"
   ]
  },
  {
   "cell_type": "code",
   "execution_count": 33,
   "metadata": {},
   "outputs": [
    {
     "data": {
      "text/plain": [
       "indice                         0\n",
       "provincia                      0\n",
       "comunidad_autonoma             0\n",
       "direccion                      0\n",
       "precio                         0\n",
       "habitaciones                   0\n",
       "metros                       306\n",
       "total_inmuebles/comunidad      0\n",
       "ciudad                         0\n",
       "dtype: int64"
      ]
     },
     "execution_count": 33,
     "metadata": {},
     "output_type": "execute_result"
    }
   ],
   "source": [
    "# show null/NA values per column\n",
    "rent2.isnull().sum()"
   ]
  },
  {
   "cell_type": "code",
   "execution_count": 34,
   "metadata": {},
   "outputs": [
    {
     "data": {
      "text/html": [
       "<div>\n",
       "<style scoped>\n",
       "    .dataframe tbody tr th:only-of-type {\n",
       "        vertical-align: middle;\n",
       "    }\n",
       "\n",
       "    .dataframe tbody tr th {\n",
       "        vertical-align: top;\n",
       "    }\n",
       "\n",
       "    .dataframe thead th {\n",
       "        text-align: right;\n",
       "    }\n",
       "</style>\n",
       "<table border=\"1\" class=\"dataframe\">\n",
       "  <thead>\n",
       "    <tr style=\"text-align: right;\">\n",
       "      <th></th>\n",
       "      <th>precio</th>\n",
       "      <th>habitaciones</th>\n",
       "      <th>metros</th>\n",
       "      <th>total_inmuebles/comunidad</th>\n",
       "    </tr>\n",
       "  </thead>\n",
       "  <tbody>\n",
       "    <tr>\n",
       "      <th>precio</th>\n",
       "      <td>1.000000</td>\n",
       "      <td>0.252328</td>\n",
       "      <td>0.191173</td>\n",
       "      <td>0.119026</td>\n",
       "    </tr>\n",
       "    <tr>\n",
       "      <th>habitaciones</th>\n",
       "      <td>0.252328</td>\n",
       "      <td>1.000000</td>\n",
       "      <td>0.240437</td>\n",
       "      <td>-0.125700</td>\n",
       "    </tr>\n",
       "    <tr>\n",
       "      <th>metros</th>\n",
       "      <td>0.191173</td>\n",
       "      <td>0.240437</td>\n",
       "      <td>1.000000</td>\n",
       "      <td>-0.017772</td>\n",
       "    </tr>\n",
       "    <tr>\n",
       "      <th>total_inmuebles/comunidad</th>\n",
       "      <td>0.119026</td>\n",
       "      <td>-0.125700</td>\n",
       "      <td>-0.017772</td>\n",
       "      <td>1.000000</td>\n",
       "    </tr>\n",
       "  </tbody>\n",
       "</table>\n",
       "</div>"
      ],
      "text/plain": [
       "                             precio  habitaciones    metros  \\\n",
       "precio                     1.000000      0.252328  0.191173   \n",
       "habitaciones               0.252328      1.000000  0.240437   \n",
       "metros                     0.191173      0.240437  1.000000   \n",
       "total_inmuebles/comunidad  0.119026     -0.125700 -0.017772   \n",
       "\n",
       "                           total_inmuebles/comunidad  \n",
       "precio                                      0.119026  \n",
       "habitaciones                               -0.125700  \n",
       "metros                                     -0.017772  \n",
       "total_inmuebles/comunidad                   1.000000  "
      ]
     },
     "execution_count": 34,
     "metadata": {},
     "output_type": "execute_result"
    }
   ],
   "source": [
    "rent2[['precio','habitaciones','metros','total_inmuebles/comunidad' ]].corr()"
   ]
  },
  {
   "cell_type": "code",
   "execution_count": 35,
   "metadata": {},
   "outputs": [
    {
     "data": {
      "text/html": [
       "<div>\n",
       "<style scoped>\n",
       "    .dataframe tbody tr th:only-of-type {\n",
       "        vertical-align: middle;\n",
       "    }\n",
       "\n",
       "    .dataframe tbody tr th {\n",
       "        vertical-align: top;\n",
       "    }\n",
       "\n",
       "    .dataframe thead th {\n",
       "        text-align: right;\n",
       "    }\n",
       "</style>\n",
       "<table border=\"1\" class=\"dataframe\">\n",
       "  <thead>\n",
       "    <tr style=\"text-align: right;\">\n",
       "      <th></th>\n",
       "      <th>indice</th>\n",
       "      <th>precio</th>\n",
       "      <th>habitaciones</th>\n",
       "      <th>metros</th>\n",
       "      <th>total_inmuebles/comunidad</th>\n",
       "    </tr>\n",
       "  </thead>\n",
       "  <tbody>\n",
       "    <tr>\n",
       "      <th>count</th>\n",
       "      <td>76034.000000</td>\n",
       "      <td>76034.000000</td>\n",
       "      <td>76034.000000</td>\n",
       "      <td>75728.000000</td>\n",
       "      <td>76034.000000</td>\n",
       "    </tr>\n",
       "    <tr>\n",
       "      <th>mean</th>\n",
       "      <td>39603.852027</td>\n",
       "      <td>1279.777008</td>\n",
       "      <td>2.476129</td>\n",
       "      <td>105.740293</td>\n",
       "      <td>6145.926638</td>\n",
       "    </tr>\n",
       "    <tr>\n",
       "      <th>std</th>\n",
       "      <td>23248.750345</td>\n",
       "      <td>1694.785492</td>\n",
       "      <td>1.417906</td>\n",
       "      <td>197.879154</td>\n",
       "      <td>6367.652060</td>\n",
       "    </tr>\n",
       "    <tr>\n",
       "      <th>min</th>\n",
       "      <td>1.000000</td>\n",
       "      <td>0.000000</td>\n",
       "      <td>0.000000</td>\n",
       "      <td>1.000000</td>\n",
       "      <td>0.000000</td>\n",
       "    </tr>\n",
       "    <tr>\n",
       "      <th>25%</th>\n",
       "      <td>19310.250000</td>\n",
       "      <td>650.000000</td>\n",
       "      <td>2.000000</td>\n",
       "      <td>65.000000</td>\n",
       "      <td>1345.000000</td>\n",
       "    </tr>\n",
       "    <tr>\n",
       "      <th>50%</th>\n",
       "      <td>38980.500000</td>\n",
       "      <td>900.000000</td>\n",
       "      <td>2.000000</td>\n",
       "      <td>84.000000</td>\n",
       "      <td>3115.000000</td>\n",
       "    </tr>\n",
       "    <tr>\n",
       "      <th>75%</th>\n",
       "      <td>60068.750000</td>\n",
       "      <td>1400.000000</td>\n",
       "      <td>3.000000</td>\n",
       "      <td>114.000000</td>\n",
       "      <td>9455.000000</td>\n",
       "    </tr>\n",
       "    <tr>\n",
       "      <th>max</th>\n",
       "      <td>79748.000000</td>\n",
       "      <td>100000.000000</td>\n",
       "      <td>230.000000</td>\n",
       "      <td>50000.000000</td>\n",
       "      <td>17589.000000</td>\n",
       "    </tr>\n",
       "  </tbody>\n",
       "</table>\n",
       "</div>"
      ],
      "text/plain": [
       "             indice         precio  habitaciones        metros  \\\n",
       "count  76034.000000   76034.000000  76034.000000  75728.000000   \n",
       "mean   39603.852027    1279.777008      2.476129    105.740293   \n",
       "std    23248.750345    1694.785492      1.417906    197.879154   \n",
       "min        1.000000       0.000000      0.000000      1.000000   \n",
       "25%    19310.250000     650.000000      2.000000     65.000000   \n",
       "50%    38980.500000     900.000000      2.000000     84.000000   \n",
       "75%    60068.750000    1400.000000      3.000000    114.000000   \n",
       "max    79748.000000  100000.000000    230.000000  50000.000000   \n",
       "\n",
       "       total_inmuebles/comunidad  \n",
       "count               76034.000000  \n",
       "mean                 6145.926638  \n",
       "std                  6367.652060  \n",
       "min                     0.000000  \n",
       "25%                  1345.000000  \n",
       "50%                  3115.000000  \n",
       "75%                  9455.000000  \n",
       "max                 17589.000000  "
      ]
     },
     "execution_count": 35,
     "metadata": {},
     "output_type": "execute_result"
    }
   ],
   "source": [
    "rent2.describe()"
   ]
  },
  {
   "cell_type": "code",
   "execution_count": 36,
   "metadata": {},
   "outputs": [
    {
     "data": {
      "text/html": [
       "<div>\n",
       "<style scoped>\n",
       "    .dataframe tbody tr th:only-of-type {\n",
       "        vertical-align: middle;\n",
       "    }\n",
       "\n",
       "    .dataframe tbody tr th {\n",
       "        vertical-align: top;\n",
       "    }\n",
       "\n",
       "    .dataframe thead th {\n",
       "        text-align: right;\n",
       "    }\n",
       "</style>\n",
       "<table border=\"1\" class=\"dataframe\">\n",
       "  <thead>\n",
       "    <tr style=\"text-align: right;\">\n",
       "      <th></th>\n",
       "      <th>indice</th>\n",
       "      <th>provincia</th>\n",
       "      <th>comunidad_autonoma</th>\n",
       "      <th>direccion</th>\n",
       "      <th>precio</th>\n",
       "      <th>habitaciones</th>\n",
       "      <th>metros</th>\n",
       "      <th>total_inmuebles/comunidad</th>\n",
       "      <th>ciudad</th>\n",
       "    </tr>\n",
       "  </thead>\n",
       "  <tbody>\n",
       "    <tr>\n",
       "      <th>34358</th>\n",
       "      <td>34358</td>\n",
       "      <td>Huesca</td>\n",
       "      <td>Aragon</td>\n",
       "      <td>Piso en calle de Francia, 12, Sallent de Gallego</td>\n",
       "      <td>0.0</td>\n",
       "      <td>4.0</td>\n",
       "      <td>122.0</td>\n",
       "      <td>260</td>\n",
       "      <td>Sallent de Gallego</td>\n",
       "    </tr>\n",
       "    <tr>\n",
       "      <th>34361</th>\n",
       "      <td>34361</td>\n",
       "      <td>Huesca</td>\n",
       "      <td>Aragon</td>\n",
       "      <td>Dúplex en Urbanización Espata R5, 13, Villanúa</td>\n",
       "      <td>0.0</td>\n",
       "      <td>2.0</td>\n",
       "      <td>57.0</td>\n",
       "      <td>4444</td>\n",
       "      <td>Villanúa</td>\n",
       "    </tr>\n",
       "  </tbody>\n",
       "</table>\n",
       "</div>"
      ],
      "text/plain": [
       "       indice provincia comunidad_autonoma  \\\n",
       "34358   34358    Huesca             Aragon   \n",
       "34361   34361    Huesca             Aragon   \n",
       "\n",
       "                                              direccion  precio  habitaciones  \\\n",
       "34358  Piso en calle de Francia, 12, Sallent de Gallego     0.0           4.0   \n",
       "34361    Dúplex en Urbanización Espata R5, 13, Villanúa     0.0           2.0   \n",
       "\n",
       "       metros  total_inmuebles/comunidad               ciudad  \n",
       "34358   122.0                        260   Sallent de Gallego  \n",
       "34361    57.0                       4444             Villanúa  "
      ]
     },
     "execution_count": 36,
     "metadata": {},
     "output_type": "execute_result"
    }
   ],
   "source": [
    "#finding outliers from precio. A rent can not be for free but we can have a price of 100.000 euros\n",
    "precio_out = rent2[rent2['precio'] <= np.quantile(rent2['precio'], 0.00001)]\n",
    "precio_out"
   ]
  },
  {
   "cell_type": "code",
   "execution_count": 37,
   "metadata": {},
   "outputs": [],
   "source": [
    "rent2.drop([34358], inplace= True)\n",
    "rent2.drop([34361], inplace= True)"
   ]
  },
  {
   "cell_type": "code",
   "execution_count": 38,
   "metadata": {},
   "outputs": [
    {
     "data": {
      "text/html": [
       "<div>\n",
       "<style scoped>\n",
       "    .dataframe tbody tr th:only-of-type {\n",
       "        vertical-align: middle;\n",
       "    }\n",
       "\n",
       "    .dataframe tbody tr th {\n",
       "        vertical-align: top;\n",
       "    }\n",
       "\n",
       "    .dataframe thead th {\n",
       "        text-align: right;\n",
       "    }\n",
       "</style>\n",
       "<table border=\"1\" class=\"dataframe\">\n",
       "  <thead>\n",
       "    <tr style=\"text-align: right;\">\n",
       "      <th></th>\n",
       "      <th>indice</th>\n",
       "      <th>provincia</th>\n",
       "      <th>comunidad_autonoma</th>\n",
       "      <th>direccion</th>\n",
       "      <th>precio</th>\n",
       "      <th>habitaciones</th>\n",
       "      <th>metros</th>\n",
       "      <th>total_inmuebles/comunidad</th>\n",
       "      <th>ciudad</th>\n",
       "    </tr>\n",
       "  </thead>\n",
       "  <tbody>\n",
       "    <tr>\n",
       "      <th>34352</th>\n",
       "      <td>34352</td>\n",
       "      <td>Huesca</td>\n",
       "      <td>Aragon</td>\n",
       "      <td>Piso en calle Escuelas, 10, Biscarrués</td>\n",
       "      <td>350.0</td>\n",
       "      <td>0.0</td>\n",
       "      <td>50000.0</td>\n",
       "      <td>260</td>\n",
       "      <td>Biscarrués</td>\n",
       "    </tr>\n",
       "    <tr>\n",
       "      <th>34360</th>\n",
       "      <td>34360</td>\n",
       "      <td>Huesca</td>\n",
       "      <td>Aragon</td>\n",
       "      <td>Casa de pueblo en calle Escuelas, 7, Biscarrués</td>\n",
       "      <td>350.0</td>\n",
       "      <td>0.0</td>\n",
       "      <td>100.0</td>\n",
       "      <td>260</td>\n",
       "      <td>Biscarrués</td>\n",
       "    </tr>\n",
       "    <tr>\n",
       "      <th>34384</th>\n",
       "      <td>34384</td>\n",
       "      <td>Huesca</td>\n",
       "      <td>Aragon</td>\n",
       "      <td>Piso en Santiago, Huesca</td>\n",
       "      <td>680.0</td>\n",
       "      <td>0.0</td>\n",
       "      <td>100.0</td>\n",
       "      <td>260</td>\n",
       "      <td>Huesca</td>\n",
       "    </tr>\n",
       "  </tbody>\n",
       "</table>\n",
       "</div>"
      ],
      "text/plain": [
       "       indice provincia comunidad_autonoma  \\\n",
       "34352   34352    Huesca             Aragon   \n",
       "34360   34360    Huesca             Aragon   \n",
       "34384   34384    Huesca             Aragon   \n",
       "\n",
       "                                             direccion  precio  habitaciones  \\\n",
       "34352           Piso en calle Escuelas, 10, Biscarrués   350.0           0.0   \n",
       "34360  Casa de pueblo en calle Escuelas, 7, Biscarrués   350.0           0.0   \n",
       "34384                         Piso en Santiago, Huesca   680.0           0.0   \n",
       "\n",
       "        metros  total_inmuebles/comunidad       ciudad  \n",
       "34352  50000.0                        260   Biscarrués  \n",
       "34360    100.0                        260   Biscarrués  \n",
       "34384    100.0                        260       Huesca  "
      ]
     },
     "execution_count": 38,
     "metadata": {},
     "output_type": "execute_result"
    }
   ],
   "source": [
    "habitaciones_out = rent2[rent2['habitaciones'] <= np.quantile(rent2['habitaciones'], 0.00001)]\n",
    "habitaciones_out"
   ]
  },
  {
   "cell_type": "code",
   "execution_count": 39,
   "metadata": {},
   "outputs": [],
   "source": [
    "rent2.drop([34352], inplace= True)\n",
    "rent2.drop([34360], inplace= True)\n",
    "rent2.drop([34384], inplace= True)"
   ]
  },
  {
   "cell_type": "code",
   "execution_count": 40,
   "metadata": {},
   "outputs": [
    {
     "data": {
      "text/html": [
       "<div>\n",
       "<style scoped>\n",
       "    .dataframe tbody tr th:only-of-type {\n",
       "        vertical-align: middle;\n",
       "    }\n",
       "\n",
       "    .dataframe tbody tr th {\n",
       "        vertical-align: top;\n",
       "    }\n",
       "\n",
       "    .dataframe thead th {\n",
       "        text-align: right;\n",
       "    }\n",
       "</style>\n",
       "<table border=\"1\" class=\"dataframe\">\n",
       "  <thead>\n",
       "    <tr style=\"text-align: right;\">\n",
       "      <th></th>\n",
       "      <th>precio</th>\n",
       "      <th>habitaciones</th>\n",
       "      <th>metros</th>\n",
       "      <th>total_inmuebles/comunidad</th>\n",
       "    </tr>\n",
       "  </thead>\n",
       "  <tbody>\n",
       "    <tr>\n",
       "      <th>precio</th>\n",
       "      <td>1.000000</td>\n",
       "      <td>0.252322</td>\n",
       "      <td>0.481836</td>\n",
       "      <td>0.119000</td>\n",
       "    </tr>\n",
       "    <tr>\n",
       "      <th>habitaciones</th>\n",
       "      <td>0.252322</td>\n",
       "      <td>1.000000</td>\n",
       "      <td>0.618232</td>\n",
       "      <td>-0.125763</td>\n",
       "    </tr>\n",
       "    <tr>\n",
       "      <th>metros</th>\n",
       "      <td>0.481836</td>\n",
       "      <td>0.618232</td>\n",
       "      <td>1.000000</td>\n",
       "      <td>-0.036710</td>\n",
       "    </tr>\n",
       "    <tr>\n",
       "      <th>total_inmuebles/comunidad</th>\n",
       "      <td>0.119000</td>\n",
       "      <td>-0.125763</td>\n",
       "      <td>-0.036710</td>\n",
       "      <td>1.000000</td>\n",
       "    </tr>\n",
       "  </tbody>\n",
       "</table>\n",
       "</div>"
      ],
      "text/plain": [
       "                             precio  habitaciones    metros  \\\n",
       "precio                     1.000000      0.252322  0.481836   \n",
       "habitaciones               0.252322      1.000000  0.618232   \n",
       "metros                     0.481836      0.618232  1.000000   \n",
       "total_inmuebles/comunidad  0.119000     -0.125763 -0.036710   \n",
       "\n",
       "                           total_inmuebles/comunidad  \n",
       "precio                                      0.119000  \n",
       "habitaciones                               -0.125763  \n",
       "metros                                     -0.036710  \n",
       "total_inmuebles/comunidad                   1.000000  "
      ]
     },
     "execution_count": 40,
     "metadata": {},
     "output_type": "execute_result"
    }
   ],
   "source": [
    "rent2[['precio','habitaciones','metros','total_inmuebles/comunidad']].corr()"
   ]
  },
  {
   "cell_type": "code",
   "execution_count": 41,
   "metadata": {},
   "outputs": [
    {
     "data": {
      "text/html": [
       "<div>\n",
       "<style scoped>\n",
       "    .dataframe tbody tr th:only-of-type {\n",
       "        vertical-align: middle;\n",
       "    }\n",
       "\n",
       "    .dataframe tbody tr th {\n",
       "        vertical-align: top;\n",
       "    }\n",
       "\n",
       "    .dataframe thead th {\n",
       "        text-align: right;\n",
       "    }\n",
       "</style>\n",
       "<table border=\"1\" class=\"dataframe\">\n",
       "  <thead>\n",
       "    <tr style=\"text-align: right;\">\n",
       "      <th></th>\n",
       "      <th>indice</th>\n",
       "      <th>provincia</th>\n",
       "      <th>comunidad_autonoma</th>\n",
       "      <th>direccion</th>\n",
       "      <th>precio</th>\n",
       "      <th>habitaciones</th>\n",
       "      <th>metros</th>\n",
       "      <th>total_inmuebles/comunidad</th>\n",
       "      <th>ciudad</th>\n",
       "    </tr>\n",
       "  </thead>\n",
       "  <tbody>\n",
       "    <tr>\n",
       "      <th>34354</th>\n",
       "      <td>34354</td>\n",
       "      <td>Huesca</td>\n",
       "      <td>Aragon</td>\n",
       "      <td>Piso en carretera Pamplona, 2, Puente la Reina...</td>\n",
       "      <td>360.0</td>\n",
       "      <td>2.0</td>\n",
       "      <td>65.0</td>\n",
       "      <td>0</td>\n",
       "      <td>Puente la Reina de Jaca</td>\n",
       "    </tr>\n",
       "  </tbody>\n",
       "</table>\n",
       "</div>"
      ],
      "text/plain": [
       "       indice provincia comunidad_autonoma  \\\n",
       "34354   34354    Huesca             Aragon   \n",
       "\n",
       "                                               direccion  precio  \\\n",
       "34354  Piso en carretera Pamplona, 2, Puente la Reina...   360.0   \n",
       "\n",
       "       habitaciones  metros  total_inmuebles/comunidad  \\\n",
       "34354           2.0    65.0                          0   \n",
       "\n",
       "                         ciudad  \n",
       "34354   Puente la Reina de Jaca  "
      ]
     },
     "execution_count": 41,
     "metadata": {},
     "output_type": "execute_result"
    }
   ],
   "source": [
    "totalinm_out = rent2[rent2['total_inmuebles/comunidad'] <= np.quantile(rent2['total_inmuebles/comunidad'], 0.00001)]\n",
    "totalinm_out"
   ]
  },
  {
   "cell_type": "code",
   "execution_count": 42,
   "metadata": {},
   "outputs": [],
   "source": [
    "rent2.drop([34354], inplace= True)"
   ]
  },
  {
   "cell_type": "code",
   "execution_count": 43,
   "metadata": {},
   "outputs": [
    {
     "data": {
      "text/html": [
       "<div>\n",
       "<style scoped>\n",
       "    .dataframe tbody tr th:only-of-type {\n",
       "        vertical-align: middle;\n",
       "    }\n",
       "\n",
       "    .dataframe tbody tr th {\n",
       "        vertical-align: top;\n",
       "    }\n",
       "\n",
       "    .dataframe thead th {\n",
       "        text-align: right;\n",
       "    }\n",
       "</style>\n",
       "<table border=\"1\" class=\"dataframe\">\n",
       "  <thead>\n",
       "    <tr style=\"text-align: right;\">\n",
       "      <th></th>\n",
       "      <th>precio</th>\n",
       "      <th>habitaciones</th>\n",
       "      <th>metros</th>\n",
       "      <th>total_inmuebles/comunidad</th>\n",
       "    </tr>\n",
       "  </thead>\n",
       "  <tbody>\n",
       "    <tr>\n",
       "      <th>precio</th>\n",
       "      <td>1.000000</td>\n",
       "      <td>0.252321</td>\n",
       "      <td>0.481834</td>\n",
       "      <td>0.118994</td>\n",
       "    </tr>\n",
       "    <tr>\n",
       "      <th>habitaciones</th>\n",
       "      <td>0.252321</td>\n",
       "      <td>1.000000</td>\n",
       "      <td>0.618231</td>\n",
       "      <td>-0.125769</td>\n",
       "    </tr>\n",
       "    <tr>\n",
       "      <th>metros</th>\n",
       "      <td>0.481834</td>\n",
       "      <td>0.618231</td>\n",
       "      <td>1.000000</td>\n",
       "      <td>-0.036717</td>\n",
       "    </tr>\n",
       "    <tr>\n",
       "      <th>total_inmuebles/comunidad</th>\n",
       "      <td>0.118994</td>\n",
       "      <td>-0.125769</td>\n",
       "      <td>-0.036717</td>\n",
       "      <td>1.000000</td>\n",
       "    </tr>\n",
       "  </tbody>\n",
       "</table>\n",
       "</div>"
      ],
      "text/plain": [
       "                             precio  habitaciones    metros  \\\n",
       "precio                     1.000000      0.252321  0.481834   \n",
       "habitaciones               0.252321      1.000000  0.618231   \n",
       "metros                     0.481834      0.618231  1.000000   \n",
       "total_inmuebles/comunidad  0.118994     -0.125769 -0.036717   \n",
       "\n",
       "                           total_inmuebles/comunidad  \n",
       "precio                                      0.118994  \n",
       "habitaciones                               -0.125769  \n",
       "metros                                     -0.036717  \n",
       "total_inmuebles/comunidad                   1.000000  "
      ]
     },
     "execution_count": 43,
     "metadata": {},
     "output_type": "execute_result"
    }
   ],
   "source": [
    "rent2[['precio','habitaciones','metros','total_inmuebles/comunidad']].corr()"
   ]
  },
  {
   "cell_type": "code",
   "execution_count": 44,
   "metadata": {},
   "outputs": [
    {
     "data": {
      "text/html": [
       "<div>\n",
       "<style scoped>\n",
       "    .dataframe tbody tr th:only-of-type {\n",
       "        vertical-align: middle;\n",
       "    }\n",
       "\n",
       "    .dataframe tbody tr th {\n",
       "        vertical-align: top;\n",
       "    }\n",
       "\n",
       "    .dataframe thead th {\n",
       "        text-align: right;\n",
       "    }\n",
       "</style>\n",
       "<table border=\"1\" class=\"dataframe\">\n",
       "  <thead>\n",
       "    <tr style=\"text-align: right;\">\n",
       "      <th></th>\n",
       "      <th>indice</th>\n",
       "      <th>provincia</th>\n",
       "      <th>comunidad_autonoma</th>\n",
       "      <th>direccion</th>\n",
       "      <th>precio</th>\n",
       "      <th>habitaciones</th>\n",
       "      <th>metros</th>\n",
       "      <th>total_inmuebles/comunidad</th>\n",
       "      <th>ciudad</th>\n",
       "    </tr>\n",
       "  </thead>\n",
       "  <tbody>\n",
       "    <tr>\n",
       "      <th>34351</th>\n",
       "      <td>34351</td>\n",
       "      <td>Huesca</td>\n",
       "      <td>Aragon</td>\n",
       "      <td>Estudio en calle Barranco, 10, Graus</td>\n",
       "      <td>350.0</td>\n",
       "      <td>230.0</td>\n",
       "      <td>NaN</td>\n",
       "      <td>260</td>\n",
       "      <td>Graus</td>\n",
       "    </tr>\n",
       "  </tbody>\n",
       "</table>\n",
       "</div>"
      ],
      "text/plain": [
       "       indice provincia comunidad_autonoma  \\\n",
       "34351   34351    Huesca             Aragon   \n",
       "\n",
       "                                  direccion  precio  habitaciones  metros  \\\n",
       "34351  Estudio en calle Barranco, 10, Graus   350.0         230.0     NaN   \n",
       "\n",
       "       total_inmuebles/comunidad  ciudad  \n",
       "34351                        260   Graus  "
      ]
     },
     "execution_count": 44,
     "metadata": {},
     "output_type": "execute_result"
    }
   ],
   "source": [
    "habitaciones_max = rent2[rent2['habitaciones'] >= np.quantile(rent2['habitaciones'], 0.99999)]\n",
    "habitaciones_max"
   ]
  },
  {
   "cell_type": "code",
   "execution_count": 45,
   "metadata": {},
   "outputs": [],
   "source": [
    "rent2.drop([34351], inplace= True)"
   ]
  },
  {
   "cell_type": "code",
   "execution_count": 46,
   "metadata": {},
   "outputs": [
    {
     "data": {
      "text/html": [
       "<div>\n",
       "<style scoped>\n",
       "    .dataframe tbody tr th:only-of-type {\n",
       "        vertical-align: middle;\n",
       "    }\n",
       "\n",
       "    .dataframe tbody tr th {\n",
       "        vertical-align: top;\n",
       "    }\n",
       "\n",
       "    .dataframe thead th {\n",
       "        text-align: right;\n",
       "    }\n",
       "</style>\n",
       "<table border=\"1\" class=\"dataframe\">\n",
       "  <thead>\n",
       "    <tr style=\"text-align: right;\">\n",
       "      <th></th>\n",
       "      <th>precio</th>\n",
       "      <th>habitaciones</th>\n",
       "      <th>metros</th>\n",
       "      <th>total_inmuebles/comunidad</th>\n",
       "    </tr>\n",
       "  </thead>\n",
       "  <tbody>\n",
       "    <tr>\n",
       "      <th>precio</th>\n",
       "      <td>1.000000</td>\n",
       "      <td>0.311706</td>\n",
       "      <td>0.481834</td>\n",
       "      <td>0.118989</td>\n",
       "    </tr>\n",
       "    <tr>\n",
       "      <th>habitaciones</th>\n",
       "      <td>0.311706</td>\n",
       "      <td>1.000000</td>\n",
       "      <td>0.618231</td>\n",
       "      <td>-0.152260</td>\n",
       "    </tr>\n",
       "    <tr>\n",
       "      <th>metros</th>\n",
       "      <td>0.481834</td>\n",
       "      <td>0.618231</td>\n",
       "      <td>1.000000</td>\n",
       "      <td>-0.036717</td>\n",
       "    </tr>\n",
       "    <tr>\n",
       "      <th>total_inmuebles/comunidad</th>\n",
       "      <td>0.118989</td>\n",
       "      <td>-0.152260</td>\n",
       "      <td>-0.036717</td>\n",
       "      <td>1.000000</td>\n",
       "    </tr>\n",
       "  </tbody>\n",
       "</table>\n",
       "</div>"
      ],
      "text/plain": [
       "                             precio  habitaciones    metros  \\\n",
       "precio                     1.000000      0.311706  0.481834   \n",
       "habitaciones               0.311706      1.000000  0.618231   \n",
       "metros                     0.481834      0.618231  1.000000   \n",
       "total_inmuebles/comunidad  0.118989     -0.152260 -0.036717   \n",
       "\n",
       "                           total_inmuebles/comunidad  \n",
       "precio                                      0.118989  \n",
       "habitaciones                               -0.152260  \n",
       "metros                                     -0.036717  \n",
       "total_inmuebles/comunidad                   1.000000  "
      ]
     },
     "execution_count": 46,
     "metadata": {},
     "output_type": "execute_result"
    }
   ],
   "source": [
    "rent2[['precio','habitaciones','metros','total_inmuebles/comunidad']].corr()"
   ]
  },
  {
   "cell_type": "code",
   "execution_count": 47,
   "metadata": {},
   "outputs": [
    {
     "data": {
      "text/plain": [
       "indice                         0\n",
       "provincia                      0\n",
       "comunidad_autonoma             0\n",
       "direccion                      0\n",
       "precio                         0\n",
       "habitaciones                   0\n",
       "metros                       305\n",
       "total_inmuebles/comunidad      0\n",
       "ciudad                         0\n",
       "dtype: int64"
      ]
     },
     "execution_count": 47,
     "metadata": {},
     "output_type": "execute_result"
    }
   ],
   "source": [
    "rent2.isnull().sum()"
   ]
  },
  {
   "cell_type": "code",
   "execution_count": 48,
   "metadata": {},
   "outputs": [
    {
     "name": "stdout",
     "output_type": "stream",
     "text": [
      "Int64Index([  540,  1500,  1503,  1723,  1753,  2104,  3540,  9408, 10926,\n",
      "            11280,\n",
      "            ...\n",
      "            67985, 71312, 71356, 72438, 72751, 72890, 73165, 73931, 77233,\n",
      "            79482],\n",
      "           dtype='int64', length=305)\n"
     ]
    },
    {
     "data": {
      "text/plain": [
       "305"
      ]
     },
     "execution_count": 48,
     "metadata": {},
     "output_type": "execute_result"
    }
   ],
   "source": [
    "rent_nan5 = rent2.loc[rent2.isnull().sum(1)>0].index\n",
    "print(rent_nan5)\n",
    "rent_nan5.value_counts().sum()"
   ]
  },
  {
   "cell_type": "code",
   "execution_count": 49,
   "metadata": {},
   "outputs": [],
   "source": [
    "rent2.drop(rent_nan5, inplace=True)"
   ]
  },
  {
   "cell_type": "code",
   "execution_count": 50,
   "metadata": {},
   "outputs": [
    {
     "data": {
      "text/plain": [
       "indice                       0\n",
       "provincia                    0\n",
       "comunidad_autonoma           0\n",
       "direccion                    0\n",
       "precio                       0\n",
       "habitaciones                 0\n",
       "metros                       0\n",
       "total_inmuebles/comunidad    0\n",
       "ciudad                       0\n",
       "dtype: int64"
      ]
     },
     "execution_count": 50,
     "metadata": {},
     "output_type": "execute_result"
    }
   ],
   "source": [
    "rent2.isnull().sum()"
   ]
  },
  {
   "cell_type": "code",
   "execution_count": 51,
   "metadata": {},
   "outputs": [
    {
     "data": {
      "text/html": [
       "<div>\n",
       "<style scoped>\n",
       "    .dataframe tbody tr th:only-of-type {\n",
       "        vertical-align: middle;\n",
       "    }\n",
       "\n",
       "    .dataframe tbody tr th {\n",
       "        vertical-align: top;\n",
       "    }\n",
       "\n",
       "    .dataframe thead th {\n",
       "        text-align: right;\n",
       "    }\n",
       "</style>\n",
       "<table border=\"1\" class=\"dataframe\">\n",
       "  <thead>\n",
       "    <tr style=\"text-align: right;\">\n",
       "      <th></th>\n",
       "      <th>indice</th>\n",
       "      <th>provincia</th>\n",
       "      <th>comunidad_autonoma</th>\n",
       "      <th>direccion</th>\n",
       "      <th>precio</th>\n",
       "      <th>habitaciones</th>\n",
       "      <th>metros</th>\n",
       "      <th>total_inmuebles/comunidad</th>\n",
       "      <th>ciudad</th>\n",
       "    </tr>\n",
       "  </thead>\n",
       "  <tbody>\n",
       "    <tr>\n",
       "      <th>1</th>\n",
       "      <td>1</td>\n",
       "      <td>La Coruña</td>\n",
       "      <td>Galicia</td>\n",
       "      <td>Chalet pareado en A Zapateira, Culleredo</td>\n",
       "      <td>1100.0</td>\n",
       "      <td>4.0</td>\n",
       "      <td>243.0</td>\n",
       "      <td>1751</td>\n",
       "      <td>Culleredo</td>\n",
       "    </tr>\n",
       "    <tr>\n",
       "      <th>2</th>\n",
       "      <td>2</td>\n",
       "      <td>La Coruña</td>\n",
       "      <td>Galicia</td>\n",
       "      <td>Chalet pareado en Elviña - A Zapateira, A Coruña</td>\n",
       "      <td>1100.0</td>\n",
       "      <td>4.0</td>\n",
       "      <td>243.0</td>\n",
       "      <td>1751</td>\n",
       "      <td>A Coruña</td>\n",
       "    </tr>\n",
       "    <tr>\n",
       "      <th>4</th>\n",
       "      <td>4</td>\n",
       "      <td>La Coruña</td>\n",
       "      <td>Galicia</td>\n",
       "      <td>Piso en calle de Fernando III o Santo, 9, Ensa...</td>\n",
       "      <td>1000.0</td>\n",
       "      <td>4.0</td>\n",
       "      <td>100.0</td>\n",
       "      <td>1751</td>\n",
       "      <td>Santiago de Compostela</td>\n",
       "    </tr>\n",
       "    <tr>\n",
       "      <th>5</th>\n",
       "      <td>5</td>\n",
       "      <td>La Coruña</td>\n",
       "      <td>Galicia</td>\n",
       "      <td>Piso en calle Manuel Jesús Méndez Búa, s/n, Ca...</td>\n",
       "      <td>450.0</td>\n",
       "      <td>2.0</td>\n",
       "      <td>76.0</td>\n",
       "      <td>1751</td>\n",
       "      <td>Carral</td>\n",
       "    </tr>\n",
       "    <tr>\n",
       "      <th>6</th>\n",
       "      <td>6</td>\n",
       "      <td>La Coruña</td>\n",
       "      <td>Galicia</td>\n",
       "      <td>Piso en Os Mallos, A Coruña</td>\n",
       "      <td>800.0</td>\n",
       "      <td>4.0</td>\n",
       "      <td>100.0</td>\n",
       "      <td>1751</td>\n",
       "      <td>A Coruña</td>\n",
       "    </tr>\n",
       "    <tr>\n",
       "      <th>...</th>\n",
       "      <td>...</td>\n",
       "      <td>...</td>\n",
       "      <td>...</td>\n",
       "      <td>...</td>\n",
       "      <td>...</td>\n",
       "      <td>...</td>\n",
       "      <td>...</td>\n",
       "      <td>...</td>\n",
       "      <td>...</td>\n",
       "    </tr>\n",
       "    <tr>\n",
       "      <th>79744</th>\n",
       "      <td>79744</td>\n",
       "      <td>Zaragoza</td>\n",
       "      <td>Aragon</td>\n",
       "      <td>Piso en avenida De San Jose, 15, La Granja, Za...</td>\n",
       "      <td>890.0</td>\n",
       "      <td>3.0</td>\n",
       "      <td>90.0</td>\n",
       "      <td>1277</td>\n",
       "      <td>Zaragoza</td>\n",
       "    </tr>\n",
       "    <tr>\n",
       "      <th>79745</th>\n",
       "      <td>79745</td>\n",
       "      <td>Zaragoza</td>\n",
       "      <td>Aragon</td>\n",
       "      <td>Piso en calle Del parque, 40, Pinares de Venec...</td>\n",
       "      <td>550.0</td>\n",
       "      <td>2.0</td>\n",
       "      <td>70.0</td>\n",
       "      <td>1277</td>\n",
       "      <td>Zaragoza</td>\n",
       "    </tr>\n",
       "    <tr>\n",
       "      <th>79746</th>\n",
       "      <td>79746</td>\n",
       "      <td>Zaragoza</td>\n",
       "      <td>Aragon</td>\n",
       "      <td>Piso en callejón del Perro, 14, La Magdalena, ...</td>\n",
       "      <td>680.0</td>\n",
       "      <td>2.0</td>\n",
       "      <td>45.0</td>\n",
       "      <td>1277</td>\n",
       "      <td>Zaragoza</td>\n",
       "    </tr>\n",
       "    <tr>\n",
       "      <th>79747</th>\n",
       "      <td>79747</td>\n",
       "      <td>Zaragoza</td>\n",
       "      <td>Aragon</td>\n",
       "      <td>Piso en calle Almagro, 10, Doctor Cerrada, Zar...</td>\n",
       "      <td>600.0</td>\n",
       "      <td>1.0</td>\n",
       "      <td>55.0</td>\n",
       "      <td>1277</td>\n",
       "      <td>Zaragoza</td>\n",
       "    </tr>\n",
       "    <tr>\n",
       "      <th>79748</th>\n",
       "      <td>79748</td>\n",
       "      <td>Zaragoza</td>\n",
       "      <td>Aragon</td>\n",
       "      <td>Piso en calle MARQUÉS DE AHUMADA, 15, San José...</td>\n",
       "      <td>750.0</td>\n",
       "      <td>3.0</td>\n",
       "      <td>82.0</td>\n",
       "      <td>1277</td>\n",
       "      <td>Zaragoza</td>\n",
       "    </tr>\n",
       "  </tbody>\n",
       "</table>\n",
       "<p>75487 rows × 9 columns</p>\n",
       "</div>"
      ],
      "text/plain": [
       "       indice  provincia comunidad_autonoma  \\\n",
       "1           1  La Coruña            Galicia   \n",
       "2           2  La Coruña            Galicia   \n",
       "4           4  La Coruña            Galicia   \n",
       "5           5  La Coruña            Galicia   \n",
       "6           6  La Coruña            Galicia   \n",
       "...       ...        ...                ...   \n",
       "79744   79744   Zaragoza             Aragon   \n",
       "79745   79745   Zaragoza             Aragon   \n",
       "79746   79746   Zaragoza             Aragon   \n",
       "79747   79747   Zaragoza             Aragon   \n",
       "79748   79748   Zaragoza             Aragon   \n",
       "\n",
       "                                               direccion  precio  \\\n",
       "1               Chalet pareado en A Zapateira, Culleredo  1100.0   \n",
       "2       Chalet pareado en Elviña - A Zapateira, A Coruña  1100.0   \n",
       "4      Piso en calle de Fernando III o Santo, 9, Ensa...  1000.0   \n",
       "5      Piso en calle Manuel Jesús Méndez Búa, s/n, Ca...   450.0   \n",
       "6                            Piso en Os Mallos, A Coruña   800.0   \n",
       "...                                                  ...     ...   \n",
       "79744  Piso en avenida De San Jose, 15, La Granja, Za...   890.0   \n",
       "79745  Piso en calle Del parque, 40, Pinares de Venec...   550.0   \n",
       "79746  Piso en callejón del Perro, 14, La Magdalena, ...   680.0   \n",
       "79747  Piso en calle Almagro, 10, Doctor Cerrada, Zar...   600.0   \n",
       "79748  Piso en calle MARQUÉS DE AHUMADA, 15, San José...   750.0   \n",
       "\n",
       "       habitaciones  metros  total_inmuebles/comunidad  \\\n",
       "1               4.0   243.0                       1751   \n",
       "2               4.0   243.0                       1751   \n",
       "4               4.0   100.0                       1751   \n",
       "5               2.0    76.0                       1751   \n",
       "6               4.0   100.0                       1751   \n",
       "...             ...     ...                        ...   \n",
       "79744           3.0    90.0                       1277   \n",
       "79745           2.0    70.0                       1277   \n",
       "79746           2.0    45.0                       1277   \n",
       "79747           1.0    55.0                       1277   \n",
       "79748           3.0    82.0                       1277   \n",
       "\n",
       "                        ciudad  \n",
       "1                    Culleredo  \n",
       "2                     A Coruña  \n",
       "4       Santiago de Compostela  \n",
       "5                       Carral  \n",
       "6                     A Coruña  \n",
       "...                        ...  \n",
       "79744                 Zaragoza  \n",
       "79745                 Zaragoza  \n",
       "79746                 Zaragoza  \n",
       "79747                 Zaragoza  \n",
       "79748                 Zaragoza  \n",
       "\n",
       "[75487 rows x 9 columns]"
      ]
     },
     "execution_count": 51,
     "metadata": {},
     "output_type": "execute_result"
    }
   ],
   "source": [
    "rent2 = rent2[rent2['metros'] > np.quantile(rent2['metros'], 0.003)]\n",
    "rent2\n"
   ]
  },
  {
   "cell_type": "code",
   "execution_count": 52,
   "metadata": {},
   "outputs": [
    {
     "data": {
      "text/html": [
       "<div>\n",
       "<style scoped>\n",
       "    .dataframe tbody tr th:only-of-type {\n",
       "        vertical-align: middle;\n",
       "    }\n",
       "\n",
       "    .dataframe tbody tr th {\n",
       "        vertical-align: top;\n",
       "    }\n",
       "\n",
       "    .dataframe thead th {\n",
       "        text-align: right;\n",
       "    }\n",
       "</style>\n",
       "<table border=\"1\" class=\"dataframe\">\n",
       "  <thead>\n",
       "    <tr style=\"text-align: right;\">\n",
       "      <th></th>\n",
       "      <th>precio</th>\n",
       "      <th>habitaciones</th>\n",
       "      <th>metros</th>\n",
       "      <th>total_inmuebles/comunidad</th>\n",
       "    </tr>\n",
       "  </thead>\n",
       "  <tbody>\n",
       "    <tr>\n",
       "      <th>precio</th>\n",
       "      <td>1.000000</td>\n",
       "      <td>0.303135</td>\n",
       "      <td>0.571388</td>\n",
       "      <td>0.140151</td>\n",
       "    </tr>\n",
       "    <tr>\n",
       "      <th>habitaciones</th>\n",
       "      <td>0.303135</td>\n",
       "      <td>1.000000</td>\n",
       "      <td>0.637304</td>\n",
       "      <td>-0.153136</td>\n",
       "    </tr>\n",
       "    <tr>\n",
       "      <th>metros</th>\n",
       "      <td>0.571388</td>\n",
       "      <td>0.637304</td>\n",
       "      <td>1.000000</td>\n",
       "      <td>-0.038102</td>\n",
       "    </tr>\n",
       "    <tr>\n",
       "      <th>total_inmuebles/comunidad</th>\n",
       "      <td>0.140151</td>\n",
       "      <td>-0.153136</td>\n",
       "      <td>-0.038102</td>\n",
       "      <td>1.000000</td>\n",
       "    </tr>\n",
       "  </tbody>\n",
       "</table>\n",
       "</div>"
      ],
      "text/plain": [
       "                             precio  habitaciones    metros  \\\n",
       "precio                     1.000000      0.303135  0.571388   \n",
       "habitaciones               0.303135      1.000000  0.637304   \n",
       "metros                     0.571388      0.637304  1.000000   \n",
       "total_inmuebles/comunidad  0.140151     -0.153136 -0.038102   \n",
       "\n",
       "                           total_inmuebles/comunidad  \n",
       "precio                                      0.140151  \n",
       "habitaciones                               -0.153136  \n",
       "metros                                     -0.038102  \n",
       "total_inmuebles/comunidad                   1.000000  "
      ]
     },
     "execution_count": 52,
     "metadata": {},
     "output_type": "execute_result"
    }
   ],
   "source": [
    "rent2[['precio','habitaciones','metros','total_inmuebles/comunidad']].corr()"
   ]
  },
  {
   "cell_type": "code",
   "execution_count": 53,
   "metadata": {},
   "outputs": [],
   "source": [
    "rent2['provincia'] = rent2['provincia'].str.lower()\n",
    "rent2['comunidad_autonoma'] = rent2['comunidad_autonoma'].str.lower()\n",
    "rent2['ciudad'] = rent2['ciudad'].str.lower()"
   ]
  },
  {
   "cell_type": "code",
   "execution_count": 54,
   "metadata": {},
   "outputs": [],
   "source": [
    "rent2.drop('direccion', axis=1, inplace= True)"
   ]
  },
  {
   "cell_type": "code",
   "execution_count": 55,
   "metadata": {},
   "outputs": [],
   "source": [
    "#Rounded the numbers by .astype as an integer\n",
    "rent2['precio'] = rent2['precio'].astype(int)\n",
    "rent2['habitaciones'] = rent2['habitaciones'].astype(int)\n",
    "rent2['metros'] = rent2['metros'].astype(int)"
   ]
  },
  {
   "cell_type": "code",
   "execution_count": 56,
   "metadata": {},
   "outputs": [
    {
     "data": {
      "text/html": [
       "<div>\n",
       "<style scoped>\n",
       "    .dataframe tbody tr th:only-of-type {\n",
       "        vertical-align: middle;\n",
       "    }\n",
       "\n",
       "    .dataframe tbody tr th {\n",
       "        vertical-align: top;\n",
       "    }\n",
       "\n",
       "    .dataframe thead th {\n",
       "        text-align: right;\n",
       "    }\n",
       "</style>\n",
       "<table border=\"1\" class=\"dataframe\">\n",
       "  <thead>\n",
       "    <tr style=\"text-align: right;\">\n",
       "      <th></th>\n",
       "      <th>precio</th>\n",
       "      <th>habitaciones</th>\n",
       "      <th>metros</th>\n",
       "      <th>total_inmuebles/comunidad</th>\n",
       "    </tr>\n",
       "  </thead>\n",
       "  <tbody>\n",
       "    <tr>\n",
       "      <th>precio</th>\n",
       "      <td>1.000000</td>\n",
       "      <td>0.303135</td>\n",
       "      <td>0.571388</td>\n",
       "      <td>0.140151</td>\n",
       "    </tr>\n",
       "    <tr>\n",
       "      <th>habitaciones</th>\n",
       "      <td>0.303135</td>\n",
       "      <td>1.000000</td>\n",
       "      <td>0.637304</td>\n",
       "      <td>-0.153136</td>\n",
       "    </tr>\n",
       "    <tr>\n",
       "      <th>metros</th>\n",
       "      <td>0.571388</td>\n",
       "      <td>0.637304</td>\n",
       "      <td>1.000000</td>\n",
       "      <td>-0.038102</td>\n",
       "    </tr>\n",
       "    <tr>\n",
       "      <th>total_inmuebles/comunidad</th>\n",
       "      <td>0.140151</td>\n",
       "      <td>-0.153136</td>\n",
       "      <td>-0.038102</td>\n",
       "      <td>1.000000</td>\n",
       "    </tr>\n",
       "  </tbody>\n",
       "</table>\n",
       "</div>"
      ],
      "text/plain": [
       "                             precio  habitaciones    metros  \\\n",
       "precio                     1.000000      0.303135  0.571388   \n",
       "habitaciones               0.303135      1.000000  0.637304   \n",
       "metros                     0.571388      0.637304  1.000000   \n",
       "total_inmuebles/comunidad  0.140151     -0.153136 -0.038102   \n",
       "\n",
       "                           total_inmuebles/comunidad  \n",
       "precio                                      0.140151  \n",
       "habitaciones                               -0.153136  \n",
       "metros                                     -0.038102  \n",
       "total_inmuebles/comunidad                   1.000000  "
      ]
     },
     "execution_count": 56,
     "metadata": {},
     "output_type": "execute_result"
    }
   ],
   "source": [
    "rent2[['precio','habitaciones','metros','total_inmuebles/comunidad']].corr()"
   ]
  },
  {
   "cell_type": "code",
   "execution_count": 57,
   "metadata": {},
   "outputs": [
    {
     "data": {
      "text/html": [
       "<div>\n",
       "<style scoped>\n",
       "    .dataframe tbody tr th:only-of-type {\n",
       "        vertical-align: middle;\n",
       "    }\n",
       "\n",
       "    .dataframe tbody tr th {\n",
       "        vertical-align: top;\n",
       "    }\n",
       "\n",
       "    .dataframe thead th {\n",
       "        text-align: right;\n",
       "    }\n",
       "</style>\n",
       "<table border=\"1\" class=\"dataframe\">\n",
       "  <thead>\n",
       "    <tr style=\"text-align: right;\">\n",
       "      <th></th>\n",
       "      <th>indice</th>\n",
       "      <th>provincia</th>\n",
       "      <th>comunidad_autonoma</th>\n",
       "      <th>precio</th>\n",
       "      <th>habitaciones</th>\n",
       "      <th>metros</th>\n",
       "      <th>total_inmuebles/comunidad</th>\n",
       "      <th>ciudad</th>\n",
       "    </tr>\n",
       "  </thead>\n",
       "  <tbody>\n",
       "    <tr>\n",
       "      <th>1</th>\n",
       "      <td>1</td>\n",
       "      <td>la coruña</td>\n",
       "      <td>galicia</td>\n",
       "      <td>1100</td>\n",
       "      <td>4</td>\n",
       "      <td>243</td>\n",
       "      <td>1751</td>\n",
       "      <td>culleredo</td>\n",
       "    </tr>\n",
       "    <tr>\n",
       "      <th>2</th>\n",
       "      <td>2</td>\n",
       "      <td>la coruña</td>\n",
       "      <td>galicia</td>\n",
       "      <td>1100</td>\n",
       "      <td>4</td>\n",
       "      <td>243</td>\n",
       "      <td>1751</td>\n",
       "      <td>a coruña</td>\n",
       "    </tr>\n",
       "    <tr>\n",
       "      <th>4</th>\n",
       "      <td>4</td>\n",
       "      <td>la coruña</td>\n",
       "      <td>galicia</td>\n",
       "      <td>1000</td>\n",
       "      <td>4</td>\n",
       "      <td>100</td>\n",
       "      <td>1751</td>\n",
       "      <td>santiago de compostela</td>\n",
       "    </tr>\n",
       "    <tr>\n",
       "      <th>5</th>\n",
       "      <td>5</td>\n",
       "      <td>la coruña</td>\n",
       "      <td>galicia</td>\n",
       "      <td>450</td>\n",
       "      <td>2</td>\n",
       "      <td>76</td>\n",
       "      <td>1751</td>\n",
       "      <td>carral</td>\n",
       "    </tr>\n",
       "    <tr>\n",
       "      <th>6</th>\n",
       "      <td>6</td>\n",
       "      <td>la coruña</td>\n",
       "      <td>galicia</td>\n",
       "      <td>800</td>\n",
       "      <td>4</td>\n",
       "      <td>100</td>\n",
       "      <td>1751</td>\n",
       "      <td>a coruña</td>\n",
       "    </tr>\n",
       "  </tbody>\n",
       "</table>\n",
       "</div>"
      ],
      "text/plain": [
       "   indice  provincia comunidad_autonoma  precio  habitaciones  metros  \\\n",
       "1       1  la coruña            galicia    1100             4     243   \n",
       "2       2  la coruña            galicia    1100             4     243   \n",
       "4       4  la coruña            galicia    1000             4     100   \n",
       "5       5  la coruña            galicia     450             2      76   \n",
       "6       6  la coruña            galicia     800             4     100   \n",
       "\n",
       "   total_inmuebles/comunidad                   ciudad  \n",
       "1                       1751                culleredo  \n",
       "2                       1751                 a coruña  \n",
       "4                       1751   santiago de compostela  \n",
       "5                       1751                   carral  \n",
       "6                       1751                 a coruña  "
      ]
     },
     "execution_count": 57,
     "metadata": {},
     "output_type": "execute_result"
    }
   ],
   "source": [
    "rent2.head()"
   ]
  },
  {
   "cell_type": "code",
   "execution_count": 58,
   "metadata": {},
   "outputs": [],
   "source": [
    "rent2.to_csv('Spanish_renting.csv')"
   ]
  },
  {
   "cell_type": "code",
   "execution_count": 74,
   "metadata": {},
   "outputs": [],
   "source": [
    "from sqlalchemy import create_engine\n",
    "user = 'root'\n",
    "host = 'localhost'\n",
    "password = 'contraseña'\n",
    "port = 3306\n",
    "database = 'project_3_Spain'\n",
    "\n"
   ]
  },
  {
   "cell_type": "code",
   "execution_count": 75,
   "metadata": {},
   "outputs": [],
   "source": [
    "my_conn = create_engine(\"mysql+pymysql://{0}:{1}@{2}:{3}/{4}\".format(\n",
    "            user, password, host, port, database\n",
    "        ))"
   ]
  },
  {
   "cell_type": "code",
   "execution_count": 76,
   "metadata": {},
   "outputs": [
    {
     "ename": "OperationalError",
     "evalue": "(pymysql.err.OperationalError) (1045, \"Access denied for user 'root'@'localhost' (using password: YES)\")\n(Background on this error at: https://sqlalche.me/e/14/e3q8)",
     "output_type": "error",
     "traceback": [
      "\u001b[0;31m---------------------------------------------------------------------------\u001b[0m",
      "\u001b[0;31mOperationalError\u001b[0m                          Traceback (most recent call last)",
      "File \u001b[0;32m~/opt/anaconda3/lib/python3.9/site-packages/sqlalchemy/engine/base.py:3256\u001b[0m, in \u001b[0;36mEngine._wrap_pool_connect\u001b[0;34m(self, fn, connection)\u001b[0m\n\u001b[1;32m   3255\u001b[0m \u001b[39mtry\u001b[39;00m:\n\u001b[0;32m-> 3256\u001b[0m     \u001b[39mreturn\u001b[39;00m fn()\n\u001b[1;32m   3257\u001b[0m \u001b[39mexcept\u001b[39;00m dialect\u001b[39m.\u001b[39mdbapi\u001b[39m.\u001b[39mError \u001b[39mas\u001b[39;00m e:\n",
      "File \u001b[0;32m~/opt/anaconda3/lib/python3.9/site-packages/sqlalchemy/pool/base.py:310\u001b[0m, in \u001b[0;36mPool.connect\u001b[0;34m(self)\u001b[0m\n\u001b[1;32m    303\u001b[0m \u001b[39m\"\"\"Return a DBAPI connection from the pool.\u001b[39;00m\n\u001b[1;32m    304\u001b[0m \n\u001b[1;32m    305\u001b[0m \u001b[39mThe connection is instrumented such that when its\u001b[39;00m\n\u001b[0;32m   (...)\u001b[0m\n\u001b[1;32m    308\u001b[0m \n\u001b[1;32m    309\u001b[0m \u001b[39m\"\"\"\u001b[39;00m\n\u001b[0;32m--> 310\u001b[0m \u001b[39mreturn\u001b[39;00m _ConnectionFairy\u001b[39m.\u001b[39;49m_checkout(\u001b[39mself\u001b[39;49m)\n",
      "File \u001b[0;32m~/opt/anaconda3/lib/python3.9/site-packages/sqlalchemy/pool/base.py:868\u001b[0m, in \u001b[0;36m_ConnectionFairy._checkout\u001b[0;34m(cls, pool, threadconns, fairy)\u001b[0m\n\u001b[1;32m    867\u001b[0m \u001b[39mif\u001b[39;00m \u001b[39mnot\u001b[39;00m fairy:\n\u001b[0;32m--> 868\u001b[0m     fairy \u001b[39m=\u001b[39m _ConnectionRecord\u001b[39m.\u001b[39;49mcheckout(pool)\n\u001b[1;32m    870\u001b[0m     fairy\u001b[39m.\u001b[39m_pool \u001b[39m=\u001b[39m pool\n",
      "File \u001b[0;32m~/opt/anaconda3/lib/python3.9/site-packages/sqlalchemy/pool/base.py:476\u001b[0m, in \u001b[0;36m_ConnectionRecord.checkout\u001b[0;34m(cls, pool)\u001b[0m\n\u001b[1;32m    474\u001b[0m \u001b[39m@classmethod\u001b[39m\n\u001b[1;32m    475\u001b[0m \u001b[39mdef\u001b[39;00m \u001b[39mcheckout\u001b[39m(\u001b[39mcls\u001b[39m, pool):\n\u001b[0;32m--> 476\u001b[0m     rec \u001b[39m=\u001b[39m pool\u001b[39m.\u001b[39;49m_do_get()\n\u001b[1;32m    477\u001b[0m     \u001b[39mtry\u001b[39;00m:\n",
      "File \u001b[0;32m~/opt/anaconda3/lib/python3.9/site-packages/sqlalchemy/pool/impl.py:146\u001b[0m, in \u001b[0;36mQueuePool._do_get\u001b[0;34m(self)\u001b[0m\n\u001b[1;32m    145\u001b[0m         \u001b[39mwith\u001b[39;00m util\u001b[39m.\u001b[39msafe_reraise():\n\u001b[0;32m--> 146\u001b[0m             \u001b[39mself\u001b[39m\u001b[39m.\u001b[39m_dec_overflow()\n\u001b[1;32m    147\u001b[0m \u001b[39melse\u001b[39;00m:\n",
      "File \u001b[0;32m~/opt/anaconda3/lib/python3.9/site-packages/sqlalchemy/util/langhelpers.py:70\u001b[0m, in \u001b[0;36msafe_reraise.__exit__\u001b[0;34m(self, type_, value, traceback)\u001b[0m\n\u001b[1;32m     69\u001b[0m     \u001b[39mif\u001b[39;00m \u001b[39mnot\u001b[39;00m \u001b[39mself\u001b[39m\u001b[39m.\u001b[39mwarn_only:\n\u001b[0;32m---> 70\u001b[0m         compat\u001b[39m.\u001b[39;49mraise_(\n\u001b[1;32m     71\u001b[0m             exc_value,\n\u001b[1;32m     72\u001b[0m             with_traceback\u001b[39m=\u001b[39;49mexc_tb,\n\u001b[1;32m     73\u001b[0m         )\n\u001b[1;32m     74\u001b[0m \u001b[39melse\u001b[39;00m:\n",
      "File \u001b[0;32m~/opt/anaconda3/lib/python3.9/site-packages/sqlalchemy/util/compat.py:207\u001b[0m, in \u001b[0;36mraise_\u001b[0;34m(***failed resolving arguments***)\u001b[0m\n\u001b[1;32m    206\u001b[0m \u001b[39mtry\u001b[39;00m:\n\u001b[0;32m--> 207\u001b[0m     \u001b[39mraise\u001b[39;00m exception\n\u001b[1;32m    208\u001b[0m \u001b[39mfinally\u001b[39;00m:\n\u001b[1;32m    209\u001b[0m     \u001b[39m# credit to\u001b[39;00m\n\u001b[1;32m    210\u001b[0m     \u001b[39m# https://cosmicpercolator.com/2016/01/13/exception-leaks-in-python-2-and-3/\u001b[39;00m\n\u001b[1;32m    211\u001b[0m     \u001b[39m# as the __traceback__ object creates a cycle\u001b[39;00m\n",
      "File \u001b[0;32m~/opt/anaconda3/lib/python3.9/site-packages/sqlalchemy/pool/impl.py:143\u001b[0m, in \u001b[0;36mQueuePool._do_get\u001b[0;34m(self)\u001b[0m\n\u001b[1;32m    142\u001b[0m \u001b[39mtry\u001b[39;00m:\n\u001b[0;32m--> 143\u001b[0m     \u001b[39mreturn\u001b[39;00m \u001b[39mself\u001b[39;49m\u001b[39m.\u001b[39;49m_create_connection()\n\u001b[1;32m    144\u001b[0m \u001b[39mexcept\u001b[39;00m:\n",
      "File \u001b[0;32m~/opt/anaconda3/lib/python3.9/site-packages/sqlalchemy/pool/base.py:256\u001b[0m, in \u001b[0;36mPool._create_connection\u001b[0;34m(self)\u001b[0m\n\u001b[1;32m    254\u001b[0m \u001b[39m\"\"\"Called by subclasses to create a new ConnectionRecord.\"\"\"\u001b[39;00m\n\u001b[0;32m--> 256\u001b[0m \u001b[39mreturn\u001b[39;00m _ConnectionRecord(\u001b[39mself\u001b[39;49m)\n",
      "File \u001b[0;32m~/opt/anaconda3/lib/python3.9/site-packages/sqlalchemy/pool/base.py:371\u001b[0m, in \u001b[0;36m_ConnectionRecord.__init__\u001b[0;34m(self, pool, connect)\u001b[0m\n\u001b[1;32m    370\u001b[0m \u001b[39mif\u001b[39;00m connect:\n\u001b[0;32m--> 371\u001b[0m     \u001b[39mself\u001b[39;49m\u001b[39m.\u001b[39;49m__connect()\n\u001b[1;32m    372\u001b[0m \u001b[39mself\u001b[39m\u001b[39m.\u001b[39mfinalize_callback \u001b[39m=\u001b[39m deque()\n",
      "File \u001b[0;32m~/opt/anaconda3/lib/python3.9/site-packages/sqlalchemy/pool/base.py:666\u001b[0m, in \u001b[0;36m_ConnectionRecord.__connect\u001b[0;34m(self)\u001b[0m\n\u001b[1;32m    665\u001b[0m     \u001b[39mwith\u001b[39;00m util\u001b[39m.\u001b[39msafe_reraise():\n\u001b[0;32m--> 666\u001b[0m         pool\u001b[39m.\u001b[39mlogger\u001b[39m.\u001b[39mdebug(\u001b[39m\"\u001b[39m\u001b[39mError on connect(): \u001b[39m\u001b[39m%s\u001b[39;00m\u001b[39m\"\u001b[39m, e)\n\u001b[1;32m    667\u001b[0m \u001b[39melse\u001b[39;00m:\n\u001b[1;32m    668\u001b[0m     \u001b[39m# in SQLAlchemy 1.4 the first_connect event is not used by\u001b[39;00m\n\u001b[1;32m    669\u001b[0m     \u001b[39m# the engine, so this will usually not be set\u001b[39;00m\n",
      "File \u001b[0;32m~/opt/anaconda3/lib/python3.9/site-packages/sqlalchemy/util/langhelpers.py:70\u001b[0m, in \u001b[0;36msafe_reraise.__exit__\u001b[0;34m(self, type_, value, traceback)\u001b[0m\n\u001b[1;32m     69\u001b[0m     \u001b[39mif\u001b[39;00m \u001b[39mnot\u001b[39;00m \u001b[39mself\u001b[39m\u001b[39m.\u001b[39mwarn_only:\n\u001b[0;32m---> 70\u001b[0m         compat\u001b[39m.\u001b[39;49mraise_(\n\u001b[1;32m     71\u001b[0m             exc_value,\n\u001b[1;32m     72\u001b[0m             with_traceback\u001b[39m=\u001b[39;49mexc_tb,\n\u001b[1;32m     73\u001b[0m         )\n\u001b[1;32m     74\u001b[0m \u001b[39melse\u001b[39;00m:\n",
      "File \u001b[0;32m~/opt/anaconda3/lib/python3.9/site-packages/sqlalchemy/util/compat.py:207\u001b[0m, in \u001b[0;36mraise_\u001b[0;34m(***failed resolving arguments***)\u001b[0m\n\u001b[1;32m    206\u001b[0m \u001b[39mtry\u001b[39;00m:\n\u001b[0;32m--> 207\u001b[0m     \u001b[39mraise\u001b[39;00m exception\n\u001b[1;32m    208\u001b[0m \u001b[39mfinally\u001b[39;00m:\n\u001b[1;32m    209\u001b[0m     \u001b[39m# credit to\u001b[39;00m\n\u001b[1;32m    210\u001b[0m     \u001b[39m# https://cosmicpercolator.com/2016/01/13/exception-leaks-in-python-2-and-3/\u001b[39;00m\n\u001b[1;32m    211\u001b[0m     \u001b[39m# as the __traceback__ object creates a cycle\u001b[39;00m\n",
      "File \u001b[0;32m~/opt/anaconda3/lib/python3.9/site-packages/sqlalchemy/pool/base.py:661\u001b[0m, in \u001b[0;36m_ConnectionRecord.__connect\u001b[0;34m(self)\u001b[0m\n\u001b[1;32m    660\u001b[0m \u001b[39mself\u001b[39m\u001b[39m.\u001b[39mstarttime \u001b[39m=\u001b[39m time\u001b[39m.\u001b[39mtime()\n\u001b[0;32m--> 661\u001b[0m \u001b[39mself\u001b[39m\u001b[39m.\u001b[39mdbapi_connection \u001b[39m=\u001b[39m connection \u001b[39m=\u001b[39m pool\u001b[39m.\u001b[39;49m_invoke_creator(\u001b[39mself\u001b[39;49m)\n\u001b[1;32m    662\u001b[0m pool\u001b[39m.\u001b[39mlogger\u001b[39m.\u001b[39mdebug(\u001b[39m\"\u001b[39m\u001b[39mCreated new connection \u001b[39m\u001b[39m%r\u001b[39;00m\u001b[39m\"\u001b[39m, connection)\n",
      "File \u001b[0;32m~/opt/anaconda3/lib/python3.9/site-packages/sqlalchemy/engine/create.py:590\u001b[0m, in \u001b[0;36mcreate_engine.<locals>.connect\u001b[0;34m(connection_record)\u001b[0m\n\u001b[1;32m    589\u001b[0m             \u001b[39mreturn\u001b[39;00m connection\n\u001b[0;32m--> 590\u001b[0m \u001b[39mreturn\u001b[39;00m dialect\u001b[39m.\u001b[39;49mconnect(\u001b[39m*\u001b[39;49mcargs, \u001b[39m*\u001b[39;49m\u001b[39m*\u001b[39;49mcparams)\n",
      "File \u001b[0;32m~/opt/anaconda3/lib/python3.9/site-packages/sqlalchemy/engine/default.py:597\u001b[0m, in \u001b[0;36mDefaultDialect.connect\u001b[0;34m(self, *cargs, **cparams)\u001b[0m\n\u001b[1;32m    595\u001b[0m \u001b[39mdef\u001b[39;00m \u001b[39mconnect\u001b[39m(\u001b[39mself\u001b[39m, \u001b[39m*\u001b[39mcargs, \u001b[39m*\u001b[39m\u001b[39m*\u001b[39mcparams):\n\u001b[1;32m    596\u001b[0m     \u001b[39m# inherits the docstring from interfaces.Dialect.connect\u001b[39;00m\n\u001b[0;32m--> 597\u001b[0m     \u001b[39mreturn\u001b[39;00m \u001b[39mself\u001b[39;49m\u001b[39m.\u001b[39;49mdbapi\u001b[39m.\u001b[39;49mconnect(\u001b[39m*\u001b[39;49mcargs, \u001b[39m*\u001b[39;49m\u001b[39m*\u001b[39;49mcparams)\n",
      "File \u001b[0;32m~/opt/anaconda3/lib/python3.9/site-packages/pymysql/connections.py:353\u001b[0m, in \u001b[0;36mConnection.__init__\u001b[0;34m(self, user, password, host, database, unix_socket, port, charset, sql_mode, read_default_file, conv, use_unicode, client_flag, cursorclass, init_command, connect_timeout, read_default_group, autocommit, local_infile, max_allowed_packet, defer_connect, auth_plugin_map, read_timeout, write_timeout, bind_address, binary_prefix, program_name, server_public_key, ssl, ssl_ca, ssl_cert, ssl_disabled, ssl_key, ssl_verify_cert, ssl_verify_identity, compress, named_pipe, passwd, db)\u001b[0m\n\u001b[1;32m    352\u001b[0m \u001b[39melse\u001b[39;00m:\n\u001b[0;32m--> 353\u001b[0m     \u001b[39mself\u001b[39;49m\u001b[39m.\u001b[39;49mconnect()\n",
      "File \u001b[0;32m~/opt/anaconda3/lib/python3.9/site-packages/pymysql/connections.py:633\u001b[0m, in \u001b[0;36mConnection.connect\u001b[0;34m(self, sock)\u001b[0m\n\u001b[1;32m    632\u001b[0m \u001b[39mself\u001b[39m\u001b[39m.\u001b[39m_get_server_information()\n\u001b[0;32m--> 633\u001b[0m \u001b[39mself\u001b[39;49m\u001b[39m.\u001b[39;49m_request_authentication()\n\u001b[1;32m    635\u001b[0m \u001b[39mif\u001b[39;00m \u001b[39mself\u001b[39m\u001b[39m.\u001b[39msql_mode \u001b[39mis\u001b[39;00m \u001b[39mnot\u001b[39;00m \u001b[39mNone\u001b[39;00m:\n",
      "File \u001b[0;32m~/opt/anaconda3/lib/python3.9/site-packages/pymysql/connections.py:932\u001b[0m, in \u001b[0;36mConnection._request_authentication\u001b[0;34m(self)\u001b[0m\n\u001b[1;32m    931\u001b[0m \u001b[39mif\u001b[39;00m \u001b[39mself\u001b[39m\u001b[39m.\u001b[39m_auth_plugin_name \u001b[39m==\u001b[39m \u001b[39m\"\u001b[39m\u001b[39mcaching_sha2_password\u001b[39m\u001b[39m\"\u001b[39m:\n\u001b[0;32m--> 932\u001b[0m     auth_packet \u001b[39m=\u001b[39m _auth\u001b[39m.\u001b[39;49mcaching_sha2_password_auth(\u001b[39mself\u001b[39;49m, auth_packet)\n\u001b[1;32m    933\u001b[0m \u001b[39melif\u001b[39;00m \u001b[39mself\u001b[39m\u001b[39m.\u001b[39m_auth_plugin_name \u001b[39m==\u001b[39m \u001b[39m\"\u001b[39m\u001b[39msha256_password\u001b[39m\u001b[39m\"\u001b[39m:\n",
      "File \u001b[0;32m~/opt/anaconda3/lib/python3.9/site-packages/pymysql/_auth.py:266\u001b[0m, in \u001b[0;36mcaching_sha2_password_auth\u001b[0;34m(conn, pkt)\u001b[0m\n\u001b[1;32m    265\u001b[0m data \u001b[39m=\u001b[39m sha2_rsa_encrypt(conn\u001b[39m.\u001b[39mpassword, conn\u001b[39m.\u001b[39msalt, conn\u001b[39m.\u001b[39mserver_public_key)\n\u001b[0;32m--> 266\u001b[0m pkt \u001b[39m=\u001b[39m _roundtrip(conn, data)\n",
      "File \u001b[0;32m~/opt/anaconda3/lib/python3.9/site-packages/pymysql/_auth.py:120\u001b[0m, in \u001b[0;36m_roundtrip\u001b[0;34m(conn, send_data)\u001b[0m\n\u001b[1;32m    119\u001b[0m conn\u001b[39m.\u001b[39mwrite_packet(send_data)\n\u001b[0;32m--> 120\u001b[0m pkt \u001b[39m=\u001b[39m conn\u001b[39m.\u001b[39;49m_read_packet()\n\u001b[1;32m    121\u001b[0m pkt\u001b[39m.\u001b[39mcheck_error()\n",
      "File \u001b[0;32m~/opt/anaconda3/lib/python3.9/site-packages/pymysql/connections.py:725\u001b[0m, in \u001b[0;36mConnection._read_packet\u001b[0;34m(self, packet_type)\u001b[0m\n\u001b[1;32m    724\u001b[0m         \u001b[39mself\u001b[39m\u001b[39m.\u001b[39m_result\u001b[39m.\u001b[39munbuffered_active \u001b[39m=\u001b[39m \u001b[39mFalse\u001b[39;00m\n\u001b[0;32m--> 725\u001b[0m     packet\u001b[39m.\u001b[39;49mraise_for_error()\n\u001b[1;32m    726\u001b[0m \u001b[39mreturn\u001b[39;00m packet\n",
      "File \u001b[0;32m~/opt/anaconda3/lib/python3.9/site-packages/pymysql/protocol.py:221\u001b[0m, in \u001b[0;36mMysqlPacket.raise_for_error\u001b[0;34m(self)\u001b[0m\n\u001b[1;32m    220\u001b[0m     \u001b[39mprint\u001b[39m(\u001b[39m\"\u001b[39m\u001b[39merrno =\u001b[39m\u001b[39m\"\u001b[39m, errno)\n\u001b[0;32m--> 221\u001b[0m err\u001b[39m.\u001b[39;49mraise_mysql_exception(\u001b[39mself\u001b[39;49m\u001b[39m.\u001b[39;49m_data)\n",
      "File \u001b[0;32m~/opt/anaconda3/lib/python3.9/site-packages/pymysql/err.py:143\u001b[0m, in \u001b[0;36mraise_mysql_exception\u001b[0;34m(data)\u001b[0m\n\u001b[1;32m    142\u001b[0m     errorclass \u001b[39m=\u001b[39m InternalError \u001b[39mif\u001b[39;00m errno \u001b[39m<\u001b[39m \u001b[39m1000\u001b[39m \u001b[39melse\u001b[39;00m OperationalError\n\u001b[0;32m--> 143\u001b[0m \u001b[39mraise\u001b[39;00m errorclass(errno, errval)\n",
      "\u001b[0;31mOperationalError\u001b[0m: (1045, \"Access denied for user 'root'@'localhost' (using password: YES)\")",
      "\nThe above exception was the direct cause of the following exception:\n",
      "\u001b[0;31mOperationalError\u001b[0m                          Traceback (most recent call last)",
      "\u001b[1;32m/Users/jaimesastrecrespo/DAFT_1022/Module_1/Project_Week_3_Data-Preparation/Project_3_Renting_house.ipynb Cell 62\u001b[0m in \u001b[0;36m<cell line: 1>\u001b[0;34m()\u001b[0m\n\u001b[0;32m----> <a href='vscode-notebook-cell:/Users/jaimesastrecrespo/DAFT_1022/Module_1/Project_Week_3_Data-Preparation/Project_3_Renting_house.ipynb#Y210sZmlsZQ%3D%3D?line=0'>1</a>\u001b[0m db_conn \u001b[39m=\u001b[39m my_conn\u001b[39m.\u001b[39;49mconnect()\n",
      "File \u001b[0;32m~/opt/anaconda3/lib/python3.9/site-packages/sqlalchemy/engine/base.py:3210\u001b[0m, in \u001b[0;36mEngine.connect\u001b[0;34m(self, close_with_result)\u001b[0m\n\u001b[1;32m   3195\u001b[0m \u001b[39mdef\u001b[39;00m \u001b[39mconnect\u001b[39m(\u001b[39mself\u001b[39m, close_with_result\u001b[39m=\u001b[39m\u001b[39mFalse\u001b[39;00m):\n\u001b[1;32m   3196\u001b[0m     \u001b[39m\"\"\"Return a new :class:`_engine.Connection` object.\u001b[39;00m\n\u001b[1;32m   3197\u001b[0m \n\u001b[1;32m   3198\u001b[0m \u001b[39m    The :class:`_engine.Connection` object is a facade that uses a DBAPI\u001b[39;00m\n\u001b[0;32m   (...)\u001b[0m\n\u001b[1;32m   3207\u001b[0m \n\u001b[1;32m   3208\u001b[0m \u001b[39m    \"\"\"\u001b[39;00m\n\u001b[0;32m-> 3210\u001b[0m     \u001b[39mreturn\u001b[39;00m \u001b[39mself\u001b[39;49m\u001b[39m.\u001b[39;49m_connection_cls(\u001b[39mself\u001b[39;49m, close_with_result\u001b[39m=\u001b[39;49mclose_with_result)\n",
      "File \u001b[0;32m~/opt/anaconda3/lib/python3.9/site-packages/sqlalchemy/engine/base.py:96\u001b[0m, in \u001b[0;36mConnection.__init__\u001b[0;34m(self, engine, connection, close_with_result, _branch_from, _execution_options, _dispatch, _has_events, _allow_revalidate)\u001b[0m\n\u001b[1;32m     91\u001b[0m     \u001b[39mself\u001b[39m\u001b[39m.\u001b[39m_has_events \u001b[39m=\u001b[39m _branch_from\u001b[39m.\u001b[39m_has_events\n\u001b[1;32m     92\u001b[0m \u001b[39melse\u001b[39;00m:\n\u001b[1;32m     93\u001b[0m     \u001b[39mself\u001b[39m\u001b[39m.\u001b[39m_dbapi_connection \u001b[39m=\u001b[39m (\n\u001b[1;32m     94\u001b[0m         connection\n\u001b[1;32m     95\u001b[0m         \u001b[39mif\u001b[39;00m connection \u001b[39mis\u001b[39;00m \u001b[39mnot\u001b[39;00m \u001b[39mNone\u001b[39;00m\n\u001b[0;32m---> 96\u001b[0m         \u001b[39melse\u001b[39;00m engine\u001b[39m.\u001b[39;49mraw_connection()\n\u001b[1;32m     97\u001b[0m     )\n\u001b[1;32m     99\u001b[0m     \u001b[39mself\u001b[39m\u001b[39m.\u001b[39m_transaction \u001b[39m=\u001b[39m \u001b[39mself\u001b[39m\u001b[39m.\u001b[39m_nested_transaction \u001b[39m=\u001b[39m \u001b[39mNone\u001b[39;00m\n\u001b[1;32m    100\u001b[0m     \u001b[39mself\u001b[39m\u001b[39m.\u001b[39m__savepoint_seq \u001b[39m=\u001b[39m \u001b[39m0\u001b[39m\n",
      "File \u001b[0;32m~/opt/anaconda3/lib/python3.9/site-packages/sqlalchemy/engine/base.py:3289\u001b[0m, in \u001b[0;36mEngine.raw_connection\u001b[0;34m(self, _connection)\u001b[0m\n\u001b[1;32m   3267\u001b[0m \u001b[39mdef\u001b[39;00m \u001b[39mraw_connection\u001b[39m(\u001b[39mself\u001b[39m, _connection\u001b[39m=\u001b[39m\u001b[39mNone\u001b[39;00m):\n\u001b[1;32m   3268\u001b[0m     \u001b[39m\"\"\"Return a \"raw\" DBAPI connection from the connection pool.\u001b[39;00m\n\u001b[1;32m   3269\u001b[0m \n\u001b[1;32m   3270\u001b[0m \u001b[39m    The returned object is a proxied version of the DBAPI\u001b[39;00m\n\u001b[0;32m   (...)\u001b[0m\n\u001b[1;32m   3287\u001b[0m \n\u001b[1;32m   3288\u001b[0m \u001b[39m    \"\"\"\u001b[39;00m\n\u001b[0;32m-> 3289\u001b[0m     \u001b[39mreturn\u001b[39;00m \u001b[39mself\u001b[39;49m\u001b[39m.\u001b[39;49m_wrap_pool_connect(\u001b[39mself\u001b[39;49m\u001b[39m.\u001b[39;49mpool\u001b[39m.\u001b[39;49mconnect, _connection)\n",
      "File \u001b[0;32m~/opt/anaconda3/lib/python3.9/site-packages/sqlalchemy/engine/base.py:3259\u001b[0m, in \u001b[0;36mEngine._wrap_pool_connect\u001b[0;34m(self, fn, connection)\u001b[0m\n\u001b[1;32m   3257\u001b[0m \u001b[39mexcept\u001b[39;00m dialect\u001b[39m.\u001b[39mdbapi\u001b[39m.\u001b[39mError \u001b[39mas\u001b[39;00m e:\n\u001b[1;32m   3258\u001b[0m     \u001b[39mif\u001b[39;00m connection \u001b[39mis\u001b[39;00m \u001b[39mNone\u001b[39;00m:\n\u001b[0;32m-> 3259\u001b[0m         Connection\u001b[39m.\u001b[39;49m_handle_dbapi_exception_noconnection(\n\u001b[1;32m   3260\u001b[0m             e, dialect, \u001b[39mself\u001b[39;49m\n\u001b[1;32m   3261\u001b[0m         )\n\u001b[1;32m   3262\u001b[0m     \u001b[39melse\u001b[39;00m:\n\u001b[1;32m   3263\u001b[0m         util\u001b[39m.\u001b[39mraise_(\n\u001b[1;32m   3264\u001b[0m             sys\u001b[39m.\u001b[39mexc_info()[\u001b[39m1\u001b[39m], with_traceback\u001b[39m=\u001b[39msys\u001b[39m.\u001b[39mexc_info()[\u001b[39m2\u001b[39m]\n\u001b[1;32m   3265\u001b[0m         )\n",
      "File \u001b[0;32m~/opt/anaconda3/lib/python3.9/site-packages/sqlalchemy/engine/base.py:2106\u001b[0m, in \u001b[0;36mConnection._handle_dbapi_exception_noconnection\u001b[0;34m(cls, e, dialect, engine)\u001b[0m\n\u001b[1;32m   2104\u001b[0m     util\u001b[39m.\u001b[39mraise_(newraise, with_traceback\u001b[39m=\u001b[39mexc_info[\u001b[39m2\u001b[39m], from_\u001b[39m=\u001b[39me)\n\u001b[1;32m   2105\u001b[0m \u001b[39melif\u001b[39;00m should_wrap:\n\u001b[0;32m-> 2106\u001b[0m     util\u001b[39m.\u001b[39;49mraise_(\n\u001b[1;32m   2107\u001b[0m         sqlalchemy_exception, with_traceback\u001b[39m=\u001b[39;49mexc_info[\u001b[39m2\u001b[39;49m], from_\u001b[39m=\u001b[39;49me\n\u001b[1;32m   2108\u001b[0m     )\n\u001b[1;32m   2109\u001b[0m \u001b[39melse\u001b[39;00m:\n\u001b[1;32m   2110\u001b[0m     util\u001b[39m.\u001b[39mraise_(exc_info[\u001b[39m1\u001b[39m], with_traceback\u001b[39m=\u001b[39mexc_info[\u001b[39m2\u001b[39m])\n",
      "File \u001b[0;32m~/opt/anaconda3/lib/python3.9/site-packages/sqlalchemy/util/compat.py:207\u001b[0m, in \u001b[0;36mraise_\u001b[0;34m(***failed resolving arguments***)\u001b[0m\n\u001b[1;32m    204\u001b[0m     exception\u001b[39m.\u001b[39m__cause__ \u001b[39m=\u001b[39m replace_context\n\u001b[1;32m    206\u001b[0m \u001b[39mtry\u001b[39;00m:\n\u001b[0;32m--> 207\u001b[0m     \u001b[39mraise\u001b[39;00m exception\n\u001b[1;32m    208\u001b[0m \u001b[39mfinally\u001b[39;00m:\n\u001b[1;32m    209\u001b[0m     \u001b[39m# credit to\u001b[39;00m\n\u001b[1;32m    210\u001b[0m     \u001b[39m# https://cosmicpercolator.com/2016/01/13/exception-leaks-in-python-2-and-3/\u001b[39;00m\n\u001b[1;32m    211\u001b[0m     \u001b[39m# as the __traceback__ object creates a cycle\u001b[39;00m\n\u001b[1;32m    212\u001b[0m     \u001b[39mdel\u001b[39;00m exception, replace_context, from_, with_traceback\n",
      "File \u001b[0;32m~/opt/anaconda3/lib/python3.9/site-packages/sqlalchemy/engine/base.py:3256\u001b[0m, in \u001b[0;36mEngine._wrap_pool_connect\u001b[0;34m(self, fn, connection)\u001b[0m\n\u001b[1;32m   3254\u001b[0m dialect \u001b[39m=\u001b[39m \u001b[39mself\u001b[39m\u001b[39m.\u001b[39mdialect\n\u001b[1;32m   3255\u001b[0m \u001b[39mtry\u001b[39;00m:\n\u001b[0;32m-> 3256\u001b[0m     \u001b[39mreturn\u001b[39;00m fn()\n\u001b[1;32m   3257\u001b[0m \u001b[39mexcept\u001b[39;00m dialect\u001b[39m.\u001b[39mdbapi\u001b[39m.\u001b[39mError \u001b[39mas\u001b[39;00m e:\n\u001b[1;32m   3258\u001b[0m     \u001b[39mif\u001b[39;00m connection \u001b[39mis\u001b[39;00m \u001b[39mNone\u001b[39;00m:\n",
      "File \u001b[0;32m~/opt/anaconda3/lib/python3.9/site-packages/sqlalchemy/pool/base.py:310\u001b[0m, in \u001b[0;36mPool.connect\u001b[0;34m(self)\u001b[0m\n\u001b[1;32m    302\u001b[0m \u001b[39mdef\u001b[39;00m \u001b[39mconnect\u001b[39m(\u001b[39mself\u001b[39m):\n\u001b[1;32m    303\u001b[0m     \u001b[39m\"\"\"Return a DBAPI connection from the pool.\u001b[39;00m\n\u001b[1;32m    304\u001b[0m \n\u001b[1;32m    305\u001b[0m \u001b[39m    The connection is instrumented such that when its\u001b[39;00m\n\u001b[0;32m   (...)\u001b[0m\n\u001b[1;32m    308\u001b[0m \n\u001b[1;32m    309\u001b[0m \u001b[39m    \"\"\"\u001b[39;00m\n\u001b[0;32m--> 310\u001b[0m     \u001b[39mreturn\u001b[39;00m _ConnectionFairy\u001b[39m.\u001b[39;49m_checkout(\u001b[39mself\u001b[39;49m)\n",
      "File \u001b[0;32m~/opt/anaconda3/lib/python3.9/site-packages/sqlalchemy/pool/base.py:868\u001b[0m, in \u001b[0;36m_ConnectionFairy._checkout\u001b[0;34m(cls, pool, threadconns, fairy)\u001b[0m\n\u001b[1;32m    865\u001b[0m \u001b[39m@classmethod\u001b[39m\n\u001b[1;32m    866\u001b[0m \u001b[39mdef\u001b[39;00m \u001b[39m_checkout\u001b[39m(\u001b[39mcls\u001b[39m, pool, threadconns\u001b[39m=\u001b[39m\u001b[39mNone\u001b[39;00m, fairy\u001b[39m=\u001b[39m\u001b[39mNone\u001b[39;00m):\n\u001b[1;32m    867\u001b[0m     \u001b[39mif\u001b[39;00m \u001b[39mnot\u001b[39;00m fairy:\n\u001b[0;32m--> 868\u001b[0m         fairy \u001b[39m=\u001b[39m _ConnectionRecord\u001b[39m.\u001b[39;49mcheckout(pool)\n\u001b[1;32m    870\u001b[0m         fairy\u001b[39m.\u001b[39m_pool \u001b[39m=\u001b[39m pool\n\u001b[1;32m    871\u001b[0m         fairy\u001b[39m.\u001b[39m_counter \u001b[39m=\u001b[39m \u001b[39m0\u001b[39m\n",
      "File \u001b[0;32m~/opt/anaconda3/lib/python3.9/site-packages/sqlalchemy/pool/base.py:476\u001b[0m, in \u001b[0;36m_ConnectionRecord.checkout\u001b[0;34m(cls, pool)\u001b[0m\n\u001b[1;32m    474\u001b[0m \u001b[39m@classmethod\u001b[39m\n\u001b[1;32m    475\u001b[0m \u001b[39mdef\u001b[39;00m \u001b[39mcheckout\u001b[39m(\u001b[39mcls\u001b[39m, pool):\n\u001b[0;32m--> 476\u001b[0m     rec \u001b[39m=\u001b[39m pool\u001b[39m.\u001b[39;49m_do_get()\n\u001b[1;32m    477\u001b[0m     \u001b[39mtry\u001b[39;00m:\n\u001b[1;32m    478\u001b[0m         dbapi_connection \u001b[39m=\u001b[39m rec\u001b[39m.\u001b[39mget_connection()\n",
      "File \u001b[0;32m~/opt/anaconda3/lib/python3.9/site-packages/sqlalchemy/pool/impl.py:146\u001b[0m, in \u001b[0;36mQueuePool._do_get\u001b[0;34m(self)\u001b[0m\n\u001b[1;32m    144\u001b[0m     \u001b[39mexcept\u001b[39;00m:\n\u001b[1;32m    145\u001b[0m         \u001b[39mwith\u001b[39;00m util\u001b[39m.\u001b[39msafe_reraise():\n\u001b[0;32m--> 146\u001b[0m             \u001b[39mself\u001b[39m\u001b[39m.\u001b[39m_dec_overflow()\n\u001b[1;32m    147\u001b[0m \u001b[39melse\u001b[39;00m:\n\u001b[1;32m    148\u001b[0m     \u001b[39mreturn\u001b[39;00m \u001b[39mself\u001b[39m\u001b[39m.\u001b[39m_do_get()\n",
      "File \u001b[0;32m~/opt/anaconda3/lib/python3.9/site-packages/sqlalchemy/util/langhelpers.py:70\u001b[0m, in \u001b[0;36msafe_reraise.__exit__\u001b[0;34m(self, type_, value, traceback)\u001b[0m\n\u001b[1;32m     68\u001b[0m     \u001b[39mself\u001b[39m\u001b[39m.\u001b[39m_exc_info \u001b[39m=\u001b[39m \u001b[39mNone\u001b[39;00m  \u001b[39m# remove potential circular references\u001b[39;00m\n\u001b[1;32m     69\u001b[0m     \u001b[39mif\u001b[39;00m \u001b[39mnot\u001b[39;00m \u001b[39mself\u001b[39m\u001b[39m.\u001b[39mwarn_only:\n\u001b[0;32m---> 70\u001b[0m         compat\u001b[39m.\u001b[39;49mraise_(\n\u001b[1;32m     71\u001b[0m             exc_value,\n\u001b[1;32m     72\u001b[0m             with_traceback\u001b[39m=\u001b[39;49mexc_tb,\n\u001b[1;32m     73\u001b[0m         )\n\u001b[1;32m     74\u001b[0m \u001b[39melse\u001b[39;00m:\n\u001b[1;32m     75\u001b[0m     \u001b[39mif\u001b[39;00m \u001b[39mnot\u001b[39;00m compat\u001b[39m.\u001b[39mpy3k \u001b[39mand\u001b[39;00m \u001b[39mself\u001b[39m\u001b[39m.\u001b[39m_exc_info \u001b[39mand\u001b[39;00m \u001b[39mself\u001b[39m\u001b[39m.\u001b[39m_exc_info[\u001b[39m1\u001b[39m]:\n\u001b[1;32m     76\u001b[0m         \u001b[39m# emulate Py3K's behavior of telling us when an exception\u001b[39;00m\n\u001b[1;32m     77\u001b[0m         \u001b[39m# occurs in an exception handler.\u001b[39;00m\n",
      "File \u001b[0;32m~/opt/anaconda3/lib/python3.9/site-packages/sqlalchemy/util/compat.py:207\u001b[0m, in \u001b[0;36mraise_\u001b[0;34m(***failed resolving arguments***)\u001b[0m\n\u001b[1;32m    204\u001b[0m     exception\u001b[39m.\u001b[39m__cause__ \u001b[39m=\u001b[39m replace_context\n\u001b[1;32m    206\u001b[0m \u001b[39mtry\u001b[39;00m:\n\u001b[0;32m--> 207\u001b[0m     \u001b[39mraise\u001b[39;00m exception\n\u001b[1;32m    208\u001b[0m \u001b[39mfinally\u001b[39;00m:\n\u001b[1;32m    209\u001b[0m     \u001b[39m# credit to\u001b[39;00m\n\u001b[1;32m    210\u001b[0m     \u001b[39m# https://cosmicpercolator.com/2016/01/13/exception-leaks-in-python-2-and-3/\u001b[39;00m\n\u001b[1;32m    211\u001b[0m     \u001b[39m# as the __traceback__ object creates a cycle\u001b[39;00m\n\u001b[1;32m    212\u001b[0m     \u001b[39mdel\u001b[39;00m exception, replace_context, from_, with_traceback\n",
      "File \u001b[0;32m~/opt/anaconda3/lib/python3.9/site-packages/sqlalchemy/pool/impl.py:143\u001b[0m, in \u001b[0;36mQueuePool._do_get\u001b[0;34m(self)\u001b[0m\n\u001b[1;32m    141\u001b[0m \u001b[39mif\u001b[39;00m \u001b[39mself\u001b[39m\u001b[39m.\u001b[39m_inc_overflow():\n\u001b[1;32m    142\u001b[0m     \u001b[39mtry\u001b[39;00m:\n\u001b[0;32m--> 143\u001b[0m         \u001b[39mreturn\u001b[39;00m \u001b[39mself\u001b[39;49m\u001b[39m.\u001b[39;49m_create_connection()\n\u001b[1;32m    144\u001b[0m     \u001b[39mexcept\u001b[39;00m:\n\u001b[1;32m    145\u001b[0m         \u001b[39mwith\u001b[39;00m util\u001b[39m.\u001b[39msafe_reraise():\n",
      "File \u001b[0;32m~/opt/anaconda3/lib/python3.9/site-packages/sqlalchemy/pool/base.py:256\u001b[0m, in \u001b[0;36mPool._create_connection\u001b[0;34m(self)\u001b[0m\n\u001b[1;32m    253\u001b[0m \u001b[39mdef\u001b[39;00m \u001b[39m_create_connection\u001b[39m(\u001b[39mself\u001b[39m):\n\u001b[1;32m    254\u001b[0m     \u001b[39m\"\"\"Called by subclasses to create a new ConnectionRecord.\"\"\"\u001b[39;00m\n\u001b[0;32m--> 256\u001b[0m     \u001b[39mreturn\u001b[39;00m _ConnectionRecord(\u001b[39mself\u001b[39;49m)\n",
      "File \u001b[0;32m~/opt/anaconda3/lib/python3.9/site-packages/sqlalchemy/pool/base.py:371\u001b[0m, in \u001b[0;36m_ConnectionRecord.__init__\u001b[0;34m(self, pool, connect)\u001b[0m\n\u001b[1;32m    369\u001b[0m \u001b[39mself\u001b[39m\u001b[39m.\u001b[39m__pool \u001b[39m=\u001b[39m pool\n\u001b[1;32m    370\u001b[0m \u001b[39mif\u001b[39;00m connect:\n\u001b[0;32m--> 371\u001b[0m     \u001b[39mself\u001b[39;49m\u001b[39m.\u001b[39;49m__connect()\n\u001b[1;32m    372\u001b[0m \u001b[39mself\u001b[39m\u001b[39m.\u001b[39mfinalize_callback \u001b[39m=\u001b[39m deque()\n",
      "File \u001b[0;32m~/opt/anaconda3/lib/python3.9/site-packages/sqlalchemy/pool/base.py:666\u001b[0m, in \u001b[0;36m_ConnectionRecord.__connect\u001b[0;34m(self)\u001b[0m\n\u001b[1;32m    664\u001b[0m \u001b[39mexcept\u001b[39;00m \u001b[39mException\u001b[39;00m \u001b[39mas\u001b[39;00m e:\n\u001b[1;32m    665\u001b[0m     \u001b[39mwith\u001b[39;00m util\u001b[39m.\u001b[39msafe_reraise():\n\u001b[0;32m--> 666\u001b[0m         pool\u001b[39m.\u001b[39mlogger\u001b[39m.\u001b[39mdebug(\u001b[39m\"\u001b[39m\u001b[39mError on connect(): \u001b[39m\u001b[39m%s\u001b[39;00m\u001b[39m\"\u001b[39m, e)\n\u001b[1;32m    667\u001b[0m \u001b[39melse\u001b[39;00m:\n\u001b[1;32m    668\u001b[0m     \u001b[39m# in SQLAlchemy 1.4 the first_connect event is not used by\u001b[39;00m\n\u001b[1;32m    669\u001b[0m     \u001b[39m# the engine, so this will usually not be set\u001b[39;00m\n\u001b[1;32m    670\u001b[0m     \u001b[39mif\u001b[39;00m pool\u001b[39m.\u001b[39mdispatch\u001b[39m.\u001b[39mfirst_connect:\n",
      "File \u001b[0;32m~/opt/anaconda3/lib/python3.9/site-packages/sqlalchemy/util/langhelpers.py:70\u001b[0m, in \u001b[0;36msafe_reraise.__exit__\u001b[0;34m(self, type_, value, traceback)\u001b[0m\n\u001b[1;32m     68\u001b[0m     \u001b[39mself\u001b[39m\u001b[39m.\u001b[39m_exc_info \u001b[39m=\u001b[39m \u001b[39mNone\u001b[39;00m  \u001b[39m# remove potential circular references\u001b[39;00m\n\u001b[1;32m     69\u001b[0m     \u001b[39mif\u001b[39;00m \u001b[39mnot\u001b[39;00m \u001b[39mself\u001b[39m\u001b[39m.\u001b[39mwarn_only:\n\u001b[0;32m---> 70\u001b[0m         compat\u001b[39m.\u001b[39;49mraise_(\n\u001b[1;32m     71\u001b[0m             exc_value,\n\u001b[1;32m     72\u001b[0m             with_traceback\u001b[39m=\u001b[39;49mexc_tb,\n\u001b[1;32m     73\u001b[0m         )\n\u001b[1;32m     74\u001b[0m \u001b[39melse\u001b[39;00m:\n\u001b[1;32m     75\u001b[0m     \u001b[39mif\u001b[39;00m \u001b[39mnot\u001b[39;00m compat\u001b[39m.\u001b[39mpy3k \u001b[39mand\u001b[39;00m \u001b[39mself\u001b[39m\u001b[39m.\u001b[39m_exc_info \u001b[39mand\u001b[39;00m \u001b[39mself\u001b[39m\u001b[39m.\u001b[39m_exc_info[\u001b[39m1\u001b[39m]:\n\u001b[1;32m     76\u001b[0m         \u001b[39m# emulate Py3K's behavior of telling us when an exception\u001b[39;00m\n\u001b[1;32m     77\u001b[0m         \u001b[39m# occurs in an exception handler.\u001b[39;00m\n",
      "File \u001b[0;32m~/opt/anaconda3/lib/python3.9/site-packages/sqlalchemy/util/compat.py:207\u001b[0m, in \u001b[0;36mraise_\u001b[0;34m(***failed resolving arguments***)\u001b[0m\n\u001b[1;32m    204\u001b[0m     exception\u001b[39m.\u001b[39m__cause__ \u001b[39m=\u001b[39m replace_context\n\u001b[1;32m    206\u001b[0m \u001b[39mtry\u001b[39;00m:\n\u001b[0;32m--> 207\u001b[0m     \u001b[39mraise\u001b[39;00m exception\n\u001b[1;32m    208\u001b[0m \u001b[39mfinally\u001b[39;00m:\n\u001b[1;32m    209\u001b[0m     \u001b[39m# credit to\u001b[39;00m\n\u001b[1;32m    210\u001b[0m     \u001b[39m# https://cosmicpercolator.com/2016/01/13/exception-leaks-in-python-2-and-3/\u001b[39;00m\n\u001b[1;32m    211\u001b[0m     \u001b[39m# as the __traceback__ object creates a cycle\u001b[39;00m\n\u001b[1;32m    212\u001b[0m     \u001b[39mdel\u001b[39;00m exception, replace_context, from_, with_traceback\n",
      "File \u001b[0;32m~/opt/anaconda3/lib/python3.9/site-packages/sqlalchemy/pool/base.py:661\u001b[0m, in \u001b[0;36m_ConnectionRecord.__connect\u001b[0;34m(self)\u001b[0m\n\u001b[1;32m    659\u001b[0m \u001b[39mtry\u001b[39;00m:\n\u001b[1;32m    660\u001b[0m     \u001b[39mself\u001b[39m\u001b[39m.\u001b[39mstarttime \u001b[39m=\u001b[39m time\u001b[39m.\u001b[39mtime()\n\u001b[0;32m--> 661\u001b[0m     \u001b[39mself\u001b[39m\u001b[39m.\u001b[39mdbapi_connection \u001b[39m=\u001b[39m connection \u001b[39m=\u001b[39m pool\u001b[39m.\u001b[39;49m_invoke_creator(\u001b[39mself\u001b[39;49m)\n\u001b[1;32m    662\u001b[0m     pool\u001b[39m.\u001b[39mlogger\u001b[39m.\u001b[39mdebug(\u001b[39m\"\u001b[39m\u001b[39mCreated new connection \u001b[39m\u001b[39m%r\u001b[39;00m\u001b[39m\"\u001b[39m, connection)\n\u001b[1;32m    663\u001b[0m     \u001b[39mself\u001b[39m\u001b[39m.\u001b[39mfresh \u001b[39m=\u001b[39m \u001b[39mTrue\u001b[39;00m\n",
      "File \u001b[0;32m~/opt/anaconda3/lib/python3.9/site-packages/sqlalchemy/engine/create.py:590\u001b[0m, in \u001b[0;36mcreate_engine.<locals>.connect\u001b[0;34m(connection_record)\u001b[0m\n\u001b[1;32m    588\u001b[0m         \u001b[39mif\u001b[39;00m connection \u001b[39mis\u001b[39;00m \u001b[39mnot\u001b[39;00m \u001b[39mNone\u001b[39;00m:\n\u001b[1;32m    589\u001b[0m             \u001b[39mreturn\u001b[39;00m connection\n\u001b[0;32m--> 590\u001b[0m \u001b[39mreturn\u001b[39;00m dialect\u001b[39m.\u001b[39;49mconnect(\u001b[39m*\u001b[39;49mcargs, \u001b[39m*\u001b[39;49m\u001b[39m*\u001b[39;49mcparams)\n",
      "File \u001b[0;32m~/opt/anaconda3/lib/python3.9/site-packages/sqlalchemy/engine/default.py:597\u001b[0m, in \u001b[0;36mDefaultDialect.connect\u001b[0;34m(self, *cargs, **cparams)\u001b[0m\n\u001b[1;32m    595\u001b[0m \u001b[39mdef\u001b[39;00m \u001b[39mconnect\u001b[39m(\u001b[39mself\u001b[39m, \u001b[39m*\u001b[39mcargs, \u001b[39m*\u001b[39m\u001b[39m*\u001b[39mcparams):\n\u001b[1;32m    596\u001b[0m     \u001b[39m# inherits the docstring from interfaces.Dialect.connect\u001b[39;00m\n\u001b[0;32m--> 597\u001b[0m     \u001b[39mreturn\u001b[39;00m \u001b[39mself\u001b[39;49m\u001b[39m.\u001b[39;49mdbapi\u001b[39m.\u001b[39;49mconnect(\u001b[39m*\u001b[39;49mcargs, \u001b[39m*\u001b[39;49m\u001b[39m*\u001b[39;49mcparams)\n",
      "File \u001b[0;32m~/opt/anaconda3/lib/python3.9/site-packages/pymysql/connections.py:353\u001b[0m, in \u001b[0;36mConnection.__init__\u001b[0;34m(self, user, password, host, database, unix_socket, port, charset, sql_mode, read_default_file, conv, use_unicode, client_flag, cursorclass, init_command, connect_timeout, read_default_group, autocommit, local_infile, max_allowed_packet, defer_connect, auth_plugin_map, read_timeout, write_timeout, bind_address, binary_prefix, program_name, server_public_key, ssl, ssl_ca, ssl_cert, ssl_disabled, ssl_key, ssl_verify_cert, ssl_verify_identity, compress, named_pipe, passwd, db)\u001b[0m\n\u001b[1;32m    351\u001b[0m     \u001b[39mself\u001b[39m\u001b[39m.\u001b[39m_sock \u001b[39m=\u001b[39m \u001b[39mNone\u001b[39;00m\n\u001b[1;32m    352\u001b[0m \u001b[39melse\u001b[39;00m:\n\u001b[0;32m--> 353\u001b[0m     \u001b[39mself\u001b[39;49m\u001b[39m.\u001b[39;49mconnect()\n",
      "File \u001b[0;32m~/opt/anaconda3/lib/python3.9/site-packages/pymysql/connections.py:633\u001b[0m, in \u001b[0;36mConnection.connect\u001b[0;34m(self, sock)\u001b[0m\n\u001b[1;32m    630\u001b[0m \u001b[39mself\u001b[39m\u001b[39m.\u001b[39m_next_seq_id \u001b[39m=\u001b[39m \u001b[39m0\u001b[39m\n\u001b[1;32m    632\u001b[0m \u001b[39mself\u001b[39m\u001b[39m.\u001b[39m_get_server_information()\n\u001b[0;32m--> 633\u001b[0m \u001b[39mself\u001b[39;49m\u001b[39m.\u001b[39;49m_request_authentication()\n\u001b[1;32m    635\u001b[0m \u001b[39mif\u001b[39;00m \u001b[39mself\u001b[39m\u001b[39m.\u001b[39msql_mode \u001b[39mis\u001b[39;00m \u001b[39mnot\u001b[39;00m \u001b[39mNone\u001b[39;00m:\n\u001b[1;32m    636\u001b[0m     c \u001b[39m=\u001b[39m \u001b[39mself\u001b[39m\u001b[39m.\u001b[39mcursor()\n",
      "File \u001b[0;32m~/opt/anaconda3/lib/python3.9/site-packages/pymysql/connections.py:932\u001b[0m, in \u001b[0;36mConnection._request_authentication\u001b[0;34m(self)\u001b[0m\n\u001b[1;32m    930\u001b[0m \u001b[39m# https://dev.mysql.com/doc/internals/en/successful-authentication.html\u001b[39;00m\n\u001b[1;32m    931\u001b[0m \u001b[39mif\u001b[39;00m \u001b[39mself\u001b[39m\u001b[39m.\u001b[39m_auth_plugin_name \u001b[39m==\u001b[39m \u001b[39m\"\u001b[39m\u001b[39mcaching_sha2_password\u001b[39m\u001b[39m\"\u001b[39m:\n\u001b[0;32m--> 932\u001b[0m     auth_packet \u001b[39m=\u001b[39m _auth\u001b[39m.\u001b[39;49mcaching_sha2_password_auth(\u001b[39mself\u001b[39;49m, auth_packet)\n\u001b[1;32m    933\u001b[0m \u001b[39melif\u001b[39;00m \u001b[39mself\u001b[39m\u001b[39m.\u001b[39m_auth_plugin_name \u001b[39m==\u001b[39m \u001b[39m\"\u001b[39m\u001b[39msha256_password\u001b[39m\u001b[39m\"\u001b[39m:\n\u001b[1;32m    934\u001b[0m     auth_packet \u001b[39m=\u001b[39m _auth\u001b[39m.\u001b[39msha256_password_auth(\u001b[39mself\u001b[39m, auth_packet)\n",
      "File \u001b[0;32m~/opt/anaconda3/lib/python3.9/site-packages/pymysql/_auth.py:266\u001b[0m, in \u001b[0;36mcaching_sha2_password_auth\u001b[0;34m(conn, pkt)\u001b[0m\n\u001b[1;32m    263\u001b[0m         \u001b[39mprint\u001b[39m(conn\u001b[39m.\u001b[39mserver_public_key\u001b[39m.\u001b[39mdecode(\u001b[39m\"\u001b[39m\u001b[39mascii\u001b[39m\u001b[39m\"\u001b[39m))\n\u001b[1;32m    265\u001b[0m data \u001b[39m=\u001b[39m sha2_rsa_encrypt(conn\u001b[39m.\u001b[39mpassword, conn\u001b[39m.\u001b[39msalt, conn\u001b[39m.\u001b[39mserver_public_key)\n\u001b[0;32m--> 266\u001b[0m pkt \u001b[39m=\u001b[39m _roundtrip(conn, data)\n",
      "File \u001b[0;32m~/opt/anaconda3/lib/python3.9/site-packages/pymysql/_auth.py:120\u001b[0m, in \u001b[0;36m_roundtrip\u001b[0;34m(conn, send_data)\u001b[0m\n\u001b[1;32m    118\u001b[0m \u001b[39mdef\u001b[39;00m \u001b[39m_roundtrip\u001b[39m(conn, send_data):\n\u001b[1;32m    119\u001b[0m     conn\u001b[39m.\u001b[39mwrite_packet(send_data)\n\u001b[0;32m--> 120\u001b[0m     pkt \u001b[39m=\u001b[39m conn\u001b[39m.\u001b[39;49m_read_packet()\n\u001b[1;32m    121\u001b[0m     pkt\u001b[39m.\u001b[39mcheck_error()\n\u001b[1;32m    122\u001b[0m     \u001b[39mreturn\u001b[39;00m pkt\n",
      "File \u001b[0;32m~/opt/anaconda3/lib/python3.9/site-packages/pymysql/connections.py:725\u001b[0m, in \u001b[0;36mConnection._read_packet\u001b[0;34m(self, packet_type)\u001b[0m\n\u001b[1;32m    723\u001b[0m     \u001b[39mif\u001b[39;00m \u001b[39mself\u001b[39m\u001b[39m.\u001b[39m_result \u001b[39mis\u001b[39;00m \u001b[39mnot\u001b[39;00m \u001b[39mNone\u001b[39;00m \u001b[39mand\u001b[39;00m \u001b[39mself\u001b[39m\u001b[39m.\u001b[39m_result\u001b[39m.\u001b[39munbuffered_active \u001b[39mis\u001b[39;00m \u001b[39mTrue\u001b[39;00m:\n\u001b[1;32m    724\u001b[0m         \u001b[39mself\u001b[39m\u001b[39m.\u001b[39m_result\u001b[39m.\u001b[39munbuffered_active \u001b[39m=\u001b[39m \u001b[39mFalse\u001b[39;00m\n\u001b[0;32m--> 725\u001b[0m     packet\u001b[39m.\u001b[39;49mraise_for_error()\n\u001b[1;32m    726\u001b[0m \u001b[39mreturn\u001b[39;00m packet\n",
      "File \u001b[0;32m~/opt/anaconda3/lib/python3.9/site-packages/pymysql/protocol.py:221\u001b[0m, in \u001b[0;36mMysqlPacket.raise_for_error\u001b[0;34m(self)\u001b[0m\n\u001b[1;32m    219\u001b[0m \u001b[39mif\u001b[39;00m DEBUG:\n\u001b[1;32m    220\u001b[0m     \u001b[39mprint\u001b[39m(\u001b[39m\"\u001b[39m\u001b[39merrno =\u001b[39m\u001b[39m\"\u001b[39m, errno)\n\u001b[0;32m--> 221\u001b[0m err\u001b[39m.\u001b[39;49mraise_mysql_exception(\u001b[39mself\u001b[39;49m\u001b[39m.\u001b[39;49m_data)\n",
      "File \u001b[0;32m~/opt/anaconda3/lib/python3.9/site-packages/pymysql/err.py:143\u001b[0m, in \u001b[0;36mraise_mysql_exception\u001b[0;34m(data)\u001b[0m\n\u001b[1;32m    141\u001b[0m \u001b[39mif\u001b[39;00m errorclass \u001b[39mis\u001b[39;00m \u001b[39mNone\u001b[39;00m:\n\u001b[1;32m    142\u001b[0m     errorclass \u001b[39m=\u001b[39m InternalError \u001b[39mif\u001b[39;00m errno \u001b[39m<\u001b[39m \u001b[39m1000\u001b[39m \u001b[39melse\u001b[39;00m OperationalError\n\u001b[0;32m--> 143\u001b[0m \u001b[39mraise\u001b[39;00m errorclass(errno, errval)\n",
      "\u001b[0;31mOperationalError\u001b[0m: (pymysql.err.OperationalError) (1045, \"Access denied for user 'root'@'localhost' (using password: YES)\")\n(Background on this error at: https://sqlalche.me/e/14/e3q8)"
     ]
    }
   ],
   "source": [
    "db_conn = my_conn.connect()"
   ]
  },
  {
   "cell_type": "code",
   "execution_count": null,
   "metadata": {},
   "outputs": [],
   "source": [
    "try:\n",
    "    frame = df.to_sql(\"fakejobs\", db_conn, if_exists='fail')\n",
    "except ValueError as vx:\n",
    "    print(vx)\n",
    "except Exception as ex:\n",
    "    print(ex)\n",
    "else:\n",
    "    print(\"Table %s created successfully.\"%\"fakejobs\");\n",
    "finally:\n",
    "    db_conn.close()"
   ]
  }
 ],
 "metadata": {
  "kernelspec": {
   "display_name": "Python 3.9.12 ('base')",
   "language": "python",
   "name": "python3"
  },
  "language_info": {
   "codemirror_mode": {
    "name": "ipython",
    "version": 3
   },
   "file_extension": ".py",
   "mimetype": "text/x-python",
   "name": "python",
   "nbconvert_exporter": "python",
   "pygments_lexer": "ipython3",
   "version": "3.9.12"
  },
  "orig_nbformat": 4,
  "vscode": {
   "interpreter": {
    "hash": "a3f3c9539b2b0d529c07b7548750098ae30aba30b940b3b3dd0f70005c5624b6"
   }
  }
 },
 "nbformat": 4,
 "nbformat_minor": 2
}
