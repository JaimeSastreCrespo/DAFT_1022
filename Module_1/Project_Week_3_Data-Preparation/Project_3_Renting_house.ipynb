{
 "cells": [
  {
   "cell_type": "code",
   "execution_count": 2,
   "metadata": {},
   "outputs": [],
   "source": [
    "import pandas as pd\n",
    "import numpy as np\n",
    "from sklearn import preprocessing\n",
    "rent=pd.read_excel(r\"/Users/jaimesastrecrespo/DAFT_1022/Module_1/Project_Week_3_Data-Preparation/Project 10 -Spain renting.xlsx\")\n"
   ]
  },
  {
   "cell_type": "markdown",
   "metadata": {},
   "source": [
    "### Examine the data for potential issues (missing data, data inconsistency, outliers, duplicates etc) and cleaning.\n"
   ]
  },
  {
   "cell_type": "code",
   "execution_count": 3,
   "metadata": {},
   "outputs": [
    {
     "data": {
      "text/html": [
       "<div>\n",
       "<style scoped>\n",
       "    .dataframe tbody tr th:only-of-type {\n",
       "        vertical-align: middle;\n",
       "    }\n",
       "\n",
       "    .dataframe tbody tr th {\n",
       "        vertical-align: top;\n",
       "    }\n",
       "\n",
       "    .dataframe thead th {\n",
       "        text-align: right;\n",
       "    }\n",
       "</style>\n",
       "<table border=\"1\" class=\"dataframe\">\n",
       "  <thead>\n",
       "    <tr style=\"text-align: right;\">\n",
       "      <th></th>\n",
       "      <th>Column1</th>\n",
       "      <th>provincia</th>\n",
       "      <th>comunidad autonoma</th>\n",
       "      <th>titulo</th>\n",
       "      <th>precio</th>\n",
       "      <th>habitaciones</th>\n",
       "      <th>metros</th>\n",
       "      <th>total inmuebles/comunidad</th>\n",
       "    </tr>\n",
       "  </thead>\n",
       "  <tbody>\n",
       "    <tr>\n",
       "      <th>0</th>\n",
       "      <td>0</td>\n",
       "      <td>La Coruña</td>\n",
       "      <td>Galicia</td>\n",
       "      <td>NaN</td>\n",
       "      <td>NaN</td>\n",
       "      <td>NaN</td>\n",
       "      <td>NaN</td>\n",
       "      <td>1751</td>\n",
       "    </tr>\n",
       "    <tr>\n",
       "      <th>1</th>\n",
       "      <td>1</td>\n",
       "      <td>La Coruña</td>\n",
       "      <td>Galicia</td>\n",
       "      <td>Chalet pareado en A Zapateira, Culleredo</td>\n",
       "      <td>1100.0</td>\n",
       "      <td>4.0</td>\n",
       "      <td>243</td>\n",
       "      <td>1751</td>\n",
       "    </tr>\n",
       "    <tr>\n",
       "      <th>2</th>\n",
       "      <td>2</td>\n",
       "      <td>La Coruña</td>\n",
       "      <td>Galicia</td>\n",
       "      <td>Chalet pareado en Elviña - A Zapateira, A Coruña</td>\n",
       "      <td>1100.0</td>\n",
       "      <td>4.0</td>\n",
       "      <td>243</td>\n",
       "      <td>1751</td>\n",
       "    </tr>\n",
       "    <tr>\n",
       "      <th>3</th>\n",
       "      <td>3</td>\n",
       "      <td>La Coruña</td>\n",
       "      <td>Galicia</td>\n",
       "      <td>Ático en avenida Pasaxe, 35, Los Castros - Cas...</td>\n",
       "      <td>450.0</td>\n",
       "      <td>NaN</td>\n",
       "      <td>Planta 4ª exterior con ascen</td>\n",
       "      <td>1751</td>\n",
       "    </tr>\n",
       "    <tr>\n",
       "      <th>4</th>\n",
       "      <td>4</td>\n",
       "      <td>La Coruña</td>\n",
       "      <td>Galicia</td>\n",
       "      <td>Piso en calle de Fernando III o Santo, 9, Ensa...</td>\n",
       "      <td>1000.0</td>\n",
       "      <td>4.0</td>\n",
       "      <td>100</td>\n",
       "      <td>1751</td>\n",
       "    </tr>\n",
       "  </tbody>\n",
       "</table>\n",
       "</div>"
      ],
      "text/plain": [
       "   Column1  provincia comunidad autonoma  \\\n",
       "0        0  La Coruña            Galicia   \n",
       "1        1  La Coruña            Galicia   \n",
       "2        2  La Coruña            Galicia   \n",
       "3        3  La Coruña            Galicia   \n",
       "4        4  La Coruña            Galicia   \n",
       "\n",
       "                                              titulo  precio  habitaciones  \\\n",
       "0                                                NaN     NaN           NaN   \n",
       "1           Chalet pareado en A Zapateira, Culleredo  1100.0           4.0   \n",
       "2   Chalet pareado en Elviña - A Zapateira, A Coruña  1100.0           4.0   \n",
       "3  Ático en avenida Pasaxe, 35, Los Castros - Cas...   450.0           NaN   \n",
       "4  Piso en calle de Fernando III o Santo, 9, Ensa...  1000.0           4.0   \n",
       "\n",
       "                         metros  total inmuebles/comunidad  \n",
       "0                           NaN                       1751  \n",
       "1                           243                       1751  \n",
       "2                           243                       1751  \n",
       "3  Planta 4ª exterior con ascen                       1751  \n",
       "4                           100                       1751  "
      ]
     },
     "execution_count": 3,
     "metadata": {},
     "output_type": "execute_result"
    }
   ],
   "source": [
    "rent.head()"
   ]
  },
  {
   "cell_type": "code",
   "execution_count": 4,
   "metadata": {},
   "outputs": [
    {
     "data": {
      "text/plain": [
       "(79749, 8)"
      ]
     },
     "execution_count": 4,
     "metadata": {},
     "output_type": "execute_result"
    }
   ],
   "source": [
    "rent.shape"
   ]
  },
  {
   "cell_type": "code",
   "execution_count": 5,
   "metadata": {},
   "outputs": [
    {
     "name": "stdout",
     "output_type": "stream",
     "text": [
      "79749 Column1\n",
      "53 provincia\n",
      "20 comunidad autonoma\n",
      "36502 titulo\n",
      "834 precio\n",
      "24 habitaciones\n",
      "720 metros\n",
      "53 total inmuebles/comunidad\n"
     ]
    }
   ],
   "source": [
    "print(rent[\"Column1\"].nunique(),\"Column1\" )\n",
    "print(rent[\"provincia\"].nunique(), \"provincia\")\n",
    "print(rent[\"comunidad autonoma\"].nunique(),\"comunidad autonoma\")\n",
    "print(rent[\"titulo\"].nunique(),\"titulo\")\n",
    "print(rent[\"precio\"].nunique(),\"precio\")\n",
    "print(rent[\"habitaciones\"].nunique(),\"habitaciones\")\n",
    "print(rent[\"metros\"].nunique(),\"metros\")\n",
    "print(rent[\"total inmuebles/comunidad\"].nunique(),\"total inmuebles/comunidad\")"
   ]
  },
  {
   "cell_type": "code",
   "execution_count": 6,
   "metadata": {},
   "outputs": [
    {
     "data": {
      "text/plain": [
       "Column1                         0\n",
       "provincia                       2\n",
       "comunidad autonoma              7\n",
       "titulo                          8\n",
       "precio                          4\n",
       "habitaciones                 3707\n",
       "metros                         15\n",
       "total inmuebles/comunidad       0\n",
       "dtype: int64"
      ]
     },
     "execution_count": 6,
     "metadata": {},
     "output_type": "execute_result"
    }
   ],
   "source": [
    "# show null/NA values per column\n",
    "rent.isnull().sum()"
   ]
  },
  {
   "cell_type": "code",
   "execution_count": 7,
   "metadata": {},
   "outputs": [
    {
     "name": "stdout",
     "output_type": "stream",
     "text": [
      "Int64Index([    0,  6435, 26136, 30775, 31019, 31043, 34376, 34377, 34391,\n",
      "            34392, 70341, 79703, 79704, 79709],\n",
      "           dtype='int64')\n"
     ]
    },
    {
     "data": {
      "text/plain": [
       "14"
      ]
     },
     "execution_count": 7,
     "metadata": {},
     "output_type": "execute_result"
    }
   ],
   "source": [
    "#Finding the rows with more than one NaN value\n",
    "rent_nan2 = rent.loc[rent.isnull().sum(1)>1].index\n",
    "print(rent_nan2)\n",
    "rent_nan2.value_counts().sum()"
   ]
  },
  {
   "cell_type": "code",
   "execution_count": 8,
   "metadata": {},
   "outputs": [],
   "source": [
    "#dropping the rows with more than one missing values\n",
    "rent2= rent.drop(rent_nan2)"
   ]
  },
  {
   "cell_type": "code",
   "execution_count": 9,
   "metadata": {},
   "outputs": [
    {
     "data": {
      "text/html": [
       "<div>\n",
       "<style scoped>\n",
       "    .dataframe tbody tr th:only-of-type {\n",
       "        vertical-align: middle;\n",
       "    }\n",
       "\n",
       "    .dataframe tbody tr th {\n",
       "        vertical-align: top;\n",
       "    }\n",
       "\n",
       "    .dataframe thead th {\n",
       "        text-align: right;\n",
       "    }\n",
       "</style>\n",
       "<table border=\"1\" class=\"dataframe\">\n",
       "  <thead>\n",
       "    <tr style=\"text-align: right;\">\n",
       "      <th></th>\n",
       "      <th>Column1</th>\n",
       "      <th>provincia</th>\n",
       "      <th>comunidad autonoma</th>\n",
       "      <th>titulo</th>\n",
       "      <th>precio</th>\n",
       "      <th>habitaciones</th>\n",
       "      <th>metros</th>\n",
       "      <th>total inmuebles/comunidad</th>\n",
       "    </tr>\n",
       "  </thead>\n",
       "  <tbody>\n",
       "    <tr>\n",
       "      <th>1</th>\n",
       "      <td>1</td>\n",
       "      <td>La Coruña</td>\n",
       "      <td>Galicia</td>\n",
       "      <td>Chalet pareado en A Zapateira, Culleredo</td>\n",
       "      <td>1100.0</td>\n",
       "      <td>4.0</td>\n",
       "      <td>243</td>\n",
       "      <td>1751</td>\n",
       "    </tr>\n",
       "    <tr>\n",
       "      <th>2</th>\n",
       "      <td>2</td>\n",
       "      <td>La Coruña</td>\n",
       "      <td>Galicia</td>\n",
       "      <td>Chalet pareado en Elviña - A Zapateira, A Coruña</td>\n",
       "      <td>1100.0</td>\n",
       "      <td>4.0</td>\n",
       "      <td>243</td>\n",
       "      <td>1751</td>\n",
       "    </tr>\n",
       "    <tr>\n",
       "      <th>3</th>\n",
       "      <td>3</td>\n",
       "      <td>La Coruña</td>\n",
       "      <td>Galicia</td>\n",
       "      <td>Ático en avenida Pasaxe, 35, Los Castros - Cas...</td>\n",
       "      <td>450.0</td>\n",
       "      <td>NaN</td>\n",
       "      <td>Planta 4ª exterior con ascen</td>\n",
       "      <td>1751</td>\n",
       "    </tr>\n",
       "    <tr>\n",
       "      <th>4</th>\n",
       "      <td>4</td>\n",
       "      <td>La Coruña</td>\n",
       "      <td>Galicia</td>\n",
       "      <td>Piso en calle de Fernando III o Santo, 9, Ensa...</td>\n",
       "      <td>1000.0</td>\n",
       "      <td>4.0</td>\n",
       "      <td>100</td>\n",
       "      <td>1751</td>\n",
       "    </tr>\n",
       "    <tr>\n",
       "      <th>5</th>\n",
       "      <td>5</td>\n",
       "      <td>La Coruña</td>\n",
       "      <td>Galicia</td>\n",
       "      <td>Piso en calle Manuel Jesús Méndez Búa, s/n, Ca...</td>\n",
       "      <td>450.0</td>\n",
       "      <td>2.0</td>\n",
       "      <td>76</td>\n",
       "      <td>1751</td>\n",
       "    </tr>\n",
       "  </tbody>\n",
       "</table>\n",
       "</div>"
      ],
      "text/plain": [
       "   Column1  provincia comunidad autonoma  \\\n",
       "1        1  La Coruña            Galicia   \n",
       "2        2  La Coruña            Galicia   \n",
       "3        3  La Coruña            Galicia   \n",
       "4        4  La Coruña            Galicia   \n",
       "5        5  La Coruña            Galicia   \n",
       "\n",
       "                                              titulo  precio  habitaciones  \\\n",
       "1           Chalet pareado en A Zapateira, Culleredo  1100.0           4.0   \n",
       "2   Chalet pareado en Elviña - A Zapateira, A Coruña  1100.0           4.0   \n",
       "3  Ático en avenida Pasaxe, 35, Los Castros - Cas...   450.0           NaN   \n",
       "4  Piso en calle de Fernando III o Santo, 9, Ensa...  1000.0           4.0   \n",
       "5  Piso en calle Manuel Jesús Méndez Búa, s/n, Ca...   450.0           2.0   \n",
       "\n",
       "                         metros  total inmuebles/comunidad  \n",
       "1                           243                       1751  \n",
       "2                           243                       1751  \n",
       "3  Planta 4ª exterior con ascen                       1751  \n",
       "4                           100                       1751  \n",
       "5                            76                       1751  "
      ]
     },
     "execution_count": 9,
     "metadata": {},
     "output_type": "execute_result"
    }
   ],
   "source": [
    "rent2.head()"
   ]
  },
  {
   "cell_type": "code",
   "execution_count": 10,
   "metadata": {},
   "outputs": [
    {
     "name": "stdout",
     "output_type": "stream",
     "text": [
      "Int64Index([], dtype='int64')\n"
     ]
    },
    {
     "data": {
      "text/plain": [
       "0"
      ]
     },
     "execution_count": 10,
     "metadata": {},
     "output_type": "execute_result"
    }
   ],
   "source": [
    "#Finding the rows with more than one NaN value\n",
    "rent_nan3 = rent2.loc[rent.isnull().sum(1)>1].index\n",
    "print(rent_nan3)\n",
    "rent_nan3.value_counts().sum()"
   ]
  },
  {
   "cell_type": "code",
   "execution_count": 11,
   "metadata": {},
   "outputs": [
    {
     "name": "stdout",
     "output_type": "stream",
     "text": [
      "       Column1 provincia comunidad autonoma  \\\n",
      "79726    79726  Zaragoza                NaN   \n",
      "79740    79740  Zaragoza                NaN   \n",
      "\n",
      "                                                  titulo  precio  \\\n",
      "79726  Piso en calle vicente monforte, 10, San José, ...   655.0   \n",
      "79740  Piso en calle Madre Sacramento, 1, Doctor Cerr...   700.0   \n",
      "\n",
      "       habitaciones metros  total inmuebles/comunidad  \n",
      "79726           2.0     60                       1277  \n",
      "79740           2.0     70                       1277  \n"
     ]
    }
   ],
   "source": [
    "print(rent2[rent2['comunidad autonoma'].isnull()])"
   ]
  },
  {
   "cell_type": "code",
   "execution_count": 12,
   "metadata": {},
   "outputs": [],
   "source": [
    "#replacing NaN values from comunidad autonoma by provincia\n",
    "rent2.loc[rent2['comunidad autonoma'].isnull(),'comunidad autonoma'] = rent2[\"provincia\"]\n",
    "\n",
    "\n",
    "\n"
   ]
  },
  {
   "cell_type": "code",
   "execution_count": 13,
   "metadata": {},
   "outputs": [
    {
     "data": {
      "text/plain": [
       "0"
      ]
     },
     "execution_count": 13,
     "metadata": {},
     "output_type": "execute_result"
    }
   ],
   "source": [
    "#finding duplicates rows\n",
    "rent2.duplicated().sum()"
   ]
  },
  {
   "cell_type": "code",
   "execution_count": 14,
   "metadata": {},
   "outputs": [
    {
     "data": {
      "text/plain": [
       "Column1                         0\n",
       "provincia                       1\n",
       "comunidad autonoma              0\n",
       "titulo                          0\n",
       "precio                          0\n",
       "habitaciones                 3696\n",
       "metros                          5\n",
       "total inmuebles/comunidad       0\n",
       "dtype: int64"
      ]
     },
     "execution_count": 14,
     "metadata": {},
     "output_type": "execute_result"
    }
   ],
   "source": [
    "# show null/NA values per column\n",
    "rent2.isnull().sum()"
   ]
  },
  {
   "cell_type": "code",
   "execution_count": 15,
   "metadata": {},
   "outputs": [
    {
     "name": "stdout",
     "output_type": "stream",
     "text": [
      "       Column1 provincia comunidad autonoma  \\\n",
      "79743    79743       NaN             Aragon   \n",
      "\n",
      "                                                  titulo  precio  \\\n",
      "79743  Piso en calle santa teresa de jesus, 2, Univer...   750.0   \n",
      "\n",
      "       habitaciones metros  total inmuebles/comunidad  \n",
      "79743           3.0     90                       1277  \n"
     ]
    }
   ],
   "source": [
    "print(rent2[rent2['provincia'].isnull()])"
   ]
  },
  {
   "cell_type": "code",
   "execution_count": 16,
   "metadata": {},
   "outputs": [
    {
     "name": "stdout",
     "output_type": "stream",
     "text": [
      "Piso en calle santa teresa de jesus, 2, Universidad San Francisco, Zaragoza\n"
     ]
    }
   ],
   "source": [
    "print(rent2.loc[79743, ['titulo']]['titulo'])"
   ]
  },
  {
   "cell_type": "code",
   "execution_count": 17,
   "metadata": {},
   "outputs": [],
   "source": [
    "#from titulo, which is the whole address, take the last element after splitting by commas, to know the city \n",
    "rent2['ciudad'] = rent2['titulo'].str.split(',').str[-1]"
   ]
  },
  {
   "cell_type": "code",
   "execution_count": 18,
   "metadata": {},
   "outputs": [
    {
     "data": {
      "text/html": [
       "<div>\n",
       "<style scoped>\n",
       "    .dataframe tbody tr th:only-of-type {\n",
       "        vertical-align: middle;\n",
       "    }\n",
       "\n",
       "    .dataframe tbody tr th {\n",
       "        vertical-align: top;\n",
       "    }\n",
       "\n",
       "    .dataframe thead th {\n",
       "        text-align: right;\n",
       "    }\n",
       "</style>\n",
       "<table border=\"1\" class=\"dataframe\">\n",
       "  <thead>\n",
       "    <tr style=\"text-align: right;\">\n",
       "      <th></th>\n",
       "      <th>Column1</th>\n",
       "      <th>provincia</th>\n",
       "      <th>comunidad autonoma</th>\n",
       "      <th>titulo</th>\n",
       "      <th>precio</th>\n",
       "      <th>habitaciones</th>\n",
       "      <th>metros</th>\n",
       "      <th>total inmuebles/comunidad</th>\n",
       "      <th>ciudad</th>\n",
       "    </tr>\n",
       "  </thead>\n",
       "  <tbody>\n",
       "    <tr>\n",
       "      <th>1</th>\n",
       "      <td>1</td>\n",
       "      <td>La Coruña</td>\n",
       "      <td>Galicia</td>\n",
       "      <td>Chalet pareado en A Zapateira, Culleredo</td>\n",
       "      <td>1100.0</td>\n",
       "      <td>4.0</td>\n",
       "      <td>243</td>\n",
       "      <td>1751</td>\n",
       "      <td>Culleredo</td>\n",
       "    </tr>\n",
       "    <tr>\n",
       "      <th>2</th>\n",
       "      <td>2</td>\n",
       "      <td>La Coruña</td>\n",
       "      <td>Galicia</td>\n",
       "      <td>Chalet pareado en Elviña - A Zapateira, A Coruña</td>\n",
       "      <td>1100.0</td>\n",
       "      <td>4.0</td>\n",
       "      <td>243</td>\n",
       "      <td>1751</td>\n",
       "      <td>A Coruña</td>\n",
       "    </tr>\n",
       "    <tr>\n",
       "      <th>3</th>\n",
       "      <td>3</td>\n",
       "      <td>La Coruña</td>\n",
       "      <td>Galicia</td>\n",
       "      <td>Ático en avenida Pasaxe, 35, Los Castros - Cas...</td>\n",
       "      <td>450.0</td>\n",
       "      <td>NaN</td>\n",
       "      <td>Planta 4ª exterior con ascen</td>\n",
       "      <td>1751</td>\n",
       "      <td>A Coruña</td>\n",
       "    </tr>\n",
       "    <tr>\n",
       "      <th>4</th>\n",
       "      <td>4</td>\n",
       "      <td>La Coruña</td>\n",
       "      <td>Galicia</td>\n",
       "      <td>Piso en calle de Fernando III o Santo, 9, Ensa...</td>\n",
       "      <td>1000.0</td>\n",
       "      <td>4.0</td>\n",
       "      <td>100</td>\n",
       "      <td>1751</td>\n",
       "      <td>Santiago de Compostela</td>\n",
       "    </tr>\n",
       "    <tr>\n",
       "      <th>5</th>\n",
       "      <td>5</td>\n",
       "      <td>La Coruña</td>\n",
       "      <td>Galicia</td>\n",
       "      <td>Piso en calle Manuel Jesús Méndez Búa, s/n, Ca...</td>\n",
       "      <td>450.0</td>\n",
       "      <td>2.0</td>\n",
       "      <td>76</td>\n",
       "      <td>1751</td>\n",
       "      <td>Carral</td>\n",
       "    </tr>\n",
       "  </tbody>\n",
       "</table>\n",
       "</div>"
      ],
      "text/plain": [
       "   Column1  provincia comunidad autonoma  \\\n",
       "1        1  La Coruña            Galicia   \n",
       "2        2  La Coruña            Galicia   \n",
       "3        3  La Coruña            Galicia   \n",
       "4        4  La Coruña            Galicia   \n",
       "5        5  La Coruña            Galicia   \n",
       "\n",
       "                                              titulo  precio  habitaciones  \\\n",
       "1           Chalet pareado en A Zapateira, Culleredo  1100.0           4.0   \n",
       "2   Chalet pareado en Elviña - A Zapateira, A Coruña  1100.0           4.0   \n",
       "3  Ático en avenida Pasaxe, 35, Los Castros - Cas...   450.0           NaN   \n",
       "4  Piso en calle de Fernando III o Santo, 9, Ensa...  1000.0           4.0   \n",
       "5  Piso en calle Manuel Jesús Méndez Búa, s/n, Ca...   450.0           2.0   \n",
       "\n",
       "                         metros  total inmuebles/comunidad  \\\n",
       "1                           243                       1751   \n",
       "2                           243                       1751   \n",
       "3  Planta 4ª exterior con ascen                       1751   \n",
       "4                           100                       1751   \n",
       "5                            76                       1751   \n",
       "\n",
       "                    ciudad  \n",
       "1                Culleredo  \n",
       "2                 A Coruña  \n",
       "3                 A Coruña  \n",
       "4   Santiago de Compostela  \n",
       "5                   Carral  "
      ]
     },
     "execution_count": 18,
     "metadata": {},
     "output_type": "execute_result"
    }
   ],
   "source": [
    "rent2.head()"
   ]
  },
  {
   "cell_type": "code",
   "execution_count": 19,
   "metadata": {},
   "outputs": [],
   "source": [
    "#replacing NaN values from provincia by comunidad autonoma\n",
    "rent2.loc[rent2['provincia'].isnull(),'provincia'] = rent2[\"ciudad\"]"
   ]
  },
  {
   "cell_type": "code",
   "execution_count": 20,
   "metadata": {},
   "outputs": [
    {
     "name": "stdout",
     "output_type": "stream",
     "text": [
      "Column1                                                                  79743\n",
      "provincia                                                             Zaragoza\n",
      "comunidad autonoma                                                      Aragon\n",
      "titulo                       Piso en calle santa teresa de jesus, 2, Univer...\n",
      "precio                                                                   750.0\n",
      "habitaciones                                                               3.0\n",
      "metros                                                                      90\n",
      "total inmuebles/comunidad                                                 1277\n",
      "ciudad                                                                Zaragoza\n",
      "Name: 79743, dtype: object\n"
     ]
    }
   ],
   "source": [
    "print(rent2.loc[79743])"
   ]
  },
  {
   "cell_type": "code",
   "execution_count": 21,
   "metadata": {},
   "outputs": [
    {
     "data": {
      "text/html": [
       "<div>\n",
       "<style scoped>\n",
       "    .dataframe tbody tr th:only-of-type {\n",
       "        vertical-align: middle;\n",
       "    }\n",
       "\n",
       "    .dataframe tbody tr th {\n",
       "        vertical-align: top;\n",
       "    }\n",
       "\n",
       "    .dataframe thead th {\n",
       "        text-align: right;\n",
       "    }\n",
       "</style>\n",
       "<table border=\"1\" class=\"dataframe\">\n",
       "  <thead>\n",
       "    <tr style=\"text-align: right;\">\n",
       "      <th></th>\n",
       "      <th>Column1</th>\n",
       "      <th>provincia</th>\n",
       "      <th>comunidad autonoma</th>\n",
       "      <th>titulo</th>\n",
       "      <th>precio</th>\n",
       "      <th>habitaciones</th>\n",
       "      <th>metros</th>\n",
       "      <th>total inmuebles/comunidad</th>\n",
       "      <th>ciudad</th>\n",
       "    </tr>\n",
       "  </thead>\n",
       "  <tbody>\n",
       "    <tr>\n",
       "      <th>1</th>\n",
       "      <td>1</td>\n",
       "      <td>La Coruña</td>\n",
       "      <td>Galicia</td>\n",
       "      <td>Chalet pareado en A Zapateira, Culleredo</td>\n",
       "      <td>1100.0</td>\n",
       "      <td>4.0</td>\n",
       "      <td>243</td>\n",
       "      <td>1751</td>\n",
       "      <td>Culleredo</td>\n",
       "    </tr>\n",
       "    <tr>\n",
       "      <th>2</th>\n",
       "      <td>2</td>\n",
       "      <td>La Coruña</td>\n",
       "      <td>Galicia</td>\n",
       "      <td>Chalet pareado en Elviña - A Zapateira, A Coruña</td>\n",
       "      <td>1100.0</td>\n",
       "      <td>4.0</td>\n",
       "      <td>243</td>\n",
       "      <td>1751</td>\n",
       "      <td>A Coruña</td>\n",
       "    </tr>\n",
       "    <tr>\n",
       "      <th>3</th>\n",
       "      <td>3</td>\n",
       "      <td>La Coruña</td>\n",
       "      <td>Galicia</td>\n",
       "      <td>Ático en avenida Pasaxe, 35, Los Castros - Cas...</td>\n",
       "      <td>450.0</td>\n",
       "      <td>NaN</td>\n",
       "      <td>Planta 4ª exterior con ascen</td>\n",
       "      <td>1751</td>\n",
       "      <td>A Coruña</td>\n",
       "    </tr>\n",
       "    <tr>\n",
       "      <th>4</th>\n",
       "      <td>4</td>\n",
       "      <td>La Coruña</td>\n",
       "      <td>Galicia</td>\n",
       "      <td>Piso en calle de Fernando III o Santo, 9, Ensa...</td>\n",
       "      <td>1000.0</td>\n",
       "      <td>4.0</td>\n",
       "      <td>100</td>\n",
       "      <td>1751</td>\n",
       "      <td>Santiago de Compostela</td>\n",
       "    </tr>\n",
       "    <tr>\n",
       "      <th>5</th>\n",
       "      <td>5</td>\n",
       "      <td>La Coruña</td>\n",
       "      <td>Galicia</td>\n",
       "      <td>Piso en calle Manuel Jesús Méndez Búa, s/n, Ca...</td>\n",
       "      <td>450.0</td>\n",
       "      <td>2.0</td>\n",
       "      <td>76</td>\n",
       "      <td>1751</td>\n",
       "      <td>Carral</td>\n",
       "    </tr>\n",
       "  </tbody>\n",
       "</table>\n",
       "</div>"
      ],
      "text/plain": [
       "   Column1  provincia comunidad autonoma  \\\n",
       "1        1  La Coruña            Galicia   \n",
       "2        2  La Coruña            Galicia   \n",
       "3        3  La Coruña            Galicia   \n",
       "4        4  La Coruña            Galicia   \n",
       "5        5  La Coruña            Galicia   \n",
       "\n",
       "                                              titulo  precio  habitaciones  \\\n",
       "1           Chalet pareado en A Zapateira, Culleredo  1100.0           4.0   \n",
       "2   Chalet pareado en Elviña - A Zapateira, A Coruña  1100.0           4.0   \n",
       "3  Ático en avenida Pasaxe, 35, Los Castros - Cas...   450.0           NaN   \n",
       "4  Piso en calle de Fernando III o Santo, 9, Ensa...  1000.0           4.0   \n",
       "5  Piso en calle Manuel Jesús Méndez Búa, s/n, Ca...   450.0           2.0   \n",
       "\n",
       "                         metros  total inmuebles/comunidad  \\\n",
       "1                           243                       1751   \n",
       "2                           243                       1751   \n",
       "3  Planta 4ª exterior con ascen                       1751   \n",
       "4                           100                       1751   \n",
       "5                            76                       1751   \n",
       "\n",
       "                    ciudad  \n",
       "1                Culleredo  \n",
       "2                 A Coruña  \n",
       "3                 A Coruña  \n",
       "4   Santiago de Compostela  \n",
       "5                   Carral  "
      ]
     },
     "execution_count": 21,
     "metadata": {},
     "output_type": "execute_result"
    }
   ],
   "source": [
    "rent2.head()"
   ]
  },
  {
   "cell_type": "code",
   "execution_count": 22,
   "metadata": {},
   "outputs": [],
   "source": [
    "rent2.rename(columns={'titulo':'direccion'}, inplace=True)\n",
    "rent2.rename(columns={'comunidad autonoma':'comunidad_autonoma'}, inplace=True)\n",
    "rent2.rename(columns={'total inmuebles/comunidad':'total_inmuebles/comunidad'}, inplace=True)\n",
    "rent2.rename(columns={'Column1':'indice'}, inplace=True)"
   ]
  },
  {
   "cell_type": "code",
   "execution_count": 23,
   "metadata": {},
   "outputs": [
    {
     "data": {
      "text/html": [
       "<div>\n",
       "<style scoped>\n",
       "    .dataframe tbody tr th:only-of-type {\n",
       "        vertical-align: middle;\n",
       "    }\n",
       "\n",
       "    .dataframe tbody tr th {\n",
       "        vertical-align: top;\n",
       "    }\n",
       "\n",
       "    .dataframe thead th {\n",
       "        text-align: right;\n",
       "    }\n",
       "</style>\n",
       "<table border=\"1\" class=\"dataframe\">\n",
       "  <thead>\n",
       "    <tr style=\"text-align: right;\">\n",
       "      <th></th>\n",
       "      <th>indice</th>\n",
       "      <th>provincia</th>\n",
       "      <th>comunidad_autonoma</th>\n",
       "      <th>direccion</th>\n",
       "      <th>precio</th>\n",
       "      <th>habitaciones</th>\n",
       "      <th>metros</th>\n",
       "      <th>total_inmuebles/comunidad</th>\n",
       "      <th>ciudad</th>\n",
       "    </tr>\n",
       "  </thead>\n",
       "  <tbody>\n",
       "    <tr>\n",
       "      <th>1</th>\n",
       "      <td>1</td>\n",
       "      <td>La Coruña</td>\n",
       "      <td>Galicia</td>\n",
       "      <td>Chalet pareado en A Zapateira, Culleredo</td>\n",
       "      <td>1100.0</td>\n",
       "      <td>4.0</td>\n",
       "      <td>243</td>\n",
       "      <td>1751</td>\n",
       "      <td>Culleredo</td>\n",
       "    </tr>\n",
       "    <tr>\n",
       "      <th>2</th>\n",
       "      <td>2</td>\n",
       "      <td>La Coruña</td>\n",
       "      <td>Galicia</td>\n",
       "      <td>Chalet pareado en Elviña - A Zapateira, A Coruña</td>\n",
       "      <td>1100.0</td>\n",
       "      <td>4.0</td>\n",
       "      <td>243</td>\n",
       "      <td>1751</td>\n",
       "      <td>A Coruña</td>\n",
       "    </tr>\n",
       "    <tr>\n",
       "      <th>3</th>\n",
       "      <td>3</td>\n",
       "      <td>La Coruña</td>\n",
       "      <td>Galicia</td>\n",
       "      <td>Ático en avenida Pasaxe, 35, Los Castros - Cas...</td>\n",
       "      <td>450.0</td>\n",
       "      <td>NaN</td>\n",
       "      <td>Planta 4ª exterior con ascen</td>\n",
       "      <td>1751</td>\n",
       "      <td>A Coruña</td>\n",
       "    </tr>\n",
       "    <tr>\n",
       "      <th>4</th>\n",
       "      <td>4</td>\n",
       "      <td>La Coruña</td>\n",
       "      <td>Galicia</td>\n",
       "      <td>Piso en calle de Fernando III o Santo, 9, Ensa...</td>\n",
       "      <td>1000.0</td>\n",
       "      <td>4.0</td>\n",
       "      <td>100</td>\n",
       "      <td>1751</td>\n",
       "      <td>Santiago de Compostela</td>\n",
       "    </tr>\n",
       "    <tr>\n",
       "      <th>5</th>\n",
       "      <td>5</td>\n",
       "      <td>La Coruña</td>\n",
       "      <td>Galicia</td>\n",
       "      <td>Piso en calle Manuel Jesús Méndez Búa, s/n, Ca...</td>\n",
       "      <td>450.0</td>\n",
       "      <td>2.0</td>\n",
       "      <td>76</td>\n",
       "      <td>1751</td>\n",
       "      <td>Carral</td>\n",
       "    </tr>\n",
       "  </tbody>\n",
       "</table>\n",
       "</div>"
      ],
      "text/plain": [
       "   indice  provincia comunidad_autonoma  \\\n",
       "1       1  La Coruña            Galicia   \n",
       "2       2  La Coruña            Galicia   \n",
       "3       3  La Coruña            Galicia   \n",
       "4       4  La Coruña            Galicia   \n",
       "5       5  La Coruña            Galicia   \n",
       "\n",
       "                                           direccion  precio  habitaciones  \\\n",
       "1           Chalet pareado en A Zapateira, Culleredo  1100.0           4.0   \n",
       "2   Chalet pareado en Elviña - A Zapateira, A Coruña  1100.0           4.0   \n",
       "3  Ático en avenida Pasaxe, 35, Los Castros - Cas...   450.0           NaN   \n",
       "4  Piso en calle de Fernando III o Santo, 9, Ensa...  1000.0           4.0   \n",
       "5  Piso en calle Manuel Jesús Méndez Búa, s/n, Ca...   450.0           2.0   \n",
       "\n",
       "                         metros  total_inmuebles/comunidad  \\\n",
       "1                           243                       1751   \n",
       "2                           243                       1751   \n",
       "3  Planta 4ª exterior con ascen                       1751   \n",
       "4                           100                       1751   \n",
       "5                            76                       1751   \n",
       "\n",
       "                    ciudad  \n",
       "1                Culleredo  \n",
       "2                 A Coruña  \n",
       "3                 A Coruña  \n",
       "4   Santiago de Compostela  \n",
       "5                   Carral  "
      ]
     },
     "execution_count": 23,
     "metadata": {},
     "output_type": "execute_result"
    }
   ],
   "source": [
    "rent2.head()"
   ]
  },
  {
   "cell_type": "code",
   "execution_count": 24,
   "metadata": {},
   "outputs": [
    {
     "data": {
      "text/plain": [
       "indice                          0\n",
       "provincia                       0\n",
       "comunidad_autonoma              0\n",
       "direccion                       0\n",
       "precio                          0\n",
       "habitaciones                 3696\n",
       "metros                          5\n",
       "total_inmuebles/comunidad       0\n",
       "ciudad                          0\n",
       "dtype: int64"
      ]
     },
     "execution_count": 24,
     "metadata": {},
     "output_type": "execute_result"
    }
   ],
   "source": [
    "# show null/NA values per column\n",
    "rent2.isnull().sum()"
   ]
  },
  {
   "cell_type": "code",
   "execution_count": 25,
   "metadata": {},
   "outputs": [
    {
     "data": {
      "text/plain": [
       "indice                          0\n",
       "provincia                       0\n",
       "comunidad_autonoma              0\n",
       "direccion                       0\n",
       "precio                          0\n",
       "habitaciones                 3696\n",
       "metros                          5\n",
       "total_inmuebles/comunidad       0\n",
       "ciudad                          0\n",
       "dtype: int64"
      ]
     },
     "execution_count": 25,
     "metadata": {},
     "output_type": "execute_result"
    }
   ],
   "source": [
    "# show null/NA values per column\n",
    "rent2.isnull().sum()"
   ]
  },
  {
   "cell_type": "code",
   "execution_count": 26,
   "metadata": {},
   "outputs": [
    {
     "name": "stdout",
     "output_type": "stream",
     "text": [
      "       indice                   provincia  comunidad_autonoma  \\\n",
      "658       658                   La Coruña             Galicia   \n",
      "24965   24965                   Cantabria           Cantabria   \n",
      "27447   27447                 Ciudad Real  Castilla La Mancha   \n",
      "28757   28757                      Cuenca  Castilla La Mancha   \n",
      "37045   37045  Las Palmas de Gran Canaria            Canarias   \n",
      "\n",
      "                                               direccion  precio  \\\n",
      "658    Casa o chalet independiente en Lugar Seixas, 7...   650.0   \n",
      "24965  Casa o chalet independiente en lepanto, 10, El...  5000.0   \n",
      "27447  Casa de pueblo en plaza de San Juan, 6, Villan...   650.0   \n",
      "28757  Castillo en calle Palomar, 1, Valhermoso de la...   200.0   \n",
      "37045  Casa o chalet independiente en Montaña Roja, 1...  1200.0   \n",
      "\n",
      "       habitaciones metros  total_inmuebles/comunidad  \\\n",
      "658             3.0    NaN                       1751   \n",
      "24965           6.0    NaN                       1275   \n",
      "27447           4.0    NaN                        554   \n",
      "28757           3.0    NaN                        115   \n",
      "37045           1.0    NaN                       1743   \n",
      "\n",
      "                            ciudad  \n",
      "658                        Monfero  \n",
      "24965                 El Astillero  \n",
      "27447   Villanueva de los Infantes  \n",
      "28757      Valhermoso de la Fuente  \n",
      "37045                        Yaiza  \n"
     ]
    }
   ],
   "source": [
    "\n",
    "print(rent2[rent2['metros'].isnull()])"
   ]
  },
  {
   "cell_type": "code",
   "execution_count": 27,
   "metadata": {},
   "outputs": [],
   "source": [
    "#dropping the rows with missing values in metros column to be able to replace the strings with Nan values in that column and then, \n",
    "#if there aren't a lot (less than 7000 rows), drop that rows too and take an average between metros and rooms to replace de nan values\n",
    "# of the rooms column\n",
    "rent2.drop([658], inplace= True)\n",
    "rent2.drop([24965], inplace= True)\n",
    "rent2.drop([27447], inplace= True)\n",
    "rent2.drop([28757], inplace= True)\n",
    "rent2.drop([37045], inplace= True)\n",
    "\n"
   ]
  },
  {
   "cell_type": "code",
   "execution_count": 28,
   "metadata": {},
   "outputs": [
    {
     "name": "stdout",
     "output_type": "stream",
     "text": [
      "Empty DataFrame\n",
      "Columns: [indice, provincia, comunidad_autonoma, direccion, precio, habitaciones, metros, total_inmuebles/comunidad, ciudad]\n",
      "Index: []\n"
     ]
    }
   ],
   "source": [
    "print(rent2[rent2['metros'].isnull()])"
   ]
  },
  {
   "cell_type": "code",
   "execution_count": 29,
   "metadata": {},
   "outputs": [
    {
     "data": {
      "text/plain": [
       "indice                          0\n",
       "provincia                       0\n",
       "comunidad_autonoma              0\n",
       "direccion                       0\n",
       "precio                          0\n",
       "habitaciones                 3696\n",
       "metros                          0\n",
       "total_inmuebles/comunidad       0\n",
       "ciudad                          0\n",
       "dtype: int64"
      ]
     },
     "execution_count": 29,
     "metadata": {},
     "output_type": "execute_result"
    }
   ],
   "source": [
    "# show null/NA values per column\n",
    "rent2.isnull().sum()"
   ]
  },
  {
   "cell_type": "code",
   "execution_count": 30,
   "metadata": {},
   "outputs": [],
   "source": [
    "#find non numeric values in the column metros\n",
    "rent2['metros'] = pd.to_numeric(rent2['metros'], errors='coerce')"
   ]
  },
  {
   "cell_type": "code",
   "execution_count": 31,
   "metadata": {},
   "outputs": [
    {
     "data": {
      "text/plain": [
       "indice                          0\n",
       "provincia                       0\n",
       "comunidad_autonoma              0\n",
       "direccion                       0\n",
       "precio                          0\n",
       "habitaciones                 3696\n",
       "metros                       4002\n",
       "total_inmuebles/comunidad       0\n",
       "ciudad                          0\n",
       "dtype: int64"
      ]
     },
     "execution_count": 31,
     "metadata": {},
     "output_type": "execute_result"
    }
   ],
   "source": [
    "# show null/NA values per column\n",
    "rent2.isnull().sum()"
   ]
  },
  {
   "cell_type": "code",
   "execution_count": 32,
   "metadata": {},
   "outputs": [
    {
     "name": "stdout",
     "output_type": "stream",
     "text": [
      "Int64Index([    3,    66,   103,   111,   125,   341,   408,   696,   698,\n",
      "              743,\n",
      "            ...\n",
      "            78935, 78984, 78992, 79091, 79284, 79302, 79432, 79631, 79689,\n",
      "            79707],\n",
      "           dtype='int64', length=3696)\n"
     ]
    },
    {
     "data": {
      "text/plain": [
       "3696"
      ]
     },
     "execution_count": 32,
     "metadata": {},
     "output_type": "execute_result"
    }
   ],
   "source": [
    "rent_nan4 = rent2.loc[rent2.isnull().sum(1)>1].index\n",
    "print(rent_nan4)\n",
    "rent_nan4.value_counts().sum()"
   ]
  },
  {
   "cell_type": "code",
   "execution_count": 33,
   "metadata": {},
   "outputs": [],
   "source": [
    "rent2.drop(rent_nan4, inplace=True)"
   ]
  },
  {
   "cell_type": "code",
   "execution_count": 34,
   "metadata": {},
   "outputs": [
    {
     "data": {
      "text/plain": [
       "indice                         0\n",
       "provincia                      0\n",
       "comunidad_autonoma             0\n",
       "direccion                      0\n",
       "precio                         0\n",
       "habitaciones                   0\n",
       "metros                       306\n",
       "total_inmuebles/comunidad      0\n",
       "ciudad                         0\n",
       "dtype: int64"
      ]
     },
     "execution_count": 34,
     "metadata": {},
     "output_type": "execute_result"
    }
   ],
   "source": [
    "# show null/NA values per column\n",
    "rent2.isnull().sum()"
   ]
  },
  {
   "cell_type": "code",
   "execution_count": 35,
   "metadata": {},
   "outputs": [
    {
     "data": {
      "text/html": [
       "<div>\n",
       "<style scoped>\n",
       "    .dataframe tbody tr th:only-of-type {\n",
       "        vertical-align: middle;\n",
       "    }\n",
       "\n",
       "    .dataframe tbody tr th {\n",
       "        vertical-align: top;\n",
       "    }\n",
       "\n",
       "    .dataframe thead th {\n",
       "        text-align: right;\n",
       "    }\n",
       "</style>\n",
       "<table border=\"1\" class=\"dataframe\">\n",
       "  <thead>\n",
       "    <tr style=\"text-align: right;\">\n",
       "      <th></th>\n",
       "      <th>precio</th>\n",
       "      <th>habitaciones</th>\n",
       "      <th>metros</th>\n",
       "      <th>total_inmuebles/comunidad</th>\n",
       "    </tr>\n",
       "  </thead>\n",
       "  <tbody>\n",
       "    <tr>\n",
       "      <th>precio</th>\n",
       "      <td>1.000000</td>\n",
       "      <td>0.252328</td>\n",
       "      <td>0.191173</td>\n",
       "      <td>0.119026</td>\n",
       "    </tr>\n",
       "    <tr>\n",
       "      <th>habitaciones</th>\n",
       "      <td>0.252328</td>\n",
       "      <td>1.000000</td>\n",
       "      <td>0.240437</td>\n",
       "      <td>-0.125700</td>\n",
       "    </tr>\n",
       "    <tr>\n",
       "      <th>metros</th>\n",
       "      <td>0.191173</td>\n",
       "      <td>0.240437</td>\n",
       "      <td>1.000000</td>\n",
       "      <td>-0.017772</td>\n",
       "    </tr>\n",
       "    <tr>\n",
       "      <th>total_inmuebles/comunidad</th>\n",
       "      <td>0.119026</td>\n",
       "      <td>-0.125700</td>\n",
       "      <td>-0.017772</td>\n",
       "      <td>1.000000</td>\n",
       "    </tr>\n",
       "  </tbody>\n",
       "</table>\n",
       "</div>"
      ],
      "text/plain": [
       "                             precio  habitaciones    metros  \\\n",
       "precio                     1.000000      0.252328  0.191173   \n",
       "habitaciones               0.252328      1.000000  0.240437   \n",
       "metros                     0.191173      0.240437  1.000000   \n",
       "total_inmuebles/comunidad  0.119026     -0.125700 -0.017772   \n",
       "\n",
       "                           total_inmuebles/comunidad  \n",
       "precio                                      0.119026  \n",
       "habitaciones                               -0.125700  \n",
       "metros                                     -0.017772  \n",
       "total_inmuebles/comunidad                   1.000000  "
      ]
     },
     "execution_count": 35,
     "metadata": {},
     "output_type": "execute_result"
    }
   ],
   "source": [
    "rent2[['precio','habitaciones','metros','total_inmuebles/comunidad' ]].corr()"
   ]
  },
  {
   "cell_type": "code",
   "execution_count": 36,
   "metadata": {},
   "outputs": [
    {
     "data": {
      "text/html": [
       "<div>\n",
       "<style scoped>\n",
       "    .dataframe tbody tr th:only-of-type {\n",
       "        vertical-align: middle;\n",
       "    }\n",
       "\n",
       "    .dataframe tbody tr th {\n",
       "        vertical-align: top;\n",
       "    }\n",
       "\n",
       "    .dataframe thead th {\n",
       "        text-align: right;\n",
       "    }\n",
       "</style>\n",
       "<table border=\"1\" class=\"dataframe\">\n",
       "  <thead>\n",
       "    <tr style=\"text-align: right;\">\n",
       "      <th></th>\n",
       "      <th>indice</th>\n",
       "      <th>precio</th>\n",
       "      <th>habitaciones</th>\n",
       "      <th>metros</th>\n",
       "      <th>total_inmuebles/comunidad</th>\n",
       "    </tr>\n",
       "  </thead>\n",
       "  <tbody>\n",
       "    <tr>\n",
       "      <th>count</th>\n",
       "      <td>76034.000000</td>\n",
       "      <td>76034.000000</td>\n",
       "      <td>76034.000000</td>\n",
       "      <td>75728.000000</td>\n",
       "      <td>76034.000000</td>\n",
       "    </tr>\n",
       "    <tr>\n",
       "      <th>mean</th>\n",
       "      <td>39603.852027</td>\n",
       "      <td>1279.777008</td>\n",
       "      <td>2.476129</td>\n",
       "      <td>105.740293</td>\n",
       "      <td>6145.926638</td>\n",
       "    </tr>\n",
       "    <tr>\n",
       "      <th>std</th>\n",
       "      <td>23248.750345</td>\n",
       "      <td>1694.785492</td>\n",
       "      <td>1.417906</td>\n",
       "      <td>197.879154</td>\n",
       "      <td>6367.652060</td>\n",
       "    </tr>\n",
       "    <tr>\n",
       "      <th>min</th>\n",
       "      <td>1.000000</td>\n",
       "      <td>0.000000</td>\n",
       "      <td>0.000000</td>\n",
       "      <td>1.000000</td>\n",
       "      <td>0.000000</td>\n",
       "    </tr>\n",
       "    <tr>\n",
       "      <th>25%</th>\n",
       "      <td>19310.250000</td>\n",
       "      <td>650.000000</td>\n",
       "      <td>2.000000</td>\n",
       "      <td>65.000000</td>\n",
       "      <td>1345.000000</td>\n",
       "    </tr>\n",
       "    <tr>\n",
       "      <th>50%</th>\n",
       "      <td>38980.500000</td>\n",
       "      <td>900.000000</td>\n",
       "      <td>2.000000</td>\n",
       "      <td>84.000000</td>\n",
       "      <td>3115.000000</td>\n",
       "    </tr>\n",
       "    <tr>\n",
       "      <th>75%</th>\n",
       "      <td>60068.750000</td>\n",
       "      <td>1400.000000</td>\n",
       "      <td>3.000000</td>\n",
       "      <td>114.000000</td>\n",
       "      <td>9455.000000</td>\n",
       "    </tr>\n",
       "    <tr>\n",
       "      <th>max</th>\n",
       "      <td>79748.000000</td>\n",
       "      <td>100000.000000</td>\n",
       "      <td>230.000000</td>\n",
       "      <td>50000.000000</td>\n",
       "      <td>17589.000000</td>\n",
       "    </tr>\n",
       "  </tbody>\n",
       "</table>\n",
       "</div>"
      ],
      "text/plain": [
       "             indice         precio  habitaciones        metros  \\\n",
       "count  76034.000000   76034.000000  76034.000000  75728.000000   \n",
       "mean   39603.852027    1279.777008      2.476129    105.740293   \n",
       "std    23248.750345    1694.785492      1.417906    197.879154   \n",
       "min        1.000000       0.000000      0.000000      1.000000   \n",
       "25%    19310.250000     650.000000      2.000000     65.000000   \n",
       "50%    38980.500000     900.000000      2.000000     84.000000   \n",
       "75%    60068.750000    1400.000000      3.000000    114.000000   \n",
       "max    79748.000000  100000.000000    230.000000  50000.000000   \n",
       "\n",
       "       total_inmuebles/comunidad  \n",
       "count               76034.000000  \n",
       "mean                 6145.926638  \n",
       "std                  6367.652060  \n",
       "min                     0.000000  \n",
       "25%                  1345.000000  \n",
       "50%                  3115.000000  \n",
       "75%                  9455.000000  \n",
       "max                 17589.000000  "
      ]
     },
     "execution_count": 36,
     "metadata": {},
     "output_type": "execute_result"
    }
   ],
   "source": [
    "rent2.describe()"
   ]
  },
  {
   "cell_type": "code",
   "execution_count": 37,
   "metadata": {},
   "outputs": [
    {
     "data": {
      "text/html": [
       "<div>\n",
       "<style scoped>\n",
       "    .dataframe tbody tr th:only-of-type {\n",
       "        vertical-align: middle;\n",
       "    }\n",
       "\n",
       "    .dataframe tbody tr th {\n",
       "        vertical-align: top;\n",
       "    }\n",
       "\n",
       "    .dataframe thead th {\n",
       "        text-align: right;\n",
       "    }\n",
       "</style>\n",
       "<table border=\"1\" class=\"dataframe\">\n",
       "  <thead>\n",
       "    <tr style=\"text-align: right;\">\n",
       "      <th></th>\n",
       "      <th>indice</th>\n",
       "      <th>provincia</th>\n",
       "      <th>comunidad_autonoma</th>\n",
       "      <th>direccion</th>\n",
       "      <th>precio</th>\n",
       "      <th>habitaciones</th>\n",
       "      <th>metros</th>\n",
       "      <th>total_inmuebles/comunidad</th>\n",
       "      <th>ciudad</th>\n",
       "    </tr>\n",
       "  </thead>\n",
       "  <tbody>\n",
       "    <tr>\n",
       "      <th>34358</th>\n",
       "      <td>34358</td>\n",
       "      <td>Huesca</td>\n",
       "      <td>Aragon</td>\n",
       "      <td>Piso en calle de Francia, 12, Sallent de Gallego</td>\n",
       "      <td>0.0</td>\n",
       "      <td>4.0</td>\n",
       "      <td>122.0</td>\n",
       "      <td>260</td>\n",
       "      <td>Sallent de Gallego</td>\n",
       "    </tr>\n",
       "    <tr>\n",
       "      <th>34361</th>\n",
       "      <td>34361</td>\n",
       "      <td>Huesca</td>\n",
       "      <td>Aragon</td>\n",
       "      <td>Dúplex en Urbanización Espata R5, 13, Villanúa</td>\n",
       "      <td>0.0</td>\n",
       "      <td>2.0</td>\n",
       "      <td>57.0</td>\n",
       "      <td>4444</td>\n",
       "      <td>Villanúa</td>\n",
       "    </tr>\n",
       "  </tbody>\n",
       "</table>\n",
       "</div>"
      ],
      "text/plain": [
       "       indice provincia comunidad_autonoma  \\\n",
       "34358   34358    Huesca             Aragon   \n",
       "34361   34361    Huesca             Aragon   \n",
       "\n",
       "                                              direccion  precio  habitaciones  \\\n",
       "34358  Piso en calle de Francia, 12, Sallent de Gallego     0.0           4.0   \n",
       "34361    Dúplex en Urbanización Espata R5, 13, Villanúa     0.0           2.0   \n",
       "\n",
       "       metros  total_inmuebles/comunidad               ciudad  \n",
       "34358   122.0                        260   Sallent de Gallego  \n",
       "34361    57.0                       4444             Villanúa  "
      ]
     },
     "execution_count": 37,
     "metadata": {},
     "output_type": "execute_result"
    }
   ],
   "source": [
    "#finding outliers from precio. A rent can not be for free but we can have a price of 100.000 euros\n",
    "precio_out = rent2[rent2['precio'] <= np.quantile(rent2['precio'], 0.00001)]\n",
    "precio_out"
   ]
  },
  {
   "cell_type": "code",
   "execution_count": 38,
   "metadata": {},
   "outputs": [],
   "source": [
    "rent2.drop([34358], inplace= True)\n",
    "rent2.drop([34361], inplace= True)"
   ]
  },
  {
   "cell_type": "code",
   "execution_count": 39,
   "metadata": {},
   "outputs": [
    {
     "data": {
      "text/html": [
       "<div>\n",
       "<style scoped>\n",
       "    .dataframe tbody tr th:only-of-type {\n",
       "        vertical-align: middle;\n",
       "    }\n",
       "\n",
       "    .dataframe tbody tr th {\n",
       "        vertical-align: top;\n",
       "    }\n",
       "\n",
       "    .dataframe thead th {\n",
       "        text-align: right;\n",
       "    }\n",
       "</style>\n",
       "<table border=\"1\" class=\"dataframe\">\n",
       "  <thead>\n",
       "    <tr style=\"text-align: right;\">\n",
       "      <th></th>\n",
       "      <th>indice</th>\n",
       "      <th>provincia</th>\n",
       "      <th>comunidad_autonoma</th>\n",
       "      <th>direccion</th>\n",
       "      <th>precio</th>\n",
       "      <th>habitaciones</th>\n",
       "      <th>metros</th>\n",
       "      <th>total_inmuebles/comunidad</th>\n",
       "      <th>ciudad</th>\n",
       "    </tr>\n",
       "  </thead>\n",
       "  <tbody>\n",
       "    <tr>\n",
       "      <th>34352</th>\n",
       "      <td>34352</td>\n",
       "      <td>Huesca</td>\n",
       "      <td>Aragon</td>\n",
       "      <td>Piso en calle Escuelas, 10, Biscarrués</td>\n",
       "      <td>350.0</td>\n",
       "      <td>0.0</td>\n",
       "      <td>50000.0</td>\n",
       "      <td>260</td>\n",
       "      <td>Biscarrués</td>\n",
       "    </tr>\n",
       "    <tr>\n",
       "      <th>34360</th>\n",
       "      <td>34360</td>\n",
       "      <td>Huesca</td>\n",
       "      <td>Aragon</td>\n",
       "      <td>Casa de pueblo en calle Escuelas, 7, Biscarrués</td>\n",
       "      <td>350.0</td>\n",
       "      <td>0.0</td>\n",
       "      <td>100.0</td>\n",
       "      <td>260</td>\n",
       "      <td>Biscarrués</td>\n",
       "    </tr>\n",
       "    <tr>\n",
       "      <th>34384</th>\n",
       "      <td>34384</td>\n",
       "      <td>Huesca</td>\n",
       "      <td>Aragon</td>\n",
       "      <td>Piso en Santiago, Huesca</td>\n",
       "      <td>680.0</td>\n",
       "      <td>0.0</td>\n",
       "      <td>100.0</td>\n",
       "      <td>260</td>\n",
       "      <td>Huesca</td>\n",
       "    </tr>\n",
       "  </tbody>\n",
       "</table>\n",
       "</div>"
      ],
      "text/plain": [
       "       indice provincia comunidad_autonoma  \\\n",
       "34352   34352    Huesca             Aragon   \n",
       "34360   34360    Huesca             Aragon   \n",
       "34384   34384    Huesca             Aragon   \n",
       "\n",
       "                                             direccion  precio  habitaciones  \\\n",
       "34352           Piso en calle Escuelas, 10, Biscarrués   350.0           0.0   \n",
       "34360  Casa de pueblo en calle Escuelas, 7, Biscarrués   350.0           0.0   \n",
       "34384                         Piso en Santiago, Huesca   680.0           0.0   \n",
       "\n",
       "        metros  total_inmuebles/comunidad       ciudad  \n",
       "34352  50000.0                        260   Biscarrués  \n",
       "34360    100.0                        260   Biscarrués  \n",
       "34384    100.0                        260       Huesca  "
      ]
     },
     "execution_count": 39,
     "metadata": {},
     "output_type": "execute_result"
    }
   ],
   "source": [
    "habitaciones_out = rent2[rent2['habitaciones'] <= np.quantile(rent2['habitaciones'], 0.00001)]\n",
    "habitaciones_out"
   ]
  },
  {
   "cell_type": "code",
   "execution_count": 40,
   "metadata": {},
   "outputs": [],
   "source": [
    "rent2.drop([34352], inplace= True)\n",
    "rent2.drop([34360], inplace= True)\n",
    "rent2.drop([34384], inplace= True)"
   ]
  },
  {
   "cell_type": "code",
   "execution_count": 41,
   "metadata": {},
   "outputs": [
    {
     "data": {
      "text/html": [
       "<div>\n",
       "<style scoped>\n",
       "    .dataframe tbody tr th:only-of-type {\n",
       "        vertical-align: middle;\n",
       "    }\n",
       "\n",
       "    .dataframe tbody tr th {\n",
       "        vertical-align: top;\n",
       "    }\n",
       "\n",
       "    .dataframe thead th {\n",
       "        text-align: right;\n",
       "    }\n",
       "</style>\n",
       "<table border=\"1\" class=\"dataframe\">\n",
       "  <thead>\n",
       "    <tr style=\"text-align: right;\">\n",
       "      <th></th>\n",
       "      <th>precio</th>\n",
       "      <th>habitaciones</th>\n",
       "      <th>metros</th>\n",
       "      <th>total_inmuebles/comunidad</th>\n",
       "    </tr>\n",
       "  </thead>\n",
       "  <tbody>\n",
       "    <tr>\n",
       "      <th>precio</th>\n",
       "      <td>1.000000</td>\n",
       "      <td>0.252322</td>\n",
       "      <td>0.481836</td>\n",
       "      <td>0.119000</td>\n",
       "    </tr>\n",
       "    <tr>\n",
       "      <th>habitaciones</th>\n",
       "      <td>0.252322</td>\n",
       "      <td>1.000000</td>\n",
       "      <td>0.618232</td>\n",
       "      <td>-0.125763</td>\n",
       "    </tr>\n",
       "    <tr>\n",
       "      <th>metros</th>\n",
       "      <td>0.481836</td>\n",
       "      <td>0.618232</td>\n",
       "      <td>1.000000</td>\n",
       "      <td>-0.036710</td>\n",
       "    </tr>\n",
       "    <tr>\n",
       "      <th>total_inmuebles/comunidad</th>\n",
       "      <td>0.119000</td>\n",
       "      <td>-0.125763</td>\n",
       "      <td>-0.036710</td>\n",
       "      <td>1.000000</td>\n",
       "    </tr>\n",
       "  </tbody>\n",
       "</table>\n",
       "</div>"
      ],
      "text/plain": [
       "                             precio  habitaciones    metros  \\\n",
       "precio                     1.000000      0.252322  0.481836   \n",
       "habitaciones               0.252322      1.000000  0.618232   \n",
       "metros                     0.481836      0.618232  1.000000   \n",
       "total_inmuebles/comunidad  0.119000     -0.125763 -0.036710   \n",
       "\n",
       "                           total_inmuebles/comunidad  \n",
       "precio                                      0.119000  \n",
       "habitaciones                               -0.125763  \n",
       "metros                                     -0.036710  \n",
       "total_inmuebles/comunidad                   1.000000  "
      ]
     },
     "execution_count": 41,
     "metadata": {},
     "output_type": "execute_result"
    }
   ],
   "source": [
    "rent2[['precio','habitaciones','metros','total_inmuebles/comunidad']].corr()"
   ]
  },
  {
   "cell_type": "code",
   "execution_count": 42,
   "metadata": {},
   "outputs": [
    {
     "data": {
      "text/html": [
       "<div>\n",
       "<style scoped>\n",
       "    .dataframe tbody tr th:only-of-type {\n",
       "        vertical-align: middle;\n",
       "    }\n",
       "\n",
       "    .dataframe tbody tr th {\n",
       "        vertical-align: top;\n",
       "    }\n",
       "\n",
       "    .dataframe thead th {\n",
       "        text-align: right;\n",
       "    }\n",
       "</style>\n",
       "<table border=\"1\" class=\"dataframe\">\n",
       "  <thead>\n",
       "    <tr style=\"text-align: right;\">\n",
       "      <th></th>\n",
       "      <th>indice</th>\n",
       "      <th>provincia</th>\n",
       "      <th>comunidad_autonoma</th>\n",
       "      <th>direccion</th>\n",
       "      <th>precio</th>\n",
       "      <th>habitaciones</th>\n",
       "      <th>metros</th>\n",
       "      <th>total_inmuebles/comunidad</th>\n",
       "      <th>ciudad</th>\n",
       "    </tr>\n",
       "  </thead>\n",
       "  <tbody>\n",
       "    <tr>\n",
       "      <th>34354</th>\n",
       "      <td>34354</td>\n",
       "      <td>Huesca</td>\n",
       "      <td>Aragon</td>\n",
       "      <td>Piso en carretera Pamplona, 2, Puente la Reina...</td>\n",
       "      <td>360.0</td>\n",
       "      <td>2.0</td>\n",
       "      <td>65.0</td>\n",
       "      <td>0</td>\n",
       "      <td>Puente la Reina de Jaca</td>\n",
       "    </tr>\n",
       "  </tbody>\n",
       "</table>\n",
       "</div>"
      ],
      "text/plain": [
       "       indice provincia comunidad_autonoma  \\\n",
       "34354   34354    Huesca             Aragon   \n",
       "\n",
       "                                               direccion  precio  \\\n",
       "34354  Piso en carretera Pamplona, 2, Puente la Reina...   360.0   \n",
       "\n",
       "       habitaciones  metros  total_inmuebles/comunidad  \\\n",
       "34354           2.0    65.0                          0   \n",
       "\n",
       "                         ciudad  \n",
       "34354   Puente la Reina de Jaca  "
      ]
     },
     "execution_count": 42,
     "metadata": {},
     "output_type": "execute_result"
    }
   ],
   "source": [
    "totalinm_out = rent2[rent2['total_inmuebles/comunidad'] <= np.quantile(rent2['total_inmuebles/comunidad'], 0.00001)]\n",
    "totalinm_out"
   ]
  },
  {
   "cell_type": "code",
   "execution_count": 43,
   "metadata": {},
   "outputs": [],
   "source": [
    "rent2.drop([34354], inplace= True)"
   ]
  },
  {
   "cell_type": "code",
   "execution_count": 44,
   "metadata": {},
   "outputs": [
    {
     "data": {
      "text/html": [
       "<div>\n",
       "<style scoped>\n",
       "    .dataframe tbody tr th:only-of-type {\n",
       "        vertical-align: middle;\n",
       "    }\n",
       "\n",
       "    .dataframe tbody tr th {\n",
       "        vertical-align: top;\n",
       "    }\n",
       "\n",
       "    .dataframe thead th {\n",
       "        text-align: right;\n",
       "    }\n",
       "</style>\n",
       "<table border=\"1\" class=\"dataframe\">\n",
       "  <thead>\n",
       "    <tr style=\"text-align: right;\">\n",
       "      <th></th>\n",
       "      <th>precio</th>\n",
       "      <th>habitaciones</th>\n",
       "      <th>metros</th>\n",
       "      <th>total_inmuebles/comunidad</th>\n",
       "    </tr>\n",
       "  </thead>\n",
       "  <tbody>\n",
       "    <tr>\n",
       "      <th>precio</th>\n",
       "      <td>1.000000</td>\n",
       "      <td>0.252321</td>\n",
       "      <td>0.481834</td>\n",
       "      <td>0.118994</td>\n",
       "    </tr>\n",
       "    <tr>\n",
       "      <th>habitaciones</th>\n",
       "      <td>0.252321</td>\n",
       "      <td>1.000000</td>\n",
       "      <td>0.618231</td>\n",
       "      <td>-0.125769</td>\n",
       "    </tr>\n",
       "    <tr>\n",
       "      <th>metros</th>\n",
       "      <td>0.481834</td>\n",
       "      <td>0.618231</td>\n",
       "      <td>1.000000</td>\n",
       "      <td>-0.036717</td>\n",
       "    </tr>\n",
       "    <tr>\n",
       "      <th>total_inmuebles/comunidad</th>\n",
       "      <td>0.118994</td>\n",
       "      <td>-0.125769</td>\n",
       "      <td>-0.036717</td>\n",
       "      <td>1.000000</td>\n",
       "    </tr>\n",
       "  </tbody>\n",
       "</table>\n",
       "</div>"
      ],
      "text/plain": [
       "                             precio  habitaciones    metros  \\\n",
       "precio                     1.000000      0.252321  0.481834   \n",
       "habitaciones               0.252321      1.000000  0.618231   \n",
       "metros                     0.481834      0.618231  1.000000   \n",
       "total_inmuebles/comunidad  0.118994     -0.125769 -0.036717   \n",
       "\n",
       "                           total_inmuebles/comunidad  \n",
       "precio                                      0.118994  \n",
       "habitaciones                               -0.125769  \n",
       "metros                                     -0.036717  \n",
       "total_inmuebles/comunidad                   1.000000  "
      ]
     },
     "execution_count": 44,
     "metadata": {},
     "output_type": "execute_result"
    }
   ],
   "source": [
    "rent2[['precio','habitaciones','metros','total_inmuebles/comunidad']].corr()"
   ]
  },
  {
   "cell_type": "code",
   "execution_count": 45,
   "metadata": {},
   "outputs": [
    {
     "data": {
      "text/html": [
       "<div>\n",
       "<style scoped>\n",
       "    .dataframe tbody tr th:only-of-type {\n",
       "        vertical-align: middle;\n",
       "    }\n",
       "\n",
       "    .dataframe tbody tr th {\n",
       "        vertical-align: top;\n",
       "    }\n",
       "\n",
       "    .dataframe thead th {\n",
       "        text-align: right;\n",
       "    }\n",
       "</style>\n",
       "<table border=\"1\" class=\"dataframe\">\n",
       "  <thead>\n",
       "    <tr style=\"text-align: right;\">\n",
       "      <th></th>\n",
       "      <th>indice</th>\n",
       "      <th>provincia</th>\n",
       "      <th>comunidad_autonoma</th>\n",
       "      <th>direccion</th>\n",
       "      <th>precio</th>\n",
       "      <th>habitaciones</th>\n",
       "      <th>metros</th>\n",
       "      <th>total_inmuebles/comunidad</th>\n",
       "      <th>ciudad</th>\n",
       "    </tr>\n",
       "  </thead>\n",
       "  <tbody>\n",
       "    <tr>\n",
       "      <th>34351</th>\n",
       "      <td>34351</td>\n",
       "      <td>Huesca</td>\n",
       "      <td>Aragon</td>\n",
       "      <td>Estudio en calle Barranco, 10, Graus</td>\n",
       "      <td>350.0</td>\n",
       "      <td>230.0</td>\n",
       "      <td>NaN</td>\n",
       "      <td>260</td>\n",
       "      <td>Graus</td>\n",
       "    </tr>\n",
       "  </tbody>\n",
       "</table>\n",
       "</div>"
      ],
      "text/plain": [
       "       indice provincia comunidad_autonoma  \\\n",
       "34351   34351    Huesca             Aragon   \n",
       "\n",
       "                                  direccion  precio  habitaciones  metros  \\\n",
       "34351  Estudio en calle Barranco, 10, Graus   350.0         230.0     NaN   \n",
       "\n",
       "       total_inmuebles/comunidad  ciudad  \n",
       "34351                        260   Graus  "
      ]
     },
     "execution_count": 45,
     "metadata": {},
     "output_type": "execute_result"
    }
   ],
   "source": [
    "habitaciones_max = rent2[rent2['habitaciones'] >= np.quantile(rent2['habitaciones'], 0.99999)]\n",
    "habitaciones_max"
   ]
  },
  {
   "cell_type": "code",
   "execution_count": 46,
   "metadata": {},
   "outputs": [],
   "source": [
    "rent2.drop([34351], inplace= True)"
   ]
  },
  {
   "cell_type": "code",
   "execution_count": 47,
   "metadata": {},
   "outputs": [
    {
     "data": {
      "text/html": [
       "<div>\n",
       "<style scoped>\n",
       "    .dataframe tbody tr th:only-of-type {\n",
       "        vertical-align: middle;\n",
       "    }\n",
       "\n",
       "    .dataframe tbody tr th {\n",
       "        vertical-align: top;\n",
       "    }\n",
       "\n",
       "    .dataframe thead th {\n",
       "        text-align: right;\n",
       "    }\n",
       "</style>\n",
       "<table border=\"1\" class=\"dataframe\">\n",
       "  <thead>\n",
       "    <tr style=\"text-align: right;\">\n",
       "      <th></th>\n",
       "      <th>precio</th>\n",
       "      <th>habitaciones</th>\n",
       "      <th>metros</th>\n",
       "      <th>total_inmuebles/comunidad</th>\n",
       "    </tr>\n",
       "  </thead>\n",
       "  <tbody>\n",
       "    <tr>\n",
       "      <th>precio</th>\n",
       "      <td>1.000000</td>\n",
       "      <td>0.311706</td>\n",
       "      <td>0.481834</td>\n",
       "      <td>0.118989</td>\n",
       "    </tr>\n",
       "    <tr>\n",
       "      <th>habitaciones</th>\n",
       "      <td>0.311706</td>\n",
       "      <td>1.000000</td>\n",
       "      <td>0.618231</td>\n",
       "      <td>-0.152260</td>\n",
       "    </tr>\n",
       "    <tr>\n",
       "      <th>metros</th>\n",
       "      <td>0.481834</td>\n",
       "      <td>0.618231</td>\n",
       "      <td>1.000000</td>\n",
       "      <td>-0.036717</td>\n",
       "    </tr>\n",
       "    <tr>\n",
       "      <th>total_inmuebles/comunidad</th>\n",
       "      <td>0.118989</td>\n",
       "      <td>-0.152260</td>\n",
       "      <td>-0.036717</td>\n",
       "      <td>1.000000</td>\n",
       "    </tr>\n",
       "  </tbody>\n",
       "</table>\n",
       "</div>"
      ],
      "text/plain": [
       "                             precio  habitaciones    metros  \\\n",
       "precio                     1.000000      0.311706  0.481834   \n",
       "habitaciones               0.311706      1.000000  0.618231   \n",
       "metros                     0.481834      0.618231  1.000000   \n",
       "total_inmuebles/comunidad  0.118989     -0.152260 -0.036717   \n",
       "\n",
       "                           total_inmuebles/comunidad  \n",
       "precio                                      0.118989  \n",
       "habitaciones                               -0.152260  \n",
       "metros                                     -0.036717  \n",
       "total_inmuebles/comunidad                   1.000000  "
      ]
     },
     "execution_count": 47,
     "metadata": {},
     "output_type": "execute_result"
    }
   ],
   "source": [
    "rent2[['precio','habitaciones','metros','total_inmuebles/comunidad']].corr()"
   ]
  },
  {
   "cell_type": "code",
   "execution_count": 48,
   "metadata": {},
   "outputs": [
    {
     "data": {
      "text/plain": [
       "indice                         0\n",
       "provincia                      0\n",
       "comunidad_autonoma             0\n",
       "direccion                      0\n",
       "precio                         0\n",
       "habitaciones                   0\n",
       "metros                       305\n",
       "total_inmuebles/comunidad      0\n",
       "ciudad                         0\n",
       "dtype: int64"
      ]
     },
     "execution_count": 48,
     "metadata": {},
     "output_type": "execute_result"
    }
   ],
   "source": [
    "rent2.isnull().sum()"
   ]
  },
  {
   "cell_type": "code",
   "execution_count": 49,
   "metadata": {},
   "outputs": [
    {
     "name": "stdout",
     "output_type": "stream",
     "text": [
      "Int64Index([  540,  1500,  1503,  1723,  1753,  2104,  3540,  9408, 10926,\n",
      "            11280,\n",
      "            ...\n",
      "            67985, 71312, 71356, 72438, 72751, 72890, 73165, 73931, 77233,\n",
      "            79482],\n",
      "           dtype='int64', length=305)\n"
     ]
    },
    {
     "data": {
      "text/plain": [
       "305"
      ]
     },
     "execution_count": 49,
     "metadata": {},
     "output_type": "execute_result"
    }
   ],
   "source": [
    "rent_nan5 = rent2.loc[rent2.isnull().sum(1)>0].index\n",
    "print(rent_nan5)\n",
    "rent_nan5.value_counts().sum()"
   ]
  },
  {
   "cell_type": "code",
   "execution_count": 50,
   "metadata": {},
   "outputs": [],
   "source": [
    "rent2.drop(rent_nan5, inplace=True)"
   ]
  },
  {
   "cell_type": "code",
   "execution_count": 51,
   "metadata": {},
   "outputs": [
    {
     "data": {
      "text/plain": [
       "indice                       0\n",
       "provincia                    0\n",
       "comunidad_autonoma           0\n",
       "direccion                    0\n",
       "precio                       0\n",
       "habitaciones                 0\n",
       "metros                       0\n",
       "total_inmuebles/comunidad    0\n",
       "ciudad                       0\n",
       "dtype: int64"
      ]
     },
     "execution_count": 51,
     "metadata": {},
     "output_type": "execute_result"
    }
   ],
   "source": [
    "rent2.isnull().sum()"
   ]
  },
  {
   "cell_type": "code",
   "execution_count": 52,
   "metadata": {},
   "outputs": [
    {
     "data": {
      "text/html": [
       "<div>\n",
       "<style scoped>\n",
       "    .dataframe tbody tr th:only-of-type {\n",
       "        vertical-align: middle;\n",
       "    }\n",
       "\n",
       "    .dataframe tbody tr th {\n",
       "        vertical-align: top;\n",
       "    }\n",
       "\n",
       "    .dataframe thead th {\n",
       "        text-align: right;\n",
       "    }\n",
       "</style>\n",
       "<table border=\"1\" class=\"dataframe\">\n",
       "  <thead>\n",
       "    <tr style=\"text-align: right;\">\n",
       "      <th></th>\n",
       "      <th>indice</th>\n",
       "      <th>provincia</th>\n",
       "      <th>comunidad_autonoma</th>\n",
       "      <th>direccion</th>\n",
       "      <th>precio</th>\n",
       "      <th>habitaciones</th>\n",
       "      <th>metros</th>\n",
       "      <th>total_inmuebles/comunidad</th>\n",
       "      <th>ciudad</th>\n",
       "    </tr>\n",
       "  </thead>\n",
       "  <tbody>\n",
       "    <tr>\n",
       "      <th>1</th>\n",
       "      <td>1</td>\n",
       "      <td>La Coruña</td>\n",
       "      <td>Galicia</td>\n",
       "      <td>Chalet pareado en A Zapateira, Culleredo</td>\n",
       "      <td>1100.0</td>\n",
       "      <td>4.0</td>\n",
       "      <td>243.0</td>\n",
       "      <td>1751</td>\n",
       "      <td>Culleredo</td>\n",
       "    </tr>\n",
       "    <tr>\n",
       "      <th>2</th>\n",
       "      <td>2</td>\n",
       "      <td>La Coruña</td>\n",
       "      <td>Galicia</td>\n",
       "      <td>Chalet pareado en Elviña - A Zapateira, A Coruña</td>\n",
       "      <td>1100.0</td>\n",
       "      <td>4.0</td>\n",
       "      <td>243.0</td>\n",
       "      <td>1751</td>\n",
       "      <td>A Coruña</td>\n",
       "    </tr>\n",
       "    <tr>\n",
       "      <th>4</th>\n",
       "      <td>4</td>\n",
       "      <td>La Coruña</td>\n",
       "      <td>Galicia</td>\n",
       "      <td>Piso en calle de Fernando III o Santo, 9, Ensa...</td>\n",
       "      <td>1000.0</td>\n",
       "      <td>4.0</td>\n",
       "      <td>100.0</td>\n",
       "      <td>1751</td>\n",
       "      <td>Santiago de Compostela</td>\n",
       "    </tr>\n",
       "    <tr>\n",
       "      <th>5</th>\n",
       "      <td>5</td>\n",
       "      <td>La Coruña</td>\n",
       "      <td>Galicia</td>\n",
       "      <td>Piso en calle Manuel Jesús Méndez Búa, s/n, Ca...</td>\n",
       "      <td>450.0</td>\n",
       "      <td>2.0</td>\n",
       "      <td>76.0</td>\n",
       "      <td>1751</td>\n",
       "      <td>Carral</td>\n",
       "    </tr>\n",
       "    <tr>\n",
       "      <th>6</th>\n",
       "      <td>6</td>\n",
       "      <td>La Coruña</td>\n",
       "      <td>Galicia</td>\n",
       "      <td>Piso en Os Mallos, A Coruña</td>\n",
       "      <td>800.0</td>\n",
       "      <td>4.0</td>\n",
       "      <td>100.0</td>\n",
       "      <td>1751</td>\n",
       "      <td>A Coruña</td>\n",
       "    </tr>\n",
       "    <tr>\n",
       "      <th>...</th>\n",
       "      <td>...</td>\n",
       "      <td>...</td>\n",
       "      <td>...</td>\n",
       "      <td>...</td>\n",
       "      <td>...</td>\n",
       "      <td>...</td>\n",
       "      <td>...</td>\n",
       "      <td>...</td>\n",
       "      <td>...</td>\n",
       "    </tr>\n",
       "    <tr>\n",
       "      <th>79744</th>\n",
       "      <td>79744</td>\n",
       "      <td>Zaragoza</td>\n",
       "      <td>Aragon</td>\n",
       "      <td>Piso en avenida De San Jose, 15, La Granja, Za...</td>\n",
       "      <td>890.0</td>\n",
       "      <td>3.0</td>\n",
       "      <td>90.0</td>\n",
       "      <td>1277</td>\n",
       "      <td>Zaragoza</td>\n",
       "    </tr>\n",
       "    <tr>\n",
       "      <th>79745</th>\n",
       "      <td>79745</td>\n",
       "      <td>Zaragoza</td>\n",
       "      <td>Aragon</td>\n",
       "      <td>Piso en calle Del parque, 40, Pinares de Venec...</td>\n",
       "      <td>550.0</td>\n",
       "      <td>2.0</td>\n",
       "      <td>70.0</td>\n",
       "      <td>1277</td>\n",
       "      <td>Zaragoza</td>\n",
       "    </tr>\n",
       "    <tr>\n",
       "      <th>79746</th>\n",
       "      <td>79746</td>\n",
       "      <td>Zaragoza</td>\n",
       "      <td>Aragon</td>\n",
       "      <td>Piso en callejón del Perro, 14, La Magdalena, ...</td>\n",
       "      <td>680.0</td>\n",
       "      <td>2.0</td>\n",
       "      <td>45.0</td>\n",
       "      <td>1277</td>\n",
       "      <td>Zaragoza</td>\n",
       "    </tr>\n",
       "    <tr>\n",
       "      <th>79747</th>\n",
       "      <td>79747</td>\n",
       "      <td>Zaragoza</td>\n",
       "      <td>Aragon</td>\n",
       "      <td>Piso en calle Almagro, 10, Doctor Cerrada, Zar...</td>\n",
       "      <td>600.0</td>\n",
       "      <td>1.0</td>\n",
       "      <td>55.0</td>\n",
       "      <td>1277</td>\n",
       "      <td>Zaragoza</td>\n",
       "    </tr>\n",
       "    <tr>\n",
       "      <th>79748</th>\n",
       "      <td>79748</td>\n",
       "      <td>Zaragoza</td>\n",
       "      <td>Aragon</td>\n",
       "      <td>Piso en calle MARQUÉS DE AHUMADA, 15, San José...</td>\n",
       "      <td>750.0</td>\n",
       "      <td>3.0</td>\n",
       "      <td>82.0</td>\n",
       "      <td>1277</td>\n",
       "      <td>Zaragoza</td>\n",
       "    </tr>\n",
       "  </tbody>\n",
       "</table>\n",
       "<p>75487 rows × 9 columns</p>\n",
       "</div>"
      ],
      "text/plain": [
       "       indice  provincia comunidad_autonoma  \\\n",
       "1           1  La Coruña            Galicia   \n",
       "2           2  La Coruña            Galicia   \n",
       "4           4  La Coruña            Galicia   \n",
       "5           5  La Coruña            Galicia   \n",
       "6           6  La Coruña            Galicia   \n",
       "...       ...        ...                ...   \n",
       "79744   79744   Zaragoza             Aragon   \n",
       "79745   79745   Zaragoza             Aragon   \n",
       "79746   79746   Zaragoza             Aragon   \n",
       "79747   79747   Zaragoza             Aragon   \n",
       "79748   79748   Zaragoza             Aragon   \n",
       "\n",
       "                                               direccion  precio  \\\n",
       "1               Chalet pareado en A Zapateira, Culleredo  1100.0   \n",
       "2       Chalet pareado en Elviña - A Zapateira, A Coruña  1100.0   \n",
       "4      Piso en calle de Fernando III o Santo, 9, Ensa...  1000.0   \n",
       "5      Piso en calle Manuel Jesús Méndez Búa, s/n, Ca...   450.0   \n",
       "6                            Piso en Os Mallos, A Coruña   800.0   \n",
       "...                                                  ...     ...   \n",
       "79744  Piso en avenida De San Jose, 15, La Granja, Za...   890.0   \n",
       "79745  Piso en calle Del parque, 40, Pinares de Venec...   550.0   \n",
       "79746  Piso en callejón del Perro, 14, La Magdalena, ...   680.0   \n",
       "79747  Piso en calle Almagro, 10, Doctor Cerrada, Zar...   600.0   \n",
       "79748  Piso en calle MARQUÉS DE AHUMADA, 15, San José...   750.0   \n",
       "\n",
       "       habitaciones  metros  total_inmuebles/comunidad  \\\n",
       "1               4.0   243.0                       1751   \n",
       "2               4.0   243.0                       1751   \n",
       "4               4.0   100.0                       1751   \n",
       "5               2.0    76.0                       1751   \n",
       "6               4.0   100.0                       1751   \n",
       "...             ...     ...                        ...   \n",
       "79744           3.0    90.0                       1277   \n",
       "79745           2.0    70.0                       1277   \n",
       "79746           2.0    45.0                       1277   \n",
       "79747           1.0    55.0                       1277   \n",
       "79748           3.0    82.0                       1277   \n",
       "\n",
       "                        ciudad  \n",
       "1                    Culleredo  \n",
       "2                     A Coruña  \n",
       "4       Santiago de Compostela  \n",
       "5                       Carral  \n",
       "6                     A Coruña  \n",
       "...                        ...  \n",
       "79744                 Zaragoza  \n",
       "79745                 Zaragoza  \n",
       "79746                 Zaragoza  \n",
       "79747                 Zaragoza  \n",
       "79748                 Zaragoza  \n",
       "\n",
       "[75487 rows x 9 columns]"
      ]
     },
     "execution_count": 52,
     "metadata": {},
     "output_type": "execute_result"
    }
   ],
   "source": [
    "rent2 = rent2[rent2['metros'] > np.quantile(rent2['metros'], 0.003)]\n",
    "rent2\n"
   ]
  },
  {
   "cell_type": "code",
   "execution_count": 53,
   "metadata": {},
   "outputs": [
    {
     "data": {
      "text/html": [
       "<div>\n",
       "<style scoped>\n",
       "    .dataframe tbody tr th:only-of-type {\n",
       "        vertical-align: middle;\n",
       "    }\n",
       "\n",
       "    .dataframe tbody tr th {\n",
       "        vertical-align: top;\n",
       "    }\n",
       "\n",
       "    .dataframe thead th {\n",
       "        text-align: right;\n",
       "    }\n",
       "</style>\n",
       "<table border=\"1\" class=\"dataframe\">\n",
       "  <thead>\n",
       "    <tr style=\"text-align: right;\">\n",
       "      <th></th>\n",
       "      <th>precio</th>\n",
       "      <th>habitaciones</th>\n",
       "      <th>metros</th>\n",
       "      <th>total_inmuebles/comunidad</th>\n",
       "    </tr>\n",
       "  </thead>\n",
       "  <tbody>\n",
       "    <tr>\n",
       "      <th>precio</th>\n",
       "      <td>1.000000</td>\n",
       "      <td>0.303135</td>\n",
       "      <td>0.571388</td>\n",
       "      <td>0.140151</td>\n",
       "    </tr>\n",
       "    <tr>\n",
       "      <th>habitaciones</th>\n",
       "      <td>0.303135</td>\n",
       "      <td>1.000000</td>\n",
       "      <td>0.637304</td>\n",
       "      <td>-0.153136</td>\n",
       "    </tr>\n",
       "    <tr>\n",
       "      <th>metros</th>\n",
       "      <td>0.571388</td>\n",
       "      <td>0.637304</td>\n",
       "      <td>1.000000</td>\n",
       "      <td>-0.038102</td>\n",
       "    </tr>\n",
       "    <tr>\n",
       "      <th>total_inmuebles/comunidad</th>\n",
       "      <td>0.140151</td>\n",
       "      <td>-0.153136</td>\n",
       "      <td>-0.038102</td>\n",
       "      <td>1.000000</td>\n",
       "    </tr>\n",
       "  </tbody>\n",
       "</table>\n",
       "</div>"
      ],
      "text/plain": [
       "                             precio  habitaciones    metros  \\\n",
       "precio                     1.000000      0.303135  0.571388   \n",
       "habitaciones               0.303135      1.000000  0.637304   \n",
       "metros                     0.571388      0.637304  1.000000   \n",
       "total_inmuebles/comunidad  0.140151     -0.153136 -0.038102   \n",
       "\n",
       "                           total_inmuebles/comunidad  \n",
       "precio                                      0.140151  \n",
       "habitaciones                               -0.153136  \n",
       "metros                                     -0.038102  \n",
       "total_inmuebles/comunidad                   1.000000  "
      ]
     },
     "execution_count": 53,
     "metadata": {},
     "output_type": "execute_result"
    }
   ],
   "source": [
    "rent2[['precio','habitaciones','metros','total_inmuebles/comunidad']].corr()"
   ]
  },
  {
   "cell_type": "code",
   "execution_count": 54,
   "metadata": {},
   "outputs": [],
   "source": [
    "rent2['provincia'] = rent2['provincia'].str.lower()\n",
    "rent2['comunidad_autonoma'] = rent2['comunidad_autonoma'].str.lower()\n",
    "rent2['ciudad'] = rent2['ciudad'].str.lower()"
   ]
  },
  {
   "cell_type": "code",
   "execution_count": 55,
   "metadata": {},
   "outputs": [],
   "source": [
    "rent2.drop('direccion', axis=1, inplace= True)"
   ]
  },
  {
   "cell_type": "code",
   "execution_count": 56,
   "metadata": {},
   "outputs": [],
   "source": [
    "#Rounded the numbers by .astype as an integer\n",
    "rent2['precio'] = rent2['precio'].astype(int)\n",
    "rent2['habitaciones'] = rent2['habitaciones'].astype(int)\n",
    "rent2['metros'] = rent2['metros'].astype(int)"
   ]
  },
  {
   "cell_type": "code",
   "execution_count": 57,
   "metadata": {},
   "outputs": [
    {
     "data": {
      "text/html": [
       "<div>\n",
       "<style scoped>\n",
       "    .dataframe tbody tr th:only-of-type {\n",
       "        vertical-align: middle;\n",
       "    }\n",
       "\n",
       "    .dataframe tbody tr th {\n",
       "        vertical-align: top;\n",
       "    }\n",
       "\n",
       "    .dataframe thead th {\n",
       "        text-align: right;\n",
       "    }\n",
       "</style>\n",
       "<table border=\"1\" class=\"dataframe\">\n",
       "  <thead>\n",
       "    <tr style=\"text-align: right;\">\n",
       "      <th></th>\n",
       "      <th>precio</th>\n",
       "      <th>habitaciones</th>\n",
       "      <th>metros</th>\n",
       "      <th>total_inmuebles/comunidad</th>\n",
       "    </tr>\n",
       "  </thead>\n",
       "  <tbody>\n",
       "    <tr>\n",
       "      <th>precio</th>\n",
       "      <td>1.000000</td>\n",
       "      <td>0.303135</td>\n",
       "      <td>0.571388</td>\n",
       "      <td>0.140151</td>\n",
       "    </tr>\n",
       "    <tr>\n",
       "      <th>habitaciones</th>\n",
       "      <td>0.303135</td>\n",
       "      <td>1.000000</td>\n",
       "      <td>0.637304</td>\n",
       "      <td>-0.153136</td>\n",
       "    </tr>\n",
       "    <tr>\n",
       "      <th>metros</th>\n",
       "      <td>0.571388</td>\n",
       "      <td>0.637304</td>\n",
       "      <td>1.000000</td>\n",
       "      <td>-0.038102</td>\n",
       "    </tr>\n",
       "    <tr>\n",
       "      <th>total_inmuebles/comunidad</th>\n",
       "      <td>0.140151</td>\n",
       "      <td>-0.153136</td>\n",
       "      <td>-0.038102</td>\n",
       "      <td>1.000000</td>\n",
       "    </tr>\n",
       "  </tbody>\n",
       "</table>\n",
       "</div>"
      ],
      "text/plain": [
       "                             precio  habitaciones    metros  \\\n",
       "precio                     1.000000      0.303135  0.571388   \n",
       "habitaciones               0.303135      1.000000  0.637304   \n",
       "metros                     0.571388      0.637304  1.000000   \n",
       "total_inmuebles/comunidad  0.140151     -0.153136 -0.038102   \n",
       "\n",
       "                           total_inmuebles/comunidad  \n",
       "precio                                      0.140151  \n",
       "habitaciones                               -0.153136  \n",
       "metros                                     -0.038102  \n",
       "total_inmuebles/comunidad                   1.000000  "
      ]
     },
     "execution_count": 57,
     "metadata": {},
     "output_type": "execute_result"
    }
   ],
   "source": [
    "rent2[['precio','habitaciones','metros','total_inmuebles/comunidad']].corr()"
   ]
  },
  {
   "cell_type": "code",
   "execution_count": 58,
   "metadata": {},
   "outputs": [
    {
     "data": {
      "text/html": [
       "<div>\n",
       "<style scoped>\n",
       "    .dataframe tbody tr th:only-of-type {\n",
       "        vertical-align: middle;\n",
       "    }\n",
       "\n",
       "    .dataframe tbody tr th {\n",
       "        vertical-align: top;\n",
       "    }\n",
       "\n",
       "    .dataframe thead th {\n",
       "        text-align: right;\n",
       "    }\n",
       "</style>\n",
       "<table border=\"1\" class=\"dataframe\">\n",
       "  <thead>\n",
       "    <tr style=\"text-align: right;\">\n",
       "      <th></th>\n",
       "      <th>indice</th>\n",
       "      <th>provincia</th>\n",
       "      <th>comunidad_autonoma</th>\n",
       "      <th>precio</th>\n",
       "      <th>habitaciones</th>\n",
       "      <th>metros</th>\n",
       "      <th>total_inmuebles/comunidad</th>\n",
       "      <th>ciudad</th>\n",
       "    </tr>\n",
       "  </thead>\n",
       "  <tbody>\n",
       "    <tr>\n",
       "      <th>1</th>\n",
       "      <td>1</td>\n",
       "      <td>la coruña</td>\n",
       "      <td>galicia</td>\n",
       "      <td>1100</td>\n",
       "      <td>4</td>\n",
       "      <td>243</td>\n",
       "      <td>1751</td>\n",
       "      <td>culleredo</td>\n",
       "    </tr>\n",
       "    <tr>\n",
       "      <th>2</th>\n",
       "      <td>2</td>\n",
       "      <td>la coruña</td>\n",
       "      <td>galicia</td>\n",
       "      <td>1100</td>\n",
       "      <td>4</td>\n",
       "      <td>243</td>\n",
       "      <td>1751</td>\n",
       "      <td>a coruña</td>\n",
       "    </tr>\n",
       "    <tr>\n",
       "      <th>4</th>\n",
       "      <td>4</td>\n",
       "      <td>la coruña</td>\n",
       "      <td>galicia</td>\n",
       "      <td>1000</td>\n",
       "      <td>4</td>\n",
       "      <td>100</td>\n",
       "      <td>1751</td>\n",
       "      <td>santiago de compostela</td>\n",
       "    </tr>\n",
       "    <tr>\n",
       "      <th>5</th>\n",
       "      <td>5</td>\n",
       "      <td>la coruña</td>\n",
       "      <td>galicia</td>\n",
       "      <td>450</td>\n",
       "      <td>2</td>\n",
       "      <td>76</td>\n",
       "      <td>1751</td>\n",
       "      <td>carral</td>\n",
       "    </tr>\n",
       "    <tr>\n",
       "      <th>6</th>\n",
       "      <td>6</td>\n",
       "      <td>la coruña</td>\n",
       "      <td>galicia</td>\n",
       "      <td>800</td>\n",
       "      <td>4</td>\n",
       "      <td>100</td>\n",
       "      <td>1751</td>\n",
       "      <td>a coruña</td>\n",
       "    </tr>\n",
       "  </tbody>\n",
       "</table>\n",
       "</div>"
      ],
      "text/plain": [
       "   indice  provincia comunidad_autonoma  precio  habitaciones  metros  \\\n",
       "1       1  la coruña            galicia    1100             4     243   \n",
       "2       2  la coruña            galicia    1100             4     243   \n",
       "4       4  la coruña            galicia    1000             4     100   \n",
       "5       5  la coruña            galicia     450             2      76   \n",
       "6       6  la coruña            galicia     800             4     100   \n",
       "\n",
       "   total_inmuebles/comunidad                   ciudad  \n",
       "1                       1751                culleredo  \n",
       "2                       1751                 a coruña  \n",
       "4                       1751   santiago de compostela  \n",
       "5                       1751                   carral  \n",
       "6                       1751                 a coruña  "
      ]
     },
     "execution_count": 58,
     "metadata": {},
     "output_type": "execute_result"
    }
   ],
   "source": [
    "rent2.head()"
   ]
  },
  {
   "cell_type": "code",
   "execution_count": 59,
   "metadata": {},
   "outputs": [],
   "source": [
    "rent2.to_csv('Spanish_renting.csv')"
   ]
  },
  {
   "cell_type": "code",
   "execution_count": 65,
   "metadata": {},
   "outputs": [],
   "source": [
    "from sqlalchemy import create_engine\n",
    "user = 'root'\n",
    "host = '127.0.0.1'\n",
    "password = 'ironjaime'\n",
    "port = 3306\n",
    "database = 'project_3_Spain'\n",
    "\n"
   ]
  },
  {
   "cell_type": "code",
   "execution_count": 66,
   "metadata": {},
   "outputs": [],
   "source": [
    "my_conn = create_engine(\"mysql+pymysql://{0}:{1}@{2}:{3}/{4}\".format(\n",
    "            user, password, host, port, database\n",
    "        ))"
   ]
  },
  {
   "cell_type": "code",
   "execution_count": 67,
   "metadata": {},
   "outputs": [],
   "source": [
    "db_conn = my_conn.connect()"
   ]
  },
  {
   "cell_type": "code",
   "execution_count": 68,
   "metadata": {},
   "outputs": [
    {
     "name": "stdout",
     "output_type": "stream",
     "text": [
      "Table spanishrenting created successfully.\n"
     ]
    }
   ],
   "source": [
    "try:\n",
    "    frame = rent2.to_sql(\"spanishrenting\", db_conn, if_exists='fail')\n",
    "except ValueError as vx:\n",
    "    print(vx)\n",
    "except Exception as ex:\n",
    "    print(ex)\n",
    "else:\n",
    "    print(\"Table %s created successfully.\"%\"spanishrenting\");\n",
    "finally:\n",
    "    db_conn.close()"
   ]
  },
  {
   "cell_type": "code",
   "execution_count": null,
   "metadata": {},
   "outputs": [],
   "source": []
  }
 ],
 "metadata": {
  "kernelspec": {
   "display_name": "Python 3.9.12 ('base')",
   "language": "python",
   "name": "python3"
  },
  "language_info": {
   "codemirror_mode": {
    "name": "ipython",
    "version": 3
   },
   "file_extension": ".py",
   "mimetype": "text/x-python",
   "name": "python",
   "nbconvert_exporter": "python",
   "pygments_lexer": "ipython3",
   "version": "3.9.12"
  },
  "orig_nbformat": 4,
  "vscode": {
   "interpreter": {
    "hash": "a3f3c9539b2b0d529c07b7548750098ae30aba30b940b3b3dd0f70005c5624b6"
   }
  }
 },
 "nbformat": 4,
 "nbformat_minor": 2
}
