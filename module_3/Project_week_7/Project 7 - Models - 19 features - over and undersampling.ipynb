{
 "cells": [
  {
   "cell_type": "code",
   "execution_count": 38,
   "id": "eaeac54b",
   "metadata": {},
   "outputs": [],
   "source": [
    "# Import your libraries:\n",
    "\n",
    "%matplotlib inline\n",
    "\n",
    "import numpy as np\n",
    "import pandas as pd\n",
    "import seaborn as sns\n",
    "import matplotlib.pyplot as plt\n",
    "from sklearn.model_selection import train_test_split\n",
    "from pandas.plotting import parallel_coordinates\n",
    "from sklearn.tree import DecisionTreeClassifier, plot_tree\n",
    "from sklearn import metrics\n",
    "from sklearn.naive_bayes import GaussianNB\n",
    "from sklearn.discriminant_analysis import LinearDiscriminantAnalysis, QuadraticDiscriminantAnalysis\n",
    "from sklearn.neighbors import KNeighborsClassifier\n",
    "from sklearn.svm import SVC\n",
    "from sklearn.linear_model import LogisticRegression\n",
    "from imblearn.under_sampling import RandomUnderSampler\n",
    "from imblearn.pipeline import Pipeline\n"
   ]
  },
  {
   "cell_type": "code",
   "execution_count": 16,
   "id": "4ce896c0",
   "metadata": {},
   "outputs": [
    {
     "name": "stdout",
     "output_type": "stream",
     "text": [
      "Requirement already satisfied: imblearn in c:\\users\\cleme\\anaconda3\\lib\\site-packages (0.0)\n",
      "Requirement already satisfied: imbalanced-learn in c:\\users\\cleme\\anaconda3\\lib\\site-packages (from imblearn) (0.9.1)\n",
      "Requirement already satisfied: threadpoolctl>=2.0.0 in c:\\users\\cleme\\anaconda3\\lib\\site-packages (from imbalanced-learn->imblearn) (2.2.0)\n",
      "Requirement already satisfied: scipy>=1.3.2 in c:\\users\\cleme\\anaconda3\\lib\\site-packages (from imbalanced-learn->imblearn) (1.7.3)\n",
      "Requirement already satisfied: numpy>=1.17.3 in c:\\users\\cleme\\anaconda3\\lib\\site-packages (from imbalanced-learn->imblearn) (1.21.5)\n",
      "Requirement already satisfied: scikit-learn>=1.1.0 in c:\\users\\cleme\\anaconda3\\lib\\site-packages (from imbalanced-learn->imblearn) (1.1.3)\n",
      "Requirement already satisfied: joblib>=1.0.0 in c:\\users\\cleme\\anaconda3\\lib\\site-packages (from imbalanced-learn->imblearn) (1.1.0)\n",
      "Note: you may need to restart the kernel to use updated packages.\n"
     ]
    }
   ],
   "source": [
    "pip install imblearn"
   ]
  },
  {
   "cell_type": "code",
   "execution_count": 17,
   "id": "ac7f588b",
   "metadata": {},
   "outputs": [],
   "source": [
    "from imblearn.over_sampling import SMOTE"
   ]
  },
  {
   "cell_type": "code",
   "execution_count": 18,
   "id": "05d6a308",
   "metadata": {},
   "outputs": [
    {
     "data": {
      "text/html": [
       "<div>\n",
       "<style scoped>\n",
       "    .dataframe tbody tr th:only-of-type {\n",
       "        vertical-align: middle;\n",
       "    }\n",
       "\n",
       "    .dataframe tbody tr th {\n",
       "        vertical-align: top;\n",
       "    }\n",
       "\n",
       "    .dataframe thead th {\n",
       "        text-align: right;\n",
       "    }\n",
       "</style>\n",
       "<table border=\"1\" class=\"dataframe\">\n",
       "  <thead>\n",
       "    <tr style=\"text-align: right;\">\n",
       "      <th></th>\n",
       "      <th>Bankrupt?</th>\n",
       "      <th>Operating_Gross_Margin</th>\n",
       "      <th>Operating_Profit_Rate</th>\n",
       "      <th>After-tax_net_Interest_Rate</th>\n",
       "      <th>Non-industry_income_and_expenditure/revenue</th>\n",
       "      <th>Operating_Expense_Rate</th>\n",
       "      <th>Research_and_development_expense_rate</th>\n",
       "      <th>Cash_flow_rate</th>\n",
       "      <th>Interest-bearing_debt_interest_rate</th>\n",
       "      <th>Tax_rate_(A)</th>\n",
       "      <th>...</th>\n",
       "      <th>Liability-Assets_Flag</th>\n",
       "      <th>Net_Income_to_Total_Assets</th>\n",
       "      <th>Total_assets_to_GNP_price</th>\n",
       "      <th>No-credit_Interval</th>\n",
       "      <th>Net_Income_to_Stockholder's_Equity</th>\n",
       "      <th>Liability_to_Equity</th>\n",
       "      <th>Degree_of_Financial_Leverage_(DFL)</th>\n",
       "      <th>Interest_Coverage_Ratio_(Interest_expense_to_EBIT)</th>\n",
       "      <th>Net_Income_Flag</th>\n",
       "      <th>Equity_to_Liability</th>\n",
       "    </tr>\n",
       "  </thead>\n",
       "  <tbody>\n",
       "    <tr>\n",
       "      <th>0</th>\n",
       "      <td>1</td>\n",
       "      <td>0.601457</td>\n",
       "      <td>0.998969</td>\n",
       "      <td>0.808809</td>\n",
       "      <td>0.302646</td>\n",
       "      <td>1.256969e-04</td>\n",
       "      <td>0.000000e+00</td>\n",
       "      <td>0.458143</td>\n",
       "      <td>7.250725e-04</td>\n",
       "      <td>0.000000</td>\n",
       "      <td>...</td>\n",
       "      <td>0</td>\n",
       "      <td>0.716845</td>\n",
       "      <td>0.009219</td>\n",
       "      <td>0.622879</td>\n",
       "      <td>0.827890</td>\n",
       "      <td>0.290202</td>\n",
       "      <td>0.026601</td>\n",
       "      <td>0.564050</td>\n",
       "      <td>1</td>\n",
       "      <td>0.016469</td>\n",
       "    </tr>\n",
       "    <tr>\n",
       "      <th>1</th>\n",
       "      <td>1</td>\n",
       "      <td>0.610235</td>\n",
       "      <td>0.998946</td>\n",
       "      <td>0.809301</td>\n",
       "      <td>0.303556</td>\n",
       "      <td>2.897851e-04</td>\n",
       "      <td>0.000000e+00</td>\n",
       "      <td>0.461867</td>\n",
       "      <td>6.470647e-04</td>\n",
       "      <td>0.000000</td>\n",
       "      <td>...</td>\n",
       "      <td>0</td>\n",
       "      <td>0.795297</td>\n",
       "      <td>0.008323</td>\n",
       "      <td>0.623652</td>\n",
       "      <td>0.839969</td>\n",
       "      <td>0.283846</td>\n",
       "      <td>0.264577</td>\n",
       "      <td>0.570175</td>\n",
       "      <td>1</td>\n",
       "      <td>0.020794</td>\n",
       "    </tr>\n",
       "    <tr>\n",
       "      <th>2</th>\n",
       "      <td>1</td>\n",
       "      <td>0.601450</td>\n",
       "      <td>0.998857</td>\n",
       "      <td>0.808388</td>\n",
       "      <td>0.302035</td>\n",
       "      <td>2.361297e-04</td>\n",
       "      <td>2.550000e+07</td>\n",
       "      <td>0.458521</td>\n",
       "      <td>7.900790e-04</td>\n",
       "      <td>0.000000</td>\n",
       "      <td>...</td>\n",
       "      <td>0</td>\n",
       "      <td>0.774670</td>\n",
       "      <td>0.040003</td>\n",
       "      <td>0.623841</td>\n",
       "      <td>0.836774</td>\n",
       "      <td>0.290189</td>\n",
       "      <td>0.026555</td>\n",
       "      <td>0.563706</td>\n",
       "      <td>1</td>\n",
       "      <td>0.016474</td>\n",
       "    </tr>\n",
       "    <tr>\n",
       "      <th>3</th>\n",
       "      <td>1</td>\n",
       "      <td>0.583541</td>\n",
       "      <td>0.998700</td>\n",
       "      <td>0.808966</td>\n",
       "      <td>0.303350</td>\n",
       "      <td>1.078888e-04</td>\n",
       "      <td>0.000000e+00</td>\n",
       "      <td>0.465705</td>\n",
       "      <td>4.490449e-04</td>\n",
       "      <td>0.000000</td>\n",
       "      <td>...</td>\n",
       "      <td>0</td>\n",
       "      <td>0.739555</td>\n",
       "      <td>0.003252</td>\n",
       "      <td>0.622929</td>\n",
       "      <td>0.834697</td>\n",
       "      <td>0.281721</td>\n",
       "      <td>0.026697</td>\n",
       "      <td>0.564663</td>\n",
       "      <td>1</td>\n",
       "      <td>0.023982</td>\n",
       "    </tr>\n",
       "    <tr>\n",
       "      <th>4</th>\n",
       "      <td>1</td>\n",
       "      <td>0.598783</td>\n",
       "      <td>0.998973</td>\n",
       "      <td>0.809304</td>\n",
       "      <td>0.303475</td>\n",
       "      <td>7.890000e+09</td>\n",
       "      <td>0.000000e+00</td>\n",
       "      <td>0.462746</td>\n",
       "      <td>6.860686e-04</td>\n",
       "      <td>0.000000</td>\n",
       "      <td>...</td>\n",
       "      <td>0</td>\n",
       "      <td>0.795016</td>\n",
       "      <td>0.003878</td>\n",
       "      <td>0.623521</td>\n",
       "      <td>0.839973</td>\n",
       "      <td>0.278514</td>\n",
       "      <td>0.024752</td>\n",
       "      <td>0.575617</td>\n",
       "      <td>1</td>\n",
       "      <td>0.035490</td>\n",
       "    </tr>\n",
       "    <tr>\n",
       "      <th>...</th>\n",
       "      <td>...</td>\n",
       "      <td>...</td>\n",
       "      <td>...</td>\n",
       "      <td>...</td>\n",
       "      <td>...</td>\n",
       "      <td>...</td>\n",
       "      <td>...</td>\n",
       "      <td>...</td>\n",
       "      <td>...</td>\n",
       "      <td>...</td>\n",
       "      <td>...</td>\n",
       "      <td>...</td>\n",
       "      <td>...</td>\n",
       "      <td>...</td>\n",
       "      <td>...</td>\n",
       "      <td>...</td>\n",
       "      <td>...</td>\n",
       "      <td>...</td>\n",
       "      <td>...</td>\n",
       "      <td>...</td>\n",
       "      <td>...</td>\n",
       "    </tr>\n",
       "    <tr>\n",
       "      <th>6814</th>\n",
       "      <td>0</td>\n",
       "      <td>0.604455</td>\n",
       "      <td>0.998992</td>\n",
       "      <td>0.809331</td>\n",
       "      <td>0.303510</td>\n",
       "      <td>1.510213e-04</td>\n",
       "      <td>4.500000e+09</td>\n",
       "      <td>0.463734</td>\n",
       "      <td>1.790179e-04</td>\n",
       "      <td>0.113372</td>\n",
       "      <td>...</td>\n",
       "      <td>0</td>\n",
       "      <td>0.799927</td>\n",
       "      <td>0.000466</td>\n",
       "      <td>0.623620</td>\n",
       "      <td>0.840359</td>\n",
       "      <td>0.279606</td>\n",
       "      <td>0.027064</td>\n",
       "      <td>0.566193</td>\n",
       "      <td>1</td>\n",
       "      <td>0.029890</td>\n",
       "    </tr>\n",
       "    <tr>\n",
       "      <th>6815</th>\n",
       "      <td>0</td>\n",
       "      <td>0.598308</td>\n",
       "      <td>0.998992</td>\n",
       "      <td>0.809327</td>\n",
       "      <td>0.303520</td>\n",
       "      <td>5.220000e+09</td>\n",
       "      <td>1.440000e+09</td>\n",
       "      <td>0.461978</td>\n",
       "      <td>2.370237e-04</td>\n",
       "      <td>0.371596</td>\n",
       "      <td>...</td>\n",
       "      <td>0</td>\n",
       "      <td>0.799748</td>\n",
       "      <td>0.001959</td>\n",
       "      <td>0.623931</td>\n",
       "      <td>0.840306</td>\n",
       "      <td>0.278132</td>\n",
       "      <td>0.027009</td>\n",
       "      <td>0.566018</td>\n",
       "      <td>1</td>\n",
       "      <td>0.038284</td>\n",
       "    </tr>\n",
       "    <tr>\n",
       "      <th>6816</th>\n",
       "      <td>0</td>\n",
       "      <td>0.610444</td>\n",
       "      <td>0.998984</td>\n",
       "      <td>0.809317</td>\n",
       "      <td>0.303512</td>\n",
       "      <td>2.509312e-04</td>\n",
       "      <td>1.039086e-04</td>\n",
       "      <td>0.472189</td>\n",
       "      <td>0.000000e+00</td>\n",
       "      <td>0.490839</td>\n",
       "      <td>...</td>\n",
       "      <td>0</td>\n",
       "      <td>0.797778</td>\n",
       "      <td>0.002840</td>\n",
       "      <td>0.624156</td>\n",
       "      <td>0.840138</td>\n",
       "      <td>0.275789</td>\n",
       "      <td>0.026791</td>\n",
       "      <td>0.565158</td>\n",
       "      <td>1</td>\n",
       "      <td>0.097649</td>\n",
       "    </tr>\n",
       "    <tr>\n",
       "      <th>6817</th>\n",
       "      <td>0</td>\n",
       "      <td>0.607850</td>\n",
       "      <td>0.999074</td>\n",
       "      <td>0.809399</td>\n",
       "      <td>0.303498</td>\n",
       "      <td>1.236154e-04</td>\n",
       "      <td>2.510000e+09</td>\n",
       "      <td>0.476123</td>\n",
       "      <td>2.110211e-04</td>\n",
       "      <td>0.181294</td>\n",
       "      <td>...</td>\n",
       "      <td>0</td>\n",
       "      <td>0.811808</td>\n",
       "      <td>0.002837</td>\n",
       "      <td>0.623957</td>\n",
       "      <td>0.841084</td>\n",
       "      <td>0.277547</td>\n",
       "      <td>0.026822</td>\n",
       "      <td>0.565302</td>\n",
       "      <td>1</td>\n",
       "      <td>0.044009</td>\n",
       "    </tr>\n",
       "    <tr>\n",
       "      <th>6818</th>\n",
       "      <td>0</td>\n",
       "      <td>0.627409</td>\n",
       "      <td>0.998080</td>\n",
       "      <td>0.813800</td>\n",
       "      <td>0.313415</td>\n",
       "      <td>1.431695e-03</td>\n",
       "      <td>0.000000e+00</td>\n",
       "      <td>0.427721</td>\n",
       "      <td>5.900000e+08</td>\n",
       "      <td>0.000000</td>\n",
       "      <td>...</td>\n",
       "      <td>0</td>\n",
       "      <td>0.815956</td>\n",
       "      <td>0.000707</td>\n",
       "      <td>0.626680</td>\n",
       "      <td>0.841019</td>\n",
       "      <td>0.275114</td>\n",
       "      <td>0.026793</td>\n",
       "      <td>0.565167</td>\n",
       "      <td>1</td>\n",
       "      <td>0.233902</td>\n",
       "    </tr>\n",
       "  </tbody>\n",
       "</table>\n",
       "<p>6819 rows × 78 columns</p>\n",
       "</div>"
      ],
      "text/plain": [
       "      Bankrupt?  Operating_Gross_Margin  Operating_Profit_Rate  \\\n",
       "0             1                0.601457               0.998969   \n",
       "1             1                0.610235               0.998946   \n",
       "2             1                0.601450               0.998857   \n",
       "3             1                0.583541               0.998700   \n",
       "4             1                0.598783               0.998973   \n",
       "...         ...                     ...                    ...   \n",
       "6814          0                0.604455               0.998992   \n",
       "6815          0                0.598308               0.998992   \n",
       "6816          0                0.610444               0.998984   \n",
       "6817          0                0.607850               0.999074   \n",
       "6818          0                0.627409               0.998080   \n",
       "\n",
       "      After-tax_net_Interest_Rate  \\\n",
       "0                        0.808809   \n",
       "1                        0.809301   \n",
       "2                        0.808388   \n",
       "3                        0.808966   \n",
       "4                        0.809304   \n",
       "...                           ...   \n",
       "6814                     0.809331   \n",
       "6815                     0.809327   \n",
       "6816                     0.809317   \n",
       "6817                     0.809399   \n",
       "6818                     0.813800   \n",
       "\n",
       "      Non-industry_income_and_expenditure/revenue  Operating_Expense_Rate  \\\n",
       "0                                        0.302646            1.256969e-04   \n",
       "1                                        0.303556            2.897851e-04   \n",
       "2                                        0.302035            2.361297e-04   \n",
       "3                                        0.303350            1.078888e-04   \n",
       "4                                        0.303475            7.890000e+09   \n",
       "...                                           ...                     ...   \n",
       "6814                                     0.303510            1.510213e-04   \n",
       "6815                                     0.303520            5.220000e+09   \n",
       "6816                                     0.303512            2.509312e-04   \n",
       "6817                                     0.303498            1.236154e-04   \n",
       "6818                                     0.313415            1.431695e-03   \n",
       "\n",
       "      Research_and_development_expense_rate  Cash_flow_rate  \\\n",
       "0                              0.000000e+00        0.458143   \n",
       "1                              0.000000e+00        0.461867   \n",
       "2                              2.550000e+07        0.458521   \n",
       "3                              0.000000e+00        0.465705   \n",
       "4                              0.000000e+00        0.462746   \n",
       "...                                     ...             ...   \n",
       "6814                           4.500000e+09        0.463734   \n",
       "6815                           1.440000e+09        0.461978   \n",
       "6816                           1.039086e-04        0.472189   \n",
       "6817                           2.510000e+09        0.476123   \n",
       "6818                           0.000000e+00        0.427721   \n",
       "\n",
       "      Interest-bearing_debt_interest_rate  Tax_rate_(A)  ...  \\\n",
       "0                            7.250725e-04      0.000000  ...   \n",
       "1                            6.470647e-04      0.000000  ...   \n",
       "2                            7.900790e-04      0.000000  ...   \n",
       "3                            4.490449e-04      0.000000  ...   \n",
       "4                            6.860686e-04      0.000000  ...   \n",
       "...                                   ...           ...  ...   \n",
       "6814                         1.790179e-04      0.113372  ...   \n",
       "6815                         2.370237e-04      0.371596  ...   \n",
       "6816                         0.000000e+00      0.490839  ...   \n",
       "6817                         2.110211e-04      0.181294  ...   \n",
       "6818                         5.900000e+08      0.000000  ...   \n",
       "\n",
       "      Liability-Assets_Flag  Net_Income_to_Total_Assets  \\\n",
       "0                         0                    0.716845   \n",
       "1                         0                    0.795297   \n",
       "2                         0                    0.774670   \n",
       "3                         0                    0.739555   \n",
       "4                         0                    0.795016   \n",
       "...                     ...                         ...   \n",
       "6814                      0                    0.799927   \n",
       "6815                      0                    0.799748   \n",
       "6816                      0                    0.797778   \n",
       "6817                      0                    0.811808   \n",
       "6818                      0                    0.815956   \n",
       "\n",
       "      Total_assets_to_GNP_price  No-credit_Interval  \\\n",
       "0                      0.009219            0.622879   \n",
       "1                      0.008323            0.623652   \n",
       "2                      0.040003            0.623841   \n",
       "3                      0.003252            0.622929   \n",
       "4                      0.003878            0.623521   \n",
       "...                         ...                 ...   \n",
       "6814                   0.000466            0.623620   \n",
       "6815                   0.001959            0.623931   \n",
       "6816                   0.002840            0.624156   \n",
       "6817                   0.002837            0.623957   \n",
       "6818                   0.000707            0.626680   \n",
       "\n",
       "      Net_Income_to_Stockholder's_Equity  Liability_to_Equity  \\\n",
       "0                               0.827890             0.290202   \n",
       "1                               0.839969             0.283846   \n",
       "2                               0.836774             0.290189   \n",
       "3                               0.834697             0.281721   \n",
       "4                               0.839973             0.278514   \n",
       "...                                  ...                  ...   \n",
       "6814                            0.840359             0.279606   \n",
       "6815                            0.840306             0.278132   \n",
       "6816                            0.840138             0.275789   \n",
       "6817                            0.841084             0.277547   \n",
       "6818                            0.841019             0.275114   \n",
       "\n",
       "      Degree_of_Financial_Leverage_(DFL)  \\\n",
       "0                               0.026601   \n",
       "1                               0.264577   \n",
       "2                               0.026555   \n",
       "3                               0.026697   \n",
       "4                               0.024752   \n",
       "...                                  ...   \n",
       "6814                            0.027064   \n",
       "6815                            0.027009   \n",
       "6816                            0.026791   \n",
       "6817                            0.026822   \n",
       "6818                            0.026793   \n",
       "\n",
       "      Interest_Coverage_Ratio_(Interest_expense_to_EBIT)  Net_Income_Flag  \\\n",
       "0                                              0.564050                 1   \n",
       "1                                              0.570175                 1   \n",
       "2                                              0.563706                 1   \n",
       "3                                              0.564663                 1   \n",
       "4                                              0.575617                 1   \n",
       "...                                                 ...               ...   \n",
       "6814                                           0.566193                 1   \n",
       "6815                                           0.566018                 1   \n",
       "6816                                           0.565158                 1   \n",
       "6817                                           0.565302                 1   \n",
       "6818                                           0.565167                 1   \n",
       "\n",
       "      Equity_to_Liability  \n",
       "0                0.016469  \n",
       "1                0.020794  \n",
       "2                0.016474  \n",
       "3                0.023982  \n",
       "4                0.035490  \n",
       "...                   ...  \n",
       "6814             0.029890  \n",
       "6815             0.038284  \n",
       "6816             0.097649  \n",
       "6817             0.044009  \n",
       "6818             0.233902  \n",
       "\n",
       "[6819 rows x 78 columns]"
      ]
     },
     "execution_count": 18,
     "metadata": {},
     "output_type": "execute_result"
    }
   ],
   "source": [
    "data=pd.read_csv(r'C:\\Users\\cleme\\Desktop\\IronHack\\Project_7\\data_clean.csv')\n",
    "data"
   ]
  },
  {
   "cell_type": "markdown",
   "id": "ec729ab5",
   "metadata": {},
   "source": [
    "# --------------Features Selection-------------------------------------"
   ]
  },
  {
   "cell_type": "code",
   "execution_count": 19,
   "id": "5a16a18b",
   "metadata": {},
   "outputs": [],
   "source": [
    "from sklearn.feature_selection import RFE\n",
    "from sklearn.ensemble import RandomForestClassifier"
   ]
  },
  {
   "cell_type": "code",
   "execution_count": 20,
   "id": "791092dc",
   "metadata": {},
   "outputs": [],
   "source": [
    "X = data.drop(['Bankrupt?'], axis = 1)\n",
    "y = data['Bankrupt?']"
   ]
  },
  {
   "cell_type": "code",
   "execution_count": 21,
   "id": "8f5b31b8",
   "metadata": {},
   "outputs": [
    {
     "name": "stdout",
     "output_type": "stream",
     "text": [
      "Num Features: 19\n",
      "Selected Features: [False False False  True False False False  True False  True False False\n",
      " False False False False False False  True False False False  True  True\n",
      "  True  True  True False False  True False False  True False False False\n",
      " False False False False False False False  True False  True False False\n",
      " False False False  True False False  True False False False False False\n",
      " False False False False False False False False  True False False  True\n",
      " False  True  True False False]\n",
      "Feature Ranking: [36 42  4  1  5 34 29  1 57  1 43 23 35 37 41 44 25 21  1  8 54 27  1  1\n",
      "  1  1  1 30 56  1 26 51  1 16 20  2 39  9 11 13 15 52 38  1 19  1 22 49\n",
      "  3 47 46  1 55 14  1 48 17 28 18 40 53 31 32 24 45 50 33 58  1 10  6  1\n",
      " 12  1  1 59  7]\n"
     ]
    }
   ],
   "source": [
    "rfe_selector = RFE(estimator=RandomForestClassifier(),n_features_to_select = 19, step = 1)\n",
    "m=rfe_selector.fit(X, y)\n",
    "X.columns[m.get_support()]\n",
    "print(\"Num Features: %s\" % (m.n_features_))\n",
    "print(\"Selected Features: %s\" % (m.support_))\n",
    "print(\"Feature Ranking: %s\" % (m.ranking_))"
   ]
  },
  {
   "cell_type": "code",
   "execution_count": 22,
   "id": "f6df714b",
   "metadata": {},
   "outputs": [
    {
     "data": {
      "text/plain": [
       "Index(['Non-industry_income_and_expenditure/revenue',\n",
       "       'Interest-bearing_debt_interest_rate', 'Net_Value_Per_Share_(A)',\n",
       "       'Net_Value_Growth_Rate', 'Quick_Ratio', 'Interest_Expense_Ratio',\n",
       "       'Total_debt/Total_net_worth', 'Debt_ratio_%', 'Net_worth/Assets',\n",
       "       'Net_profit_before_tax/Paid-in_capital', 'Accounts_Receivable_Turnover',\n",
       "       'Cash/Total_Assets', 'Cash/Current_Liability', 'Working_Capital/Equity',\n",
       "       'Total_income/Total_expense', 'Net_Income_to_Total_Assets',\n",
       "       'Net_Income_to_Stockholder's_Equity',\n",
       "       'Degree_of_Financial_Leverage_(DFL)',\n",
       "       'Interest_Coverage_Ratio_(Interest_expense_to_EBIT)'],\n",
       "      dtype='object')"
      ]
     },
     "execution_count": 22,
     "metadata": {},
     "output_type": "execute_result"
    }
   ],
   "source": [
    "X.loc[:, m.support_].columns"
   ]
  },
  {
   "cell_type": "code",
   "execution_count": 23,
   "id": "9f77adf1",
   "metadata": {},
   "outputs": [],
   "source": [
    "X=X.loc[:, m.support_]"
   ]
  },
  {
   "cell_type": "code",
   "execution_count": 8,
   "id": "694added",
   "metadata": {},
   "outputs": [],
   "source": [
    "#--------------Splitting between train set and test set----------------------------"
   ]
  },
  {
   "cell_type": "code",
   "execution_count": 24,
   "id": "312870e6",
   "metadata": {},
   "outputs": [
    {
     "data": {
      "text/html": [
       "<div>\n",
       "<style scoped>\n",
       "    .dataframe tbody tr th:only-of-type {\n",
       "        vertical-align: middle;\n",
       "    }\n",
       "\n",
       "    .dataframe tbody tr th {\n",
       "        vertical-align: top;\n",
       "    }\n",
       "\n",
       "    .dataframe thead th {\n",
       "        text-align: right;\n",
       "    }\n",
       "</style>\n",
       "<table border=\"1\" class=\"dataframe\">\n",
       "  <thead>\n",
       "    <tr style=\"text-align: right;\">\n",
       "      <th></th>\n",
       "      <th>Non-industry_income_and_expenditure/revenue</th>\n",
       "      <th>Interest-bearing_debt_interest_rate</th>\n",
       "      <th>Net_Value_Per_Share_(A)</th>\n",
       "      <th>Net_Value_Growth_Rate</th>\n",
       "      <th>Quick_Ratio</th>\n",
       "      <th>Interest_Expense_Ratio</th>\n",
       "      <th>Total_debt/Total_net_worth</th>\n",
       "      <th>Debt_ratio_%</th>\n",
       "      <th>Net_worth/Assets</th>\n",
       "      <th>Net_profit_before_tax/Paid-in_capital</th>\n",
       "      <th>Accounts_Receivable_Turnover</th>\n",
       "      <th>Cash/Total_Assets</th>\n",
       "      <th>Cash/Current_Liability</th>\n",
       "      <th>Working_Capital/Equity</th>\n",
       "      <th>Total_income/Total_expense</th>\n",
       "      <th>Net_Income_to_Total_Assets</th>\n",
       "      <th>Net_Income_to_Stockholder's_Equity</th>\n",
       "      <th>Degree_of_Financial_Leverage_(DFL)</th>\n",
       "      <th>Interest_Coverage_Ratio_(Interest_expense_to_EBIT)</th>\n",
       "    </tr>\n",
       "  </thead>\n",
       "  <tbody>\n",
       "    <tr>\n",
       "      <th>0</th>\n",
       "      <td>0.302646</td>\n",
       "      <td>7.250725e-04</td>\n",
       "      <td>0.147950</td>\n",
       "      <td>0.000327</td>\n",
       "      <td>0.001208</td>\n",
       "      <td>0.629951</td>\n",
       "      <td>0.021266</td>\n",
       "      <td>0.207576</td>\n",
       "      <td>0.792424</td>\n",
       "      <td>0.137757</td>\n",
       "      <td>0.001814</td>\n",
       "      <td>0.004094</td>\n",
       "      <td>1.473360e-04</td>\n",
       "      <td>0.721275</td>\n",
       "      <td>0.002022</td>\n",
       "      <td>0.716845</td>\n",
       "      <td>0.827890</td>\n",
       "      <td>0.026601</td>\n",
       "      <td>0.564050</td>\n",
       "    </tr>\n",
       "    <tr>\n",
       "      <th>1</th>\n",
       "      <td>0.303556</td>\n",
       "      <td>6.470647e-04</td>\n",
       "      <td>0.182251</td>\n",
       "      <td>0.000443</td>\n",
       "      <td>0.004039</td>\n",
       "      <td>0.635172</td>\n",
       "      <td>0.012502</td>\n",
       "      <td>0.171176</td>\n",
       "      <td>0.828824</td>\n",
       "      <td>0.168962</td>\n",
       "      <td>0.001286</td>\n",
       "      <td>0.014948</td>\n",
       "      <td>1.383910e-03</td>\n",
       "      <td>0.731975</td>\n",
       "      <td>0.002226</td>\n",
       "      <td>0.795297</td>\n",
       "      <td>0.839969</td>\n",
       "      <td>0.264577</td>\n",
       "      <td>0.570175</td>\n",
       "    </tr>\n",
       "    <tr>\n",
       "      <th>2</th>\n",
       "      <td>0.302035</td>\n",
       "      <td>7.900790e-04</td>\n",
       "      <td>0.177911</td>\n",
       "      <td>0.000396</td>\n",
       "      <td>0.005348</td>\n",
       "      <td>0.629631</td>\n",
       "      <td>0.021248</td>\n",
       "      <td>0.207516</td>\n",
       "      <td>0.792484</td>\n",
       "      <td>0.148036</td>\n",
       "      <td>0.001495</td>\n",
       "      <td>0.000991</td>\n",
       "      <td>5.340000e+09</td>\n",
       "      <td>0.742729</td>\n",
       "      <td>0.002060</td>\n",
       "      <td>0.774670</td>\n",
       "      <td>0.836774</td>\n",
       "      <td>0.026555</td>\n",
       "      <td>0.563706</td>\n",
       "    </tr>\n",
       "    <tr>\n",
       "      <th>3</th>\n",
       "      <td>0.303350</td>\n",
       "      <td>4.490449e-04</td>\n",
       "      <td>0.154187</td>\n",
       "      <td>0.000382</td>\n",
       "      <td>0.002896</td>\n",
       "      <td>0.630228</td>\n",
       "      <td>0.009572</td>\n",
       "      <td>0.151465</td>\n",
       "      <td>0.848535</td>\n",
       "      <td>0.147561</td>\n",
       "      <td>0.001966</td>\n",
       "      <td>0.018851</td>\n",
       "      <td>1.010646e-03</td>\n",
       "      <td>0.729825</td>\n",
       "      <td>0.001831</td>\n",
       "      <td>0.739555</td>\n",
       "      <td>0.834697</td>\n",
       "      <td>0.026697</td>\n",
       "      <td>0.564663</td>\n",
       "    </tr>\n",
       "    <tr>\n",
       "      <th>4</th>\n",
       "      <td>0.303475</td>\n",
       "      <td>6.860686e-04</td>\n",
       "      <td>0.167502</td>\n",
       "      <td>0.000439</td>\n",
       "      <td>0.003727</td>\n",
       "      <td>0.636055</td>\n",
       "      <td>0.005150</td>\n",
       "      <td>0.106509</td>\n",
       "      <td>0.893491</td>\n",
       "      <td>0.167461</td>\n",
       "      <td>0.001449</td>\n",
       "      <td>0.014161</td>\n",
       "      <td>6.804636e-04</td>\n",
       "      <td>0.732000</td>\n",
       "      <td>0.002224</td>\n",
       "      <td>0.795016</td>\n",
       "      <td>0.839973</td>\n",
       "      <td>0.024752</td>\n",
       "      <td>0.575617</td>\n",
       "    </tr>\n",
       "    <tr>\n",
       "      <th>...</th>\n",
       "      <td>...</td>\n",
       "      <td>...</td>\n",
       "      <td>...</td>\n",
       "      <td>...</td>\n",
       "      <td>...</td>\n",
       "      <td>...</td>\n",
       "      <td>...</td>\n",
       "      <td>...</td>\n",
       "      <td>...</td>\n",
       "      <td>...</td>\n",
       "      <td>...</td>\n",
       "      <td>...</td>\n",
       "      <td>...</td>\n",
       "      <td>...</td>\n",
       "      <td>...</td>\n",
       "      <td>...</td>\n",
       "      <td>...</td>\n",
       "      <td>...</td>\n",
       "      <td>...</td>\n",
       "    </tr>\n",
       "    <tr>\n",
       "      <th>6814</th>\n",
       "      <td>0.303510</td>\n",
       "      <td>1.790179e-04</td>\n",
       "      <td>0.175045</td>\n",
       "      <td>0.000450</td>\n",
       "      <td>0.005457</td>\n",
       "      <td>0.631415</td>\n",
       "      <td>0.006655</td>\n",
       "      <td>0.124618</td>\n",
       "      <td>0.875382</td>\n",
       "      <td>0.171111</td>\n",
       "      <td>0.000690</td>\n",
       "      <td>0.099481</td>\n",
       "      <td>5.071548e-03</td>\n",
       "      <td>0.736716</td>\n",
       "      <td>0.002266</td>\n",
       "      <td>0.799927</td>\n",
       "      <td>0.840359</td>\n",
       "      <td>0.027064</td>\n",
       "      <td>0.566193</td>\n",
       "    </tr>\n",
       "    <tr>\n",
       "      <th>6815</th>\n",
       "      <td>0.303520</td>\n",
       "      <td>2.370237e-04</td>\n",
       "      <td>0.181324</td>\n",
       "      <td>0.000445</td>\n",
       "      <td>0.006741</td>\n",
       "      <td>0.631489</td>\n",
       "      <td>0.004623</td>\n",
       "      <td>0.099253</td>\n",
       "      <td>0.900747</td>\n",
       "      <td>0.171805</td>\n",
       "      <td>0.000655</td>\n",
       "      <td>0.080337</td>\n",
       "      <td>4.727181e-03</td>\n",
       "      <td>0.734584</td>\n",
       "      <td>0.002288</td>\n",
       "      <td>0.799748</td>\n",
       "      <td>0.840306</td>\n",
       "      <td>0.027009</td>\n",
       "      <td>0.566018</td>\n",
       "    </tr>\n",
       "    <tr>\n",
       "      <th>6816</th>\n",
       "      <td>0.303512</td>\n",
       "      <td>0.000000e+00</td>\n",
       "      <td>0.269521</td>\n",
       "      <td>0.000435</td>\n",
       "      <td>0.035112</td>\n",
       "      <td>0.630612</td>\n",
       "      <td>0.001392</td>\n",
       "      <td>0.038939</td>\n",
       "      <td>0.961061</td>\n",
       "      <td>0.172287</td>\n",
       "      <td>0.001510</td>\n",
       "      <td>0.412885</td>\n",
       "      <td>8.821248e-02</td>\n",
       "      <td>0.737432</td>\n",
       "      <td>0.002239</td>\n",
       "      <td>0.797778</td>\n",
       "      <td>0.840138</td>\n",
       "      <td>0.026791</td>\n",
       "      <td>0.565158</td>\n",
       "    </tr>\n",
       "    <tr>\n",
       "      <th>6817</th>\n",
       "      <td>0.303498</td>\n",
       "      <td>2.110211e-04</td>\n",
       "      <td>0.213392</td>\n",
       "      <td>0.000529</td>\n",
       "      <td>0.007256</td>\n",
       "      <td>0.630731</td>\n",
       "      <td>0.003816</td>\n",
       "      <td>0.086979</td>\n",
       "      <td>0.913021</td>\n",
       "      <td>0.182498</td>\n",
       "      <td>0.000716</td>\n",
       "      <td>0.112238</td>\n",
       "      <td>7.133218e-03</td>\n",
       "      <td>0.736713</td>\n",
       "      <td>0.002395</td>\n",
       "      <td>0.811808</td>\n",
       "      <td>0.841084</td>\n",
       "      <td>0.026822</td>\n",
       "      <td>0.565302</td>\n",
       "    </tr>\n",
       "    <tr>\n",
       "      <th>6818</th>\n",
       "      <td>0.313415</td>\n",
       "      <td>5.900000e+08</td>\n",
       "      <td>0.220766</td>\n",
       "      <td>0.000519</td>\n",
       "      <td>0.040897</td>\n",
       "      <td>0.630618</td>\n",
       "      <td>0.000461</td>\n",
       "      <td>0.014149</td>\n",
       "      <td>0.985851</td>\n",
       "      <td>0.179911</td>\n",
       "      <td>0.000325</td>\n",
       "      <td>0.238147</td>\n",
       "      <td>6.667354e-02</td>\n",
       "      <td>0.737286</td>\n",
       "      <td>0.002791</td>\n",
       "      <td>0.815956</td>\n",
       "      <td>0.841019</td>\n",
       "      <td>0.026793</td>\n",
       "      <td>0.565167</td>\n",
       "    </tr>\n",
       "  </tbody>\n",
       "</table>\n",
       "<p>6819 rows × 19 columns</p>\n",
       "</div>"
      ],
      "text/plain": [
       "      Non-industry_income_and_expenditure/revenue  \\\n",
       "0                                        0.302646   \n",
       "1                                        0.303556   \n",
       "2                                        0.302035   \n",
       "3                                        0.303350   \n",
       "4                                        0.303475   \n",
       "...                                           ...   \n",
       "6814                                     0.303510   \n",
       "6815                                     0.303520   \n",
       "6816                                     0.303512   \n",
       "6817                                     0.303498   \n",
       "6818                                     0.313415   \n",
       "\n",
       "      Interest-bearing_debt_interest_rate  Net_Value_Per_Share_(A)  \\\n",
       "0                            7.250725e-04                 0.147950   \n",
       "1                            6.470647e-04                 0.182251   \n",
       "2                            7.900790e-04                 0.177911   \n",
       "3                            4.490449e-04                 0.154187   \n",
       "4                            6.860686e-04                 0.167502   \n",
       "...                                   ...                      ...   \n",
       "6814                         1.790179e-04                 0.175045   \n",
       "6815                         2.370237e-04                 0.181324   \n",
       "6816                         0.000000e+00                 0.269521   \n",
       "6817                         2.110211e-04                 0.213392   \n",
       "6818                         5.900000e+08                 0.220766   \n",
       "\n",
       "      Net_Value_Growth_Rate  Quick_Ratio  Interest_Expense_Ratio  \\\n",
       "0                  0.000327     0.001208                0.629951   \n",
       "1                  0.000443     0.004039                0.635172   \n",
       "2                  0.000396     0.005348                0.629631   \n",
       "3                  0.000382     0.002896                0.630228   \n",
       "4                  0.000439     0.003727                0.636055   \n",
       "...                     ...          ...                     ...   \n",
       "6814               0.000450     0.005457                0.631415   \n",
       "6815               0.000445     0.006741                0.631489   \n",
       "6816               0.000435     0.035112                0.630612   \n",
       "6817               0.000529     0.007256                0.630731   \n",
       "6818               0.000519     0.040897                0.630618   \n",
       "\n",
       "      Total_debt/Total_net_worth  Debt_ratio_%  Net_worth/Assets  \\\n",
       "0                       0.021266      0.207576          0.792424   \n",
       "1                       0.012502      0.171176          0.828824   \n",
       "2                       0.021248      0.207516          0.792484   \n",
       "3                       0.009572      0.151465          0.848535   \n",
       "4                       0.005150      0.106509          0.893491   \n",
       "...                          ...           ...               ...   \n",
       "6814                    0.006655      0.124618          0.875382   \n",
       "6815                    0.004623      0.099253          0.900747   \n",
       "6816                    0.001392      0.038939          0.961061   \n",
       "6817                    0.003816      0.086979          0.913021   \n",
       "6818                    0.000461      0.014149          0.985851   \n",
       "\n",
       "      Net_profit_before_tax/Paid-in_capital  Accounts_Receivable_Turnover  \\\n",
       "0                                  0.137757                      0.001814   \n",
       "1                                  0.168962                      0.001286   \n",
       "2                                  0.148036                      0.001495   \n",
       "3                                  0.147561                      0.001966   \n",
       "4                                  0.167461                      0.001449   \n",
       "...                                     ...                           ...   \n",
       "6814                               0.171111                      0.000690   \n",
       "6815                               0.171805                      0.000655   \n",
       "6816                               0.172287                      0.001510   \n",
       "6817                               0.182498                      0.000716   \n",
       "6818                               0.179911                      0.000325   \n",
       "\n",
       "      Cash/Total_Assets  Cash/Current_Liability  Working_Capital/Equity  \\\n",
       "0              0.004094            1.473360e-04                0.721275   \n",
       "1              0.014948            1.383910e-03                0.731975   \n",
       "2              0.000991            5.340000e+09                0.742729   \n",
       "3              0.018851            1.010646e-03                0.729825   \n",
       "4              0.014161            6.804636e-04                0.732000   \n",
       "...                 ...                     ...                     ...   \n",
       "6814           0.099481            5.071548e-03                0.736716   \n",
       "6815           0.080337            4.727181e-03                0.734584   \n",
       "6816           0.412885            8.821248e-02                0.737432   \n",
       "6817           0.112238            7.133218e-03                0.736713   \n",
       "6818           0.238147            6.667354e-02                0.737286   \n",
       "\n",
       "      Total_income/Total_expense  Net_Income_to_Total_Assets  \\\n",
       "0                       0.002022                    0.716845   \n",
       "1                       0.002226                    0.795297   \n",
       "2                       0.002060                    0.774670   \n",
       "3                       0.001831                    0.739555   \n",
       "4                       0.002224                    0.795016   \n",
       "...                          ...                         ...   \n",
       "6814                    0.002266                    0.799927   \n",
       "6815                    0.002288                    0.799748   \n",
       "6816                    0.002239                    0.797778   \n",
       "6817                    0.002395                    0.811808   \n",
       "6818                    0.002791                    0.815956   \n",
       "\n",
       "      Net_Income_to_Stockholder's_Equity  Degree_of_Financial_Leverage_(DFL)  \\\n",
       "0                               0.827890                            0.026601   \n",
       "1                               0.839969                            0.264577   \n",
       "2                               0.836774                            0.026555   \n",
       "3                               0.834697                            0.026697   \n",
       "4                               0.839973                            0.024752   \n",
       "...                                  ...                                 ...   \n",
       "6814                            0.840359                            0.027064   \n",
       "6815                            0.840306                            0.027009   \n",
       "6816                            0.840138                            0.026791   \n",
       "6817                            0.841084                            0.026822   \n",
       "6818                            0.841019                            0.026793   \n",
       "\n",
       "      Interest_Coverage_Ratio_(Interest_expense_to_EBIT)  \n",
       "0                                              0.564050   \n",
       "1                                              0.570175   \n",
       "2                                              0.563706   \n",
       "3                                              0.564663   \n",
       "4                                              0.575617   \n",
       "...                                                 ...   \n",
       "6814                                           0.566193   \n",
       "6815                                           0.566018   \n",
       "6816                                           0.565158   \n",
       "6817                                           0.565302   \n",
       "6818                                           0.565167   \n",
       "\n",
       "[6819 rows x 19 columns]"
      ]
     },
     "execution_count": 24,
     "metadata": {},
     "output_type": "execute_result"
    }
   ],
   "source": [
    "X"
   ]
  },
  {
   "cell_type": "code",
   "execution_count": 43,
   "id": "50ce4454",
   "metadata": {},
   "outputs": [],
   "source": [
    "# define pipeline\n",
    "over = SMOTE(sampling_strategy=0.1)\n",
    "under = RandomUnderSampler(sampling_strategy=0.5)\n",
    "steps = [('o', over), ('u', under)]\n",
    "pipeline = Pipeline(steps=steps)\n",
    "# transform the dataset\n",
    "X, y = pipeline.fit_resample(X, y)"
   ]
  },
  {
   "cell_type": "code",
   "execution_count": 44,
   "id": "e908ef68",
   "metadata": {},
   "outputs": [],
   "source": [
    "x_train, x_test, y_train, y_test = train_test_split(X, y, test_size=0.3, random_state=5)"
   ]
  },
  {
   "cell_type": "code",
   "execution_count": 45,
   "id": "3916ef9c",
   "metadata": {},
   "outputs": [
    {
     "name": "stdout",
     "output_type": "stream",
     "text": [
      "(1383, 19)\n",
      "(1383,)\n",
      "(594, 19)\n",
      "(594,)\n"
     ]
    }
   ],
   "source": [
    "print(x_train.shape)\n",
    "print(y_train.shape)\n",
    "print(x_test.shape)\n",
    "print(y_test.shape)"
   ]
  },
  {
   "cell_type": "markdown",
   "id": "20b434bb",
   "metadata": {},
   "source": [
    "# --------------Gaussian Process Classifier----------------------------"
   ]
  },
  {
   "cell_type": "code",
   "execution_count": 46,
   "id": "d14c78ba",
   "metadata": {},
   "outputs": [],
   "source": [
    "from sklearn.gaussian_process import GaussianProcessClassifier\n",
    "from sklearn.gaussian_process.kernels import RBF\n",
    "kernel = 1.0 * RBF(1.0)\n",
    "gpc = GaussianProcessClassifier(kernel=kernel, random_state=0).fit(x_train, y_train)"
   ]
  },
  {
   "cell_type": "code",
   "execution_count": null,
   "id": "1b4f5111",
   "metadata": {},
   "outputs": [],
   "source": []
  },
  {
   "cell_type": "code",
   "execution_count": 47,
   "id": "3a7d4c51",
   "metadata": {},
   "outputs": [],
   "source": [
    "y_pred_gpc=gpc.predict(x_test)"
   ]
  },
  {
   "cell_type": "code",
   "execution_count": 48,
   "id": "6c5abce0",
   "metadata": {},
   "outputs": [],
   "source": [
    "confusion_matrix = metrics.confusion_matrix(y_test, y_pred_gpc)"
   ]
  },
  {
   "cell_type": "code",
   "execution_count": 49,
   "id": "61ef2368",
   "metadata": {},
   "outputs": [
    {
     "data": {
      "text/plain": [
       "array([[345,  37],\n",
       "       [ 57, 155]], dtype=int64)"
      ]
     },
     "execution_count": 49,
     "metadata": {},
     "output_type": "execute_result"
    }
   ],
   "source": [
    "confusion_matrix"
   ]
  },
  {
   "cell_type": "code",
   "execution_count": 50,
   "id": "d617c1cc",
   "metadata": {},
   "outputs": [],
   "source": [
    "def generate_results(model, predictions, name):\n",
    "    cl_rep = classification_report(y_test, predictions)\n",
    "    print(\"\\nThe classification report for \" + name + \" is:\", cl_rep, sep = \"\\n\")\n",
    "    cm_model = metrics.confusion_matrix(y_test, predictions)\n",
    "    plt.figure(figsize = (8, 6))\n",
    "    sns.heatmap(cm_model, annot = True, cmap = 'Blues', annot_kws = {'size': 15}, square = True)\n",
    "    plt.title('Confusion Matrix for ' + name, size = 15)\n",
    "    plt.xticks(size = 15)\n",
    "    plt.yticks(size = 15)\n",
    "    plt.show() \n",
    "from sklearn.metrics import classification_report\n",
    "from sklearn.metrics import confusion_matrix"
   ]
  },
  {
   "cell_type": "code",
   "execution_count": 51,
   "id": "22670c71",
   "metadata": {},
   "outputs": [
    {
     "name": "stdout",
     "output_type": "stream",
     "text": [
      "\n",
      "The classification report for Gaussian Process Classifier is:\n",
      "              precision    recall  f1-score   support\n",
      "\n",
      "           0       0.86      0.90      0.88       382\n",
      "           1       0.81      0.73      0.77       212\n",
      "\n",
      "    accuracy                           0.84       594\n",
      "   macro avg       0.83      0.82      0.82       594\n",
      "weighted avg       0.84      0.84      0.84       594\n",
      "\n"
     ]
    },
    {
     "data": {
      "image/png": "[encoded data removed]",
      "text/plain": [
       "<Figure size 576x432 with 2 Axes>"
      ]
     },
     "metadata": {
      "needs_background": "light"
     },
     "output_type": "display_data"
    }
   ],
   "source": [
    "generate_results(gpc, y_pred_gpc, 'Gaussian Process Classifier')"
   ]
  },
  {
   "cell_type": "code",
   "execution_count": 52,
   "id": "77d855a4",
   "metadata": {},
   "outputs": [],
   "source": [
    "#from sklearn.metrics import roc_auc_score\n",
    "#print(metrics.roc_auc_score(x_test[\"y_initial\"],x_test[\"y_pred\"]))"
   ]
  },
  {
   "cell_type": "code",
   "execution_count": 53,
   "id": "48feb308",
   "metadata": {},
   "outputs": [
    {
     "name": "stdout",
     "output_type": "stream",
     "text": [
      "0.8171367183641214\n"
     ]
    }
   ],
   "source": [
    "from sklearn.metrics import roc_auc_score\n",
    "print(metrics.roc_auc_score(y_test,y_pred_gpc))"
   ]
  },
  {
   "cell_type": "code",
   "execution_count": 54,
   "id": "e8f6f0d6",
   "metadata": {},
   "outputs": [
    {
     "data": {
      "image/png": "[encoded data removed]",
      "text/plain": [
       "<Figure size 432x288 with 1 Axes>"
      ]
     },
     "metadata": {
      "needs_background": "light"
     },
     "output_type": "display_data"
    }
   ],
   "source": [
    "fpr, tpr, thresholds = metrics.roc_curve(y_test,y_pred_gpc)\n",
    "roc_auc = metrics.auc(fpr, tpr)\n",
    "display = metrics.RocCurveDisplay(fpr=fpr, tpr=tpr)\n",
    "display.plot()\n",
    "plt.show()"
   ]
  },
  {
   "cell_type": "markdown",
   "id": "e4d042f2",
   "metadata": {},
   "source": [
    "# --------------TPOT CLASSIFIER----------------------------"
   ]
  },
  {
   "cell_type": "code",
   "execution_count": 100,
   "id": "605d9b3d",
   "metadata": {},
   "outputs": [
    {
     "name": "stdout",
     "output_type": "stream",
     "text": [
      "tpot: 0.11.7\n"
     ]
    },
    {
     "name": "stderr",
     "output_type": "stream",
     "text": [
      "C:\\Users\\cleme\\anaconda3\\lib\\site-packages\\tpot\\builtins\\__init__.py:36: UserWarning: Warning: optional dependency `torch` is not available. - skipping import of NN models.\n",
      "  warnings.warn(\"Warning: optional dependency `torch` is not available. - skipping import of NN models.\")\n"
     ]
    }
   ],
   "source": [
    "# check tpot version\n",
    "import tpot\n",
    "print('tpot: %s' % tpot.__version__)"
   ]
  },
  {
   "cell_type": "code",
   "execution_count": 101,
   "id": "5176f601",
   "metadata": {},
   "outputs": [],
   "source": [
    "from tpot import TPOTClassifier"
   ]
  },
  {
   "cell_type": "code",
   "execution_count": 102,
   "id": "12792630",
   "metadata": {},
   "outputs": [],
   "source": [
    "pipeline_optimizer = TPOTClassifier(generations=5, population_size=20, cv=5,\n",
    "                                    random_state=42, verbosity=2)"
   ]
  },
  {
   "cell_type": "code",
   "execution_count": 103,
   "id": "4104198b",
   "metadata": {},
   "outputs": [
    {
     "data": {
      "application/vnd.jupyter.widget-view+json": {
       "model_id": "",
       "version_major": 2,
       "version_minor": 0
      },
      "text/plain": [
       "Optimization Progress:   0%|          | 0/120 [00:00<?, ?pipeline/s]"
      ]
     },
     "metadata": {},
     "output_type": "display_data"
    },
    {
     "name": "stdout",
     "output_type": "stream",
     "text": [
      "\n",
      "Generation 1 - Current best internal CV score: 0.8958509914717732\n",
      "\n",
      "Generation 2 - Current best internal CV score: 0.8973002668340919\n",
      "\n",
      "Generation 3 - Current best internal CV score: 0.8980379846177995\n",
      "\n",
      "Generation 4 - Current best internal CV score: 0.8987364620938628\n",
      "\n",
      "Generation 5 - Current best internal CV score: 0.9030816721603097\n",
      "\n",
      "Best pipeline: XGBClassifier(input_matrix, learning_rate=0.1, max_depth=5, min_child_weight=2, n_estimators=100, n_jobs=1, subsample=1.0, verbosity=0)\n"
     ]
    },
    {
     "data": {
      "text/html": [
       "<style>#sk-container-id-3 {color: black;background-color: white;}#sk-container-id-3 pre{padding: 0;}#sk-container-id-3 div.sk-toggleable {background-color: white;}#sk-container-id-3 label.sk-toggleable__label {cursor: pointer;display: block;width: 100%;margin-bottom: 0;padding: 0.3em;box-sizing: border-box;text-align: center;}#sk-container-id-3 label.sk-toggleable__label-arrow:before {content: \"▸\";float: left;margin-right: 0.25em;color: #696969;}#sk-container-id-3 label.sk-toggleable__label-arrow:hover:before {color: black;}#sk-container-id-3 div.sk-estimator:hover label.sk-toggleable__label-arrow:before {color: black;}#sk-container-id-3 div.sk-toggleable__content {max-height: 0;max-width: 0;overflow: hidden;text-align: left;background-color: #f0f8ff;}#sk-container-id-3 div.sk-toggleable__content pre {margin: 0.2em;color: black;border-radius: 0.25em;background-color: #f0f8ff;}#sk-container-id-3 input.sk-toggleable__control:checked~div.sk-toggleable__content {max-height: 200px;max-width: 100%;overflow: auto;}#sk-container-id-3 input.sk-toggleable__control:checked~label.sk-toggleable__label-arrow:before {content: \"▾\";}#sk-container-id-3 div.sk-estimator input.sk-toggleable__control:checked~label.sk-toggleable__label {background-color: #d4ebff;}#sk-container-id-3 div.sk-label input.sk-toggleable__control:checked~label.sk-toggleable__label {background-color: #d4ebff;}#sk-container-id-3 input.sk-hidden--visually {border: 0;clip: rect(1px 1px 1px 1px);clip: rect(1px, 1px, 1px, 1px);height: 1px;margin: -1px;overflow: hidden;padding: 0;position: absolute;width: 1px;}#sk-container-id-3 div.sk-estimator {font-family: monospace;background-color: #f0f8ff;border: 1px dotted black;border-radius: 0.25em;box-sizing: border-box;margin-bottom: 0.5em;}#sk-container-id-3 div.sk-estimator:hover {background-color: #d4ebff;}#sk-container-id-3 div.sk-parallel-item::after {content: \"\";width: 100%;border-bottom: 1px solid gray;flex-grow: 1;}#sk-container-id-3 div.sk-label:hover label.sk-toggleable__label {background-color: #d4ebff;}#sk-container-id-3 div.sk-serial::before {content: \"\";position: absolute;border-left: 1px solid gray;box-sizing: border-box;top: 0;bottom: 0;left: 50%;z-index: 0;}#sk-container-id-3 div.sk-serial {display: flex;flex-direction: column;align-items: center;background-color: white;padding-right: 0.2em;padding-left: 0.2em;position: relative;}#sk-container-id-3 div.sk-item {position: relative;z-index: 1;}#sk-container-id-3 div.sk-parallel {display: flex;align-items: stretch;justify-content: center;background-color: white;position: relative;}#sk-container-id-3 div.sk-item::before, #sk-container-id-3 div.sk-parallel-item::before {content: \"\";position: absolute;border-left: 1px solid gray;box-sizing: border-box;top: 0;bottom: 0;left: 50%;z-index: -1;}#sk-container-id-3 div.sk-parallel-item {display: flex;flex-direction: column;z-index: 1;position: relative;background-color: white;}#sk-container-id-3 div.sk-parallel-item:first-child::after {align-self: flex-end;width: 50%;}#sk-container-id-3 div.sk-parallel-item:last-child::after {align-self: flex-start;width: 50%;}#sk-container-id-3 div.sk-parallel-item:only-child::after {width: 0;}#sk-container-id-3 div.sk-dashed-wrapped {border: 1px dashed gray;margin: 0 0.4em 0.5em 0.4em;box-sizing: border-box;padding-bottom: 0.4em;background-color: white;}#sk-container-id-3 div.sk-label label {font-family: monospace;font-weight: bold;display: inline-block;line-height: 1.2em;}#sk-container-id-3 div.sk-label-container {text-align: center;}#sk-container-id-3 div.sk-container {/* jupyter's `normalize.less` sets `[hidden] { display: none; }` but bootstrap.min.css set `[hidden] { display: none !important; }` so we also need the `!important` here to be able to override the default hidden behavior on the sphinx rendered scikit-learn.org. See: https://github.com/scikit-learn/scikit-learn/issues/21755 */display: inline-block !important;position: relative;}#sk-container-id-3 div.sk-text-repr-fallback {display: none;}</style><div id=\"sk-container-id-3\" class=\"sk-top-container\"><div class=\"sk-text-repr-fallback\"><pre>TPOTClassifier(generations=5, population_size=20, random_state=42, verbosity=2)</pre><b>In a Jupyter environment, please rerun this cell to show the HTML representation or trust the notebook. <br />On GitHub, the HTML representation is unable to render, please try loading this page with nbviewer.org.</b></div><div class=\"sk-container\" hidden><div class=\"sk-item\"><div class=\"sk-estimator sk-toggleable\"><input class=\"sk-toggleable__control sk-hidden--visually\" id=\"sk-estimator-id-3\" type=\"checkbox\" checked><label for=\"sk-estimator-id-3\" class=\"sk-toggleable__label sk-toggleable__label-arrow\">TPOTClassifier</label><div class=\"sk-toggleable__content\"><pre>TPOTClassifier(generations=5, population_size=20, random_state=42, verbosity=2)</pre></div></div></div></div></div>"
      ],
      "text/plain": [
       "TPOTClassifier(generations=5, population_size=20, random_state=42, verbosity=2)"
      ]
     },
     "execution_count": 103,
     "metadata": {},
     "output_type": "execute_result"
    }
   ],
   "source": [
    "pipeline_optimizer.fit(x_train, y_train)"
   ]
  },
  {
   "cell_type": "markdown",
   "id": "353a1896",
   "metadata": {},
   "source": [
    "# --------------BaggingClassifier----------------------------"
   ]
  },
  {
   "cell_type": "code",
   "execution_count": 104,
   "id": "c7615aa6",
   "metadata": {},
   "outputs": [],
   "source": [
    "from sklearn.svm import SVC\n",
    "from sklearn.ensemble import BaggingClassifier"
   ]
  },
  {
   "cell_type": "code",
   "execution_count": 105,
   "id": "2c1259b8",
   "metadata": {},
   "outputs": [
    {
     "name": "stdout",
     "output_type": "stream",
     "text": [
      "Model test Score: 0.843,  Model training Score: 0.840\n"
     ]
    }
   ],
   "source": [
    "from sklearn.pipeline import make_pipeline\n",
    "from sklearn.preprocessing import StandardScaler\n",
    "from sklearn.linear_model import LogisticRegression\n",
    "\n",
    "#\n",
    "bgclassifier = BaggingClassifier( n_estimators=20,\n",
    "                                 max_features=0.25,\n",
    "                                 max_samples=20,\n",
    "                                 random_state=1, n_jobs=-1)\n",
    "#\n",
    "# Fit the bagging classifier\n",
    "#\n",
    "bgclassifier.fit(x_train, y_train)\n",
    "#\n",
    "# Model scores on test and training data\n",
    "#\n",
    "print('Model test Score: %.3f, ' %bgclassifier.score(x_test, y_test),\n",
    "      'Model training Score: %.3f' %bgclassifier.score(x_train, y_train))"
   ]
  },
  {
   "cell_type": "code",
   "execution_count": 106,
   "id": "947b3933",
   "metadata": {},
   "outputs": [],
   "source": [
    "y_pred_bgg = bgclassifier.predict(x_test)"
   ]
  },
  {
   "cell_type": "code",
   "execution_count": 107,
   "id": "c1a89ce9",
   "metadata": {},
   "outputs": [
    {
     "data": {
      "text/plain": [
       "array([[349,  33],\n",
       "       [ 60, 152]], dtype=int64)"
      ]
     },
     "execution_count": 107,
     "metadata": {},
     "output_type": "execute_result"
    }
   ],
   "source": [
    "confusion_matrix = metrics.confusion_matrix(y_test, y_pred_bgg)\n",
    "confusion_matrix"
   ]
  },
  {
   "cell_type": "code",
   "execution_count": 108,
   "id": "4406b224",
   "metadata": {},
   "outputs": [
    {
     "name": "stdout",
     "output_type": "stream",
     "text": [
      "\n",
      "The classification report for BaggingClassifier is:\n",
      "              precision    recall  f1-score   support\n",
      "\n",
      "           0       0.85      0.91      0.88       382\n",
      "           1       0.82      0.72      0.77       212\n",
      "\n",
      "    accuracy                           0.84       594\n",
      "   macro avg       0.84      0.82      0.82       594\n",
      "weighted avg       0.84      0.84      0.84       594\n",
      "\n"
     ]
    },
    {
     "data": {
      "image/png": "[encoded data removed]",
      "text/plain": [
       "<Figure size 576x432 with 2 Axes>"
      ]
     },
     "metadata": {
      "needs_background": "light"
     },
     "output_type": "display_data"
    }
   ],
   "source": [
    "generate_results(bgclassifier, y_pred_bgg, 'BaggingClassifier')"
   ]
  },
  {
   "cell_type": "code",
   "execution_count": 109,
   "id": "3bc64c5c",
   "metadata": {},
   "outputs": [
    {
     "name": "stdout",
     "output_type": "stream",
     "text": [
      "0.8152968487602489\n"
     ]
    }
   ],
   "source": [
    "print(metrics.roc_auc_score(y_test,y_pred_bgg))"
   ]
  },
  {
   "cell_type": "code",
   "execution_count": 110,
   "id": "d0291668",
   "metadata": {},
   "outputs": [
    {
     "data": {
      "image/png": "[encoded data removed]",
      "text/plain": [
       "<Figure size 432x288 with 1 Axes>"
      ]
     },
     "metadata": {
      "needs_background": "light"
     },
     "output_type": "display_data"
    }
   ],
   "source": [
    "fpr, tpr, thresholds = metrics.roc_curve(y_test,y_pred_bgg)\n",
    "roc_auc = metrics.auc(fpr, tpr)\n",
    "display = metrics.RocCurveDisplay(fpr=fpr, tpr=tpr)\n",
    "display.plot()\n",
    "plt.show()"
   ]
  },
  {
   "cell_type": "markdown",
   "id": "5fec2bd8",
   "metadata": {},
   "source": [
    " # ------------------MultinomialNB------------------------"
   ]
  },
  {
   "cell_type": "code",
   "execution_count": 111,
   "id": "59e8efcd",
   "metadata": {},
   "outputs": [
    {
     "data": {
      "text/html": [
       "<style>#sk-container-id-4 {color: black;background-color: white;}#sk-container-id-4 pre{padding: 0;}#sk-container-id-4 div.sk-toggleable {background-color: white;}#sk-container-id-4 label.sk-toggleable__label {cursor: pointer;display: block;width: 100%;margin-bottom: 0;padding: 0.3em;box-sizing: border-box;text-align: center;}#sk-container-id-4 label.sk-toggleable__label-arrow:before {content: \"▸\";float: left;margin-right: 0.25em;color: #696969;}#sk-container-id-4 label.sk-toggleable__label-arrow:hover:before {color: black;}#sk-container-id-4 div.sk-estimator:hover label.sk-toggleable__label-arrow:before {color: black;}#sk-container-id-4 div.sk-toggleable__content {max-height: 0;max-width: 0;overflow: hidden;text-align: left;background-color: #f0f8ff;}#sk-container-id-4 div.sk-toggleable__content pre {margin: 0.2em;color: black;border-radius: 0.25em;background-color: #f0f8ff;}#sk-container-id-4 input.sk-toggleable__control:checked~div.sk-toggleable__content {max-height: 200px;max-width: 100%;overflow: auto;}#sk-container-id-4 input.sk-toggleable__control:checked~label.sk-toggleable__label-arrow:before {content: \"▾\";}#sk-container-id-4 div.sk-estimator input.sk-toggleable__control:checked~label.sk-toggleable__label {background-color: #d4ebff;}#sk-container-id-4 div.sk-label input.sk-toggleable__control:checked~label.sk-toggleable__label {background-color: #d4ebff;}#sk-container-id-4 input.sk-hidden--visually {border: 0;clip: rect(1px 1px 1px 1px);clip: rect(1px, 1px, 1px, 1px);height: 1px;margin: -1px;overflow: hidden;padding: 0;position: absolute;width: 1px;}#sk-container-id-4 div.sk-estimator {font-family: monospace;background-color: #f0f8ff;border: 1px dotted black;border-radius: 0.25em;box-sizing: border-box;margin-bottom: 0.5em;}#sk-container-id-4 div.sk-estimator:hover {background-color: #d4ebff;}#sk-container-id-4 div.sk-parallel-item::after {content: \"\";width: 100%;border-bottom: 1px solid gray;flex-grow: 1;}#sk-container-id-4 div.sk-label:hover label.sk-toggleable__label {background-color: #d4ebff;}#sk-container-id-4 div.sk-serial::before {content: \"\";position: absolute;border-left: 1px solid gray;box-sizing: border-box;top: 0;bottom: 0;left: 50%;z-index: 0;}#sk-container-id-4 div.sk-serial {display: flex;flex-direction: column;align-items: center;background-color: white;padding-right: 0.2em;padding-left: 0.2em;position: relative;}#sk-container-id-4 div.sk-item {position: relative;z-index: 1;}#sk-container-id-4 div.sk-parallel {display: flex;align-items: stretch;justify-content: center;background-color: white;position: relative;}#sk-container-id-4 div.sk-item::before, #sk-container-id-4 div.sk-parallel-item::before {content: \"\";position: absolute;border-left: 1px solid gray;box-sizing: border-box;top: 0;bottom: 0;left: 50%;z-index: -1;}#sk-container-id-4 div.sk-parallel-item {display: flex;flex-direction: column;z-index: 1;position: relative;background-color: white;}#sk-container-id-4 div.sk-parallel-item:first-child::after {align-self: flex-end;width: 50%;}#sk-container-id-4 div.sk-parallel-item:last-child::after {align-self: flex-start;width: 50%;}#sk-container-id-4 div.sk-parallel-item:only-child::after {width: 0;}#sk-container-id-4 div.sk-dashed-wrapped {border: 1px dashed gray;margin: 0 0.4em 0.5em 0.4em;box-sizing: border-box;padding-bottom: 0.4em;background-color: white;}#sk-container-id-4 div.sk-label label {font-family: monospace;font-weight: bold;display: inline-block;line-height: 1.2em;}#sk-container-id-4 div.sk-label-container {text-align: center;}#sk-container-id-4 div.sk-container {/* jupyter's `normalize.less` sets `[hidden] { display: none; }` but bootstrap.min.css set `[hidden] { display: none !important; }` so we also need the `!important` here to be able to override the default hidden behavior on the sphinx rendered scikit-learn.org. See: https://github.com/scikit-learn/scikit-learn/issues/21755 */display: inline-block !important;position: relative;}#sk-container-id-4 div.sk-text-repr-fallback {display: none;}</style><div id=\"sk-container-id-4\" class=\"sk-top-container\"><div class=\"sk-text-repr-fallback\"><pre>MultinomialNB()</pre><b>In a Jupyter environment, please rerun this cell to show the HTML representation or trust the notebook. <br />On GitHub, the HTML representation is unable to render, please try loading this page with nbviewer.org.</b></div><div class=\"sk-container\" hidden><div class=\"sk-item\"><div class=\"sk-estimator sk-toggleable\"><input class=\"sk-toggleable__control sk-hidden--visually\" id=\"sk-estimator-id-4\" type=\"checkbox\" checked><label for=\"sk-estimator-id-4\" class=\"sk-toggleable__label sk-toggleable__label-arrow\">MultinomialNB</label><div class=\"sk-toggleable__content\"><pre>MultinomialNB()</pre></div></div></div></div></div>"
      ],
      "text/plain": [
       "MultinomialNB()"
      ]
     },
     "execution_count": 111,
     "metadata": {},
     "output_type": "execute_result"
    }
   ],
   "source": [
    "from sklearn.naive_bayes import MultinomialNB\n",
    "MNBclf = MultinomialNB()\n",
    "MNBclf.fit(x_train, y_train)"
   ]
  },
  {
   "cell_type": "code",
   "execution_count": 112,
   "id": "16ecc1f3",
   "metadata": {},
   "outputs": [],
   "source": [
    "y_pred__MNB = MNBclf.predict(x_test)\n"
   ]
  },
  {
   "cell_type": "code",
   "execution_count": 113,
   "id": "644c266a",
   "metadata": {},
   "outputs": [
    {
     "data": {
      "text/plain": [
       "array([[381,   1],\n",
       "       [188,  24]], dtype=int64)"
      ]
     },
     "execution_count": 113,
     "metadata": {},
     "output_type": "execute_result"
    }
   ],
   "source": [
    "confusion_matrix = metrics.confusion_matrix(y_test, y_pred__MNB )\n",
    "confusion_matrix"
   ]
  },
  {
   "cell_type": "code",
   "execution_count": 114,
   "id": "9bfa085d",
   "metadata": {},
   "outputs": [
    {
     "name": "stdout",
     "output_type": "stream",
     "text": [
      "\n",
      "The classification report for MultinomialNB is:\n",
      "              precision    recall  f1-score   support\n",
      "\n",
      "           0       0.67      1.00      0.80       382\n",
      "           1       0.96      0.11      0.20       212\n",
      "\n",
      "    accuracy                           0.68       594\n",
      "   macro avg       0.81      0.56      0.50       594\n",
      "weighted avg       0.77      0.68      0.59       594\n",
      "\n"
     ]
    },
    {
     "data": {
      "image/png": "[encoded data removed]",
      "text/plain": [
       "<Figure size 576x432 with 2 Axes>"
      ]
     },
     "metadata": {
      "needs_background": "light"
     },
     "output_type": "display_data"
    }
   ],
   "source": [
    "generate_results(MNBclf, y_pred__MNB, 'MultinomialNB')"
   ]
  },
  {
   "cell_type": "code",
   "execution_count": 115,
   "id": "626e4202",
   "metadata": {},
   "outputs": [
    {
     "name": "stdout",
     "output_type": "stream",
     "text": [
      "0.5552948730613454\n"
     ]
    }
   ],
   "source": [
    "print(metrics.roc_auc_score(y_test,y_pred__MNB))"
   ]
  },
  {
   "cell_type": "code",
   "execution_count": 116,
   "id": "9390d7e2",
   "metadata": {},
   "outputs": [
    {
     "data": {
      "image/png": "[encoded data removed]",
      "text/plain": [
       "<Figure size 432x288 with 1 Axes>"
      ]
     },
     "metadata": {
      "needs_background": "light"
     },
     "output_type": "display_data"
    }
   ],
   "source": [
    "fpr, tpr, thresholds = metrics.roc_curve(y_test,y_pred__MNB)\n",
    "roc_auc = metrics.auc(fpr, tpr)\n",
    "display = metrics.RocCurveDisplay(fpr=fpr, tpr=tpr)\n",
    "display.plot()\n",
    "plt.show()"
   ]
  },
  {
   "cell_type": "markdown",
   "id": "bf42ec87",
   "metadata": {},
   "source": [
    "# # ------------------QuadraticDiscriminantAnalysis------------------------"
   ]
  },
  {
   "cell_type": "code",
   "execution_count": 117,
   "id": "9ab6540d",
   "metadata": {},
   "outputs": [
    {
     "name": "stderr",
     "output_type": "stream",
     "text": [
      "C:\\Users\\cleme\\anaconda3\\lib\\site-packages\\sklearn\\discriminant_analysis.py:887: UserWarning: Variables are collinear\n",
      "  warnings.warn(\"Variables are collinear\")\n"
     ]
    },
    {
     "data": {
      "text/html": [
       "<style>#sk-container-id-5 {color: black;background-color: white;}#sk-container-id-5 pre{padding: 0;}#sk-container-id-5 div.sk-toggleable {background-color: white;}#sk-container-id-5 label.sk-toggleable__label {cursor: pointer;display: block;width: 100%;margin-bottom: 0;padding: 0.3em;box-sizing: border-box;text-align: center;}#sk-container-id-5 label.sk-toggleable__label-arrow:before {content: \"▸\";float: left;margin-right: 0.25em;color: #696969;}#sk-container-id-5 label.sk-toggleable__label-arrow:hover:before {color: black;}#sk-container-id-5 div.sk-estimator:hover label.sk-toggleable__label-arrow:before {color: black;}#sk-container-id-5 div.sk-toggleable__content {max-height: 0;max-width: 0;overflow: hidden;text-align: left;background-color: #f0f8ff;}#sk-container-id-5 div.sk-toggleable__content pre {margin: 0.2em;color: black;border-radius: 0.25em;background-color: #f0f8ff;}#sk-container-id-5 input.sk-toggleable__control:checked~div.sk-toggleable__content {max-height: 200px;max-width: 100%;overflow: auto;}#sk-container-id-5 input.sk-toggleable__control:checked~label.sk-toggleable__label-arrow:before {content: \"▾\";}#sk-container-id-5 div.sk-estimator input.sk-toggleable__control:checked~label.sk-toggleable__label {background-color: #d4ebff;}#sk-container-id-5 div.sk-label input.sk-toggleable__control:checked~label.sk-toggleable__label {background-color: #d4ebff;}#sk-container-id-5 input.sk-hidden--visually {border: 0;clip: rect(1px 1px 1px 1px);clip: rect(1px, 1px, 1px, 1px);height: 1px;margin: -1px;overflow: hidden;padding: 0;position: absolute;width: 1px;}#sk-container-id-5 div.sk-estimator {font-family: monospace;background-color: #f0f8ff;border: 1px dotted black;border-radius: 0.25em;box-sizing: border-box;margin-bottom: 0.5em;}#sk-container-id-5 div.sk-estimator:hover {background-color: #d4ebff;}#sk-container-id-5 div.sk-parallel-item::after {content: \"\";width: 100%;border-bottom: 1px solid gray;flex-grow: 1;}#sk-container-id-5 div.sk-label:hover label.sk-toggleable__label {background-color: #d4ebff;}#sk-container-id-5 div.sk-serial::before {content: \"\";position: absolute;border-left: 1px solid gray;box-sizing: border-box;top: 0;bottom: 0;left: 50%;z-index: 0;}#sk-container-id-5 div.sk-serial {display: flex;flex-direction: column;align-items: center;background-color: white;padding-right: 0.2em;padding-left: 0.2em;position: relative;}#sk-container-id-5 div.sk-item {position: relative;z-index: 1;}#sk-container-id-5 div.sk-parallel {display: flex;align-items: stretch;justify-content: center;background-color: white;position: relative;}#sk-container-id-5 div.sk-item::before, #sk-container-id-5 div.sk-parallel-item::before {content: \"\";position: absolute;border-left: 1px solid gray;box-sizing: border-box;top: 0;bottom: 0;left: 50%;z-index: -1;}#sk-container-id-5 div.sk-parallel-item {display: flex;flex-direction: column;z-index: 1;position: relative;background-color: white;}#sk-container-id-5 div.sk-parallel-item:first-child::after {align-self: flex-end;width: 50%;}#sk-container-id-5 div.sk-parallel-item:last-child::after {align-self: flex-start;width: 50%;}#sk-container-id-5 div.sk-parallel-item:only-child::after {width: 0;}#sk-container-id-5 div.sk-dashed-wrapped {border: 1px dashed gray;margin: 0 0.4em 0.5em 0.4em;box-sizing: border-box;padding-bottom: 0.4em;background-color: white;}#sk-container-id-5 div.sk-label label {font-family: monospace;font-weight: bold;display: inline-block;line-height: 1.2em;}#sk-container-id-5 div.sk-label-container {text-align: center;}#sk-container-id-5 div.sk-container {/* jupyter's `normalize.less` sets `[hidden] { display: none; }` but bootstrap.min.css set `[hidden] { display: none !important; }` so we also need the `!important` here to be able to override the default hidden behavior on the sphinx rendered scikit-learn.org. See: https://github.com/scikit-learn/scikit-learn/issues/21755 */display: inline-block !important;position: relative;}#sk-container-id-5 div.sk-text-repr-fallback {display: none;}</style><div id=\"sk-container-id-5\" class=\"sk-top-container\"><div class=\"sk-text-repr-fallback\"><pre>QuadraticDiscriminantAnalysis()</pre><b>In a Jupyter environment, please rerun this cell to show the HTML representation or trust the notebook. <br />On GitHub, the HTML representation is unable to render, please try loading this page with nbviewer.org.</b></div><div class=\"sk-container\" hidden><div class=\"sk-item\"><div class=\"sk-estimator sk-toggleable\"><input class=\"sk-toggleable__control sk-hidden--visually\" id=\"sk-estimator-id-5\" type=\"checkbox\" checked><label for=\"sk-estimator-id-5\" class=\"sk-toggleable__label sk-toggleable__label-arrow\">QuadraticDiscriminantAnalysis</label><div class=\"sk-toggleable__content\"><pre>QuadraticDiscriminantAnalysis()</pre></div></div></div></div></div>"
      ],
      "text/plain": [
       "QuadraticDiscriminantAnalysis()"
      ]
     },
     "execution_count": 117,
     "metadata": {},
     "output_type": "execute_result"
    }
   ],
   "source": [
    "from sklearn.discriminant_analysis import QuadraticDiscriminantAnalysis\n",
    "clf = QuadraticDiscriminantAnalysis()\n",
    "clf.fit(x_train, y_train)"
   ]
  },
  {
   "cell_type": "code",
   "execution_count": 118,
   "id": "3f6e112c",
   "metadata": {},
   "outputs": [],
   "source": [
    "y_pred_clf=clf.predict(x_test)"
   ]
  },
  {
   "cell_type": "code",
   "execution_count": 119,
   "id": "0aba91b4",
   "metadata": {},
   "outputs": [
    {
     "data": {
      "text/plain": [
       "1499    1\n",
       "924     0\n",
       "417     0\n",
       "821     0\n",
       "1299    0\n",
       "       ..\n",
       "1623    1\n",
       "138     0\n",
       "61      0\n",
       "384     0\n",
       "668     0\n",
       "Name: Bankrupt?, Length: 594, dtype: int64"
      ]
     },
     "execution_count": 119,
     "metadata": {},
     "output_type": "execute_result"
    }
   ],
   "source": [
    "y_test"
   ]
  },
  {
   "cell_type": "code",
   "execution_count": 120,
   "id": "346e0401",
   "metadata": {},
   "outputs": [
    {
     "data": {
      "text/plain": [
       "array([[372,  10],\n",
       "       [173,  39]], dtype=int64)"
      ]
     },
     "execution_count": 120,
     "metadata": {},
     "output_type": "execute_result"
    }
   ],
   "source": [
    "confusion_matrix = metrics.confusion_matrix(y_test, y_pred_clf)\n",
    "confusion_matrix"
   ]
  },
  {
   "cell_type": "code",
   "execution_count": 121,
   "id": "b785bda5",
   "metadata": {},
   "outputs": [
    {
     "data": {
      "text/plain": [
       "array([[372,  10],\n",
       "       [173,  39]], dtype=int64)"
      ]
     },
     "execution_count": 121,
     "metadata": {},
     "output_type": "execute_result"
    }
   ],
   "source": [
    "metrics.confusion_matrix(y_test, y_pred_clf)"
   ]
  },
  {
   "cell_type": "code",
   "execution_count": 122,
   "id": "c35ca7e6",
   "metadata": {},
   "outputs": [
    {
     "name": "stdout",
     "output_type": "stream",
     "text": [
      "\n",
      "The classification report for Quadratic Discriminant Analysis is:\n",
      "              precision    recall  f1-score   support\n",
      "\n",
      "           0       0.68      0.97      0.80       382\n",
      "           1       0.80      0.18      0.30       212\n",
      "\n",
      "    accuracy                           0.69       594\n",
      "   macro avg       0.74      0.58      0.55       594\n",
      "weighted avg       0.72      0.69      0.62       594\n",
      "\n"
     ]
    },
    {
     "data": {
      "image/png": "[encoded data removed]",
      "text/plain": [
       "<Figure size 576x432 with 2 Axes>"
      ]
     },
     "metadata": {
      "needs_background": "light"
     },
     "output_type": "display_data"
    }
   ],
   "source": [
    "generate_results(clf, y_pred_clf, 'Quadratic Discriminant Analysis')"
   ]
  },
  {
   "cell_type": "code",
   "execution_count": 123,
   "id": "ae194b96",
   "metadata": {},
   "outputs": [
    {
     "name": "stdout",
     "output_type": "stream",
     "text": [
      "0.5788921268398696\n"
     ]
    }
   ],
   "source": [
    "print(metrics.roc_auc_score(y_test,y_pred_clf))"
   ]
  },
  {
   "cell_type": "code",
   "execution_count": 124,
   "id": "cc902d20",
   "metadata": {},
   "outputs": [
    {
     "data": {
      "image/png": "[encoded data removed]",
      "text/plain": [
       "<Figure size 432x288 with 1 Axes>"
      ]
     },
     "metadata": {
      "needs_background": "light"
     },
     "output_type": "display_data"
    }
   ],
   "source": [
    "fpr, tpr, thresholds = metrics.roc_curve(y_test,y_pred_clf)\n",
    "roc_auc = metrics.auc(fpr, tpr)\n",
    "display = metrics.RocCurveDisplay(fpr=fpr, tpr=tpr)\n",
    "display.plot()\n",
    "plt.show()"
   ]
  },
  {
   "cell_type": "markdown",
   "id": "40a7c807",
   "metadata": {},
   "source": [
    "# # ------------------Stacking------------------------"
   ]
  },
  {
   "cell_type": "code",
   "execution_count": 125,
   "id": "7a27864a",
   "metadata": {},
   "outputs": [],
   "source": [
    "from sklearn.svm import NuSVC\n",
    "from sklearn.neighbors import KNeighborsClassifier\n",
    "from sklearn.ensemble import RandomForestClassifier\n",
    "from sklearn.ensemble import StackingClassifier\n",
    "from sklearn.linear_model import LogisticRegression\n",
    "from sklearn import model_selection\n",
    "from sklearn.pipeline import make_pipeline\n",
    "from sklearn.preprocessing import StandardScaler"
   ]
  },
  {
   "cell_type": "code",
   "execution_count": 126,
   "id": "31b940e0",
   "metadata": {},
   "outputs": [],
   "source": [
    "estimators = [('rf', RandomForestClassifier(n_estimators=10, random_state=42)),\n",
    "     ('knn', KNeighborsClassifier(n_neighbors=1)),\n",
    "     ('SVC', NuSVC(nu=0.0345, class_weight='balanced'))]\n",
    "stack_clf = StackingClassifier(\n",
    "    estimators=estimators, final_estimator=LogisticRegression())"
   ]
  },
  {
   "cell_type": "code",
   "execution_count": 127,
   "id": "549507ae",
   "metadata": {},
   "outputs": [
    {
     "data": {
      "text/plain": [
       "0.6683501683501684"
      ]
     },
     "execution_count": 127,
     "metadata": {},
     "output_type": "execute_result"
    }
   ],
   "source": [
    "stack_clf.fit(x_train, y_train).score(x_test, y_test)"
   ]
  },
  {
   "cell_type": "code",
   "execution_count": 128,
   "id": "96d54f0e",
   "metadata": {},
   "outputs": [],
   "source": [
    "y_pred_stack=stack_clf.predict(x_test)"
   ]
  },
  {
   "cell_type": "code",
   "execution_count": 129,
   "id": "6c392fbf",
   "metadata": {},
   "outputs": [
    {
     "data": {
      "text/plain": [
       "array([[379,   3],\n",
       "       [194,  18]], dtype=int64)"
      ]
     },
     "execution_count": 129,
     "metadata": {},
     "output_type": "execute_result"
    }
   ],
   "source": [
    "confusion_matrix = metrics.confusion_matrix(y_test, y_pred_stack)\n",
    "confusion_matrix"
   ]
  },
  {
   "cell_type": "code",
   "execution_count": 130,
   "id": "91d6fcfd",
   "metadata": {},
   "outputs": [
    {
     "name": "stdout",
     "output_type": "stream",
     "text": [
      "\n",
      "The classification report for Stacking  is:\n",
      "              precision    recall  f1-score   support\n",
      "\n",
      "           0       0.66      0.99      0.79       382\n",
      "           1       0.86      0.08      0.15       212\n",
      "\n",
      "    accuracy                           0.67       594\n",
      "   macro avg       0.76      0.54      0.47       594\n",
      "weighted avg       0.73      0.67      0.57       594\n",
      "\n"
     ]
    },
    {
     "data": {
      "image/png": "[encoded data removed]",
      "text/plain": [
       "<Figure size 576x432 with 2 Axes>"
      ]
     },
     "metadata": {
      "needs_background": "light"
     },
     "output_type": "display_data"
    }
   ],
   "source": [
    "generate_results(stack_clf, y_pred_stack, 'Stacking ')"
   ]
  },
  {
   "cell_type": "code",
   "execution_count": 131,
   "id": "8392f329",
   "metadata": {},
   "outputs": [
    {
     "name": "stdout",
     "output_type": "stream",
     "text": [
      "0.5385261286179986\n"
     ]
    }
   ],
   "source": [
    "print(metrics.roc_auc_score(y_test,y_pred_stack))"
   ]
  },
  {
   "cell_type": "code",
   "execution_count": 132,
   "id": "e1ad00d5",
   "metadata": {},
   "outputs": [
    {
     "data": {
      "image/png": "[encoded data removed]",
      "text/plain": [
       "<Figure size 432x288 with 1 Axes>"
      ]
     },
     "metadata": {
      "needs_background": "light"
     },
     "output_type": "display_data"
    }
   ],
   "source": [
    "fpr, tpr, thresholds = metrics.roc_curve(y_test,y_pred_stack)\n",
    "roc_auc = metrics.auc(fpr, tpr)\n",
    "display = metrics.RocCurveDisplay(fpr=fpr, tpr=tpr)\n",
    "display.plot()\n",
    "plt.show()"
   ]
  },
  {
   "cell_type": "markdown",
   "id": "c5ee1bca",
   "metadata": {},
   "source": [
    "# # ------------------RandomForestClassifier------------------------\n"
   ]
  },
  {
   "cell_type": "code",
   "execution_count": 133,
   "id": "c9f36cb2",
   "metadata": {},
   "outputs": [
    {
     "name": "stdout",
     "output_type": "stream",
     "text": [
      "The accuracy of the Random Forest Classifier is: 92.76094276094277 %\n"
     ]
    }
   ],
   "source": [
    "rfc = RandomForestClassifier()\n",
    "rfc.fit(x_train, y_train)\n",
    "y_pred_rfc = rfc.predict(x_test)\n",
    "acc_rfc = rfc.score(x_test, y_test)\n",
    "print('The accuracy of the Random Forest Classifier is:', acc_rfc * 100, '%')"
   ]
  },
  {
   "cell_type": "code",
   "execution_count": 134,
   "id": "cf9a84e4",
   "metadata": {},
   "outputs": [
    {
     "name": "stdout",
     "output_type": "stream",
     "text": [
      "\n",
      "The classification report for RandomForestClassifier is:\n",
      "              precision    recall  f1-score   support\n",
      "\n",
      "           0       0.96      0.93      0.94       382\n",
      "           1       0.88      0.93      0.90       212\n",
      "\n",
      "    accuracy                           0.93       594\n",
      "   macro avg       0.92      0.93      0.92       594\n",
      "weighted avg       0.93      0.93      0.93       594\n",
      "\n"
     ]
    },
    {
     "data": {
      "image/png": "[encoded data removed]",
      "text/plain": [
       "<Figure size 576x432 with 2 Axes>"
      ]
     },
     "metadata": {
      "needs_background": "light"
     },
     "output_type": "display_data"
    }
   ],
   "source": [
    "generate_results(rfc, y_pred_rfc, 'RandomForestClassifier')"
   ]
  },
  {
   "cell_type": "code",
   "execution_count": 135,
   "id": "5d8cd05f",
   "metadata": {},
   "outputs": [
    {
     "name": "stdout",
     "output_type": "stream",
     "text": [
      "0.927973426849748\n"
     ]
    }
   ],
   "source": [
    "print(metrics.roc_auc_score(y_test,y_pred_rfc))"
   ]
  },
  {
   "cell_type": "code",
   "execution_count": 136,
   "id": "2491ce74",
   "metadata": {},
   "outputs": [
    {
     "data": {
      "image/png": "[encoded data removed]",
      "text/plain": [
       "<Figure size 432x288 with 1 Axes>"
      ]
     },
     "metadata": {
      "needs_background": "light"
     },
     "output_type": "display_data"
    }
   ],
   "source": [
    "fpr, tpr, thresholds = metrics.roc_curve(y_test,y_pred_rfc)\n",
    "roc_auc = metrics.auc(fpr, tpr)\n",
    "display = metrics.RocCurveDisplay(fpr=fpr, tpr=tpr)\n",
    "display.plot()\n",
    "plt.show()"
   ]
  },
  {
   "cell_type": "code",
   "execution_count": null,
   "id": "13a30327",
   "metadata": {},
   "outputs": [],
   "source": []
  },
  {
   "cell_type": "code",
   "execution_count": null,
   "id": "2dcef039",
   "metadata": {},
   "outputs": [],
   "source": []
  }
 ],
 "metadata": {
  "kernelspec": {
   "display_name": "Python 3 (ipykernel)",
   "language": "python",
   "name": "python3"
  },
  "language_info": {
   "codemirror_mode": {
    "name": "ipython",
    "version": 3
   },
   "file_extension": ".py",
   "mimetype": "text/x-python",
   "name": "python",
   "nbconvert_exporter": "python",
   "pygments_lexer": "ipython3",
   "version": "3.9.12"
  }
 },
 "nbformat": 4,
 "nbformat_minor": 5
}
