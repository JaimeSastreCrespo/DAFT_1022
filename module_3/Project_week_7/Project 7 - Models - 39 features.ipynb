{
 "cells": [
  {
   "cell_type": "code",
   "execution_count": 5,
   "id": "eaeac54b",
   "metadata": {},
   "outputs": [],
   "source": [
    "# Import your libraries:\n",
    "\n",
    "%matplotlib inline\n",
    "\n",
    "import numpy as np\n",
    "import pandas as pd\n",
    "import seaborn as sns\n",
    "import matplotlib.pyplot as plt\n",
    "from sklearn.model_selection import train_test_split\n",
    "from pandas.plotting import parallel_coordinates\n",
    "from sklearn.tree import DecisionTreeClassifier, plot_tree\n",
    "from sklearn import metrics\n",
    "from sklearn.naive_bayes import GaussianNB\n",
    "from sklearn.discriminant_analysis import LinearDiscriminantAnalysis, QuadraticDiscriminantAnalysis\n",
    "from sklearn.neighbors import KNeighborsClassifier\n",
    "from sklearn.svm import SVC\n",
    "from sklearn.linear_model import LogisticRegression"
   ]
  },
  {
   "cell_type": "code",
   "execution_count": 6,
   "id": "05d6a308",
   "metadata": {},
   "outputs": [
    {
     "data": {
      "text/html": [
       "<div>\n",
       "<style scoped>\n",
       "    .dataframe tbody tr th:only-of-type {\n",
       "        vertical-align: middle;\n",
       "    }\n",
       "\n",
       "    .dataframe tbody tr th {\n",
       "        vertical-align: top;\n",
       "    }\n",
       "\n",
       "    .dataframe thead th {\n",
       "        text-align: right;\n",
       "    }\n",
       "</style>\n",
       "<table border=\"1\" class=\"dataframe\">\n",
       "  <thead>\n",
       "    <tr style=\"text-align: right;\">\n",
       "      <th></th>\n",
       "      <th>Bankrupt?</th>\n",
       "      <th>Operating_Gross_Margin</th>\n",
       "      <th>Operating_Profit_Rate</th>\n",
       "      <th>After-tax_net_Interest_Rate</th>\n",
       "      <th>Non-industry_income_and_expenditure/revenue</th>\n",
       "      <th>Operating_Expense_Rate</th>\n",
       "      <th>Research_and_development_expense_rate</th>\n",
       "      <th>Cash_flow_rate</th>\n",
       "      <th>Interest-bearing_debt_interest_rate</th>\n",
       "      <th>Tax_rate_(A)</th>\n",
       "      <th>...</th>\n",
       "      <th>Liability-Assets_Flag</th>\n",
       "      <th>Net_Income_to_Total_Assets</th>\n",
       "      <th>Total_assets_to_GNP_price</th>\n",
       "      <th>No-credit_Interval</th>\n",
       "      <th>Net_Income_to_Stockholder's_Equity</th>\n",
       "      <th>Liability_to_Equity</th>\n",
       "      <th>Degree_of_Financial_Leverage_(DFL)</th>\n",
       "      <th>Interest_Coverage_Ratio_(Interest_expense_to_EBIT)</th>\n",
       "      <th>Net_Income_Flag</th>\n",
       "      <th>Equity_to_Liability</th>\n",
       "    </tr>\n",
       "  </thead>\n",
       "  <tbody>\n",
       "    <tr>\n",
       "      <th>0</th>\n",
       "      <td>1</td>\n",
       "      <td>0.601457</td>\n",
       "      <td>0.998969</td>\n",
       "      <td>0.808809</td>\n",
       "      <td>0.302646</td>\n",
       "      <td>1.256969e-04</td>\n",
       "      <td>0.000000e+00</td>\n",
       "      <td>0.458143</td>\n",
       "      <td>7.250725e-04</td>\n",
       "      <td>0.000000</td>\n",
       "      <td>...</td>\n",
       "      <td>0</td>\n",
       "      <td>0.716845</td>\n",
       "      <td>0.009219</td>\n",
       "      <td>0.622879</td>\n",
       "      <td>0.827890</td>\n",
       "      <td>0.290202</td>\n",
       "      <td>0.026601</td>\n",
       "      <td>0.564050</td>\n",
       "      <td>1</td>\n",
       "      <td>0.016469</td>\n",
       "    </tr>\n",
       "    <tr>\n",
       "      <th>1</th>\n",
       "      <td>1</td>\n",
       "      <td>0.610235</td>\n",
       "      <td>0.998946</td>\n",
       "      <td>0.809301</td>\n",
       "      <td>0.303556</td>\n",
       "      <td>2.897851e-04</td>\n",
       "      <td>0.000000e+00</td>\n",
       "      <td>0.461867</td>\n",
       "      <td>6.470647e-04</td>\n",
       "      <td>0.000000</td>\n",
       "      <td>...</td>\n",
       "      <td>0</td>\n",
       "      <td>0.795297</td>\n",
       "      <td>0.008323</td>\n",
       "      <td>0.623652</td>\n",
       "      <td>0.839969</td>\n",
       "      <td>0.283846</td>\n",
       "      <td>0.264577</td>\n",
       "      <td>0.570175</td>\n",
       "      <td>1</td>\n",
       "      <td>0.020794</td>\n",
       "    </tr>\n",
       "    <tr>\n",
       "      <th>2</th>\n",
       "      <td>1</td>\n",
       "      <td>0.601450</td>\n",
       "      <td>0.998857</td>\n",
       "      <td>0.808388</td>\n",
       "      <td>0.302035</td>\n",
       "      <td>2.361297e-04</td>\n",
       "      <td>2.550000e+07</td>\n",
       "      <td>0.458521</td>\n",
       "      <td>7.900790e-04</td>\n",
       "      <td>0.000000</td>\n",
       "      <td>...</td>\n",
       "      <td>0</td>\n",
       "      <td>0.774670</td>\n",
       "      <td>0.040003</td>\n",
       "      <td>0.623841</td>\n",
       "      <td>0.836774</td>\n",
       "      <td>0.290189</td>\n",
       "      <td>0.026555</td>\n",
       "      <td>0.563706</td>\n",
       "      <td>1</td>\n",
       "      <td>0.016474</td>\n",
       "    </tr>\n",
       "    <tr>\n",
       "      <th>3</th>\n",
       "      <td>1</td>\n",
       "      <td>0.583541</td>\n",
       "      <td>0.998700</td>\n",
       "      <td>0.808966</td>\n",
       "      <td>0.303350</td>\n",
       "      <td>1.078888e-04</td>\n",
       "      <td>0.000000e+00</td>\n",
       "      <td>0.465705</td>\n",
       "      <td>4.490449e-04</td>\n",
       "      <td>0.000000</td>\n",
       "      <td>...</td>\n",
       "      <td>0</td>\n",
       "      <td>0.739555</td>\n",
       "      <td>0.003252</td>\n",
       "      <td>0.622929</td>\n",
       "      <td>0.834697</td>\n",
       "      <td>0.281721</td>\n",
       "      <td>0.026697</td>\n",
       "      <td>0.564663</td>\n",
       "      <td>1</td>\n",
       "      <td>0.023982</td>\n",
       "    </tr>\n",
       "    <tr>\n",
       "      <th>4</th>\n",
       "      <td>1</td>\n",
       "      <td>0.598783</td>\n",
       "      <td>0.998973</td>\n",
       "      <td>0.809304</td>\n",
       "      <td>0.303475</td>\n",
       "      <td>7.890000e+09</td>\n",
       "      <td>0.000000e+00</td>\n",
       "      <td>0.462746</td>\n",
       "      <td>6.860686e-04</td>\n",
       "      <td>0.000000</td>\n",
       "      <td>...</td>\n",
       "      <td>0</td>\n",
       "      <td>0.795016</td>\n",
       "      <td>0.003878</td>\n",
       "      <td>0.623521</td>\n",
       "      <td>0.839973</td>\n",
       "      <td>0.278514</td>\n",
       "      <td>0.024752</td>\n",
       "      <td>0.575617</td>\n",
       "      <td>1</td>\n",
       "      <td>0.035490</td>\n",
       "    </tr>\n",
       "    <tr>\n",
       "      <th>...</th>\n",
       "      <td>...</td>\n",
       "      <td>...</td>\n",
       "      <td>...</td>\n",
       "      <td>...</td>\n",
       "      <td>...</td>\n",
       "      <td>...</td>\n",
       "      <td>...</td>\n",
       "      <td>...</td>\n",
       "      <td>...</td>\n",
       "      <td>...</td>\n",
       "      <td>...</td>\n",
       "      <td>...</td>\n",
       "      <td>...</td>\n",
       "      <td>...</td>\n",
       "      <td>...</td>\n",
       "      <td>...</td>\n",
       "      <td>...</td>\n",
       "      <td>...</td>\n",
       "      <td>...</td>\n",
       "      <td>...</td>\n",
       "      <td>...</td>\n",
       "    </tr>\n",
       "    <tr>\n",
       "      <th>6814</th>\n",
       "      <td>0</td>\n",
       "      <td>0.604455</td>\n",
       "      <td>0.998992</td>\n",
       "      <td>0.809331</td>\n",
       "      <td>0.303510</td>\n",
       "      <td>1.510213e-04</td>\n",
       "      <td>4.500000e+09</td>\n",
       "      <td>0.463734</td>\n",
       "      <td>1.790179e-04</td>\n",
       "      <td>0.113372</td>\n",
       "      <td>...</td>\n",
       "      <td>0</td>\n",
       "      <td>0.799927</td>\n",
       "      <td>0.000466</td>\n",
       "      <td>0.623620</td>\n",
       "      <td>0.840359</td>\n",
       "      <td>0.279606</td>\n",
       "      <td>0.027064</td>\n",
       "      <td>0.566193</td>\n",
       "      <td>1</td>\n",
       "      <td>0.029890</td>\n",
       "    </tr>\n",
       "    <tr>\n",
       "      <th>6815</th>\n",
       "      <td>0</td>\n",
       "      <td>0.598308</td>\n",
       "      <td>0.998992</td>\n",
       "      <td>0.809327</td>\n",
       "      <td>0.303520</td>\n",
       "      <td>5.220000e+09</td>\n",
       "      <td>1.440000e+09</td>\n",
       "      <td>0.461978</td>\n",
       "      <td>2.370237e-04</td>\n",
       "      <td>0.371596</td>\n",
       "      <td>...</td>\n",
       "      <td>0</td>\n",
       "      <td>0.799748</td>\n",
       "      <td>0.001959</td>\n",
       "      <td>0.623931</td>\n",
       "      <td>0.840306</td>\n",
       "      <td>0.278132</td>\n",
       "      <td>0.027009</td>\n",
       "      <td>0.566018</td>\n",
       "      <td>1</td>\n",
       "      <td>0.038284</td>\n",
       "    </tr>\n",
       "    <tr>\n",
       "      <th>6816</th>\n",
       "      <td>0</td>\n",
       "      <td>0.610444</td>\n",
       "      <td>0.998984</td>\n",
       "      <td>0.809317</td>\n",
       "      <td>0.303512</td>\n",
       "      <td>2.509312e-04</td>\n",
       "      <td>1.039086e-04</td>\n",
       "      <td>0.472189</td>\n",
       "      <td>0.000000e+00</td>\n",
       "      <td>0.490839</td>\n",
       "      <td>...</td>\n",
       "      <td>0</td>\n",
       "      <td>0.797778</td>\n",
       "      <td>0.002840</td>\n",
       "      <td>0.624156</td>\n",
       "      <td>0.840138</td>\n",
       "      <td>0.275789</td>\n",
       "      <td>0.026791</td>\n",
       "      <td>0.565158</td>\n",
       "      <td>1</td>\n",
       "      <td>0.097649</td>\n",
       "    </tr>\n",
       "    <tr>\n",
       "      <th>6817</th>\n",
       "      <td>0</td>\n",
       "      <td>0.607850</td>\n",
       "      <td>0.999074</td>\n",
       "      <td>0.809399</td>\n",
       "      <td>0.303498</td>\n",
       "      <td>1.236154e-04</td>\n",
       "      <td>2.510000e+09</td>\n",
       "      <td>0.476123</td>\n",
       "      <td>2.110211e-04</td>\n",
       "      <td>0.181294</td>\n",
       "      <td>...</td>\n",
       "      <td>0</td>\n",
       "      <td>0.811808</td>\n",
       "      <td>0.002837</td>\n",
       "      <td>0.623957</td>\n",
       "      <td>0.841084</td>\n",
       "      <td>0.277547</td>\n",
       "      <td>0.026822</td>\n",
       "      <td>0.565302</td>\n",
       "      <td>1</td>\n",
       "      <td>0.044009</td>\n",
       "    </tr>\n",
       "    <tr>\n",
       "      <th>6818</th>\n",
       "      <td>0</td>\n",
       "      <td>0.627409</td>\n",
       "      <td>0.998080</td>\n",
       "      <td>0.813800</td>\n",
       "      <td>0.313415</td>\n",
       "      <td>1.431695e-03</td>\n",
       "      <td>0.000000e+00</td>\n",
       "      <td>0.427721</td>\n",
       "      <td>5.900000e+08</td>\n",
       "      <td>0.000000</td>\n",
       "      <td>...</td>\n",
       "      <td>0</td>\n",
       "      <td>0.815956</td>\n",
       "      <td>0.000707</td>\n",
       "      <td>0.626680</td>\n",
       "      <td>0.841019</td>\n",
       "      <td>0.275114</td>\n",
       "      <td>0.026793</td>\n",
       "      <td>0.565167</td>\n",
       "      <td>1</td>\n",
       "      <td>0.233902</td>\n",
       "    </tr>\n",
       "  </tbody>\n",
       "</table>\n",
       "<p>6819 rows × 78 columns</p>\n",
       "</div>"
      ],
      "text/plain": [
       "      Bankrupt?  Operating_Gross_Margin  Operating_Profit_Rate  \\\n",
       "0             1                0.601457               0.998969   \n",
       "1             1                0.610235               0.998946   \n",
       "2             1                0.601450               0.998857   \n",
       "3             1                0.583541               0.998700   \n",
       "4             1                0.598783               0.998973   \n",
       "...         ...                     ...                    ...   \n",
       "6814          0                0.604455               0.998992   \n",
       "6815          0                0.598308               0.998992   \n",
       "6816          0                0.610444               0.998984   \n",
       "6817          0                0.607850               0.999074   \n",
       "6818          0                0.627409               0.998080   \n",
       "\n",
       "      After-tax_net_Interest_Rate  \\\n",
       "0                        0.808809   \n",
       "1                        0.809301   \n",
       "2                        0.808388   \n",
       "3                        0.808966   \n",
       "4                        0.809304   \n",
       "...                           ...   \n",
       "6814                     0.809331   \n",
       "6815                     0.809327   \n",
       "6816                     0.809317   \n",
       "6817                     0.809399   \n",
       "6818                     0.813800   \n",
       "\n",
       "      Non-industry_income_and_expenditure/revenue  Operating_Expense_Rate  \\\n",
       "0                                        0.302646            1.256969e-04   \n",
       "1                                        0.303556            2.897851e-04   \n",
       "2                                        0.302035            2.361297e-04   \n",
       "3                                        0.303350            1.078888e-04   \n",
       "4                                        0.303475            7.890000e+09   \n",
       "...                                           ...                     ...   \n",
       "6814                                     0.303510            1.510213e-04   \n",
       "6815                                     0.303520            5.220000e+09   \n",
       "6816                                     0.303512            2.509312e-04   \n",
       "6817                                     0.303498            1.236154e-04   \n",
       "6818                                     0.313415            1.431695e-03   \n",
       "\n",
       "      Research_and_development_expense_rate  Cash_flow_rate  \\\n",
       "0                              0.000000e+00        0.458143   \n",
       "1                              0.000000e+00        0.461867   \n",
       "2                              2.550000e+07        0.458521   \n",
       "3                              0.000000e+00        0.465705   \n",
       "4                              0.000000e+00        0.462746   \n",
       "...                                     ...             ...   \n",
       "6814                           4.500000e+09        0.463734   \n",
       "6815                           1.440000e+09        0.461978   \n",
       "6816                           1.039086e-04        0.472189   \n",
       "6817                           2.510000e+09        0.476123   \n",
       "6818                           0.000000e+00        0.427721   \n",
       "\n",
       "      Interest-bearing_debt_interest_rate  Tax_rate_(A)  ...  \\\n",
       "0                            7.250725e-04      0.000000  ...   \n",
       "1                            6.470647e-04      0.000000  ...   \n",
       "2                            7.900790e-04      0.000000  ...   \n",
       "3                            4.490449e-04      0.000000  ...   \n",
       "4                            6.860686e-04      0.000000  ...   \n",
       "...                                   ...           ...  ...   \n",
       "6814                         1.790179e-04      0.113372  ...   \n",
       "6815                         2.370237e-04      0.371596  ...   \n",
       "6816                         0.000000e+00      0.490839  ...   \n",
       "6817                         2.110211e-04      0.181294  ...   \n",
       "6818                         5.900000e+08      0.000000  ...   \n",
       "\n",
       "      Liability-Assets_Flag  Net_Income_to_Total_Assets  \\\n",
       "0                         0                    0.716845   \n",
       "1                         0                    0.795297   \n",
       "2                         0                    0.774670   \n",
       "3                         0                    0.739555   \n",
       "4                         0                    0.795016   \n",
       "...                     ...                         ...   \n",
       "6814                      0                    0.799927   \n",
       "6815                      0                    0.799748   \n",
       "6816                      0                    0.797778   \n",
       "6817                      0                    0.811808   \n",
       "6818                      0                    0.815956   \n",
       "\n",
       "      Total_assets_to_GNP_price  No-credit_Interval  \\\n",
       "0                      0.009219            0.622879   \n",
       "1                      0.008323            0.623652   \n",
       "2                      0.040003            0.623841   \n",
       "3                      0.003252            0.622929   \n",
       "4                      0.003878            0.623521   \n",
       "...                         ...                 ...   \n",
       "6814                   0.000466            0.623620   \n",
       "6815                   0.001959            0.623931   \n",
       "6816                   0.002840            0.624156   \n",
       "6817                   0.002837            0.623957   \n",
       "6818                   0.000707            0.626680   \n",
       "\n",
       "      Net_Income_to_Stockholder's_Equity  Liability_to_Equity  \\\n",
       "0                               0.827890             0.290202   \n",
       "1                               0.839969             0.283846   \n",
       "2                               0.836774             0.290189   \n",
       "3                               0.834697             0.281721   \n",
       "4                               0.839973             0.278514   \n",
       "...                                  ...                  ...   \n",
       "6814                            0.840359             0.279606   \n",
       "6815                            0.840306             0.278132   \n",
       "6816                            0.840138             0.275789   \n",
       "6817                            0.841084             0.277547   \n",
       "6818                            0.841019             0.275114   \n",
       "\n",
       "      Degree_of_Financial_Leverage_(DFL)  \\\n",
       "0                               0.026601   \n",
       "1                               0.264577   \n",
       "2                               0.026555   \n",
       "3                               0.026697   \n",
       "4                               0.024752   \n",
       "...                                  ...   \n",
       "6814                            0.027064   \n",
       "6815                            0.027009   \n",
       "6816                            0.026791   \n",
       "6817                            0.026822   \n",
       "6818                            0.026793   \n",
       "\n",
       "      Interest_Coverage_Ratio_(Interest_expense_to_EBIT)  Net_Income_Flag  \\\n",
       "0                                              0.564050                 1   \n",
       "1                                              0.570175                 1   \n",
       "2                                              0.563706                 1   \n",
       "3                                              0.564663                 1   \n",
       "4                                              0.575617                 1   \n",
       "...                                                 ...               ...   \n",
       "6814                                           0.566193                 1   \n",
       "6815                                           0.566018                 1   \n",
       "6816                                           0.565158                 1   \n",
       "6817                                           0.565302                 1   \n",
       "6818                                           0.565167                 1   \n",
       "\n",
       "      Equity_to_Liability  \n",
       "0                0.016469  \n",
       "1                0.020794  \n",
       "2                0.016474  \n",
       "3                0.023982  \n",
       "4                0.035490  \n",
       "...                   ...  \n",
       "6814             0.029890  \n",
       "6815             0.038284  \n",
       "6816             0.097649  \n",
       "6817             0.044009  \n",
       "6818             0.233902  \n",
       "\n",
       "[6819 rows x 78 columns]"
      ]
     },
     "execution_count": 6,
     "metadata": {},
     "output_type": "execute_result"
    }
   ],
   "source": [
    "data=pd.read_csv(r'C:\\Users\\cleme\\Desktop\\IronHack\\Project_7\\data_clean.csv')\n",
    "data\n"
   ]
  },
  {
   "cell_type": "markdown",
   "id": "ec729ab5",
   "metadata": {},
   "source": [
    "# --------------Features Selection-------------------------------------"
   ]
  },
  {
   "cell_type": "code",
   "execution_count": 7,
   "id": "5a16a18b",
   "metadata": {},
   "outputs": [],
   "source": [
    "from sklearn.feature_selection import RFE\n",
    "from sklearn.ensemble import RandomForestClassifier"
   ]
  },
  {
   "cell_type": "code",
   "execution_count": 8,
   "id": "791092dc",
   "metadata": {},
   "outputs": [],
   "source": [
    "X = data.drop(['Bankrupt?'], axis = 1)\n",
    "y = data['Bankrupt?']"
   ]
  },
  {
   "cell_type": "code",
   "execution_count": 9,
   "id": "8f5b31b8",
   "metadata": {},
   "outputs": [
    {
     "name": "stdout",
     "output_type": "stream",
     "text": [
      "Num Features: 39\n",
      "Selected Features: [False False  True  True  True False False  True False  True False False\n",
      "  True False False False  True False  True  True False False  True  True\n",
      "  True  True  True False False  True False False  True  True  True  True\n",
      " False  True  True  True  True False False  True  True  True False False\n",
      "  True False False  True False  True  True False False False  True False\n",
      " False False False False False False False False  True  True  True  True\n",
      "  True  True  True False  True]\n",
      "Feature Ranking: [ 2 13  1  1  1 12  9  1 37  1 28  6  1 32 14 26  1 16  1  1 15  3  1  1\n",
      "  1  1  1 27 35  1 11 24  1  1  1  1 10  1  1  1  1 31 33  1  1  1  5 30\n",
      "  1 34 19  1 36  1  1 17  8 18  1 22 25 21 20  7 29  4 23 38  1  1  1  1\n",
      "  1  1  1 39  1]\n"
     ]
    }
   ],
   "source": [
    "rfe_selector = RFE(estimator=RandomForestClassifier(),n_features_to_select = 39, step = 1)\n",
    "m=rfe_selector.fit(X, y)\n",
    "X.columns[m.get_support()]\n",
    "print(\"Num Features: %s\" % (m.n_features_))\n",
    "print(\"Selected Features: %s\" % (m.support_))\n",
    "print(\"Feature Ranking: %s\" % (m.ranking_))"
   ]
  },
  {
   "cell_type": "code",
   "execution_count": 11,
   "id": "f6df714b",
   "metadata": {},
   "outputs": [
    {
     "data": {
      "text/plain": [
       "Index(['After-tax_net_Interest_Rate',\n",
       "       'Non-industry_income_and_expenditure/revenue', 'Operating_Expense_Rate',\n",
       "       'Interest-bearing_debt_interest_rate', 'Net_Value_Per_Share_(A)',\n",
       "       'Operating_Profit_Per_Share_(Yuan_¥)',\n",
       "       'Continuous_Net_Profit_Growth_Rate', 'Net_Value_Growth_Rate',\n",
       "       'Total_Asset_Return_Growth_Rate_Ratio', 'Quick_Ratio',\n",
       "       'Interest_Expense_Ratio', 'Total_debt/Total_net_worth', 'Debt_ratio_%',\n",
       "       'Net_worth/Assets', 'Net_profit_before_tax/Paid-in_capital',\n",
       "       'Accounts_Receivable_Turnover', 'Average_Collection_Days',\n",
       "       'Inventory_Turnover_Rate_(times)', 'Fixed_Assets_Turnover_Frequency',\n",
       "       'Revenue_per_person', 'Operating_profit_per_person',\n",
       "       'Allocation_rate_per_person', 'Working_Capital_to_Total_Assets',\n",
       "       'Cash/Total_Assets', 'Quick_Assets/Current_Liability',\n",
       "       'Cash/Current_Liability', 'Inventory/Working_Capital',\n",
       "       'Working_Capital/Equity', 'Retained_Earnings_to_Total_Assets',\n",
       "       'Total_income/Total_expense', 'Working_capitcal_Turnover_Rate',\n",
       "       'Net_Income_to_Total_Assets', 'Total_assets_to_GNP_price',\n",
       "       'No-credit_Interval', 'Net_Income_to_Stockholder's_Equity',\n",
       "       'Liability_to_Equity', 'Degree_of_Financial_Leverage_(DFL)',\n",
       "       'Interest_Coverage_Ratio_(Interest_expense_to_EBIT)',\n",
       "       'Equity_to_Liability'],\n",
       "      dtype='object')"
      ]
     },
     "execution_count": 11,
     "metadata": {},
     "output_type": "execute_result"
    }
   ],
   "source": [
    "X.loc[:, m.support_].columns"
   ]
  },
  {
   "cell_type": "code",
   "execution_count": 12,
   "id": "9f77adf1",
   "metadata": {},
   "outputs": [],
   "source": [
    "X=X.loc[:, m.support_]"
   ]
  },
  {
   "cell_type": "code",
   "execution_count": 13,
   "id": "694added",
   "metadata": {},
   "outputs": [],
   "source": [
    "#--------------Splitting between train set and test set----------------------------"
   ]
  },
  {
   "cell_type": "code",
   "execution_count": 14,
   "id": "312870e6",
   "metadata": {},
   "outputs": [
    {
     "data": {
      "text/html": [
       "<div>\n",
       "<style scoped>\n",
       "    .dataframe tbody tr th:only-of-type {\n",
       "        vertical-align: middle;\n",
       "    }\n",
       "\n",
       "    .dataframe tbody tr th {\n",
       "        vertical-align: top;\n",
       "    }\n",
       "\n",
       "    .dataframe thead th {\n",
       "        text-align: right;\n",
       "    }\n",
       "</style>\n",
       "<table border=\"1\" class=\"dataframe\">\n",
       "  <thead>\n",
       "    <tr style=\"text-align: right;\">\n",
       "      <th></th>\n",
       "      <th>After-tax_net_Interest_Rate</th>\n",
       "      <th>Non-industry_income_and_expenditure/revenue</th>\n",
       "      <th>Operating_Expense_Rate</th>\n",
       "      <th>Interest-bearing_debt_interest_rate</th>\n",
       "      <th>Net_Value_Per_Share_(A)</th>\n",
       "      <th>Operating_Profit_Per_Share_(Yuan_¥)</th>\n",
       "      <th>Continuous_Net_Profit_Growth_Rate</th>\n",
       "      <th>Net_Value_Growth_Rate</th>\n",
       "      <th>Total_Asset_Return_Growth_Rate_Ratio</th>\n",
       "      <th>Quick_Ratio</th>\n",
       "      <th>...</th>\n",
       "      <th>Total_income/Total_expense</th>\n",
       "      <th>Working_capitcal_Turnover_Rate</th>\n",
       "      <th>Net_Income_to_Total_Assets</th>\n",
       "      <th>Total_assets_to_GNP_price</th>\n",
       "      <th>No-credit_Interval</th>\n",
       "      <th>Net_Income_to_Stockholder's_Equity</th>\n",
       "      <th>Liability_to_Equity</th>\n",
       "      <th>Degree_of_Financial_Leverage_(DFL)</th>\n",
       "      <th>Interest_Coverage_Ratio_(Interest_expense_to_EBIT)</th>\n",
       "      <th>Equity_to_Liability</th>\n",
       "    </tr>\n",
       "  </thead>\n",
       "  <tbody>\n",
       "    <tr>\n",
       "      <th>0</th>\n",
       "      <td>0.808809</td>\n",
       "      <td>0.302646</td>\n",
       "      <td>1.256969e-04</td>\n",
       "      <td>7.250725e-04</td>\n",
       "      <td>0.147950</td>\n",
       "      <td>0.095921</td>\n",
       "      <td>0.217535</td>\n",
       "      <td>0.000327</td>\n",
       "      <td>0.263100</td>\n",
       "      <td>0.001208</td>\n",
       "      <td>...</td>\n",
       "      <td>0.002022</td>\n",
       "      <td>0.593831</td>\n",
       "      <td>0.716845</td>\n",
       "      <td>0.009219</td>\n",
       "      <td>0.622879</td>\n",
       "      <td>0.827890</td>\n",
       "      <td>0.290202</td>\n",
       "      <td>0.026601</td>\n",
       "      <td>0.564050</td>\n",
       "      <td>0.016469</td>\n",
       "    </tr>\n",
       "    <tr>\n",
       "      <th>1</th>\n",
       "      <td>0.809301</td>\n",
       "      <td>0.303556</td>\n",
       "      <td>2.897851e-04</td>\n",
       "      <td>6.470647e-04</td>\n",
       "      <td>0.182251</td>\n",
       "      <td>0.093722</td>\n",
       "      <td>0.217620</td>\n",
       "      <td>0.000443</td>\n",
       "      <td>0.264516</td>\n",
       "      <td>0.004039</td>\n",
       "      <td>...</td>\n",
       "      <td>0.002226</td>\n",
       "      <td>0.593916</td>\n",
       "      <td>0.795297</td>\n",
       "      <td>0.008323</td>\n",
       "      <td>0.623652</td>\n",
       "      <td>0.839969</td>\n",
       "      <td>0.283846</td>\n",
       "      <td>0.264577</td>\n",
       "      <td>0.570175</td>\n",
       "      <td>0.020794</td>\n",
       "    </tr>\n",
       "    <tr>\n",
       "      <th>2</th>\n",
       "      <td>0.808388</td>\n",
       "      <td>0.302035</td>\n",
       "      <td>2.361297e-04</td>\n",
       "      <td>7.900790e-04</td>\n",
       "      <td>0.177911</td>\n",
       "      <td>0.092338</td>\n",
       "      <td>0.217601</td>\n",
       "      <td>0.000396</td>\n",
       "      <td>0.264184</td>\n",
       "      <td>0.005348</td>\n",
       "      <td>...</td>\n",
       "      <td>0.002060</td>\n",
       "      <td>0.594502</td>\n",
       "      <td>0.774670</td>\n",
       "      <td>0.040003</td>\n",
       "      <td>0.623841</td>\n",
       "      <td>0.836774</td>\n",
       "      <td>0.290189</td>\n",
       "      <td>0.026555</td>\n",
       "      <td>0.563706</td>\n",
       "      <td>0.016474</td>\n",
       "    </tr>\n",
       "    <tr>\n",
       "      <th>3</th>\n",
       "      <td>0.808966</td>\n",
       "      <td>0.303350</td>\n",
       "      <td>1.078888e-04</td>\n",
       "      <td>4.490449e-04</td>\n",
       "      <td>0.154187</td>\n",
       "      <td>0.077762</td>\n",
       "      <td>0.217568</td>\n",
       "      <td>0.000382</td>\n",
       "      <td>0.263371</td>\n",
       "      <td>0.002896</td>\n",
       "      <td>...</td>\n",
       "      <td>0.001831</td>\n",
       "      <td>0.593889</td>\n",
       "      <td>0.739555</td>\n",
       "      <td>0.003252</td>\n",
       "      <td>0.622929</td>\n",
       "      <td>0.834697</td>\n",
       "      <td>0.281721</td>\n",
       "      <td>0.026697</td>\n",
       "      <td>0.564663</td>\n",
       "      <td>0.023982</td>\n",
       "    </tr>\n",
       "    <tr>\n",
       "      <th>4</th>\n",
       "      <td>0.809304</td>\n",
       "      <td>0.303475</td>\n",
       "      <td>7.890000e+09</td>\n",
       "      <td>6.860686e-04</td>\n",
       "      <td>0.167502</td>\n",
       "      <td>0.096898</td>\n",
       "      <td>0.217626</td>\n",
       "      <td>0.000439</td>\n",
       "      <td>0.265218</td>\n",
       "      <td>0.003727</td>\n",
       "      <td>...</td>\n",
       "      <td>0.002224</td>\n",
       "      <td>0.593915</td>\n",
       "      <td>0.795016</td>\n",
       "      <td>0.003878</td>\n",
       "      <td>0.623521</td>\n",
       "      <td>0.839973</td>\n",
       "      <td>0.278514</td>\n",
       "      <td>0.024752</td>\n",
       "      <td>0.575617</td>\n",
       "      <td>0.035490</td>\n",
       "    </tr>\n",
       "    <tr>\n",
       "      <th>...</th>\n",
       "      <td>...</td>\n",
       "      <td>...</td>\n",
       "      <td>...</td>\n",
       "      <td>...</td>\n",
       "      <td>...</td>\n",
       "      <td>...</td>\n",
       "      <td>...</td>\n",
       "      <td>...</td>\n",
       "      <td>...</td>\n",
       "      <td>...</td>\n",
       "      <td>...</td>\n",
       "      <td>...</td>\n",
       "      <td>...</td>\n",
       "      <td>...</td>\n",
       "      <td>...</td>\n",
       "      <td>...</td>\n",
       "      <td>...</td>\n",
       "      <td>...</td>\n",
       "      <td>...</td>\n",
       "      <td>...</td>\n",
       "      <td>...</td>\n",
       "    </tr>\n",
       "    <tr>\n",
       "      <th>6814</th>\n",
       "      <td>0.809331</td>\n",
       "      <td>0.303510</td>\n",
       "      <td>1.510213e-04</td>\n",
       "      <td>1.790179e-04</td>\n",
       "      <td>0.175045</td>\n",
       "      <td>0.098200</td>\n",
       "      <td>0.217635</td>\n",
       "      <td>0.000450</td>\n",
       "      <td>0.264517</td>\n",
       "      <td>0.005457</td>\n",
       "      <td>...</td>\n",
       "      <td>0.002266</td>\n",
       "      <td>0.593985</td>\n",
       "      <td>0.799927</td>\n",
       "      <td>0.000466</td>\n",
       "      <td>0.623620</td>\n",
       "      <td>0.840359</td>\n",
       "      <td>0.279606</td>\n",
       "      <td>0.027064</td>\n",
       "      <td>0.566193</td>\n",
       "      <td>0.029890</td>\n",
       "    </tr>\n",
       "    <tr>\n",
       "      <th>6815</th>\n",
       "      <td>0.809327</td>\n",
       "      <td>0.303520</td>\n",
       "      <td>5.220000e+09</td>\n",
       "      <td>2.370237e-04</td>\n",
       "      <td>0.181324</td>\n",
       "      <td>0.098608</td>\n",
       "      <td>0.217631</td>\n",
       "      <td>0.000445</td>\n",
       "      <td>0.264730</td>\n",
       "      <td>0.006741</td>\n",
       "      <td>...</td>\n",
       "      <td>0.002288</td>\n",
       "      <td>0.593954</td>\n",
       "      <td>0.799748</td>\n",
       "      <td>0.001959</td>\n",
       "      <td>0.623931</td>\n",
       "      <td>0.840306</td>\n",
       "      <td>0.278132</td>\n",
       "      <td>0.027009</td>\n",
       "      <td>0.566018</td>\n",
       "      <td>0.038284</td>\n",
       "    </tr>\n",
       "    <tr>\n",
       "      <th>6816</th>\n",
       "      <td>0.809317</td>\n",
       "      <td>0.303512</td>\n",
       "      <td>2.509312e-04</td>\n",
       "      <td>0.000000e+00</td>\n",
       "      <td>0.269521</td>\n",
       "      <td>0.100073</td>\n",
       "      <td>0.217547</td>\n",
       "      <td>0.000435</td>\n",
       "      <td>0.263858</td>\n",
       "      <td>0.035112</td>\n",
       "      <td>...</td>\n",
       "      <td>0.002239</td>\n",
       "      <td>0.594025</td>\n",
       "      <td>0.797778</td>\n",
       "      <td>0.002840</td>\n",
       "      <td>0.624156</td>\n",
       "      <td>0.840138</td>\n",
       "      <td>0.275789</td>\n",
       "      <td>0.026791</td>\n",
       "      <td>0.565158</td>\n",
       "      <td>0.097649</td>\n",
       "    </tr>\n",
       "    <tr>\n",
       "      <th>6817</th>\n",
       "      <td>0.809399</td>\n",
       "      <td>0.303498</td>\n",
       "      <td>1.236154e-04</td>\n",
       "      <td>2.110211e-04</td>\n",
       "      <td>0.213392</td>\n",
       "      <td>0.111799</td>\n",
       "      <td>0.218006</td>\n",
       "      <td>0.000529</td>\n",
       "      <td>0.264409</td>\n",
       "      <td>0.007256</td>\n",
       "      <td>...</td>\n",
       "      <td>0.002395</td>\n",
       "      <td>0.593997</td>\n",
       "      <td>0.811808</td>\n",
       "      <td>0.002837</td>\n",
       "      <td>0.623957</td>\n",
       "      <td>0.841084</td>\n",
       "      <td>0.277547</td>\n",
       "      <td>0.026822</td>\n",
       "      <td>0.565302</td>\n",
       "      <td>0.044009</td>\n",
       "    </tr>\n",
       "    <tr>\n",
       "      <th>6818</th>\n",
       "      <td>0.813800</td>\n",
       "      <td>0.313415</td>\n",
       "      <td>1.431695e-03</td>\n",
       "      <td>5.900000e+08</td>\n",
       "      <td>0.220766</td>\n",
       "      <td>0.092501</td>\n",
       "      <td>0.217605</td>\n",
       "      <td>0.000519</td>\n",
       "      <td>0.264186</td>\n",
       "      <td>0.040897</td>\n",
       "      <td>...</td>\n",
       "      <td>0.002791</td>\n",
       "      <td>0.598674</td>\n",
       "      <td>0.815956</td>\n",
       "      <td>0.000707</td>\n",
       "      <td>0.626680</td>\n",
       "      <td>0.841019</td>\n",
       "      <td>0.275114</td>\n",
       "      <td>0.026793</td>\n",
       "      <td>0.565167</td>\n",
       "      <td>0.233902</td>\n",
       "    </tr>\n",
       "  </tbody>\n",
       "</table>\n",
       "<p>6819 rows × 39 columns</p>\n",
       "</div>"
      ],
      "text/plain": [
       "      After-tax_net_Interest_Rate  \\\n",
       "0                        0.808809   \n",
       "1                        0.809301   \n",
       "2                        0.808388   \n",
       "3                        0.808966   \n",
       "4                        0.809304   \n",
       "...                           ...   \n",
       "6814                     0.809331   \n",
       "6815                     0.809327   \n",
       "6816                     0.809317   \n",
       "6817                     0.809399   \n",
       "6818                     0.813800   \n",
       "\n",
       "      Non-industry_income_and_expenditure/revenue  Operating_Expense_Rate  \\\n",
       "0                                        0.302646            1.256969e-04   \n",
       "1                                        0.303556            2.897851e-04   \n",
       "2                                        0.302035            2.361297e-04   \n",
       "3                                        0.303350            1.078888e-04   \n",
       "4                                        0.303475            7.890000e+09   \n",
       "...                                           ...                     ...   \n",
       "6814                                     0.303510            1.510213e-04   \n",
       "6815                                     0.303520            5.220000e+09   \n",
       "6816                                     0.303512            2.509312e-04   \n",
       "6817                                     0.303498            1.236154e-04   \n",
       "6818                                     0.313415            1.431695e-03   \n",
       "\n",
       "      Interest-bearing_debt_interest_rate  Net_Value_Per_Share_(A)  \\\n",
       "0                            7.250725e-04                 0.147950   \n",
       "1                            6.470647e-04                 0.182251   \n",
       "2                            7.900790e-04                 0.177911   \n",
       "3                            4.490449e-04                 0.154187   \n",
       "4                            6.860686e-04                 0.167502   \n",
       "...                                   ...                      ...   \n",
       "6814                         1.790179e-04                 0.175045   \n",
       "6815                         2.370237e-04                 0.181324   \n",
       "6816                         0.000000e+00                 0.269521   \n",
       "6817                         2.110211e-04                 0.213392   \n",
       "6818                         5.900000e+08                 0.220766   \n",
       "\n",
       "      Operating_Profit_Per_Share_(Yuan_¥)  Continuous_Net_Profit_Growth_Rate  \\\n",
       "0                                0.095921                           0.217535   \n",
       "1                                0.093722                           0.217620   \n",
       "2                                0.092338                           0.217601   \n",
       "3                                0.077762                           0.217568   \n",
       "4                                0.096898                           0.217626   \n",
       "...                                   ...                                ...   \n",
       "6814                             0.098200                           0.217635   \n",
       "6815                             0.098608                           0.217631   \n",
       "6816                             0.100073                           0.217547   \n",
       "6817                             0.111799                           0.218006   \n",
       "6818                             0.092501                           0.217605   \n",
       "\n",
       "      Net_Value_Growth_Rate  Total_Asset_Return_Growth_Rate_Ratio  \\\n",
       "0                  0.000327                              0.263100   \n",
       "1                  0.000443                              0.264516   \n",
       "2                  0.000396                              0.264184   \n",
       "3                  0.000382                              0.263371   \n",
       "4                  0.000439                              0.265218   \n",
       "...                     ...                                   ...   \n",
       "6814               0.000450                              0.264517   \n",
       "6815               0.000445                              0.264730   \n",
       "6816               0.000435                              0.263858   \n",
       "6817               0.000529                              0.264409   \n",
       "6818               0.000519                              0.264186   \n",
       "\n",
       "      Quick_Ratio  ...  Total_income/Total_expense  \\\n",
       "0        0.001208  ...                    0.002022   \n",
       "1        0.004039  ...                    0.002226   \n",
       "2        0.005348  ...                    0.002060   \n",
       "3        0.002896  ...                    0.001831   \n",
       "4        0.003727  ...                    0.002224   \n",
       "...           ...  ...                         ...   \n",
       "6814     0.005457  ...                    0.002266   \n",
       "6815     0.006741  ...                    0.002288   \n",
       "6816     0.035112  ...                    0.002239   \n",
       "6817     0.007256  ...                    0.002395   \n",
       "6818     0.040897  ...                    0.002791   \n",
       "\n",
       "      Working_capitcal_Turnover_Rate  Net_Income_to_Total_Assets  \\\n",
       "0                           0.593831                    0.716845   \n",
       "1                           0.593916                    0.795297   \n",
       "2                           0.594502                    0.774670   \n",
       "3                           0.593889                    0.739555   \n",
       "4                           0.593915                    0.795016   \n",
       "...                              ...                         ...   \n",
       "6814                        0.593985                    0.799927   \n",
       "6815                        0.593954                    0.799748   \n",
       "6816                        0.594025                    0.797778   \n",
       "6817                        0.593997                    0.811808   \n",
       "6818                        0.598674                    0.815956   \n",
       "\n",
       "      Total_assets_to_GNP_price  No-credit_Interval  \\\n",
       "0                      0.009219            0.622879   \n",
       "1                      0.008323            0.623652   \n",
       "2                      0.040003            0.623841   \n",
       "3                      0.003252            0.622929   \n",
       "4                      0.003878            0.623521   \n",
       "...                         ...                 ...   \n",
       "6814                   0.000466            0.623620   \n",
       "6815                   0.001959            0.623931   \n",
       "6816                   0.002840            0.624156   \n",
       "6817                   0.002837            0.623957   \n",
       "6818                   0.000707            0.626680   \n",
       "\n",
       "      Net_Income_to_Stockholder's_Equity  Liability_to_Equity  \\\n",
       "0                               0.827890             0.290202   \n",
       "1                               0.839969             0.283846   \n",
       "2                               0.836774             0.290189   \n",
       "3                               0.834697             0.281721   \n",
       "4                               0.839973             0.278514   \n",
       "...                                  ...                  ...   \n",
       "6814                            0.840359             0.279606   \n",
       "6815                            0.840306             0.278132   \n",
       "6816                            0.840138             0.275789   \n",
       "6817                            0.841084             0.277547   \n",
       "6818                            0.841019             0.275114   \n",
       "\n",
       "      Degree_of_Financial_Leverage_(DFL)  \\\n",
       "0                               0.026601   \n",
       "1                               0.264577   \n",
       "2                               0.026555   \n",
       "3                               0.026697   \n",
       "4                               0.024752   \n",
       "...                                  ...   \n",
       "6814                            0.027064   \n",
       "6815                            0.027009   \n",
       "6816                            0.026791   \n",
       "6817                            0.026822   \n",
       "6818                            0.026793   \n",
       "\n",
       "      Interest_Coverage_Ratio_(Interest_expense_to_EBIT)  Equity_to_Liability  \n",
       "0                                              0.564050              0.016469  \n",
       "1                                              0.570175              0.020794  \n",
       "2                                              0.563706              0.016474  \n",
       "3                                              0.564663              0.023982  \n",
       "4                                              0.575617              0.035490  \n",
       "...                                                 ...                   ...  \n",
       "6814                                           0.566193              0.029890  \n",
       "6815                                           0.566018              0.038284  \n",
       "6816                                           0.565158              0.097649  \n",
       "6817                                           0.565302              0.044009  \n",
       "6818                                           0.565167              0.233902  \n",
       "\n",
       "[6819 rows x 39 columns]"
      ]
     },
     "execution_count": 14,
     "metadata": {},
     "output_type": "execute_result"
    }
   ],
   "source": [
    "X"
   ]
  },
  {
   "cell_type": "code",
   "execution_count": 15,
   "id": "3916ef9c",
   "metadata": {},
   "outputs": [
    {
     "name": "stdout",
     "output_type": "stream",
     "text": [
      "(4773, 39)\n",
      "(4773,)\n",
      "(2046, 39)\n",
      "(2046,)\n"
     ]
    }
   ],
   "source": [
    "x_train, x_test, y_train, y_test = train_test_split(X, y, test_size=0.3, random_state=5)\n",
    "print(x_train.shape)\n",
    "print(y_train.shape)\n",
    "print(x_test.shape)\n",
    "print(y_test.shape)"
   ]
  },
  {
   "cell_type": "markdown",
   "id": "81f243e7",
   "metadata": {},
   "source": [
    "# --------------Gaussian Process Classifier----------------------------"
   ]
  },
  {
   "cell_type": "code",
   "execution_count": 16,
   "id": "d14c78ba",
   "metadata": {},
   "outputs": [],
   "source": [
    "from sklearn.gaussian_process import GaussianProcessClassifier\n",
    "from sklearn.gaussian_process.kernels import RBF\n",
    "kernel = 1.0 * RBF(1.0)\n",
    "gpc = GaussianProcessClassifier(kernel=kernel, random_state=0).fit(x_train, y_train)"
   ]
  },
  {
   "cell_type": "code",
   "execution_count": 21,
   "id": "3a7d4c51",
   "metadata": {},
   "outputs": [],
   "source": [
    "y_pred_gpc=gpc.predict(x_test)"
   ]
  },
  {
   "cell_type": "code",
   "execution_count": 22,
   "id": "6c5abce0",
   "metadata": {},
   "outputs": [],
   "source": [
    "confusion_matrix = metrics.confusion_matrix(y_test, y_pred_gpc)"
   ]
  },
  {
   "cell_type": "code",
   "execution_count": 23,
   "id": "61ef2368",
   "metadata": {},
   "outputs": [
    {
     "data": {
      "text/plain": [
       "array([[1971,    9],\n",
       "       [  62,    4]], dtype=int64)"
      ]
     },
     "execution_count": 23,
     "metadata": {},
     "output_type": "execute_result"
    }
   ],
   "source": [
    "confusion_matrix"
   ]
  },
  {
   "cell_type": "code",
   "execution_count": 24,
   "id": "d617c1cc",
   "metadata": {},
   "outputs": [],
   "source": [
    "def generate_results(model, predictions, name):\n",
    "    cl_rep = classification_report(y_test, predictions)\n",
    "    print(\"\\nThe classification report for \" + name + \" is:\", cl_rep, sep = \"\\n\")\n",
    "    cm_model = metrics.confusion_matrix(y_test, predictions)\n",
    "    plt.figure(figsize = (8, 6))\n",
    "    sns.heatmap(cm_model, annot = True, cmap = 'Blues', annot_kws = {'size': 15}, square = True)\n",
    "    plt.title('Confusion Matrix for ' + name, size = 15)\n",
    "    plt.xticks(size = 15)\n",
    "    plt.yticks(size = 15)\n",
    "    plt.show() \n",
    "from sklearn.metrics import classification_report\n",
    "from sklearn.metrics import confusion_matrix"
   ]
  },
  {
   "cell_type": "code",
   "execution_count": 25,
   "id": "22670c71",
   "metadata": {},
   "outputs": [
    {
     "name": "stdout",
     "output_type": "stream",
     "text": [
      "\n",
      "The classification report for Gaussian Process Classifier is:\n",
      "              precision    recall  f1-score   support\n",
      "\n",
      "           0       0.97      1.00      0.98      1980\n",
      "           1       0.31      0.06      0.10        66\n",
      "\n",
      "    accuracy                           0.97      2046\n",
      "   macro avg       0.64      0.53      0.54      2046\n",
      "weighted avg       0.95      0.97      0.95      2046\n",
      "\n"
     ]
    },
    {
     "data": {
      "image/png": "[encoded data removed]",
      "text/plain": [
       "<Figure size 576x432 with 2 Axes>"
      ]
     },
     "metadata": {
      "needs_background": "light"
     },
     "output_type": "display_data"
    }
   ],
   "source": [
    "generate_results(gpc, y_pred_gpc, 'Gaussian Process Classifier')"
   ]
  },
  {
   "cell_type": "code",
   "execution_count": 26,
   "id": "77d855a4",
   "metadata": {},
   "outputs": [],
   "source": [
    "#from sklearn.metrics import roc_auc_score\n",
    "#print(metrics.roc_auc_score(x_test[\"y_initial\"],x_test[\"y_pred\"]))"
   ]
  },
  {
   "cell_type": "code",
   "execution_count": 27,
   "id": "48feb308",
   "metadata": {},
   "outputs": [
    {
     "name": "stdout",
     "output_type": "stream",
     "text": [
      "0.528030303030303\n"
     ]
    }
   ],
   "source": [
    "from sklearn.metrics import roc_auc_score\n",
    "print(metrics.roc_auc_score(y_test,y_pred_gpc))"
   ]
  },
  {
   "cell_type": "code",
   "execution_count": 28,
   "id": "e8f6f0d6",
   "metadata": {},
   "outputs": [
    {
     "data": {
      "image/png": "[encoded data removed]",
      "text/plain": [
       "<Figure size 432x288 with 1 Axes>"
      ]
     },
     "metadata": {
      "needs_background": "light"
     },
     "output_type": "display_data"
    }
   ],
   "source": [
    "fpr, tpr, thresholds = metrics.roc_curve(y_test,y_pred_gpc)\n",
    "roc_auc = metrics.auc(fpr, tpr)\n",
    "display = metrics.RocCurveDisplay(fpr=fpr, tpr=tpr)\n",
    "display.plot()\n",
    "plt.show()"
   ]
  },
  {
   "cell_type": "markdown",
   "id": "0c12e59d",
   "metadata": {},
   "source": [
    "# --------------TPOT CLASSIFIER----------------------------"
   ]
  },
  {
   "cell_type": "code",
   "execution_count": 18,
   "id": "605d9b3d",
   "metadata": {},
   "outputs": [
    {
     "name": "stdout",
     "output_type": "stream",
     "text": [
      "tpot: 0.11.7\n"
     ]
    },
    {
     "name": "stderr",
     "output_type": "stream",
     "text": [
      "C:\\Users\\cleme\\anaconda3\\lib\\site-packages\\tpot\\builtins\\__init__.py:36: UserWarning: Warning: optional dependency `torch` is not available. - skipping import of NN models.\n",
      "  warnings.warn(\"Warning: optional dependency `torch` is not available. - skipping import of NN models.\")\n"
     ]
    }
   ],
   "source": [
    "# check tpot version\n",
    "import tpot\n",
    "print('tpot: %s' % tpot.__version__)"
   ]
  },
  {
   "cell_type": "code",
   "execution_count": 19,
   "id": "5176f601",
   "metadata": {},
   "outputs": [],
   "source": [
    "from tpot import TPOTClassifier"
   ]
  },
  {
   "cell_type": "code",
   "execution_count": 20,
   "id": "12792630",
   "metadata": {},
   "outputs": [],
   "source": [
    "pipeline_optimizer = TPOTClassifier(generations=5, population_size=20, cv=5,\n",
    "                                    random_state=42, verbosity=2)"
   ]
  },
  {
   "cell_type": "code",
   "execution_count": 21,
   "id": "4104198b",
   "metadata": {},
   "outputs": [
    {
     "data": {
      "application/vnd.jupyter.widget-view+json": {
       "model_id": "",
       "version_major": 2,
       "version_minor": 0
      },
      "text/plain": [
       "Optimization Progress:   0%|          | 0/120 [00:00<?, ?pipeline/s]"
      ]
     },
     "metadata": {},
     "output_type": "display_data"
    },
    {
     "name": "stdout",
     "output_type": "stream",
     "text": [
      "\n",
      "Generation 1 - Current best internal CV score: 0.9698304191774507\n",
      "\n",
      "Generation 2 - Current best internal CV score: 0.9712970463301392\n",
      "\n",
      "Generation 3 - Current best internal CV score: 0.971716114019779\n",
      "\n",
      "Generation 4 - Current best internal CV score: 0.971716114019779\n",
      "\n",
      "Generation 5 - Current best internal CV score: 0.9721345231431174\n",
      "\n",
      "Best pipeline: RandomForestClassifier(input_matrix, bootstrap=True, criterion=entropy, max_features=0.9500000000000001, min_samples_leaf=7, min_samples_split=14, n_estimators=100)\n"
     ]
    },
    {
     "data": {
      "text/plain": [
       "TPOTClassifier(generations=5, population_size=20, random_state=42, verbosity=2)"
      ]
     },
     "execution_count": 21,
     "metadata": {},
     "output_type": "execute_result"
    }
   ],
   "source": [
    "pipeline_optimizer.fit(x_train, y_train)"
   ]
  },
  {
   "cell_type": "markdown",
   "id": "24eb5b0c",
   "metadata": {},
   "source": [
    "# --------------BaggingClassifier----------------------------"
   ]
  },
  {
   "cell_type": "code",
   "execution_count": 29,
   "id": "c7615aa6",
   "metadata": {},
   "outputs": [],
   "source": [
    "from sklearn.svm import SVC\n",
    "from sklearn.ensemble import BaggingClassifier"
   ]
  },
  {
   "cell_type": "code",
   "execution_count": 30,
   "id": "8e1c18c6",
   "metadata": {},
   "outputs": [
    {
     "name": "stdout",
     "output_type": "stream",
     "text": [
      "Model test Score: 0.966,  Model training Score: 0.996\n"
     ]
    }
   ],
   "source": [
    "from sklearn.pipeline import make_pipeline\n",
    "from sklearn.preprocessing import StandardScaler\n",
    "from sklearn.linear_model import LogisticRegression\n",
    "\n",
    "#\n",
    "bgclassifier = BaggingClassifier( n_estimators=20,\n",
    "                                 max_features=27,\n",
    "                                 max_samples=4000,\n",
    "                                 random_state=1, n_jobs=-1)\n",
    "#\n",
    "# Fit the bagging classifier\n",
    "#\n",
    "bgclassifier.fit(x_train, y_train)\n",
    "#\n",
    "# Model scores on test and training data\n",
    "#\n",
    "print('Model test Score: %.3f, ' %bgclassifier.score(x_test, y_test),\n",
    "      'Model training Score: %.3f' %bgclassifier.score(x_train, y_train))"
   ]
  },
  {
   "cell_type": "code",
   "execution_count": 31,
   "id": "134fa8b3",
   "metadata": {},
   "outputs": [],
   "source": [
    "y_pred_bgg = bgclassifier.predict(x_test)"
   ]
  },
  {
   "cell_type": "code",
   "execution_count": 32,
   "id": "bafcbebb",
   "metadata": {},
   "outputs": [
    {
     "data": {
      "text/plain": [
       "array([[1966,   14],\n",
       "       [  55,   11]], dtype=int64)"
      ]
     },
     "execution_count": 32,
     "metadata": {},
     "output_type": "execute_result"
    }
   ],
   "source": [
    "confusion_matrix = metrics.confusion_matrix(y_test, y_pred_bgg)\n",
    "confusion_matrix"
   ]
  },
  {
   "cell_type": "code",
   "execution_count": 33,
   "id": "e1ca3517",
   "metadata": {},
   "outputs": [
    {
     "name": "stdout",
     "output_type": "stream",
     "text": [
      "\n",
      "The classification report for BaggingClassifier is:\n",
      "              precision    recall  f1-score   support\n",
      "\n",
      "           0       0.97      0.99      0.98      1980\n",
      "           1       0.44      0.17      0.24        66\n",
      "\n",
      "    accuracy                           0.97      2046\n",
      "   macro avg       0.71      0.58      0.61      2046\n",
      "weighted avg       0.96      0.97      0.96      2046\n",
      "\n"
     ]
    },
    {
     "data": {
      "image/png": "[encoded data removed]",
      "text/plain": [
       "<Figure size 576x432 with 2 Axes>"
      ]
     },
     "metadata": {
      "needs_background": "light"
     },
     "output_type": "display_data"
    }
   ],
   "source": [
    "generate_results(bgclassifier, y_pred_bgg, 'BaggingClassifier')"
   ]
  },
  {
   "cell_type": "code",
   "execution_count": 34,
   "id": "47d33691",
   "metadata": {},
   "outputs": [
    {
     "name": "stdout",
     "output_type": "stream",
     "text": [
      "0.5797979797979798\n"
     ]
    }
   ],
   "source": [
    "print(metrics.roc_auc_score(y_test,y_pred_bgg))"
   ]
  },
  {
   "cell_type": "code",
   "execution_count": 35,
   "id": "f13d450d",
   "metadata": {},
   "outputs": [
    {
     "data": {
      "image/png": "[encoded data removed]",
      "text/plain": [
       "<Figure size 432x288 with 1 Axes>"
      ]
     },
     "metadata": {
      "needs_background": "light"
     },
     "output_type": "display_data"
    }
   ],
   "source": [
    "fpr, tpr, thresholds = metrics.roc_curve(y_test,y_pred_bgg)\n",
    "roc_auc = metrics.auc(fpr, tpr)\n",
    "display = metrics.RocCurveDisplay(fpr=fpr, tpr=tpr)\n",
    "display.plot()\n",
    "plt.show()"
   ]
  },
  {
   "cell_type": "markdown",
   "id": "cba29525",
   "metadata": {},
   "source": [
    " # ------------------MultinomialNB------------------------"
   ]
  },
  {
   "cell_type": "code",
   "execution_count": 36,
   "id": "9fbd42d2",
   "metadata": {},
   "outputs": [
    {
     "data": {
      "text/html": [
       "<style>#sk-container-id-1 {color: black;background-color: white;}#sk-container-id-1 pre{padding: 0;}#sk-container-id-1 div.sk-toggleable {background-color: white;}#sk-container-id-1 label.sk-toggleable__label {cursor: pointer;display: block;width: 100%;margin-bottom: 0;padding: 0.3em;box-sizing: border-box;text-align: center;}#sk-container-id-1 label.sk-toggleable__label-arrow:before {content: \"▸\";float: left;margin-right: 0.25em;color: #696969;}#sk-container-id-1 label.sk-toggleable__label-arrow:hover:before {color: black;}#sk-container-id-1 div.sk-estimator:hover label.sk-toggleable__label-arrow:before {color: black;}#sk-container-id-1 div.sk-toggleable__content {max-height: 0;max-width: 0;overflow: hidden;text-align: left;background-color: #f0f8ff;}#sk-container-id-1 div.sk-toggleable__content pre {margin: 0.2em;color: black;border-radius: 0.25em;background-color: #f0f8ff;}#sk-container-id-1 input.sk-toggleable__control:checked~div.sk-toggleable__content {max-height: 200px;max-width: 100%;overflow: auto;}#sk-container-id-1 input.sk-toggleable__control:checked~label.sk-toggleable__label-arrow:before {content: \"▾\";}#sk-container-id-1 div.sk-estimator input.sk-toggleable__control:checked~label.sk-toggleable__label {background-color: #d4ebff;}#sk-container-id-1 div.sk-label input.sk-toggleable__control:checked~label.sk-toggleable__label {background-color: #d4ebff;}#sk-container-id-1 input.sk-hidden--visually {border: 0;clip: rect(1px 1px 1px 1px);clip: rect(1px, 1px, 1px, 1px);height: 1px;margin: -1px;overflow: hidden;padding: 0;position: absolute;width: 1px;}#sk-container-id-1 div.sk-estimator {font-family: monospace;background-color: #f0f8ff;border: 1px dotted black;border-radius: 0.25em;box-sizing: border-box;margin-bottom: 0.5em;}#sk-container-id-1 div.sk-estimator:hover {background-color: #d4ebff;}#sk-container-id-1 div.sk-parallel-item::after {content: \"\";width: 100%;border-bottom: 1px solid gray;flex-grow: 1;}#sk-container-id-1 div.sk-label:hover label.sk-toggleable__label {background-color: #d4ebff;}#sk-container-id-1 div.sk-serial::before {content: \"\";position: absolute;border-left: 1px solid gray;box-sizing: border-box;top: 0;bottom: 0;left: 50%;z-index: 0;}#sk-container-id-1 div.sk-serial {display: flex;flex-direction: column;align-items: center;background-color: white;padding-right: 0.2em;padding-left: 0.2em;position: relative;}#sk-container-id-1 div.sk-item {position: relative;z-index: 1;}#sk-container-id-1 div.sk-parallel {display: flex;align-items: stretch;justify-content: center;background-color: white;position: relative;}#sk-container-id-1 div.sk-item::before, #sk-container-id-1 div.sk-parallel-item::before {content: \"\";position: absolute;border-left: 1px solid gray;box-sizing: border-box;top: 0;bottom: 0;left: 50%;z-index: -1;}#sk-container-id-1 div.sk-parallel-item {display: flex;flex-direction: column;z-index: 1;position: relative;background-color: white;}#sk-container-id-1 div.sk-parallel-item:first-child::after {align-self: flex-end;width: 50%;}#sk-container-id-1 div.sk-parallel-item:last-child::after {align-self: flex-start;width: 50%;}#sk-container-id-1 div.sk-parallel-item:only-child::after {width: 0;}#sk-container-id-1 div.sk-dashed-wrapped {border: 1px dashed gray;margin: 0 0.4em 0.5em 0.4em;box-sizing: border-box;padding-bottom: 0.4em;background-color: white;}#sk-container-id-1 div.sk-label label {font-family: monospace;font-weight: bold;display: inline-block;line-height: 1.2em;}#sk-container-id-1 div.sk-label-container {text-align: center;}#sk-container-id-1 div.sk-container {/* jupyter's `normalize.less` sets `[hidden] { display: none; }` but bootstrap.min.css set `[hidden] { display: none !important; }` so we also need the `!important` here to be able to override the default hidden behavior on the sphinx rendered scikit-learn.org. See: https://github.com/scikit-learn/scikit-learn/issues/21755 */display: inline-block !important;position: relative;}#sk-container-id-1 div.sk-text-repr-fallback {display: none;}</style><div id=\"sk-container-id-1\" class=\"sk-top-container\"><div class=\"sk-text-repr-fallback\"><pre>MultinomialNB()</pre><b>In a Jupyter environment, please rerun this cell to show the HTML representation or trust the notebook. <br />On GitHub, the HTML representation is unable to render, please try loading this page with nbviewer.org.</b></div><div class=\"sk-container\" hidden><div class=\"sk-item\"><div class=\"sk-estimator sk-toggleable\"><input class=\"sk-toggleable__control sk-hidden--visually\" id=\"sk-estimator-id-1\" type=\"checkbox\" checked><label for=\"sk-estimator-id-1\" class=\"sk-toggleable__label sk-toggleable__label-arrow\">MultinomialNB</label><div class=\"sk-toggleable__content\"><pre>MultinomialNB()</pre></div></div></div></div></div>"
      ],
      "text/plain": [
       "MultinomialNB()"
      ]
     },
     "execution_count": 36,
     "metadata": {},
     "output_type": "execute_result"
    }
   ],
   "source": [
    "from sklearn.naive_bayes import MultinomialNB\n",
    "MNBclf = MultinomialNB()\n",
    "MNBclf.fit(x_train, y_train)"
   ]
  },
  {
   "cell_type": "code",
   "execution_count": 37,
   "id": "41503106",
   "metadata": {},
   "outputs": [],
   "source": [
    "y_pred__MNB = MNBclf.predict(x_test)\n"
   ]
  },
  {
   "cell_type": "code",
   "execution_count": 38,
   "id": "9c5f0b8e",
   "metadata": {},
   "outputs": [
    {
     "data": {
      "text/plain": [
       "array([[1667,  313],\n",
       "       [  41,   25]], dtype=int64)"
      ]
     },
     "execution_count": 38,
     "metadata": {},
     "output_type": "execute_result"
    }
   ],
   "source": [
    "confusion_matrix = metrics.confusion_matrix(y_test, y_pred__MNB )\n",
    "confusion_matrix"
   ]
  },
  {
   "cell_type": "code",
   "execution_count": 39,
   "id": "061751da",
   "metadata": {},
   "outputs": [
    {
     "name": "stdout",
     "output_type": "stream",
     "text": [
      "\n",
      "The classification report for MultinomialNB is:\n",
      "              precision    recall  f1-score   support\n",
      "\n",
      "           0       0.98      0.84      0.90      1980\n",
      "           1       0.07      0.38      0.12        66\n",
      "\n",
      "    accuracy                           0.83      2046\n",
      "   macro avg       0.52      0.61      0.51      2046\n",
      "weighted avg       0.95      0.83      0.88      2046\n",
      "\n"
     ]
    },
    {
     "data": {
      "image/png": "[encoded data removed]",
      "text/plain": [
       "<Figure size 576x432 with 2 Axes>"
      ]
     },
     "metadata": {
      "needs_background": "light"
     },
     "output_type": "display_data"
    }
   ],
   "source": [
    "generate_results(MNBclf, y_pred__MNB, 'MultinomialNB')"
   ]
  },
  {
   "cell_type": "code",
   "execution_count": 40,
   "id": "7ad9e31e",
   "metadata": {},
   "outputs": [
    {
     "name": "stdout",
     "output_type": "stream",
     "text": [
      "0.6103535353535354\n"
     ]
    }
   ],
   "source": [
    "print(metrics.roc_auc_score(y_test,y_pred__MNB))"
   ]
  },
  {
   "cell_type": "code",
   "execution_count": 41,
   "id": "586dab3f",
   "metadata": {},
   "outputs": [
    {
     "data": {
      "image/png": "[encoded data removed]",
      "text/plain": [
       "<Figure size 432x288 with 1 Axes>"
      ]
     },
     "metadata": {
      "needs_background": "light"
     },
     "output_type": "display_data"
    }
   ],
   "source": [
    "fpr, tpr, thresholds = metrics.roc_curve(y_test,y_pred__MNB)\n",
    "roc_auc = metrics.auc(fpr, tpr)\n",
    "display = metrics.RocCurveDisplay(fpr=fpr, tpr=tpr)\n",
    "display.plot()\n",
    "plt.show()"
   ]
  },
  {
   "cell_type": "markdown",
   "id": "3f4a2046",
   "metadata": {},
   "source": [
    "# # ------------------QuadraticDiscriminantAnalysis------------------------"
   ]
  },
  {
   "cell_type": "code",
   "execution_count": 42,
   "id": "299b4cc9",
   "metadata": {},
   "outputs": [
    {
     "name": "stderr",
     "output_type": "stream",
     "text": [
      "C:\\Users\\cleme\\anaconda3\\lib\\site-packages\\sklearn\\discriminant_analysis.py:887: UserWarning: Variables are collinear\n",
      "  warnings.warn(\"Variables are collinear\")\n"
     ]
    },
    {
     "data": {
      "text/html": [
       "<style>#sk-container-id-2 {color: black;background-color: white;}#sk-container-id-2 pre{padding: 0;}#sk-container-id-2 div.sk-toggleable {background-color: white;}#sk-container-id-2 label.sk-toggleable__label {cursor: pointer;display: block;width: 100%;margin-bottom: 0;padding: 0.3em;box-sizing: border-box;text-align: center;}#sk-container-id-2 label.sk-toggleable__label-arrow:before {content: \"▸\";float: left;margin-right: 0.25em;color: #696969;}#sk-container-id-2 label.sk-toggleable__label-arrow:hover:before {color: black;}#sk-container-id-2 div.sk-estimator:hover label.sk-toggleable__label-arrow:before {color: black;}#sk-container-id-2 div.sk-toggleable__content {max-height: 0;max-width: 0;overflow: hidden;text-align: left;background-color: #f0f8ff;}#sk-container-id-2 div.sk-toggleable__content pre {margin: 0.2em;color: black;border-radius: 0.25em;background-color: #f0f8ff;}#sk-container-id-2 input.sk-toggleable__control:checked~div.sk-toggleable__content {max-height: 200px;max-width: 100%;overflow: auto;}#sk-container-id-2 input.sk-toggleable__control:checked~label.sk-toggleable__label-arrow:before {content: \"▾\";}#sk-container-id-2 div.sk-estimator input.sk-toggleable__control:checked~label.sk-toggleable__label {background-color: #d4ebff;}#sk-container-id-2 div.sk-label input.sk-toggleable__control:checked~label.sk-toggleable__label {background-color: #d4ebff;}#sk-container-id-2 input.sk-hidden--visually {border: 0;clip: rect(1px 1px 1px 1px);clip: rect(1px, 1px, 1px, 1px);height: 1px;margin: -1px;overflow: hidden;padding: 0;position: absolute;width: 1px;}#sk-container-id-2 div.sk-estimator {font-family: monospace;background-color: #f0f8ff;border: 1px dotted black;border-radius: 0.25em;box-sizing: border-box;margin-bottom: 0.5em;}#sk-container-id-2 div.sk-estimator:hover {background-color: #d4ebff;}#sk-container-id-2 div.sk-parallel-item::after {content: \"\";width: 100%;border-bottom: 1px solid gray;flex-grow: 1;}#sk-container-id-2 div.sk-label:hover label.sk-toggleable__label {background-color: #d4ebff;}#sk-container-id-2 div.sk-serial::before {content: \"\";position: absolute;border-left: 1px solid gray;box-sizing: border-box;top: 0;bottom: 0;left: 50%;z-index: 0;}#sk-container-id-2 div.sk-serial {display: flex;flex-direction: column;align-items: center;background-color: white;padding-right: 0.2em;padding-left: 0.2em;position: relative;}#sk-container-id-2 div.sk-item {position: relative;z-index: 1;}#sk-container-id-2 div.sk-parallel {display: flex;align-items: stretch;justify-content: center;background-color: white;position: relative;}#sk-container-id-2 div.sk-item::before, #sk-container-id-2 div.sk-parallel-item::before {content: \"\";position: absolute;border-left: 1px solid gray;box-sizing: border-box;top: 0;bottom: 0;left: 50%;z-index: -1;}#sk-container-id-2 div.sk-parallel-item {display: flex;flex-direction: column;z-index: 1;position: relative;background-color: white;}#sk-container-id-2 div.sk-parallel-item:first-child::after {align-self: flex-end;width: 50%;}#sk-container-id-2 div.sk-parallel-item:last-child::after {align-self: flex-start;width: 50%;}#sk-container-id-2 div.sk-parallel-item:only-child::after {width: 0;}#sk-container-id-2 div.sk-dashed-wrapped {border: 1px dashed gray;margin: 0 0.4em 0.5em 0.4em;box-sizing: border-box;padding-bottom: 0.4em;background-color: white;}#sk-container-id-2 div.sk-label label {font-family: monospace;font-weight: bold;display: inline-block;line-height: 1.2em;}#sk-container-id-2 div.sk-label-container {text-align: center;}#sk-container-id-2 div.sk-container {/* jupyter's `normalize.less` sets `[hidden] { display: none; }` but bootstrap.min.css set `[hidden] { display: none !important; }` so we also need the `!important` here to be able to override the default hidden behavior on the sphinx rendered scikit-learn.org. See: https://github.com/scikit-learn/scikit-learn/issues/21755 */display: inline-block !important;position: relative;}#sk-container-id-2 div.sk-text-repr-fallback {display: none;}</style><div id=\"sk-container-id-2\" class=\"sk-top-container\"><div class=\"sk-text-repr-fallback\"><pre>QuadraticDiscriminantAnalysis()</pre><b>In a Jupyter environment, please rerun this cell to show the HTML representation or trust the notebook. <br />On GitHub, the HTML representation is unable to render, please try loading this page with nbviewer.org.</b></div><div class=\"sk-container\" hidden><div class=\"sk-item\"><div class=\"sk-estimator sk-toggleable\"><input class=\"sk-toggleable__control sk-hidden--visually\" id=\"sk-estimator-id-2\" type=\"checkbox\" checked><label for=\"sk-estimator-id-2\" class=\"sk-toggleable__label sk-toggleable__label-arrow\">QuadraticDiscriminantAnalysis</label><div class=\"sk-toggleable__content\"><pre>QuadraticDiscriminantAnalysis()</pre></div></div></div></div></div>"
      ],
      "text/plain": [
       "QuadraticDiscriminantAnalysis()"
      ]
     },
     "execution_count": 42,
     "metadata": {},
     "output_type": "execute_result"
    }
   ],
   "source": [
    "from sklearn.discriminant_analysis import QuadraticDiscriminantAnalysis\n",
    "clf = QuadraticDiscriminantAnalysis()\n",
    "clf.fit(x_train, y_train)"
   ]
  },
  {
   "cell_type": "code",
   "execution_count": 43,
   "id": "d944669d",
   "metadata": {},
   "outputs": [],
   "source": [
    "y_pred_clf=clf.predict(x_test)"
   ]
  },
  {
   "cell_type": "code",
   "execution_count": 56,
   "id": "148532cc",
   "metadata": {},
   "outputs": [
    {
     "data": {
      "text/plain": [
       "array([[ 416, 1564],\n",
       "       [   5,   61]], dtype=int64)"
      ]
     },
     "execution_count": 56,
     "metadata": {},
     "output_type": "execute_result"
    }
   ],
   "source": [
    "confusion_matrix = metrics.confusion_matrix(y_test, y_pred_clf)\n",
    "confusion_matrix"
   ]
  },
  {
   "cell_type": "code",
   "execution_count": 57,
   "id": "f7fe6b6f",
   "metadata": {},
   "outputs": [
    {
     "name": "stdout",
     "output_type": "stream",
     "text": [
      "\n",
      "The classification report for Quadratic Discriminant Analysis is:\n",
      "              precision    recall  f1-score   support\n",
      "\n",
      "           0       0.99      0.21      0.35      1980\n",
      "           1       0.04      0.92      0.07        66\n",
      "\n",
      "    accuracy                           0.23      2046\n",
      "   macro avg       0.51      0.57      0.21      2046\n",
      "weighted avg       0.96      0.23      0.34      2046\n",
      "\n"
     ]
    },
    {
     "data": {
      "image/png": "[encoded data removed]",
      "text/plain": [
       "<Figure size 576x432 with 2 Axes>"
      ]
     },
     "metadata": {
      "needs_background": "light"
     },
     "output_type": "display_data"
    }
   ],
   "source": [
    "generate_results(clf, y_pred_clf, 'Quadratic Discriminant Analysis')"
   ]
  },
  {
   "cell_type": "code",
   "execution_count": 58,
   "id": "23ee4a7a",
   "metadata": {},
   "outputs": [
    {
     "name": "stdout",
     "output_type": "stream",
     "text": [
      "0.5671717171717172\n"
     ]
    }
   ],
   "source": [
    "print(metrics.roc_auc_score(y_test,y_pred_clf))"
   ]
  },
  {
   "cell_type": "code",
   "execution_count": 59,
   "id": "e9d25cf8",
   "metadata": {},
   "outputs": [
    {
     "data": {
      "image/png": "[encoded data removed]",
      "text/plain": [
       "<Figure size 432x288 with 1 Axes>"
      ]
     },
     "metadata": {
      "needs_background": "light"
     },
     "output_type": "display_data"
    }
   ],
   "source": [
    "fpr, tpr, thresholds = metrics.roc_curve(y_test,y_pred_clf)\n",
    "roc_auc = metrics.auc(fpr, tpr)\n",
    "display = metrics.RocCurveDisplay(fpr=fpr, tpr=tpr)\n",
    "display.plot()\n",
    "plt.show()"
   ]
  },
  {
   "cell_type": "markdown",
   "id": "b6ce98da",
   "metadata": {},
   "source": [
    "# # ------------------Stacking------------------------"
   ]
  },
  {
   "cell_type": "code",
   "execution_count": 44,
   "id": "7cef5813",
   "metadata": {},
   "outputs": [],
   "source": [
    "from sklearn.svm import NuSVC\n",
    "from sklearn.neighbors import KNeighborsClassifier\n",
    "from sklearn.ensemble import RandomForestClassifier\n",
    "from sklearn.ensemble import StackingClassifier\n",
    "from sklearn.linear_model import LogisticRegression\n",
    "from sklearn import model_selection\n",
    "from sklearn.pipeline import make_pipeline\n",
    "from sklearn.preprocessing import StandardScaler"
   ]
  },
  {
   "cell_type": "code",
   "execution_count": 45,
   "id": "db6f1971",
   "metadata": {},
   "outputs": [],
   "source": [
    "estimators = [('rf', RandomForestClassifier(n_estimators=10, random_state=42)),\n",
    "     ('knn', KNeighborsClassifier(n_neighbors=1)),\n",
    "     ('SVC', NuSVC(nu=0.0345, class_weight='balanced'))]\n",
    "stack_clf = StackingClassifier(\n",
    "    estimators=estimators, final_estimator=LogisticRegression())"
   ]
  },
  {
   "cell_type": "code",
   "execution_count": 46,
   "id": "4f063f8d",
   "metadata": {},
   "outputs": [
    {
     "data": {
      "text/plain": [
       "0.9682306940371457"
      ]
     },
     "execution_count": 46,
     "metadata": {},
     "output_type": "execute_result"
    }
   ],
   "source": [
    "stack_clf.fit(x_train, y_train).score(x_test, y_test)"
   ]
  },
  {
   "cell_type": "code",
   "execution_count": 47,
   "id": "8fa17a6a",
   "metadata": {},
   "outputs": [],
   "source": [
    "y_pred_stack=stack_clf.predict(x_test)"
   ]
  },
  {
   "cell_type": "code",
   "execution_count": 48,
   "id": "35b13000",
   "metadata": {},
   "outputs": [
    {
     "data": {
      "text/plain": [
       "array([[1974,    6],\n",
       "       [  59,    7]], dtype=int64)"
      ]
     },
     "execution_count": 48,
     "metadata": {},
     "output_type": "execute_result"
    }
   ],
   "source": [
    "confusion_matrix = metrics.confusion_matrix(y_test, y_pred_stack)\n",
    "confusion_matrix"
   ]
  },
  {
   "cell_type": "code",
   "execution_count": 49,
   "id": "a6f46646",
   "metadata": {},
   "outputs": [
    {
     "name": "stdout",
     "output_type": "stream",
     "text": [
      "\n",
      "The classification report for Stacking  is:\n",
      "              precision    recall  f1-score   support\n",
      "\n",
      "           0       0.97      1.00      0.98      1980\n",
      "           1       0.54      0.11      0.18        66\n",
      "\n",
      "    accuracy                           0.97      2046\n",
      "   macro avg       0.75      0.55      0.58      2046\n",
      "weighted avg       0.96      0.97      0.96      2046\n",
      "\n"
     ]
    },
    {
     "data": {
      "image/png": "[encoded data removed]",
      "text/plain": [
       "<Figure size 576x432 with 2 Axes>"
      ]
     },
     "metadata": {
      "needs_background": "light"
     },
     "output_type": "display_data"
    }
   ],
   "source": [
    "generate_results(stack_clf, y_pred_stack, 'Stacking ')"
   ]
  },
  {
   "cell_type": "code",
   "execution_count": 50,
   "id": "a9a5f762",
   "metadata": {},
   "outputs": [
    {
     "name": "stdout",
     "output_type": "stream",
     "text": [
      "0.5515151515151514\n"
     ]
    }
   ],
   "source": [
    "print(metrics.roc_auc_score(y_test,y_pred_stack))"
   ]
  },
  {
   "cell_type": "code",
   "execution_count": 51,
   "id": "2620574a",
   "metadata": {},
   "outputs": [
    {
     "data": {
      "image/png": "[encoded data removed]",
      "text/plain": [
       "<Figure size 432x288 with 1 Axes>"
      ]
     },
     "metadata": {
      "needs_background": "light"
     },
     "output_type": "display_data"
    }
   ],
   "source": [
    "fpr, tpr, thresholds = metrics.roc_curve(y_test,y_pred_stack)\n",
    "roc_auc = metrics.auc(fpr, tpr)\n",
    "display = metrics.RocCurveDisplay(fpr=fpr, tpr=tpr)\n",
    "display.plot()\n",
    "plt.show()"
   ]
  },
  {
   "cell_type": "markdown",
   "id": "e8c0dcc9",
   "metadata": {},
   "source": [
    "# # ------------------RandomForestClassifier------------------------\n"
   ]
  },
  {
   "cell_type": "code",
   "execution_count": 52,
   "id": "8cb6187f",
   "metadata": {},
   "outputs": [
    {
     "name": "stdout",
     "output_type": "stream",
     "text": [
      "The accuracy of the Random Forest Classifier is: 97.21407624633432 %\n"
     ]
    }
   ],
   "source": [
    "rfc = RandomForestClassifier()\n",
    "rfc.fit(x_train, y_train)\n",
    "y_pred_rfc = rfc.predict(x_test)\n",
    "acc_rfc = rfc.score(x_test, y_test)\n",
    "print('The accuracy of the Random Forest Classifier is:', acc_rfc * 100, '%')"
   ]
  },
  {
   "cell_type": "code",
   "execution_count": 53,
   "id": "1887d8a2",
   "metadata": {},
   "outputs": [
    {
     "name": "stdout",
     "output_type": "stream",
     "text": [
      "\n",
      "The classification report for RandomForestClassifier is:\n",
      "              precision    recall  f1-score   support\n",
      "\n",
      "           0       0.97      1.00      0.99      1980\n",
      "           1       0.74      0.21      0.33        66\n",
      "\n",
      "    accuracy                           0.97      2046\n",
      "   macro avg       0.86      0.60      0.66      2046\n",
      "weighted avg       0.97      0.97      0.96      2046\n",
      "\n"
     ]
    },
    {
     "data": {
      "image/png": "[encoded data removed]",
      "text/plain": [
       "<Figure size 576x432 with 2 Axes>"
      ]
     },
     "metadata": {
      "needs_background": "light"
     },
     "output_type": "display_data"
    }
   ],
   "source": [
    "generate_results(rfc, y_pred_rfc, 'RandomForestClassifier')"
   ]
  },
  {
   "cell_type": "code",
   "execution_count": 54,
   "id": "a2e0a8ca",
   "metadata": {},
   "outputs": [
    {
     "name": "stdout",
     "output_type": "stream",
     "text": [
      "0.6047979797979798\n"
     ]
    }
   ],
   "source": [
    "print(metrics.roc_auc_score(y_test,y_pred_rfc))"
   ]
  },
  {
   "cell_type": "code",
   "execution_count": 55,
   "id": "46257cc3",
   "metadata": {},
   "outputs": [
    {
     "data": {
      "image/png": "[encoded data removed]",
      "text/plain": [
       "<Figure size 432x288 with 1 Axes>"
      ]
     },
     "metadata": {
      "needs_background": "light"
     },
     "output_type": "display_data"
    }
   ],
   "source": [
    "fpr, tpr, thresholds = metrics.roc_curve(y_test,y_pred_rfc)\n",
    "roc_auc = metrics.auc(fpr, tpr)\n",
    "display = metrics.RocCurveDisplay(fpr=fpr, tpr=tpr)\n",
    "display.plot()\n",
    "plt.show()"
   ]
  },
  {
   "cell_type": "code",
   "execution_count": null,
   "id": "d9613afa",
   "metadata": {},
   "outputs": [],
   "source": []
  }
 ],
 "metadata": {
  "kernelspec": {
   "display_name": "Python 3 (ipykernel)",
   "language": "python",
   "name": "python3"
  },
  "language_info": {
   "codemirror_mode": {
    "name": "ipython",
    "version": 3
   },
   "file_extension": ".py",
   "mimetype": "text/x-python",
   "name": "python",
   "nbconvert_exporter": "python",
   "pygments_lexer": "ipython3",
   "version": "3.9.12"
  }
 },
 "nbformat": 4,
 "nbformat_minor": 5
}
